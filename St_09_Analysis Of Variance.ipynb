{
 "cells": [
  {
   "cell_type": "markdown",
   "id": "0630e5fc",
   "metadata": {
    "pycharm": {
     "name": "#%% md\n"
    }
   },
   "source": [
    "# <font color = Crimson size = 6> <b>Дисперсионный анализ</b> </font>"
   ]
  },
  {
   "cell_type": "code",
   "execution_count": 1,
   "id": "aa30f053",
   "metadata": {
    "pycharm": {
     "name": "#%%\n"
    }
   },
   "outputs": [],
   "source": [
    "import numpy as np\n",
    "import pandas as pd\n",
    "\n",
    "import scipy.stats as stats\n",
    "import statsmodels.api as sm\n",
    "from statsmodels.formula.api import ols\n",
    "from statsmodels.stats.multicomp import pairwise_tukeyhsd\n",
    "\n",
    "import matplotlib.pyplot as plt\n",
    "import seaborn as sns"
   ]
  },
  {
   "cell_type": "markdown",
   "id": "9bd59d90",
   "metadata": {
    "pycharm": {
     "name": "#%% md\n"
    }
   },
   "source": [
    "***\n",
    "## <font color = DarkGreen size = 5> <b>Однофакторный дисперсионный анализ (ANOVA)</b> </font>\n",
    "\n",
    "Очень часто в экспериментах и исследованиях возникает необходимость сравнить несколько групп между собой. В таком случае мы можем применять однофакторный дисперсионный анализ.  Та переменная, которая будет разделять наших испытуемых или наблюдения на группы (номинативная переменная с нескольким градациями) называется **независимой переменной** $x$. А та количественная переменная, по степени выраженности которой мы сравниваем группы, называется **зависимая переменная** $y$.\n",
    "\n",
    "В однофакторном дисперсионном анализе на одну количественную переменную $y$ влияет один фактор, который наблюдается на $k$ уровнях или имеет $k$ выборок (групп) для переменной $y$.\n",
    "\n",
    "Можем посчитаем средние по каждой выборке и сравним их средние между собой. И если мы обнаружим статистически значимые различия хотя бы между одной парой, то приходим к выводу, что есть статистически значимый эффект.\n",
    "\n",
    "Появляется эффект **множественных сравнений** - с увеличением числа сравнений $m$ растет вероятность ошибки 1 рода, т.е. растет вероятность найти различия там, где их нет (растет вероятность принять гипотезу $H_1$, когда на самом деле верна гипотеза $H_0$). И вместо привычного, заранее выбранного уровня статистической значимости $\\alpha$, появляется $\\bar{\\alpha}$, которая является истинным уровнем значимости многократно примененного критерия: \\\n",
    "$\\bar{\\alpha} = 1 - (1 - \\alpha)^m$, где $m = С_k^2$ - кол-во парных сравнений.\n",
    "\n",
    "Чтобы этого избежать, лучше использовать **дисперсионный анализ**:\n",
    "1. Формулируем нулевую и альтернативную гипотезы. \\\n",
    "Нулевая гипотеза будет предполагать, что на самом деле все группы принадлежат одной генеральной совокупности и соотвественно имеют одно математическое ожидание. \\\n",
    "Альтернативная гипотеза говорит о том, что хотя бы две выборки статически значимо различаются, то есть хотя бы две средних отличаются друг от друга.\n",
    "<br><br>\n",
    "\n",
    "2. Устанавливаем уровень статистической значимости $\\alpha$.\n",
    "<br><br>\n",
    "\n",
    "3. В дисперсионном анализе используется критерий Фишера. \\\n",
    "Табличное значение определяется на основе общего чила наблюдений в группах $n$, степеней свободы и заданного уровня значимости следующим образом: \\\n",
    "$F_к(\\alpha,k_1,k_2)$, где \\\n",
    "$k_1 = k-1$ \\\n",
    "$k_2 = n-k$\n",
    "<br><br>\n",
    "\n",
    "F-критерий Фишера рассчитывается по следующей формуле:\\\n",
    "$F = \\cfrac{MSB}{MSW}$, где \\\n",
    "$MSB = \\cfrac{SSB^2}{k-1}$ - межгрупповой средний квадрат / межгрупповая дисперсия / факторная дисперсия, \\\n",
    "$MSW = \\cfrac{SSW^2}{n-k}$ - внутригрупповой средний квадрат / внутригрупповая дисперсия / остаточная дисперсия.\n",
    "<br><br>\n",
    "\n",
    "$SS$ (sum of squares) - **сумма квадратов** (отклонения от какого-либо среднего значения):\n",
    "\n",
    "$\\displaystyle SST = \\sum_{i=1}^{k} \\sum_{j=1}^{n_i} {(x_{ij} - \\bar{X})^2}$ - общее число квадратов отклонений (Total Sum Of Squares)\n",
    "\n",
    "$\\displaystyle SSB = \\sum_{i=1}^{k}{(\\bar{x_i} - \\bar{X})^2 \\cdot n_i}$ - факторная сумма квадратов отклонений средних групповых значений от общего среднего (Between Groups Sums of Squares)\n",
    "\n",
    "$\\displaystyle SSW = \\sum_{i=1}^{k} \\sum_{j=1}^{n_i} {(x_{ij} - \\bar{x_i})^2}$ - остаточная сумма квадратов отклонений значений от группового среднего (Within Groups Sums of Squares)\n",
    "\n",
    "$k$ - количество групп, $n_i$ - число наблюдений в $i$-ой группе.\n",
    "    \n",
    "$SST = SSB + SSW$\n",
    "<br><br>\n",
    "\n",
    "4. Выводы: если $F_н < F_к$, то принимаем $H_0$.\n",
    "<img src=\"./img/st_09_image1.png\" alt=\"st_13_image1\" width=\"\"/>"
   ]
  },
  {
   "cell_type": "code",
   "execution_count": 2,
   "id": "233644d1",
   "metadata": {
    "pycharm": {
     "name": "#%%\n"
    }
   },
   "outputs": [],
   "source": [
    "def ssb(data: pd.DataFrame, X: str, Y: str):\n",
    "    group_names = data[X].unique()\n",
    "    My = data[Y].mean()\n",
    "    return np.sum([\n",
    "        len(data.loc[data[X] == group, Y]) * \n",
    "        (data.loc[data[X] == group, Y].mean() - My) ** 2\n",
    "        for group in group_names\n",
    "    ])"
   ]
  },
  {
   "cell_type": "code",
   "execution_count": 3,
   "id": "b53be107",
   "metadata": {
    "pycharm": {
     "name": "#%%\n"
    }
   },
   "outputs": [],
   "source": [
    "def ssw(data: pd.DataFrame, X: str, Y: str):\n",
    "    group_names = data[X].unique()\n",
    "    return np.sum([\n",
    "        (data.loc[data[X] == group, Y] - data.loc[data[X] == group, Y].mean()) ** 2\n",
    "        for group in group_names\n",
    "    ])"
   ]
  },
  {
   "cell_type": "markdown",
   "id": "4e517fe0",
   "metadata": {},
   "source": [
    "##### <font color = SlateBlue size = 3> Пример </font>\n",
    "\n",
    "Генотерапия позволяет корректировать работу дефективного гена, ответственного за развитие заболевания. В эксперименте сравнивалась эффективность четырех различных типов терапии."
   ]
  },
  {
   "cell_type": "code",
   "execution_count": 4,
   "id": "884545a6",
   "metadata": {
    "pycharm": {
     "name": "#%%\n"
    }
   },
   "outputs": [],
   "source": [
    "df = pd.read_csv('.\\data\\genetherapy.csv')"
   ]
  },
  {
   "cell_type": "code",
   "execution_count": 5,
   "id": "db8f6f09",
   "metadata": {
    "pycharm": {
     "name": "#%%\n"
    }
   },
   "outputs": [
    {
     "data": {
      "text/html": [
       "<div>\n",
       "<style scoped>\n",
       "    .dataframe tbody tr th:only-of-type {\n",
       "        vertical-align: middle;\n",
       "    }\n",
       "\n",
       "    .dataframe tbody tr th {\n",
       "        vertical-align: top;\n",
       "    }\n",
       "\n",
       "    .dataframe thead tr th {\n",
       "        text-align: left;\n",
       "    }\n",
       "\n",
       "    .dataframe thead tr:last-of-type th {\n",
       "        text-align: right;\n",
       "    }\n",
       "</style>\n",
       "<table border=\"1\" class=\"dataframe\">\n",
       "  <thead>\n",
       "    <tr>\n",
       "      <th></th>\n",
       "      <th colspan=\"3\" halign=\"left\">expr</th>\n",
       "    </tr>\n",
       "    <tr>\n",
       "      <th></th>\n",
       "      <th>count</th>\n",
       "      <th>mean</th>\n",
       "      <th>std</th>\n",
       "    </tr>\n",
       "    <tr>\n",
       "      <th>Therapy</th>\n",
       "      <th></th>\n",
       "      <th></th>\n",
       "      <th></th>\n",
       "    </tr>\n",
       "  </thead>\n",
       "  <tbody>\n",
       "    <tr>\n",
       "      <th>A</th>\n",
       "      <td>15</td>\n",
       "      <td>99.733333</td>\n",
       "      <td>4.165619</td>\n",
       "    </tr>\n",
       "    <tr>\n",
       "      <th>B</th>\n",
       "      <td>15</td>\n",
       "      <td>98.800000</td>\n",
       "      <td>5.894307</td>\n",
       "    </tr>\n",
       "    <tr>\n",
       "      <th>C</th>\n",
       "      <td>15</td>\n",
       "      <td>94.400000</td>\n",
       "      <td>5.193402</td>\n",
       "    </tr>\n",
       "    <tr>\n",
       "      <th>D</th>\n",
       "      <td>15</td>\n",
       "      <td>92.333333</td>\n",
       "      <td>3.735289</td>\n",
       "    </tr>\n",
       "  </tbody>\n",
       "</table>\n",
       "</div>"
      ],
      "text/plain": [
       "         expr                     \n",
       "        count       mean       std\n",
       "Therapy                           \n",
       "A          15  99.733333  4.165619\n",
       "B          15  98.800000  5.894307\n",
       "C          15  94.400000  5.193402\n",
       "D          15  92.333333  3.735289"
      ]
     },
     "execution_count": 5,
     "metadata": {},
     "output_type": "execute_result"
    }
   ],
   "source": [
    "df.groupby('Therapy').agg({'expr': ['count', 'mean', 'std']})"
   ]
  },
  {
   "cell_type": "code",
   "execution_count": 6,
   "id": "3d32b1d4",
   "metadata": {
    "pycharm": {
     "name": "#%%\n"
    }
   },
   "outputs": [],
   "source": [
    "groups = df['Therapy'].unique()\n",
    "subsets = [df.query('Therapy == @group')['expr'] for group in groups]\n",
    "\n",
    "ssb_df = len(groups) - 1\n",
    "ssw_df = df.shape[0] - len(groups)\n",
    "\n",
    "SSW = ssw(df, 'Therapy', 'expr')\n",
    "SSB = ssb(df, 'Therapy', 'expr')\n",
    "\n",
    "Fk, p_value = stats.f_oneway(*subsets)"
   ]
  },
  {
   "cell_type": "code",
   "execution_count": 7,
   "id": "7a498d1e",
   "metadata": {
    "pycharm": {
     "name": "#%%\n"
    }
   },
   "outputs": [
    {
     "data": {
      "text/html": [
       "<div>\n",
       "<style scoped>\n",
       "    .dataframe tbody tr th:only-of-type {\n",
       "        vertical-align: middle;\n",
       "    }\n",
       "\n",
       "    .dataframe tbody tr th {\n",
       "        vertical-align: top;\n",
       "    }\n",
       "\n",
       "    .dataframe thead th {\n",
       "        text-align: right;\n",
       "    }\n",
       "</style>\n",
       "<table border=\"1\" class=\"dataframe\">\n",
       "  <thead>\n",
       "    <tr style=\"text-align: right;\">\n",
       "      <th></th>\n",
       "      <th>Df</th>\n",
       "      <th>Sum Sq</th>\n",
       "      <th>Mean Sq</th>\n",
       "      <th>F-value</th>\n",
       "      <th>p-value</th>\n",
       "    </tr>\n",
       "  </thead>\n",
       "  <tbody>\n",
       "    <tr>\n",
       "      <th>Therapy</th>\n",
       "      <td>3</td>\n",
       "      <td>560.72</td>\n",
       "      <td>186.91</td>\n",
       "      <td>8.04</td>\n",
       "      <td>0.0002</td>\n",
       "    </tr>\n",
       "    <tr>\n",
       "      <th>Residuals</th>\n",
       "      <td>56</td>\n",
       "      <td>1302.27</td>\n",
       "      <td>23.25</td>\n",
       "      <td></td>\n",
       "      <td></td>\n",
       "    </tr>\n",
       "  </tbody>\n",
       "</table>\n",
       "</div>"
      ],
      "text/plain": [
       "           Df   Sum Sq Mean Sq F-value p-value\n",
       "Therapy     3   560.72  186.91    8.04  0.0002\n",
       "Residuals  56  1302.27   23.25                "
      ]
     },
     "execution_count": 7,
     "metadata": {},
     "output_type": "execute_result"
    }
   ],
   "source": [
    "anova_results = pd.DataFrame([\n",
    "{\n",
    "        'Df': ssb_df, # число степеней свободы\n",
    "        'Sum Sq': '{0:.2f}'.format(SSB), # межгрупповая сумма квадратов\n",
    "        'Mean Sq': '{0:.2f}'.format(SSB / ssb_df), # межгрупповая изменчивость\n",
    "        'F-value': '{0:.2f}'.format(Fk), # F-критерий Фишера\n",
    "        'p-value': '{0:.4f}'.format(p_value),\n",
    "    },\n",
    "    {\n",
    "        'Df': ssw_df,\n",
    "        'Sum Sq': '{0:.2f}'.format(SSW), # внутригрупповая сумма квадратов\n",
    "        'Mean Sq': '{0:.2f}'.format(SSW / ssw_df), # внутригрупповая изменчивость\n",
    "        'F-value': '',\n",
    "        'p-value': '',\n",
    "    },\n",
    "], index=['Therapy', 'Residuals'])\n",
    "\n",
    "anova_results"
   ]
  },
  {
   "cell_type": "code",
   "execution_count": 8,
   "id": "4790098b",
   "metadata": {
    "pycharm": {
     "name": "#%%\n"
    }
   },
   "outputs": [
    {
     "data": {
      "text/html": [
       "<div>\n",
       "<style scoped>\n",
       "    .dataframe tbody tr th:only-of-type {\n",
       "        vertical-align: middle;\n",
       "    }\n",
       "\n",
       "    .dataframe tbody tr th {\n",
       "        vertical-align: top;\n",
       "    }\n",
       "\n",
       "    .dataframe thead th {\n",
       "        text-align: right;\n",
       "    }\n",
       "</style>\n",
       "<table border=\"1\" class=\"dataframe\">\n",
       "  <thead>\n",
       "    <tr style=\"text-align: right;\">\n",
       "      <th></th>\n",
       "      <th>df</th>\n",
       "      <th>sum_sq</th>\n",
       "      <th>mean_sq</th>\n",
       "      <th>F</th>\n",
       "      <th>PR(&gt;F)</th>\n",
       "    </tr>\n",
       "  </thead>\n",
       "  <tbody>\n",
       "    <tr>\n",
       "      <th>Therapy</th>\n",
       "      <td>3.0</td>\n",
       "      <td>560.716667</td>\n",
       "      <td>186.905556</td>\n",
       "      <td>8.037302</td>\n",
       "      <td>0.000152</td>\n",
       "    </tr>\n",
       "    <tr>\n",
       "      <th>Residual</th>\n",
       "      <td>56.0</td>\n",
       "      <td>1302.266667</td>\n",
       "      <td>23.254762</td>\n",
       "      <td>NaN</td>\n",
       "      <td>NaN</td>\n",
       "    </tr>\n",
       "  </tbody>\n",
       "</table>\n",
       "</div>"
      ],
      "text/plain": [
       "            df       sum_sq     mean_sq         F    PR(>F)\n",
       "Therapy    3.0   560.716667  186.905556  8.037302  0.000152\n",
       "Residual  56.0  1302.266667   23.254762       NaN       NaN"
      ]
     },
     "execution_count": 8,
     "metadata": {},
     "output_type": "execute_result"
    }
   ],
   "source": [
    "rehab_lm = ols('expr ~ Therapy', data=df).fit()\n",
    "sm.stats.anova_lm(rehab_lm)"
   ]
  },
  {
   "cell_type": "markdown",
   "id": "0bb01c03",
   "metadata": {},
   "source": [
    "$p-value < 0.05$, что позволяет нам отклонить $H_0$."
   ]
  },
  {
   "cell_type": "code",
   "execution_count": 9,
   "id": "89a64af8",
   "metadata": {
    "pycharm": {
     "name": "#%%\n"
    }
   },
   "outputs": [
    {
     "data": {
      "image/png": "[encoded data removed]",
      "text/plain": [
       "<Figure size 400x500 with 1 Axes>"
      ]
     },
     "metadata": {},
     "output_type": "display_data"
    }
   ],
   "source": [
    "plt.figure(figsize=(4, 5))\n",
    "sns.boxplot(data=df, x='Therapy', y='expr')\n",
    "sns.swarmplot(data=df, x='Therapy', y='expr', color='.25');"
   ]
  },
  {
   "cell_type": "code",
   "execution_count": 10,
   "id": "4624bd37",
   "metadata": {
    "pycharm": {
     "name": "#%%\n"
    }
   },
   "outputs": [
    {
     "data": {
      "image/png": "[encoded data removed]",
      "text/plain": [
       "<Figure size 640x480 with 1 Axes>"
      ]
     },
     "metadata": {},
     "output_type": "display_data"
    }
   ],
   "source": [
    "# доверительные интервалы 95%\n",
    "sns.pointplot(data=df, x='Therapy', y='expr', hue='Therapy', ci=95, join=False, capsize=.05);"
   ]
  },
  {
   "cell_type": "markdown",
   "id": "5055ca66",
   "metadata": {
    "pycharm": {
     "name": "#%% md\n"
    }
   },
   "source": [
    "***\n",
    "## <font color = DarkGreen size = 5> <b>Множественные сравнения в ANOVA</b> </font>\n",
    "\n",
    "***\n",
    "### <font color = MediumBlue size = 4> <b>Поправка Бонферрони</b> </font>\n",
    "\n",
    "Статистическая проверка гипотез основана на отклонении нулевой гипотезы, если вероятность того, что наблюдаемые данные соответствуют нулевой гипотезе, невелика. Если проверяется несколько гипотез, вероятность наблюдения редкого события возрастает, и, следовательно, увеличивается вероятность неправильного отклонения нулевой гипотезы (т.е. совершения ошибки I рода).\n",
    "\n",
    "Поправка Бонферрони компенсирует это увеличение путем проверки каждой отдельной гипотезы на уровне значимости \\\n",
    "$\\bar{\\alpha} = \\cfrac{\\alpha}{m}$, где $\\alpha$ - желаемый уровень значимости, $m = С_k^2$ - кол-во парных сравнений."
   ]
  },
  {
   "cell_type": "markdown",
   "id": "aad398ae",
   "metadata": {
    "pycharm": {
     "name": "#%% md\n"
    }
   },
   "source": [
    "***\n",
    "### <font color = MediumBlue size = 4> <b>Критерий Тьюки</b> </font>\n",
    "\n",
    "Критерий Тьюки используется для проверки нулевой гипотезы $H_0: \\mu_A = \\mu_B$ против альтернативной гипотезы $H_1: \\mu_A \\not= \\mu_B$, где индексы $A$ и $B$ обозначают любые две сравниваемые группы. При наличии $m$ групп всего возможно выполнить $\\cfrac{m(m-1)}{2}$ попарных сравнений.\n",
    "\n",
    "Первый шаг заключается в упорядочивании всех имеющихся групповых средних значений по возрастанию (от 1 до $m$). Далее выполняют попарные сравнения этих средних так, что сначала сравнивают наибольшее среднее с наименьшим, т.е. $m$-ое с 1-ым, затем $m$-ое со 2-ым, 3-м, и т.д. вплоть до $(m−1)$-го. Затем предпоследнее среднее, $(m−1)$-ое, тем же образом сравнивают с 1-ым, 2-ым, и т.д. до $(m−2)$-го. Эти сравнения продолжаются до тех пор, пока не будут перебраны все пары.\n",
    "\n",
    "Указанные сравнения выполняются при помощи критерия Тьюки, который представляет собой модифицированный критерий Стьюдента: \\\n",
    "$q = \\cfrac{\\bar{x}_B - \\bar{x}_A}{SE}$\n",
    "\n",
    "Отличие от критерия Стьюдента заключается в том, как рассчитывается стандартная ошибка $SE$: \\\n",
    "$SE = \\sqrt{\\cfrac{MSW}{n}}$, где \\\n",
    "$MSW$ - рассчитываемая в ходе дисперсионного анализа внутригрупповая дисперсия.\n",
    "\n",
    "Приведенная формула для критерия Тьюки верна для случаев, когда все сравниваемые группы содержат одинаковое число наблюдений $n$. Если сравниваемые группы неодинаковы по размеру, стандартная ошибка будет рассчитываться следующим образом: \\\n",
    "$SE = \\sqrt{\\cfrac{MSW}{2} \\left(\\cfrac{1}{n_A}+\\cfrac{1}{n_B}\\right)}$\n",
    "\n",
    "Благодаря тому обстоятельству, что в приведенные выше формулы стандартной ошибки входит внутригрупповая дисперсия $MSW$, обеспечивается контроль над групповой вероятностью ошибки первого рода. Именно это делает критерий Тьюки подходящим критерием для выполнения большого числа попарных сравнений групповых средних."
   ]
  },
  {
   "cell_type": "code",
   "execution_count": 11,
   "id": "7b80269d",
   "metadata": {
    "pycharm": {
     "name": "#%%\n"
    }
   },
   "outputs": [
    {
     "name": "stdout",
     "output_type": "stream",
     "text": [
      " Multiple Comparison of Means - Tukey HSD, FWER=0.05 \n",
      "=====================================================\n",
      "group1 group2 meandiff p-adj   lower    upper  reject\n",
      "-----------------------------------------------------\n",
      "     A      B  -0.9333 0.9514  -5.5959  3.7292  False\n",
      "     A      C  -5.3333 0.0189  -9.9959 -0.6708   True\n",
      "     A      D     -7.4 0.0005 -12.0626 -2.7374   True\n",
      "     B      C     -4.4  0.071  -9.0626  0.2626  False\n",
      "     B      D  -6.4667 0.0029 -11.1292 -1.8041   True\n",
      "     C      D  -2.0667 0.6458  -6.7292  2.5959  False\n",
      "-----------------------------------------------------\n"
     ]
    }
   ],
   "source": [
    "tukey = pairwise_tukeyhsd(endog=df['expr'], groups=df['Therapy'], alpha=0.05)\n",
    "print(tukey)"
   ]
  },
  {
   "cell_type": "markdown",
   "id": "e35d9e25",
   "metadata": {},
   "source": [
    "meandiff - разность средних \\\n",
    "p-adj - p-value \\\n",
    "lower - нижняя граница доверительного интервала \\\n",
    "upper - верхняя граница доверительного интервала"
   ]
  },
  {
   "cell_type": "markdown",
   "id": "dfb64507",
   "metadata": {
    "pycharm": {
     "name": "#%%\n"
    }
   },
   "source": [
    "Хотя теория того не требует, критерий Тьюки и другие подобные ему методы рекомендуется применять после того, как дисперсионный анализ установил наличие существенной разницы между группами в целом. В связи с этим критерий Тьюки относится к методам апостериорного анализа (post-hoc analysis).\n",
    "\n",
    "Критерий Тьюки имеет те же условия применимости, что и собственно дисперсионный анализ, т.е. нормальность распределения данных и (особенно важно!) однородность групповых дисперсий. Устойчивость к отклонению от этих условий, равно как и статистическая мощность критерия Тьюки, возрастают при одинаковом числе наблюдений во всех сравниваемых группах."
   ]
  },
  {
   "cell_type": "markdown",
   "id": "291b5838",
   "metadata": {},
   "source": [
    "***\n",
    "## <font color = DarkGreen size = 5> <b>Многофакторный дисперсионный анализ</b> </font>\n",
    "\n",
    "***\n",
    "### <font color = MediumBlue size = 4> <b>Двухфакторный дисперсионный анализ</b> </font>\n",
    "\n",
    "В двухфакторном дисперсионном анализе на одну количественную переменную $Y$ влияют два фактора (два качественных показателя), наблюдаемых соответственно на $k$ и $m$ уровнях.\n",
    "\n",
    "Общая сумма квадратов отклонений $SST$ равна: \\\n",
    "$SST = SSW + SSB_A + SSB_B + SSB_{AB}$, где \\\n",
    "$SSW$ - остаточная сумма квадратов отклонений значений от группового среднего (внутригрупповая) \\\n",
    "$SSB_A$ - сумма квадратов отклонений фактора $A$, \\\n",
    "$SSB_B$ - сумма квадратов отклонений фактора $B$, \\\n",
    "$SSB_{AB}$ - сумма квадратов отклонений взаимодействия факторов $A$ и $B$."
   ]
  },
  {
   "cell_type": "markdown",
   "id": "a961d01d",
   "metadata": {},
   "source": [
    "##### <font color = SlateBlue size = 3> Пример </font>\n",
    "\n",
    "Атеросклероз - причина ишемической болезни сердца и инсультов. Анализ экспрессии генов лейкоцитов позволяет предсказать вероятность развития данного заболевания. В эксперименте исследовался уровень экспрессии в зависимости от возраста пациентов и дозировки лекарства аторвастатина."
   ]
  },
  {
   "cell_type": "code",
   "execution_count": 12,
   "id": "b0b7984c",
   "metadata": {},
   "outputs": [],
   "source": [
    "df = pd.read_csv(r'.\\data\\atherosclerosis.csv')"
   ]
  },
  {
   "cell_type": "code",
   "execution_count": 13,
   "id": "55c743f8",
   "metadata": {},
   "outputs": [
    {
     "data": {
      "text/html": [
       "<div>\n",
       "<style scoped>\n",
       "    .dataframe tbody tr th:only-of-type {\n",
       "        vertical-align: middle;\n",
       "    }\n",
       "\n",
       "    .dataframe tbody tr th {\n",
       "        vertical-align: top;\n",
       "    }\n",
       "\n",
       "    .dataframe thead tr th {\n",
       "        text-align: left;\n",
       "    }\n",
       "\n",
       "    .dataframe thead tr:last-of-type th {\n",
       "        text-align: right;\n",
       "    }\n",
       "</style>\n",
       "<table border=\"1\" class=\"dataframe\">\n",
       "  <thead>\n",
       "    <tr>\n",
       "      <th></th>\n",
       "      <th></th>\n",
       "      <th colspan=\"3\" halign=\"left\">expr</th>\n",
       "    </tr>\n",
       "    <tr>\n",
       "      <th></th>\n",
       "      <th></th>\n",
       "      <th>count</th>\n",
       "      <th>mean</th>\n",
       "      <th>std</th>\n",
       "    </tr>\n",
       "    <tr>\n",
       "      <th>age</th>\n",
       "      <th>dose</th>\n",
       "      <th></th>\n",
       "      <th></th>\n",
       "      <th></th>\n",
       "    </tr>\n",
       "  </thead>\n",
       "  <tbody>\n",
       "    <tr>\n",
       "      <th rowspan=\"2\" valign=\"top\">1</th>\n",
       "      <th>D1</th>\n",
       "      <td>16</td>\n",
       "      <td>104.758464</td>\n",
       "      <td>5.863454</td>\n",
       "    </tr>\n",
       "    <tr>\n",
       "      <th>D2</th>\n",
       "      <td>16</td>\n",
       "      <td>105.545864</td>\n",
       "      <td>4.369024</td>\n",
       "    </tr>\n",
       "    <tr>\n",
       "      <th rowspan=\"2\" valign=\"top\">2</th>\n",
       "      <th>D1</th>\n",
       "      <td>16</td>\n",
       "      <td>101.004805</td>\n",
       "      <td>5.116310</td>\n",
       "    </tr>\n",
       "    <tr>\n",
       "      <th>D2</th>\n",
       "      <td>16</td>\n",
       "      <td>102.273629</td>\n",
       "      <td>5.135374</td>\n",
       "    </tr>\n",
       "  </tbody>\n",
       "</table>\n",
       "</div>"
      ],
      "text/plain": [
       "          expr                      \n",
       "         count        mean       std\n",
       "age dose                            \n",
       "1   D1      16  104.758464  5.863454\n",
       "    D2      16  105.545864  4.369024\n",
       "2   D1      16  101.004805  5.116310\n",
       "    D2      16  102.273629  5.135374"
      ]
     },
     "execution_count": 13,
     "metadata": {},
     "output_type": "execute_result"
    }
   ],
   "source": [
    "df.groupby(['age', 'dose']).agg({'expr': ['count', 'mean', 'std']})"
   ]
  },
  {
   "cell_type": "code",
   "execution_count": 14,
   "id": "3b0a8a2c",
   "metadata": {},
   "outputs": [
    {
     "data": {
      "text/html": [
       "<div>\n",
       "<style scoped>\n",
       "    .dataframe tbody tr th:only-of-type {\n",
       "        vertical-align: middle;\n",
       "    }\n",
       "\n",
       "    .dataframe tbody tr th {\n",
       "        vertical-align: top;\n",
       "    }\n",
       "\n",
       "    .dataframe thead th {\n",
       "        text-align: right;\n",
       "    }\n",
       "</style>\n",
       "<table border=\"1\" class=\"dataframe\">\n",
       "  <thead>\n",
       "    <tr style=\"text-align: right;\">\n",
       "      <th></th>\n",
       "      <th>df</th>\n",
       "      <th>sum_sq</th>\n",
       "      <th>mean_sq</th>\n",
       "      <th>F</th>\n",
       "      <th>PR(&gt;F)</th>\n",
       "    </tr>\n",
       "  </thead>\n",
       "  <tbody>\n",
       "    <tr>\n",
       "      <th>dose</th>\n",
       "      <td>1.0</td>\n",
       "      <td>16.912241</td>\n",
       "      <td>16.912241</td>\n",
       "      <td>0.638094</td>\n",
       "      <td>0.427552</td>\n",
       "    </tr>\n",
       "    <tr>\n",
       "      <th>age</th>\n",
       "      <td>1.0</td>\n",
       "      <td>197.452754</td>\n",
       "      <td>197.452754</td>\n",
       "      <td>7.449841</td>\n",
       "      <td>0.008313</td>\n",
       "    </tr>\n",
       "    <tr>\n",
       "      <th>age:dose</th>\n",
       "      <td>1.0</td>\n",
       "      <td>0.927077</td>\n",
       "      <td>0.927077</td>\n",
       "      <td>0.034978</td>\n",
       "      <td>0.852272</td>\n",
       "    </tr>\n",
       "    <tr>\n",
       "      <th>Residual</th>\n",
       "      <td>60.0</td>\n",
       "      <td>1590.257424</td>\n",
       "      <td>26.504290</td>\n",
       "      <td>NaN</td>\n",
       "      <td>NaN</td>\n",
       "    </tr>\n",
       "  </tbody>\n",
       "</table>\n",
       "</div>"
      ],
      "text/plain": [
       "            df       sum_sq     mean_sq         F    PR(>F)\n",
       "dose       1.0    16.912241   16.912241  0.638094  0.427552\n",
       "age        1.0   197.452754  197.452754  7.449841  0.008313\n",
       "age:dose   1.0     0.927077    0.927077  0.034978  0.852272\n",
       "Residual  60.0  1590.257424   26.504290       NaN       NaN"
      ]
     },
     "execution_count": 14,
     "metadata": {},
     "output_type": "execute_result"
    }
   ],
   "source": [
    "rehab_lm = ols('expr ~ age * dose', data=df).fit()\n",
    "sm.stats.anova_lm(rehab_lm)"
   ]
  },
  {
   "cell_type": "code",
   "execution_count": 15,
   "id": "6bb890c3",
   "metadata": {},
   "outputs": [
    {
     "data": {
      "image/png": "[encoded data removed]",
      "text/plain": [
       "<Figure size 640x480 with 1 Axes>"
      ]
     },
     "metadata": {},
     "output_type": "display_data"
    }
   ],
   "source": [
    "sns.pointplot(data=df, x='dose', y='expr', hue='age', join=False, dodge=True, capsize=0.03);"
   ]
  },
  {
   "cell_type": "markdown",
   "id": "40e6d419",
   "metadata": {},
   "source": [
    "##### <font color = SlateBlue size = 3> Пример </font>\n",
    "\n",
    "Исследователей интересовало влияние инъекции некоторго гормона на показатель концентрации кальция в плазме крови у птиц с учетом их пола."
   ]
  },
  {
   "cell_type": "code",
   "execution_count": 16,
   "id": "d11ebde0",
   "metadata": {},
   "outputs": [],
   "source": [
    "df = pd.read_csv(r'.\\data\\birds.csv')"
   ]
  },
  {
   "cell_type": "code",
   "execution_count": 17,
   "id": "96eb9899",
   "metadata": {},
   "outputs": [
    {
     "data": {
      "text/html": [
       "<div>\n",
       "<style scoped>\n",
       "    .dataframe tbody tr th:only-of-type {\n",
       "        vertical-align: middle;\n",
       "    }\n",
       "\n",
       "    .dataframe tbody tr th {\n",
       "        vertical-align: top;\n",
       "    }\n",
       "\n",
       "    .dataframe thead tr th {\n",
       "        text-align: left;\n",
       "    }\n",
       "\n",
       "    .dataframe thead tr:last-of-type th {\n",
       "        text-align: right;\n",
       "    }\n",
       "</style>\n",
       "<table border=\"1\" class=\"dataframe\">\n",
       "  <thead>\n",
       "    <tr>\n",
       "      <th></th>\n",
       "      <th></th>\n",
       "      <th colspan=\"3\" halign=\"left\">var4</th>\n",
       "    </tr>\n",
       "    <tr>\n",
       "      <th></th>\n",
       "      <th></th>\n",
       "      <th>count</th>\n",
       "      <th>mean</th>\n",
       "      <th>std</th>\n",
       "    </tr>\n",
       "    <tr>\n",
       "      <th>hormone</th>\n",
       "      <th>sex</th>\n",
       "      <th></th>\n",
       "      <th></th>\n",
       "      <th></th>\n",
       "    </tr>\n",
       "  </thead>\n",
       "  <tbody>\n",
       "    <tr>\n",
       "      <th rowspan=\"2\" valign=\"top\">0</th>\n",
       "      <th>0</th>\n",
       "      <td>16</td>\n",
       "      <td>19.887291</td>\n",
       "      <td>3.677211</td>\n",
       "    </tr>\n",
       "    <tr>\n",
       "      <th>1</th>\n",
       "      <td>16</td>\n",
       "      <td>17.608916</td>\n",
       "      <td>2.449753</td>\n",
       "    </tr>\n",
       "    <tr>\n",
       "      <th rowspan=\"2\" valign=\"top\">1</th>\n",
       "      <th>0</th>\n",
       "      <td>16</td>\n",
       "      <td>17.292254</td>\n",
       "      <td>2.864428</td>\n",
       "    </tr>\n",
       "    <tr>\n",
       "      <th>1</th>\n",
       "      <td>16</td>\n",
       "      <td>19.743662</td>\n",
       "      <td>3.383574</td>\n",
       "    </tr>\n",
       "  </tbody>\n",
       "</table>\n",
       "</div>"
      ],
      "text/plain": [
       "             var4                     \n",
       "            count       mean       std\n",
       "hormone sex                           \n",
       "0       0      16  19.887291  3.677211\n",
       "        1      16  17.608916  2.449753\n",
       "1       0      16  17.292254  2.864428\n",
       "        1      16  19.743662  3.383574"
      ]
     },
     "execution_count": 17,
     "metadata": {},
     "output_type": "execute_result"
    }
   ],
   "source": [
    "df.groupby(['hormone', 'sex']).agg({'var4': ['count', 'mean', 'std']})"
   ]
  },
  {
   "cell_type": "code",
   "execution_count": 18,
   "id": "e7602dd2",
   "metadata": {},
   "outputs": [
    {
     "data": {
      "text/html": [
       "<div>\n",
       "<style scoped>\n",
       "    .dataframe tbody tr th:only-of-type {\n",
       "        vertical-align: middle;\n",
       "    }\n",
       "\n",
       "    .dataframe tbody tr th {\n",
       "        vertical-align: top;\n",
       "    }\n",
       "\n",
       "    .dataframe thead th {\n",
       "        text-align: right;\n",
       "    }\n",
       "</style>\n",
       "<table border=\"1\" class=\"dataframe\">\n",
       "  <thead>\n",
       "    <tr style=\"text-align: right;\">\n",
       "      <th></th>\n",
       "      <th>df</th>\n",
       "      <th>sum_sq</th>\n",
       "      <th>mean_sq</th>\n",
       "      <th>F</th>\n",
       "      <th>PR(&gt;F)</th>\n",
       "    </tr>\n",
       "  </thead>\n",
       "  <tbody>\n",
       "    <tr>\n",
       "      <th>hormone</th>\n",
       "      <td>1.0</td>\n",
       "      <td>0.847472</td>\n",
       "      <td>0.847472</td>\n",
       "      <td>0.086528</td>\n",
       "      <td>0.769653</td>\n",
       "    </tr>\n",
       "    <tr>\n",
       "      <th>sex</th>\n",
       "      <td>1.0</td>\n",
       "      <td>0.119762</td>\n",
       "      <td>0.119762</td>\n",
       "      <td>0.012228</td>\n",
       "      <td>0.912318</td>\n",
       "    </tr>\n",
       "    <tr>\n",
       "      <th>hormone:sex</th>\n",
       "      <td>1.0</td>\n",
       "      <td>89.483384</td>\n",
       "      <td>89.483384</td>\n",
       "      <td>9.136390</td>\n",
       "      <td>0.003682</td>\n",
       "    </tr>\n",
       "    <tr>\n",
       "      <th>Residual</th>\n",
       "      <td>60.0</td>\n",
       "      <td>587.650394</td>\n",
       "      <td>9.794173</td>\n",
       "      <td>NaN</td>\n",
       "      <td>NaN</td>\n",
       "    </tr>\n",
       "  </tbody>\n",
       "</table>\n",
       "</div>"
      ],
      "text/plain": [
       "               df      sum_sq    mean_sq         F    PR(>F)\n",
       "hormone       1.0    0.847472   0.847472  0.086528  0.769653\n",
       "sex           1.0    0.119762   0.119762  0.012228  0.912318\n",
       "hormone:sex   1.0   89.483384  89.483384  9.136390  0.003682\n",
       "Residual     60.0  587.650394   9.794173       NaN       NaN"
      ]
     },
     "execution_count": 18,
     "metadata": {},
     "output_type": "execute_result"
    }
   ],
   "source": [
    "lm = ols('var4 ~ hormone * sex', data=df).fit()\n",
    "sm.stats.anova_lm(lm)"
   ]
  },
  {
   "cell_type": "code",
   "execution_count": 19,
   "id": "80675737",
   "metadata": {},
   "outputs": [
    {
     "data": {
      "image/png": "[encoded data removed]",
      "text/plain": [
       "<Figure size 640x480 with 1 Axes>"
      ]
     },
     "metadata": {},
     "output_type": "display_data"
    }
   ],
   "source": [
    "sns.pointplot(data=df, x='hormone', y='var4', hue='sex', join=False, dodge=True, capsize=0.03);"
   ]
  },
  {
   "cell_type": "markdown",
   "id": "cd2c2e06",
   "metadata": {},
   "source": [
    "***\n",
    "## <font color = DarkGreen size = 5> <b>Условия применимости дисперсионного анализа</b> </font>\n",
    "\n",
    "1. Значения групп должны следовать нормальному распределению.\n",
    "2. Однородность/гомогенность дисперсий\n",
    "\n",
    "> При достаточно большом количестве наблюдений ($>50$) ANOVA устойчив к нарушению обоих этих ограничений.\n"
   ]
  },
  {
   "cell_type": "code",
   "execution_count": 20,
   "id": "98edda4d",
   "metadata": {},
   "outputs": [],
   "source": [
    "df['group'] = 'A'\n",
    "df.loc[(df['hormone']==0) & (df['sex']==1), 'group'] = 'B'\n",
    "df.loc[(df['hormone']==1) & (df['sex']==0), 'group'] = 'C'\n",
    "df.loc[(df['hormone']==1) & (df['sex']==1), 'group'] = 'D'"
   ]
  },
  {
   "cell_type": "code",
   "execution_count": 21,
   "id": "667d3f66",
   "metadata": {},
   "outputs": [
    {
     "name": "stdout",
     "output_type": "stream",
     "text": [
      "A: ShapiroResult(statistic=0.94510418176651, pvalue=0.4162890613079071)\n",
      "B: ShapiroResult(statistic=0.9067473411560059, pvalue=0.10314302891492844)\n",
      "C: ShapiroResult(statistic=0.9721516370773315, pvalue=0.8721426129341125)\n",
      "D: ShapiroResult(statistic=0.94819176197052, pvalue=0.4615950882434845)\n"
     ]
    }
   ],
   "source": [
    "for g in ('A','B','C','D'):\n",
    "    print(g, end=': ')    \n",
    "    print(stats.shapiro(df[df['group']==g]['var4']))"
   ]
  },
  {
   "cell_type": "code",
   "execution_count": 22,
   "id": "0fc4e66d",
   "metadata": {},
   "outputs": [
    {
     "data": {
      "image/png": "[encoded data removed]",
      "text/plain": [
       "<Figure size 1600x400 with 4 Axes>"
      ]
     },
     "metadata": {},
     "output_type": "display_data"
    }
   ],
   "source": [
    "plt.figure(figsize = [4*4, 4])\n",
    "\n",
    "for i,g in enumerate(('A','B','C','D'), 1):\n",
    "    plt.subplot(1, 4, i)\n",
    "    stats.probplot(df[df['group']==g]['var4'], dist=\"norm\", plot=plt)\n",
    "    plt.title(f'{g}')"
   ]
  },
  {
   "cell_type": "code",
   "execution_count": 23,
   "id": "60987146",
   "metadata": {},
   "outputs": [
    {
     "data": {
      "text/plain": [
       "BartlettResult(statistic=2.7476457988544323, pvalue=0.43219101862812426)"
      ]
     },
     "execution_count": 23,
     "metadata": {},
     "output_type": "execute_result"
    }
   ],
   "source": [
    "# проверка на однородность дисперсий\n",
    "stats.bartlett(df[df['group']=='A']['var4'], \n",
    "               df[df['group']=='B']['var4'], \n",
    "               df[df['group']=='C']['var4'],\n",
    "               df[df['group']=='D']['var4'])"
   ]
  },
  {
   "cell_type": "code",
   "execution_count": null,
   "id": "f51f85d1",
   "metadata": {},
   "outputs": [],
   "source": []
  }
 ],
 "metadata": {
  "kernelspec": {
   "display_name": "Python 3 (ipykernel)",
   "language": "python",
   "name": "python3"
  },
  "language_info": {
   "codemirror_mode": {
    "name": "ipython",
    "version": 3
   },
   "file_extension": ".py",
   "mimetype": "text/x-python",
   "name": "python",
   "nbconvert_exporter": "python",
   "pygments_lexer": "ipython3",
   "version": "3.9.13"
  }
 },
 "nbformat": 4,
 "nbformat_minor": 5
}
