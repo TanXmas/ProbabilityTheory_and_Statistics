{
 "cells": [
  {
   "cell_type": "markdown",
   "id": "4345d191",
   "metadata": {},
   "source": [
    "# <font color = Crimson size = 6> <b>Точечные оценки параметров распределения</b> </font>"
   ]
  },
  {
   "cell_type": "code",
   "execution_count": 1,
   "id": "95d6171b",
   "metadata": {},
   "outputs": [],
   "source": [
    "import numpy as np\n",
    "import pandas as pd\n",
    "\n",
    "import scipy.stats as stats\n",
    "import statsmodels.robust as robust\n",
    "\n",
    "import matplotlib.pyplot as plt\n",
    "import seaborn as sns\n",
    "\n",
    "import warnings\n",
    "warnings.filterwarnings('ignore')"
   ]
  },
  {
   "cell_type": "code",
   "execution_count": 2,
   "id": "b1751cbe",
   "metadata": {},
   "outputs": [
    {
     "data": {
      "text/html": [
       "<div>\n",
       "<style scoped>\n",
       "    .dataframe tbody tr th:only-of-type {\n",
       "        vertical-align: middle;\n",
       "    }\n",
       "\n",
       "    .dataframe tbody tr th {\n",
       "        vertical-align: top;\n",
       "    }\n",
       "\n",
       "    .dataframe thead th {\n",
       "        text-align: right;\n",
       "    }\n",
       "</style>\n",
       "<table border=\"1\" class=\"dataframe\">\n",
       "  <thead>\n",
       "    <tr style=\"text-align: right;\">\n",
       "      <th></th>\n",
       "      <th>State</th>\n",
       "      <th>Population</th>\n",
       "      <th>Murder.Rate</th>\n",
       "      <th>Abbreviation</th>\n",
       "    </tr>\n",
       "  </thead>\n",
       "  <tbody>\n",
       "    <tr>\n",
       "      <th>0</th>\n",
       "      <td>Alabama</td>\n",
       "      <td>4779736</td>\n",
       "      <td>5.7</td>\n",
       "      <td>AL</td>\n",
       "    </tr>\n",
       "    <tr>\n",
       "      <th>1</th>\n",
       "      <td>Alaska</td>\n",
       "      <td>710231</td>\n",
       "      <td>5.6</td>\n",
       "      <td>AK</td>\n",
       "    </tr>\n",
       "    <tr>\n",
       "      <th>2</th>\n",
       "      <td>Arizona</td>\n",
       "      <td>6392017</td>\n",
       "      <td>4.7</td>\n",
       "      <td>AZ</td>\n",
       "    </tr>\n",
       "    <tr>\n",
       "      <th>3</th>\n",
       "      <td>Arkansas</td>\n",
       "      <td>2915918</td>\n",
       "      <td>5.6</td>\n",
       "      <td>AR</td>\n",
       "    </tr>\n",
       "    <tr>\n",
       "      <th>4</th>\n",
       "      <td>California</td>\n",
       "      <td>37253956</td>\n",
       "      <td>4.4</td>\n",
       "      <td>CA</td>\n",
       "    </tr>\n",
       "    <tr>\n",
       "      <th>5</th>\n",
       "      <td>Colorado</td>\n",
       "      <td>5029196</td>\n",
       "      <td>2.8</td>\n",
       "      <td>CO</td>\n",
       "    </tr>\n",
       "    <tr>\n",
       "      <th>6</th>\n",
       "      <td>Connecticut</td>\n",
       "      <td>3574097</td>\n",
       "      <td>2.4</td>\n",
       "      <td>CT</td>\n",
       "    </tr>\n",
       "    <tr>\n",
       "      <th>7</th>\n",
       "      <td>Delaware</td>\n",
       "      <td>897934</td>\n",
       "      <td>5.8</td>\n",
       "      <td>DE</td>\n",
       "    </tr>\n",
       "    <tr>\n",
       "      <th>8</th>\n",
       "      <td>Florida</td>\n",
       "      <td>18801310</td>\n",
       "      <td>5.8</td>\n",
       "      <td>FL</td>\n",
       "    </tr>\n",
       "    <tr>\n",
       "      <th>9</th>\n",
       "      <td>Georgia</td>\n",
       "      <td>9687653</td>\n",
       "      <td>5.7</td>\n",
       "      <td>GA</td>\n",
       "    </tr>\n",
       "  </tbody>\n",
       "</table>\n",
       "</div>"
      ],
      "text/plain": [
       "         State  Population  Murder.Rate Abbreviation\n",
       "0      Alabama     4779736          5.7           AL\n",
       "1       Alaska      710231          5.6           AK\n",
       "2      Arizona     6392017          4.7           AZ\n",
       "3     Arkansas     2915918          5.6           AR\n",
       "4   California    37253956          4.4           CA\n",
       "5     Colorado     5029196          2.8           CO\n",
       "6  Connecticut     3574097          2.4           CT\n",
       "7     Delaware      897934          5.8           DE\n",
       "8      Florida    18801310          5.8           FL\n",
       "9      Georgia     9687653          5.7           GA"
      ]
     },
     "execution_count": 2,
     "metadata": {},
     "output_type": "execute_result"
    }
   ],
   "source": [
    "df = pd.read_csv('./data/state.csv')\n",
    "df.head(10)"
   ]
  },
  {
   "cell_type": "markdown",
   "id": "47e5d4ce",
   "metadata": {},
   "source": [
    "***\n",
    "## <font color = DarkGreen size = 5> <b>Частотные таблицы и гистограммы</b> </font>\n",
    "\n",
    "***\n",
    "### <font color = MediumBlue size = 4> <b>Частотная таблица</b> </font>\n",
    "\n",
    "Частотная таблица переменной делит диапазон переменной на равноотстоящие сегменты и сообщает о том, сколько значений попадает в каждый сегмент."
   ]
  },
  {
   "cell_type": "code",
   "execution_count": 3,
   "id": "fcdea643",
   "metadata": {},
   "outputs": [
    {
     "data": {
      "text/plain": [
       "(526935.67, 4232659.0]      24\n",
       "(4232659.0, 7901692.0]      14\n",
       "(7901692.0, 11570725.0]      6\n",
       "(11570725.0, 15239758.0]     2\n",
       "(15239758.0, 18908791.0]     1\n",
       "(18908791.0, 22577824.0]     1\n",
       "(22577824.0, 26246857.0]     1\n",
       "(33584923.0, 37253956.0]     1\n",
       "(26246857.0, 29915890.0]     0\n",
       "(29915890.0, 33584923.0]     0\n",
       "Name: Population, dtype: int64"
      ]
     },
     "execution_count": 3,
     "metadata": {},
     "output_type": "execute_result"
    }
   ],
   "source": [
    "pd.cut(df['Population'], 10).value_counts()"
   ]
  },
  {
   "cell_type": "markdown",
   "id": "cd8a8d6d",
   "metadata": {},
   "source": [
    "***\n",
    "### <font color = MediumBlue size = 4> <b>Гистограмма частот / Распределение частот</b> </font>\n",
    "\n",
    "представляет в графической форме число случаев появления каждого значения измеренной характеристики (признака) в каждом выбранном диапазоне ее значений. Рапредление частот позволяет быстро сделать выводы о степени подробности результатов измерений."
   ]
  },
  {
   "cell_type": "code",
   "execution_count": 4,
   "id": "4e55a1e8",
   "metadata": {},
   "outputs": [],
   "source": [
    "X = np.array([185, 175, 170, 169, 171, 175, 157, 170, 172, 172, 172, 172, 167, 173, 168, 167, 166, 167, 169, 177, 178, 165, \n",
    "        161, 179, 159, 164, 178, 170, 173, 171])\n",
    "\n",
    "data = np.unique(X, return_counts=True)"
   ]
  },
  {
   "cell_type": "code",
   "execution_count": 5,
   "id": "4ffcaeb1",
   "metadata": {},
   "outputs": [
    {
     "data": {
      "image/png": "[encoded data removed]",
      "text/plain": [
       "<Figure size 400x400 with 1 Axes>"
      ]
     },
     "metadata": {},
     "output_type": "display_data"
    }
   ],
   "source": [
    "plt.figure(figsize=(4,4))\n",
    "\n",
    "plt.bar(data[0], data[1], width=0.8, color = 'lightblue')\n",
    "plt.xlabel('Height')\n",
    "plt.ylabel('Count');"
   ]
  },
  {
   "cell_type": "code",
   "execution_count": 6,
   "id": "7f1b44f8",
   "metadata": {},
   "outputs": [
    {
     "data": {
      "image/png": "[encoded data removed]",
      "text/plain": [
       "<Figure size 600x400 with 1 Axes>"
      ]
     },
     "metadata": {},
     "output_type": "display_data"
    }
   ],
   "source": [
    "plt.figure(figsize=(6, 4))\n",
    "sns.histplot(x=df['Population']/1_000_000, bins=50);"
   ]
  },
  {
   "cell_type": "code",
   "execution_count": 7,
   "id": "417bc532",
   "metadata": {},
   "outputs": [
    {
     "data": {
      "image/png": "[encoded data removed]",
      "text/plain": [
       "<Figure size 600x400 with 1 Axes>"
      ]
     },
     "metadata": {},
     "output_type": "display_data"
    }
   ],
   "source": [
    "ax = (df['Population']/1_000_000).plot.hist(figsize=(6, 4), bins=50)"
   ]
  },
  {
   "cell_type": "markdown",
   "id": "2aec6e42",
   "metadata": {},
   "source": [
    "С гистограммой связан график плотности, который показывает распределение значений данных в форме сплошной линии. График плотности можно рассматривать как сглаженную гистограмму."
   ]
  },
  {
   "cell_type": "code",
   "execution_count": 8,
   "id": "0e01d884",
   "metadata": {},
   "outputs": [
    {
     "data": {
      "image/png": "[encoded data removed]",
      "text/plain": [
       "<Figure size 640x480 with 1 Axes>"
      ]
     },
     "metadata": {},
     "output_type": "display_data"
    }
   ],
   "source": [
    "ax = df['Murder.Rate'].plot.hist(density=True, xlim=[0,12], bins=range(1,12))\n",
    "df['Murder.Rate'].plot.density(ax=ax)\n",
    "ax.set_xlabel('Уровень убийств на 100 тыс. населения');"
   ]
  },
  {
   "cell_type": "markdown",
   "id": "f962cd53",
   "metadata": {},
   "source": [
    "Ключевое отличие от гистограммы состоит в шкале оси $y$ график плотности соответствует отображению гистограммы как доли, а не количества. Обратите внимание, что общая площадь под кривой плотности равна 1, и вместо количества в диапазоне вычисляется площадь под кривой между любыми двумя точками на оси $x$, которые соответствуют доли распределения, лежащей между этими двумя точками."
   ]
  },
  {
   "cell_type": "markdown",
   "id": "8a59da1d",
   "metadata": {},
   "source": [
    "***\n",
    "## <font color = DarkGreen size = 5> <b>Меры центральной тенденции</b> </font>"
   ]
  },
  {
   "cell_type": "markdown",
   "id": "50bfd0ef",
   "metadata": {},
   "source": [
    "***\n",
    "### <font color = MediumBlue size = 4> <b>Мода (mode)</b> </font>\n",
    "\n",
    "Мода $M_0$ дискретного вариационного ряда – это варианта с максимальной частотой.\n",
    "\n",
    "Для интервального вариационного ряда нужно найти **модальный интервал**, т.е. с максимальной частотой."
   ]
  },
  {
   "cell_type": "code",
   "execution_count": 9,
   "id": "92bbbbd6",
   "metadata": {},
   "outputs": [
    {
     "data": {
      "text/plain": [
       "array([172])"
      ]
     },
     "execution_count": 9,
     "metadata": {},
     "output_type": "execute_result"
    }
   ],
   "source": [
    "modes = stats.mode(X)[0]\n",
    "modes"
   ]
  },
  {
   "cell_type": "code",
   "execution_count": 10,
   "id": "ab5f30b0",
   "metadata": {},
   "outputs": [
    {
     "data": {
      "image/png": "[encoded data removed]",
      "text/plain": [
       "<Figure size 400x400 with 1 Axes>"
      ]
     },
     "metadata": {},
     "output_type": "display_data"
    }
   ],
   "source": [
    "fig, ax = plt.subplots(figsize=(4, 4))\n",
    "\n",
    "colors = ['blue' if v in modes else 'lightblue' for v in data[0]]\n",
    "ax.bar(data[0], data[1], width=0.8, color = colors)\n",
    "ax.set_xlabel('Height')\n",
    "ax.set_ylabel('Count');"
   ]
  },
  {
   "cell_type": "markdown",
   "id": "4b9308ab",
   "metadata": {},
   "source": [
    "***\n",
    "### <font color = MediumBlue size = 4> <b>Медиана (median)</b> </font>\n",
    "\n",
    "Медиана $m_e$ вариационного ряда – это значение, которая делит его на две равные части (по количеству вариант).\n",
    ">не важно, дискретного или интервального, генеральной совокупности или выборочной.\n",
    "\n",
    "\n",
    "Для **дискретного** вариационного ряда:\n",
    "\n",
    "* для нечетной выборки: $\\displaystyle m_e = N_{\\left[\\frac{n+1}{2}\\right]}$\n",
    "\n",
    "* для четной выборки: \n",
    "$m_e = \\frac{N_{\\left[\\frac{n}{2}\\right]} + \n",
    "       N_{\\left[\\frac{n}{2}+1\\right]}}\n",
    "      {2}$\n",
    "<br><br>\n",
    "\n",
    "Для **интервального** вариационного ряда: \\\n",
    "<u>**медианный интервал**</u> – это интервал, содержащий варианту (либо 2 варианты), которая делит вариационный ряд на две равные части. \n",
    "\n",
    "$\\displaystyle m_e = x_0 + \\frac{0.5n-n_{m-1}^{n}}{n_m}h$, где \\\n",
    "$n$ — объём статистической совокупности \\\n",
    "$x_0$ — нижняя граница медианного интервала \\\n",
    "$h$ — длина медианного интервала \\\n",
    "$n_m$ — частота медианного интервала \\\n",
    "$n_{m-1}^{n}$ — накопленная частота предыдущего интервала"
   ]
  },
  {
   "cell_type": "code",
   "execution_count": 11,
   "id": "60d30f1b",
   "metadata": {},
   "outputs": [
    {
     "data": {
      "text/plain": [
       "170.5"
      ]
     },
     "execution_count": 11,
     "metadata": {},
     "output_type": "execute_result"
    }
   ],
   "source": [
    "me = np.median(X)\n",
    "me"
   ]
  },
  {
   "cell_type": "code",
   "execution_count": 12,
   "id": "55049ef5",
   "metadata": {},
   "outputs": [
    {
     "data": {
      "image/png": "[encoded data removed]",
      "text/plain": [
       "<Figure size 400x400 with 1 Axes>"
      ]
     },
     "metadata": {},
     "output_type": "display_data"
    }
   ],
   "source": [
    "fig, ax = plt.subplots(figsize=(4, 4))\n",
    "\n",
    "colors = ['blue' if v in modes else 'lightblue' for v in data[0]]\n",
    "ax.bar(data[0], data[1], width=0.8, color = colors)\n",
    "plt.axvline(x=me, color='blue', ls='--', lw=2)\n",
    "ax.set_xlabel('Height')\n",
    "ax.set_ylabel('Count');"
   ]
  },
  {
   "cell_type": "code",
   "execution_count": 13,
   "id": "1908e0be",
   "metadata": {},
   "outputs": [
    {
     "data": {
      "text/plain": [
       "4436369.5"
      ]
     },
     "execution_count": 13,
     "metadata": {},
     "output_type": "execute_result"
    }
   ],
   "source": [
    "df['Population'].median()"
   ]
  },
  {
   "cell_type": "markdown",
   "id": "d7f0cdb2",
   "metadata": {},
   "source": [
    "***\n",
    "### <font color = MediumBlue size = 4> <b>Среднее значение</b> </font>\n",
    "\n",
    "#### <font color = SteelBlue size = 3> <b>Среднее арифметическое</b> </font>\n",
    "\n",
    "**Среднее арифметическое** (mean) – это центр выборки, вокруг которого группируются элементы выборки.\n",
    "\n",
    "<u>**Генеральная средняя**</u> \\\n",
    "– среднее арифметическое всех значений генеральной совокупности.\n",
    "\n",
    "$\\displaystyle \\bar X = \\frac{\\sum_{i=1}^{N}{x_i}}{N}$\n",
    "\n",
    "Если рассматривать обследуемый признак $X$ генеральной совокупности как случайную величину, то математическое ожидание\n",
    "признака равно генеральной средней этого признака: $M(X) = \\bar{X}$.\n",
    "\n",
    "Обобщая полученный результат на генеральную совокупность с непрерывным распределением признака $X$, и в этом случае определим генеральную среднюю как математическое ожидание признака: $\\bar{X} = M(X)$\n",
    "<br><br>\n",
    "\n",
    "\n",
    "<u>**Выборочная средняя**</u> \\\n",
    "– сумма значений измеренного признака всех элементов выборки, делённая на количество элементов выборки объема $n$.\n",
    "\n",
    "$\\displaystyle \\bar x_e = \\frac{\\sum_{i=1}^{n}{x_i}}{n}$\n",
    "\n",
    "Выборочная средняя, найденная по данным одной выборки, есть, очевидно, определенное число. Если же извлекать\n",
    "другие выборки того же объема из той же генеральной совокупности, то выборочная средняя будет изменяться от выборки к выборке. \n",
    "Таким образом, выборочную среднюю можно рассматривать как случайную величину, а следовательно, можно говорить о распределениях\n",
    "(теоретическом и эмпирическом) выборочной средней и о числовых характеристиках этого распределения (его называют выборочным),\n",
    "в частности о математическом ожидании и дисперсии выборочного распределения.\n",
    "\n",
    "При увеличении объема выборки $n$ выборочная средняя стремится по вероятности к генеральной средней, а это и означает, что выборочная средняя есть состоятельная оценка генеральной средней. \\\n",
    "Из сказанного следует также, что если по нескольким выборкам достаточно большого объема из одной и той же генеральной совокупности будут найдены выборочные средние, то они будут приближенно равны между собой. \\\n",
    "В этом и состоит свойство **устойчивости выборочных средних**.\n",
    "\n",
    "Заметим, что если дисперсии двух одинаково распределенных совокупностей равны между собой, то близость выборочных средних к генеральным не зависит от отношения объема выборки к объему генеральной совокупности. Она зависит от объема выборки: чем объем выборки больше, тем меньше выборочная средняя отличается от генеральной.\n",
    "<br><br>\n",
    "\n",
    "#### <font color = SteelBlue size = 3> <b>Отклонение от общей средней</b> </font>\n",
    "\n",
    "<u>**Общей средней**</u> $\\bar{x}$ называют среднее арифметическое значений признака, принадлежащих всей совокупности.\n",
    "\n",
    "<u>**Отклонением**</u> называют разность $x_i - \\bar{x}$ между значением признака и общей средней.\n",
    "\n",
    "**Свойство отклонения от общей средней**: \\\n",
    "Сумма произведений отклонений на соответствующие частоты равна нулю: \\\n",
    "$\\displaystyle \\sum_{i=1}^{k}{n_i(x_i-\\bar{x})}=0$"
   ]
  },
  {
   "cell_type": "code",
   "execution_count": 14,
   "id": "b42660e9",
   "metadata": {},
   "outputs": [
    {
     "data": {
      "text/plain": [
       "170.4"
      ]
     },
     "execution_count": 14,
     "metadata": {},
     "output_type": "execute_result"
    }
   ],
   "source": [
    "Mx = np.mean(X)\n",
    "Mx"
   ]
  },
  {
   "cell_type": "code",
   "execution_count": 15,
   "id": "1071c48e",
   "metadata": {},
   "outputs": [
    {
     "data": {
      "image/png": "[encoded data removed]",
      "text/plain": [
       "<Figure size 400x400 with 1 Axes>"
      ]
     },
     "metadata": {},
     "output_type": "display_data"
    }
   ],
   "source": [
    "fig, ax = plt.subplots(figsize=(4, 4))\n",
    "\n",
    "colors = ['blue' if v in modes else 'lightblue' for v in data[0]]\n",
    "ax.bar(data[0], data[1], width=0.8, color = colors)\n",
    "ax.axvline(x=me, color='blue', ls='--', lw=2)\n",
    "ax.axvline(x=Mx, color='red');"
   ]
  },
  {
   "cell_type": "code",
   "execution_count": 16,
   "id": "c9699734",
   "metadata": {},
   "outputs": [
    {
     "data": {
      "text/plain": [
       "(6162876.3, 4436369.5)"
      ]
     },
     "execution_count": 16,
     "metadata": {},
     "output_type": "execute_result"
    }
   ],
   "source": [
    "df['Population'].mean(), df['Population'].median()"
   ]
  },
  {
   "cell_type": "markdown",
   "id": "23e619d2",
   "metadata": {},
   "source": [
    "#### <font color = SteelBlue size = 3> <b>Среднее усеченное</b> </font>\n",
    "\n",
    "Разновидностью среднего является **среднее усеченное**, которое вычисляется путем отбрасывания фиксированного числа сортированных значений с каждого конца последовательности и затем взятия среднего арифметического оставшихся значений.\n",
    "\n",
    "Если представить сортированные значения как $x_1, x_2, \\ldots, x_n$, где $x_1$ — это наименьшее значение и $x_n$ — наибольшее, то формула для вычисления усеченного среднего с пропуском $p$ самых малых и самых крупных значений будет следующей:\\\n",
    "$\\bar{x} = \\cfrac{\\displaystyle\\sum_{i=p+1}^{n-p}{x_i}}{n-2p}$\n",
    "\n",
    "Усеченное среднее устраняет влияние предельных значений.\\\n",
    "Усеченные средние получили широкое распространение и во многих случаях являются предпочтительными вместо обычного среднего."
   ]
  },
  {
   "cell_type": "code",
   "execution_count": 17,
   "id": "573db9cf",
   "metadata": {},
   "outputs": [
    {
     "data": {
      "text/plain": [
       "(4783697.125, 4436369.5)"
      ]
     },
     "execution_count": 17,
     "metadata": {},
     "output_type": "execute_result"
    }
   ],
   "source": [
    "stats.trim_mean(df['Population'], 0.1), df['Population'].median()"
   ]
  },
  {
   "cell_type": "markdown",
   "id": "2c6333a1",
   "metadata": {},
   "source": [
    "#### <font color = SteelBlue size = 3> <b>Среднее взвешенное</b> </font>\n",
    "\n",
    "Еще один вид среднего значения — это средневзвешенное значение, которое вычисляется путем умножения каждого значения данных $x_i$ на свой вес $w_i$ и деления их суммы на сумму весов: \\\n",
    "$\\bar{x}_w = \\cfrac{\\sum{w_i x_i}}{\\sum{w_i}}$\n",
    "\n",
    "Существуют два главных побудительных мотива для использования средневзвешенного значения:\n",
    "* Некоторые значения внутренне более переменчивы, чем другие, и сильно переменчивым наблюдениям придается более низкий вес. Например, если мы берем среднее арифметическое данных, поступающих от многочисленных датчиков, и один из датчиков менее точен, тогда вес данных от этого датчика можно понизить.\n",
    "* Собранные данные не одинаково представляют разные группы, которые мы заинтересованы измерить. Например, в зависимости от того, каким образом проводится онлайновый эксперимент, у нас может не быть набора данных, который точно отражает все группы в пользовательской базе. Для того чтобы это исправить, можно придать более высокий вес значениям из тех групп, которые были представлены недостаточно."
   ]
  },
  {
   "cell_type": "code",
   "execution_count": 18,
   "id": "0874dad5",
   "metadata": {},
   "outputs": [
    {
     "data": {
      "text/plain": [
       "(4.066, 4.445833981123393)"
      ]
     },
     "execution_count": 18,
     "metadata": {},
     "output_type": "execute_result"
    }
   ],
   "source": [
    "df['Murder.Rate'].mean(), np.average(df['Murder.Rate'], weights=df['Population'])"
   ]
  },
  {
   "cell_type": "markdown",
   "id": "a6e30634",
   "metadata": {},
   "source": [
    "***\n",
    "## <font color = DarkGreen size = 5> <b>Меры изменчивости / показатели вариации</b> </font>\n",
    "\n",
    "***\n",
    "### <font color = MediumBlue size = 4> <b>Размах вариации (range)</b> </font>\n",
    "— абсолюная разность между максимальным и минимальным значениями измеренного признака.\n",
    "\n",
    "$R = X_{max} - X_{min}$"
   ]
  },
  {
   "cell_type": "code",
   "execution_count": 19,
   "id": "4dd5cc9f",
   "metadata": {},
   "outputs": [
    {
     "data": {
      "text/plain": [
       "28"
      ]
     },
     "execution_count": 19,
     "metadata": {},
     "output_type": "execute_result"
    }
   ],
   "source": [
    "R = np.max(X) - np.min(X)\n",
    "R"
   ]
  },
  {
   "cell_type": "markdown",
   "id": "fe0392ff",
   "metadata": {},
   "source": [
    "***\n",
    "### <font color = MediumBlue size = 4> <b>Дисперсия (variance)</b> </font>\n",
    "— средний квадрат отклонений индивидуальных значений признака от их средней величины.\n",
    "\n",
    "Характеризует степень рассеянности значений случайной величины относительно ее математического ожидания.\n",
    "<br><br>\n",
    "\n",
    "\n",
    "<u>**Генеральная (смещенная) дисперсия**</u> $\\sigma^2$ \\\n",
    "среднее арифметическое квадратов отклонений значений признака генеральной совокупности от их среднего значения $\\bar{X}$.\n",
    "\n",
    "Если все значения $x_1,x_2,\\ldots,x_N$ признака генеральной совокупности объема $N$ различны: \\\n",
    "$\\displaystyle \\sigma^2 = \\frac{\\sum_{i=1}^{N}{(x_i-\\bar{X})^2}}{N}$\n",
    "\n",
    "Если значения признака $x_1,x_2,\\ldots,x_k$ имеют соответственно частоты $N_1,N_2,\\ldots,N_k$ причем\n",
    "$\\displaystyle \\sum_{i=1}^{k}{N_k}=N$: \\\n",
    "$\\displaystyle \\sigma^2 = \\frac{\\sum_{i=1}^{k}{N_i(x_i-\\bar{X})^2}}{N}$\n",
    "<br><br>\n",
    "\n",
    "\n",
    "<u>**Выборочная дисперсия**</u> $D$ \\\n",
    "среднее арифметическое квадратов отклонения наблюдаемых значений признака от среднего выборочного $\\bar{x_e}$.\n",
    "\n",
    "**Смещенная дисперсия** (для больших выборок) \\\n",
    "\n",
    "Если все значения $x_1,x_2,\\ldots,x_n$ признака выборки объема $n$ различны: \\\n",
    "$\\displaystyle D = \\frac{\\sum_{i=1}^{n}{(x_i-\\bar{x_e})^2}}{n}$\n",
    "\n",
    "Если значения признака $x_1,x_2,\\ldots,x_k$ имеют соответственно частоты $n_1,n_2,\\ldots,n_k$ причем\n",
    "$\\displaystyle \\sum_{i=1}^{k}{n_k}=n$: \\\n",
    "$\\displaystyle D = \\frac{\\sum_{i=1}^{k}{n_i(x_i-\\bar{x_e})^2}}{n}$\n",
    "\n",
    "\n",
    "**Несмещенная дисперсия** (для малых выборок $n<100$) \\\n",
    "В качестве оценки генеральной дисперсии принимают несмещенную дисперсию.\n",
    "\n",
    "Если все значения $x_1,x_2,\\ldots,x_n$ признака выборки объема $n$ различны: \\\n",
    "$\\displaystyle S^2 = \\frac{\\sum_{i=1}^{n}{(x_i-\\bar{x_e})^2}}{n-1}$\n",
    "\n",
    "Если значения признака $x_1,x_2,\\ldots,x_k$ имеют соответственно частоты $n_1,n_2,\\ldots,n_k$ причем\n",
    "$\\displaystyle \\sum_{i=1}^{k}{n_k}=n$: \\\n",
    "$\\displaystyle S^2 = \\frac{\\sum_{i=1}^{k}{n_i(x_i-\\bar{x_e})^2}}{n-1}$\n",
    "<br><br>\n",
    "\n",
    "\n",
    "#### <font color = SteelBlue size = 3> <b>Формула для вычисления дисперсии</b> </font>\n",
    "\n",
    "Дисперсия равна среднему квадратов значений признака минус квадрат общей средней: \\\n",
    "$D = \\bar{x^2} - (\\bar{x})^2$, где \n",
    "$\\displaystyle \\bar{x} = \\frac{\\sum_{i=1}^{k}{n_i x_i}}{n}$, \n",
    "$\\displaystyle \\bar{x^2} = \\frac{\\sum_{i=1}^{k}{n_i x_i^2}}{n}$\n"
   ]
  },
  {
   "cell_type": "code",
   "execution_count": 20,
   "id": "6373e9a0",
   "metadata": {},
   "outputs": [
    {
     "name": "stdout",
     "output_type": "stream",
     "text": [
      "D = 34.84\n",
      "D = 36.04\n",
      "\n"
     ]
    }
   ],
   "source": [
    "# смещенная дисперсия\n",
    "d = np.var(X)\n",
    "print(f'D = {d:.2f}')\n",
    "\n",
    "# несмещенная дисперсия\n",
    "d = np.var(X, ddof=1)\n",
    "print(f'D = {d:.2f}\\n')"
   ]
  },
  {
   "cell_type": "markdown",
   "id": "8e6b9086",
   "metadata": {},
   "source": [
    "***\n",
    "### <font color = MediumBlue size = 4> <b>Среднее квадратическое отклонение / стандартное отклонение (standard deviation)</b> </font>\n",
    "— обобщающая статистическая характеристика вариации значений признака.\n",
    "\n",
    "Показывает, насколько далеко наблюдения могут быть \"разбросаны\" относительно их среднего значения. \\\n",
    "Если эта мера мала, то кривая распределения имеет узкую, сжатую форму - результаты измерений обладают высокой степенью схожести. \\\n",
    "Если мера велика, то кривая рапределения имеет широкий, растянутый вид - велика степень различия оценок.\n",
    "<br><br>\n",
    "\n",
    "\n",
    "<u>**Генеральное среднее квадратическое (стандартое) отклонение**</u> \\\n",
    "— квадратный корень из генеральной дисперсии: \\\n",
    "$\\displaystyle \\sigma = \\sqrt{\\sigma^2}$\n",
    "<br><br>\n",
    "\n",
    "\n",
    "<u>**Выборочное среднее квадратическое (стандартое) отклонение**</u> \\\n",
    "— квадратный корень из выборочной дисперсии: \\\n",
    "$\\displaystyle S = \\sqrt{S^2}$\n"
   ]
  },
  {
   "cell_type": "code",
   "execution_count": 21,
   "id": "9a78daf4",
   "metadata": {},
   "outputs": [
    {
     "name": "stdout",
     "output_type": "stream",
     "text": [
      "SD = 5.90\n",
      "SD = 6.00\n"
     ]
    }
   ],
   "source": [
    "# смещенное стандартное отклонение\n",
    "sig = np.std(X)\n",
    "print(f'SD = {sig:.2f}')\n",
    "\n",
    "# несмещенное стандартное отклонение\n",
    "s = np.std(X, ddof=1)\n",
    "print(f'SD = {s:.2f}')"
   ]
  },
  {
   "cell_type": "code",
   "execution_count": 22,
   "id": "38d322c4",
   "metadata": {},
   "outputs": [
    {
     "data": {
      "text/plain": [
       "(6779407.114632265, 6848235.347401142)"
      ]
     },
     "execution_count": 22,
     "metadata": {},
     "output_type": "execute_result"
    }
   ],
   "source": [
    "df['Population'].std(ddof=0), df['Population'].std(ddof=1)"
   ]
  },
  {
   "cell_type": "markdown",
   "id": "9b515399",
   "metadata": {},
   "source": [
    "***\n",
    "### <font color = MediumBlue size = 4> <b>Свойства дисперсии и стандартного отклонения</b> </font>\n",
    "\n",
    "1) Если каждый элемент выборки увеличить на $c$, таким образом сместив график распределения (гистограмму) вправу, то ни дисперсия, ни стандартное отклонение не изменяться.<br>\n",
    "$D_{x+c} = D_x \\\\\n",
    "S_{x+c} = S_x$\n",
    "\n",
    "2) Если каждый элемент выборки увеличить в $c$ раз, таким образом увеличив график распределения *по ширине* (гистограмму в $c$ раз), то дисперсия увелиться в $c^2$ раз, а стандартное отклонение в $c$ раз.<br>\n",
    "$D_{x\\cdot c} = D_x\\cdot c^2 \\\\\n",
    "S_{x\\cdot c} = S_x\\cdot c$<br>"
   ]
  },
  {
   "cell_type": "markdown",
   "id": "fcd9257b",
   "metadata": {},
   "source": [
    "***\n",
    "### <font color = MediumBlue size = 4> <b>Медианное абсолютное отклонение от медианы</b> </font>\n",
    "\n",
    "Робастной оценкой вариабельности является медианное абсолютное отклонение от медианы (median absolute deviation, MAD) = медиана($|x_1 - m_e|, |x_2 - m_e|, \\ldots, |x_n - m_e|$), где $m_e$ - медиана.\n",
    "\n",
    "Как и в случае с медианой, медианное абсолютное отклонение от медианы не находится под влиянием предельных значений."
   ]
  },
  {
   "cell_type": "code",
   "execution_count": 23,
   "id": "d6e782e1",
   "metadata": {},
   "outputs": [
    {
     "data": {
      "text/plain": [
       "(6848235.347401142, 3849876.1459979336)"
      ]
     },
     "execution_count": 23,
     "metadata": {},
     "output_type": "execute_result"
    }
   ],
   "source": [
    "df['Population'].std(), robust.scale.mad(df['Population'])"
   ]
  },
  {
   "cell_type": "markdown",
   "id": "24adf38b",
   "metadata": {},
   "source": [
    "Стандартное отклонение почти вдвое больше медианного абсолютного отклонения MAD и это не удивительно, поскольку стандартное отклонение является чувствительным к выбросам."
   ]
  },
  {
   "cell_type": "markdown",
   "id": "dfd47142",
   "metadata": {},
   "source": [
    "***\n",
    "### <font color = MediumBlue size = 4> <b>Коэффициент вариации</b> </font>\n",
    "– это отношение стандартного отклонения к средней, выраженное в процентах: \\\n",
    "$\\displaystyle V = \\frac{\\sigma}{\\bar{x}}\\cdot100\\%$\n",
    "\n",
    "В статистике существует следующий эмпирический ориентир:\n",
    "* если показатель вариации составляет примерно 30% и меньше, то статистическая совокупность считается **однородной**. Это означает, что большинство вариант находится недалеко от средней, и найденное значение $\\bar{x}$ хорошо характеризует центральную тенденцию совокупности.\n",
    "* если показатель вариации составляет существенно больше 30%, то совокупность **неоднородна**, то есть, значительное количество вариант находятся далеко от $\\bar{x}$, и выборочная средняя плохо характеризует типичную варианту. В таких случаях целесообразно рассмотреть **квартили, децили,** а иногда и **перцентили**, которые делят вариационный ряд на части, и для каждого участка рассчитать свои показатели.\n"
   ]
  },
  {
   "cell_type": "code",
   "execution_count": 24,
   "id": "56bc829c",
   "metadata": {},
   "outputs": [
    {
     "name": "stdout",
     "output_type": "stream",
     "text": [
      "V = 3.5\n"
     ]
    }
   ],
   "source": [
    "print(f'V = {sig/Mx*100:.1f}')"
   ]
  },
  {
   "cell_type": "markdown",
   "id": "e016c0c4",
   "metadata": {},
   "source": [
    "***\n",
    "### <font color = MediumBlue size = 4> <b>Асимметрия</b> </font>\n",
    "– мера отклонения эмпирического распределения частот от симметричного распределения относительно максимальной ординаты.\n",
    "\n",
    "Асимметрия – это количественная мера скошенности симметричного распределения, т.е. некоторой плавности или крутости боковой части кривой распределения.\n",
    "\n",
    "**Формула Пирсона**: $\\displaystyle A_s = \\frac{\\bar{X}-M_0}{\\sigma}$, где \\\n",
    "$M_0$ - мода\n",
    "\n",
    ">В левостороннем случае коэффициент асимметрии отрицателен $\\bar{X}<M_0$, а в правостороннем – положителен $\\bar{X}>M_0$, и чем больше $A_s$ по модулю – тем сильнее скос распределения.\n",
    "\n",
    "***Недостаток формулы Пирсона состоит в том, что она описывает лишь центральную часть распределения и практически не учитывает «периферию».***\n",
    "<br><br>\n",
    "\n",
    "Для **выборочной совокупности** объёма $n$: \\\n",
    "$\\displaystyle A_s = \\frac{m_3}{\\sigma^{3}_{e}}$, где \\\n",
    "$\\sigma^{3}_{e}$ – куб стандартного выборочного отклонения \\\n",
    "$m_3$ – центральный эмпирический момент третьего порядка: $\\displaystyle m_3 = \\frac{\\sum^{n}_{i=1}{(x_i-\\bar{x})^3}}{n}$\n",
    "\n",
    ">Если $A_s>0$, то распределение скошено вправо, если $A_s<0$ – то влево.\n",
    "\n",
    "При этом принята следующая условная градация:\n",
    "* если $|A_s|<0.25$, то асимметрия незначительна\n",
    "* если $0.25<|A_s|<0.5$, то асимметрия умеренная\n",
    "* если $|A_s|>0.5$, то асимметрия существенная\n",
    "\n",
    "Чем **меньше** $|A_s|$, тем рассматриваемое эмпирическое распределение **ближе** к нормальному распределению."
   ]
  },
  {
   "cell_type": "markdown",
   "id": "23b27746",
   "metadata": {},
   "source": [
    "***\n",
    "### <font color = MediumBlue size = 4> <b>Эксцесс</b> </font>\n",
    "– это степень отклонения эмпирической кривой распределения от теоретической кривой нормального распределения это количественная мера «горбатости» симметричного распределения, т.е. некоторой выпуклости или пологости.\n",
    "\n",
    "$\\displaystyle E_k = \\frac{m_4}{\\sigma^{4}_{e}}$, где \\\n",
    "$m_4$ – центральный эмпирический момент четвертого порядка: $m_4 = \\cfrac{\\sum^{n}_{i=1}{(x_i-\\bar{x})^4}}{n}$\n",
    "\n",
    "> Эксцесс оказывается полезным при поиске тяжёлых хвостов. \\\n",
    "Большое значение эксцесса сигнализирует о наличии тяжёлых хвостов и выбросов в данных."
   ]
  },
  {
   "cell_type": "markdown",
   "id": "983579b9",
   "metadata": {},
   "source": [
    "***\n",
    "## <font color = DarkGreen size = 5> <b>Квантили распределения</b> </font>\n",
    "\n",
    "Одним из наиболее действенных методов описания выборки является описание с помощью квантилей и процентилей.\n",
    "\n",
    "**Квантиль $Q$** \\\n",
    "– это значение, отделяющее от распределения слева или справа определенную долю объема совокупности.\n",
    "\n",
    "**Квартили $Q_1,Q_2,Q_3$** \\\n",
    "– это три точки (значения признака), которые делят упорядоченное множество данных на четыре части. \\\n",
    "Первый квартиль ($Q_1$),отделяет слева 25% объема совокупности. Второй квартиль ($Q_2$),делит совокупность на две равные по объему части (по 50%),он называется медианой. Третий квартиль ($Q_3$) отделяет слева 75% объема совокупности или справа 25% объема.\n",
    "\n",
    "**Децили $D_1,D_2,\\ldots,Q_9$** \\\n",
    "– это варианты, которые делят упорядоченный вариационный ряд на 10 равных (по количеству вариант) частей.\n",
    "\n",
    "**Процентили $Р_1,P_2,\\ldots,P_{99}$** \\\n",
    "– это точки (их 99) которые делят упорядоченное множество данных на 100 частей.\n",
    "\n",
    "Считается, что $n$-й процентиль - это такое значение, ниже которого расположено $n$ процентов наблюдений данной переменной. Следовательно, 40-й процентиль - это значение, ниже которого расположено 40% результатов наблюдений; 50-й процентиль называется медианой, а 25-й и 75-й процентили - нижним и верхним квантилям соответственно.\n",
    "\n",
    "Квантили и процентили используются для определения частоты встречаемости тех или иных значений (или интервалов) измеренного признака или для выделения подгрупп и отдельных испытуемых, наиболее типичных или нетипичных для данного множества наблюдений. Через квартили так же могут определяться числовые характеристики положения, рассеяния и асимметрии.\n",
    "\n",
    "После разбиения вариационного ряда каждый участок исследуется по отдельности – рассчитываются локальные средние показатели, локальные показатели вариации и т.д.\n"
   ]
  },
  {
   "cell_type": "code",
   "execution_count": 25,
   "id": "71bb4144",
   "metadata": {},
   "outputs": [
    {
     "name": "stdout",
     "output_type": "stream",
     "text": [
      "Первый квартиль или 0.25 квантиль распределения: 167.0\n",
      "Второй квартиль или 0.5 квантиль или медиана распределения: 170.5\n",
      "Третий квартиль или 0.75 квантиль распределения: 173.0\n",
      "Четвертый квартиль или 1 квантиль распределения: 185\n"
     ]
    }
   ],
   "source": [
    "print('Первый квартиль или 0.25 квантиль распределения:',np.quantile(X, 0.25))\n",
    "print('Второй квартиль или 0.5 квантиль или медиана распределения:',np.quantile(X, 0.50))\n",
    "print('Третий квартиль или 0.75 квантиль распределения:',np.quantile(X, 0.75))\n",
    "print('Четвертый квартиль или 1 квантиль распределения:',np.quantile(X, 1))"
   ]
  },
  {
   "cell_type": "markdown",
   "id": "244da2a5",
   "metadata": {},
   "source": [
    "**Квантиль уровня $\\gamma$** – это такое число $q$, что $P(X \\leq q) = \\gamma$."
   ]
  },
  {
   "cell_type": "code",
   "execution_count": 26,
   "id": "feaf3ed2",
   "metadata": {},
   "outputs": [
    {
     "data": {
      "text/plain": [
       "-0.6744897501960817"
      ]
     },
     "execution_count": 26,
     "metadata": {},
     "output_type": "execute_result"
    }
   ],
   "source": [
    "rv = stats.norm(loc=0, scale=1)\n",
    "q = rv.ppf(0.25)\n",
    "q"
   ]
  },
  {
   "cell_type": "code",
   "execution_count": 27,
   "id": "82649332",
   "metadata": {},
   "outputs": [
    {
     "data": {
      "image/png": "[encoded data removed]",
      "text/plain": [
       "<Figure size 640x480 with 1 Axes>"
      ]
     },
     "metadata": {},
     "output_type": "display_data"
    }
   ],
   "source": [
    "x = np.linspace(-3, 3, 100)\n",
    "pdf = rv.pdf(x)\n",
    "\n",
    "plt.plot(x, pdf)\n",
    "xq = np.linspace(-3, q)\n",
    "yq = rv.pdf(xq)\n",
    "plt.fill_between(xq, 0, yq, color='blue', alpha=0.2)\n",
    "plt.axvline(q, color='red', linestyle=\"--\", lw=1.5);\n",
    "plt.ylabel('$f(x)$')\n",
    "plt.xlabel('$x$');"
   ]
  },
  {
   "cell_type": "code",
   "execution_count": 28,
   "id": "595bf510",
   "metadata": {},
   "outputs": [
    {
     "data": {
      "text/plain": [
       "4847308.0"
      ]
     },
     "execution_count": 28,
     "metadata": {},
     "output_type": "execute_result"
    }
   ],
   "source": [
    "df['Population'].quantile(0.75) - df['Population'].quantile(0.25)"
   ]
  },
  {
   "cell_type": "code",
   "execution_count": 29,
   "id": "edf35645",
   "metadata": {},
   "outputs": [
    {
     "data": {
      "text/html": [
       "<div>\n",
       "<style scoped>\n",
       "    .dataframe tbody tr th:only-of-type {\n",
       "        vertical-align: middle;\n",
       "    }\n",
       "\n",
       "    .dataframe tbody tr th {\n",
       "        vertical-align: top;\n",
       "    }\n",
       "\n",
       "    .dataframe thead th {\n",
       "        text-align: right;\n",
       "    }\n",
       "</style>\n",
       "<table border=\"1\" class=\"dataframe\">\n",
       "  <thead>\n",
       "    <tr style=\"text-align: right;\">\n",
       "      <th></th>\n",
       "      <th>Population</th>\n",
       "      <th>Murder.Rate</th>\n",
       "    </tr>\n",
       "  </thead>\n",
       "  <tbody>\n",
       "    <tr>\n",
       "      <th>count</th>\n",
       "      <td>5.000000e+01</td>\n",
       "      <td>50.000000</td>\n",
       "    </tr>\n",
       "    <tr>\n",
       "      <th>mean</th>\n",
       "      <td>6.162876e+06</td>\n",
       "      <td>4.066000</td>\n",
       "    </tr>\n",
       "    <tr>\n",
       "      <th>std</th>\n",
       "      <td>6.848235e+06</td>\n",
       "      <td>1.915736</td>\n",
       "    </tr>\n",
       "    <tr>\n",
       "      <th>min</th>\n",
       "      <td>5.636260e+05</td>\n",
       "      <td>0.900000</td>\n",
       "    </tr>\n",
       "    <tr>\n",
       "      <th>25%</th>\n",
       "      <td>1.833004e+06</td>\n",
       "      <td>2.425000</td>\n",
       "    </tr>\n",
       "    <tr>\n",
       "      <th>50%</th>\n",
       "      <td>4.436370e+06</td>\n",
       "      <td>4.000000</td>\n",
       "    </tr>\n",
       "    <tr>\n",
       "      <th>75%</th>\n",
       "      <td>6.680312e+06</td>\n",
       "      <td>5.550000</td>\n",
       "    </tr>\n",
       "    <tr>\n",
       "      <th>max</th>\n",
       "      <td>3.725396e+07</td>\n",
       "      <td>10.300000</td>\n",
       "    </tr>\n",
       "  </tbody>\n",
       "</table>\n",
       "</div>"
      ],
      "text/plain": [
       "         Population  Murder.Rate\n",
       "count  5.000000e+01    50.000000\n",
       "mean   6.162876e+06     4.066000\n",
       "std    6.848235e+06     1.915736\n",
       "min    5.636260e+05     0.900000\n",
       "25%    1.833004e+06     2.425000\n",
       "50%    4.436370e+06     4.000000\n",
       "75%    6.680312e+06     5.550000\n",
       "max    3.725396e+07    10.300000"
      ]
     },
     "execution_count": 29,
     "metadata": {},
     "output_type": "execute_result"
    }
   ],
   "source": [
    "df.describe()"
   ]
  },
  {
   "cell_type": "markdown",
   "id": "8077741a",
   "metadata": {},
   "source": [
    "***\n",
    "### <font color = MediumBlue size = 4> <b>Ящик с усами (boxplot)</b> </font>\n",
    "– график, использующийся в описательной статистике.\n",
    "\n",
    "По нему можно узнать медиану распределения (жирная линия в центре). \\\n",
    "1 квартиль распределения (квантиль уровня 0.25), 3 квартиль распределения (квантиль уровня 0.75), интер-квартильный размах. \\\n",
    "Еще можно судить об ассиметрии выборки по смещению медианы относительно центра интер-квартильного размаха. \\\n",
    "Усы графика означают \"нормальное\" расстояние или еще это расстояние называют данными без выбросов. В диапазоне \"нормального\" расстояния лежит 99,3% всех измерений, остальные 0,7% принято считать выбросами. То есть это те значения которые очень сильно отклоняются вверх или вниз. Точками на таком графике отображаются выбросы.\n",
    "\n",
    "<u>**Интер-квартильный размах**</u> (IQR) \\\n",
    "– \"расстояние\" или разница между 3 и 1 квартилем (25-м и 75-м процентилями). По этому показателю можно судить насколько сильно разбросана выборка. В пределах интер-квартильного размаха лежит 50% всех наблюдений.\n",
    "\n",
    "<img src=\"./img/st_02_image1.png\" width=\"700\"/>\n",
    "\n",
    "**Правило 1.5 интерквантильных размахов (IQR):** если наблюдение оказались за пределами выделенного интервала, оно выброс. Иногда используют 3 IQR."
   ]
  },
  {
   "cell_type": "code",
   "execution_count": 30,
   "id": "c2397cfc",
   "metadata": {},
   "outputs": [
    {
     "data": {
      "image/png": "[encoded data removed]",
      "text/plain": [
       "<Figure size 700x600 with 2 Axes>"
      ]
     },
     "metadata": {},
     "output_type": "display_data"
    }
   ],
   "source": [
    "fig, ax = plt.subplots(figsize=(3.5*2, 6))\n",
    "\n",
    "plt.subplot(1, 2, 1)\n",
    "sns.boxplot(y=X)\n",
    "\n",
    "plt.subplot(1, 2, 2)\n",
    "sns.violinplot(y=X);"
   ]
  },
  {
   "cell_type": "code",
   "execution_count": 31,
   "id": "36fc82a1",
   "metadata": {},
   "outputs": [
    {
     "data": {
      "image/png": "[encoded data removed]",
      "text/plain": [
       "<Figure size 640x480 with 1 Axes>"
      ]
     },
     "metadata": {},
     "output_type": "display_data"
    }
   ],
   "source": [
    "ax = (df['Population']/1_000_000).plot.box()"
   ]
  },
  {
   "cell_type": "markdown",
   "id": "c998c4fb",
   "metadata": {},
   "source": [
    "Посмотрим на несколько примеров распределений, на которых точки перетекают из одной области в другую, но при этом форма ящика с усами никак не меняется."
   ]
  },
  {
   "cell_type": "markdown",
   "id": "715d5436",
   "metadata": {},
   "source": [
    "![](./img/boxplots.gif)"
   ]
  },
  {
   "cell_type": "markdown",
   "id": "57085df2",
   "metadata": {},
   "source": [
    "![](./img/BoxViolinSmaller.gif)"
   ]
  },
  {
   "cell_type": "markdown",
   "id": "ed5f9048",
   "metadata": {},
   "source": [
    "**Вывод:** делайте больше различных визуализаций своих данных, если хотите понимать их. "
   ]
  },
  {
   "cell_type": "markdown",
   "id": "358dd759",
   "metadata": {},
   "source": [
    "***\n",
    "## <font color = DarkGreen size = 5> <b>Оценка вероятности (биномиального распределения) по относительной частоте</b> </font>\n",
    "\n",
    "Пусть производятся независимые испытания с неизвестной вероятностью $p$ появления события $A$ в каждом испытании.\n",
    "\n",
    "В качестве точечной оценки неизвестной вероятности $p$ принимают относительную частоту \\\n",
    "$\\displaystyle W = \\frac{m}{n}$, где \\\n",
    "$m$ – число появления события $A$, \\\n",
    "$n$ – число испытаний.\n",
    "\n",
    "Эта оценка несмещенная, т.е. ее **математическое ожидание** равно оцениваемой вероятности. \\\n",
    "Учитывая, что $M(m)=np$: $\\displaystyle M(W) = M\\left(\\frac{m}{n}\\right) = \\frac{M(m)}{n} = \\frac{np}{n} = p$\n",
    "\n",
    "Найдем **дисперсию** оценки, приняв во внимание, что $D(m)=npq$: $\\displaystyle D(W) = D\\left(\\frac{m}{n}\\right) = \\frac{D(m)}{n^2} = \\frac{npq}{n^2} = \\frac{pq}{n}$\n",
    "\n",
    "Отсюда **среднее квадратическое** отклонение: $\\displaystyle \\sigma_W = \\sqrt{D(W)} = \\sqrt{\\frac{pq}{n}}$"
   ]
  },
  {
   "cell_type": "code",
   "execution_count": null,
   "id": "3aac9ba7",
   "metadata": {},
   "outputs": [],
   "source": []
  }
 ],
 "metadata": {
  "kernelspec": {
   "display_name": "Python 3 (ipykernel)",
   "language": "python",
   "name": "python3"
  },
  "language_info": {
   "codemirror_mode": {
    "name": "ipython",
    "version": 3
   },
   "file_extension": ".py",
   "mimetype": "text/x-python",
   "name": "python",
   "nbconvert_exporter": "python",
   "pygments_lexer": "ipython3",
   "version": "3.9.13"
  }
 },
 "nbformat": 4,
 "nbformat_minor": 5
}
