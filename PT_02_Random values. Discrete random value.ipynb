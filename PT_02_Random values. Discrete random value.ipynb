{
 "cells": [
  {
   "cell_type": "markdown",
   "id": "ba3923ac",
   "metadata": {},
   "source": [
    "# <font color = Crimson size = 6> <b>Случайные величины</b> </font>\n",
    "\n",
    "<u>**Случайной**</u> называют **величину**, которая в результате испытания примет одно и только одно числовое значение, зависящее от случайных факторов и заранее непредсказуемое.\n",
    "\n",
    "**Виды случайных величин:**\n",
    "1) <u>**Дискретная**</u> (прерывная) случайная величина – принимает отдельно взятые, изолированные значения. Количество этих значений конечно либо бесконечно, но счётно. \\\n",
    "2) <u>**Непрерывная**</u> случайная величина – принимает все числовые значения из некоторого конечного или бесконечного промежутка."
   ]
  },
  {
   "cell_type": "code",
   "execution_count": 1,
   "id": "ca471182",
   "metadata": {},
   "outputs": [],
   "source": [
    "import numpy as np\n",
    "#import pandas as pd\n",
    "\n",
    "from scipy import stats\n",
    "\n",
    "import matplotlib.pyplot as plt\n",
    "#import seaborn as sns\n",
    "\n",
    "import warnings\n",
    "warnings.filterwarnings(\"ignore\")"
   ]
  },
  {
   "cell_type": "markdown",
   "id": "d37fca86",
   "metadata": {},
   "source": [
    "\n"
   ]
  },
  {
   "cell_type": "markdown",
   "id": "301b0dba",
   "metadata": {},
   "source": [
    "___\n",
    "## <font color = DarkGreen size = 5> <b>Дискретная случайная величина</b> </font>\n",
    "___\n",
    "### <font color = MediumBlue size = 4> <b>Закон распределения дискретной случайной величины</b> </font>\n",
    "– это соответствие между возможными значениями этой величины и их вероятностями.\n",
    "\n",
    "Т.к. случайная величина $X$ обязательно примет одно из значений $x_1, x_2, \\ldots, x_n$, то соответствующие события образуют полную группу и сумма вероятностей их наступления равна единице: \\\n",
    "$\\displaystyle \\sum_{i=1}^{n}{p_i} = 1$\n",
    "<br><br>\n",
    "\n",
    "<table border=\"1\" bordercolor=\"grey\" align=\"left\" width=\"400\">\n",
    "    <tr>\n",
    "        <td rowspan = 2>$X$</td>\n",
    "        <td>$x_1$</td>\n",
    "        <td>$x_2$</td>\n",
    "        <td>$\\ldots$</td>\n",
    "        <td>$x_n$</td>\n",
    "    </tr>\n",
    "    <tr>\n",
    "        <td>$p_1$</td>\n",
    "        <td>$p_2$</td>\n",
    "        <td>$\\ldots$</td>\n",
    "        <td>$p_n$</td>\n",
    "    </tr>\n",
    "</table>\n"
   ]
  },
  {
   "cell_type": "markdown",
   "id": "e5bb38a7",
   "metadata": {},
   "source": [
    "___\n",
    "### <font color = MediumBlue size = 4> <b>Математическое ожидание дискретной случайной величины</b> </font>\n",
    "– это среднеожидаемое значение при многократном повторении испытаний.\n",
    "\n",
    "$\\displaystyle M(X)  = \\sum_{i=1}^{n}{x_ip_i}$\n",
    "\n",
    "**Свойства математического ожидания**:\n",
    "1) Математическое ожидание постоянной величины равно самой постоянной: $M(C) = C$ \\\n",
    "2) Постоянный множитель можно выносить за знак математического ожидания: $M(CX) = CM(X)$ \\\n",
    "3) Математическое ожидание произведения двух независимых случайных величин равно произведению их математических ожиданий: $M(XY) = M(X) \\cdot M(Y)$ \\\n",
    "4) Математическое ожидание суммы двух случайных величин равно сумме математических ожиданий слагаемых: $M(X+Y) = M(X)+M(Y)$\n",
    "\n",
    "#### <font color = SteelBlue size = 3> <b>Математическое ожидание числа появлений события в независимых испытаниях</b> </font>\n",
    "\n",
    "Математическое ожидание $M(X)$ числа появлений события $A$ в $n$ независимых испытаниях равно произведению числа испытаний на вероятность появления события в каждом испытании: \\\n",
    "$\\displaystyle M(X)  = np$\n"
   ]
  },
  {
   "cell_type": "markdown",
   "id": "308d77d4",
   "metadata": {},
   "source": [
    "___\n",
    "### <font color = MediumBlue size = 4> <b>Дисперсия дискретной случайной величины</b> </font>\n",
    "Для того чтобы оценить, как рассеяны возможные значения случайной величины вокруг ее математического ожидания, пользуются, в частности, числовой характеристикой, которую называют <u>**дисперсией**</u>.\n",
    "\n",
    "<u>**Отклонением**</u> называют разность между случайной величиной и ее математическим ожиданиям: $X-M(X)$ \\\n",
    "**Математическое ожидание отклонения равно нулю: $M\\big(X-M(X)\\big) = 0$**\n",
    "\n",
    "<u>**Дисперсией дискретной случайной величины**</u> называют математическое ожидание квадрата отклонения случайной величины от ее математического ожидания: \\\n",
    "$\\displaystyle D(X) = M\\big(X-M(X)\\big)^2 = \\sum_{i=1}^{n}{\\big(x_i-M(X)\\big)^2p_i}$\n",
    "\n",
    "Дисперсия равна разности между математическим ожиданием квадрата случайной величины $X$ и квадратом ее математического ожидания: \\\n",
    "$\\displaystyle D(X) = M(X^2)-\\big(M(X)\\big)^2$\n",
    "\n",
    "**Свойства дисперсии**:\n",
    "1) Дисперсия постоянной величины $C$ равна нулю: $D(C)=0$\n",
    "\n",
    "2) Постоянный множитель можно выносить за знак дисперсии, возводя его в квадрат: $D(CX) = C^2D(X)$\n",
    "\n",
    "3) Дисперсия суммы двух независимых случайных величин равна сумме дисперсий этих величин: $D(X+Y) = D(X) + D(Y)$\n",
    "\n",
    "* Дисперсия суммы нескольких взаимно независимых случайных величин равна сумме дисперсий этих величин: $D(X+Y+Z)=D(X)+D(Y)+D(Z)$\n",
    "    \n",
    "* Дисперсия суммы постоянной величины и случайной равна дисперсии случайной величины: $D(C+X)=D(X)$\n",
    "    \n",
    "4) Дисперсия разности двух независимых случайных величин равна сумме их дисперсий: $D(X-Y) = D(X) + D(Y)$\n",
    "\n",
    "#### <font color = SteelBlue size = 3> <b>Дисперсия числа появлений события в независимых испытаниях</b> </font>\n",
    "\n",
    "Дисперсия числа появлений события $A$ в $n$ независимых испытаниях, в каждом из которых вероятность $p$ появления события постоянна, равна произведению числа испытаний на вероятности появления и непоявления события в одном испытании: \\\n",
    "$D(X) = npq$<br>"
   ]
  },
  {
   "cell_type": "markdown",
   "id": "ee586c6b",
   "metadata": {},
   "source": [
    "___\n",
    "### <font color = MediumBlue size = 4> <b>Среднее квадратическое отклонение</b> </font>\n",
    "\n",
    "Средним квадратическим отклонением случайной величины $X$ называют квадратный корень из дисперсии: \\\n",
    "$\\sigma = \\sqrt{D(X)}$<br>\n",
    "\n",
    ">В тех случаях, когда желательно, чтобы оценка рассеяния имела размерность случайной величины, вычисляют среднее квадратическое отклонение, а не дисперсию.\n",
    "\n",
    "Среднее квадратическое отклонение суммы конечного числа взаимно независимых случайных величин равно квадратному корню из суммы квадратов средних квадратических отклонений этих величин: \\\n",
    "$\\displaystyle \\sigma(X_1+X_2+\\ldots+X_n) = \\sqrt{\\sum_{i=1}^{n}{D(X_i)}} = \\sqrt{\\sum_{i=1}^{n}{\\sigma^2(X_i)}}$\n"
   ]
  },
  {
   "cell_type": "markdown",
   "id": "85e58a52",
   "metadata": {},
   "source": [
    "___\n",
    "### <font color = MediumBlue size = 4> <b>Одинаково рапределенные взаимно независимые случайные величины</b> </font>\n",
    "\n",
    "Рассмотрим $n$ взаимно независимых случайных величин $X_1, X_2, \\ldots, X_n$,  которые имеют одинаковые распределения, а следовательно, и одинаковые характеристики (математическое ожидание, дисперсию и др.).\\\n",
    "Обозначим среднее арифметическое рассматриваемых случайных величин через $\\bar{X}$:\n",
    "$\\displaystyle \\bar{X} = \\frac{X_1+X_2+\\ldots+X_n}{n}$\n",
    "\n",
    "1) Математическое ожидание среднего арифметического одинаково распределенных взаимно независимых случайных величин равно математическому ожиданию $a$ каждой из величин: $M(\\bar{X})=a$\n",
    "\n",
    "2) Дисперсия среднего арифметического $n$ одинаково распределенных взаимно независимых случайных величин в $n$ раз меньше дисперсии $D$ каждой из величин: $\\displaystyle D(\\bar{X})=\\frac{D}{n}$\n",
    "\n",
    "3) Среднее квадратическое отклонение среднего арифметического $n$ одинаково распределенных взаимно независимых случайных величин в $\\sqrt{n}$ раз меньше среднего квадратического отклонения $\\sigma$ каждой из величин: $\\displaystyle \\sigma(\\bar{X}) = \\frac{\\sigma}{\\sqrt{n}}$\n",
    "\n",
    "**Среднее арифметическое достаточно большого числа взаимно независимых случайных величин имеет значительно меньшее рассеяние, чем каждая отдельная величина.**"
   ]
  },
  {
   "cell_type": "markdown",
   "id": "6b098ef7",
   "metadata": {},
   "source": [
    "___\n",
    "### <font color = MediumBlue size = 4> <b>Начальные и центральные теоретические моменты</b> </font>\n",
    "\n",
    "<u>**Начальным моментом порядка $k$**</u> случайной величины $X$ называют математическое ожидание величины $X$: \\\n",
    "$\\nu_k = M(X^k)$\n",
    "<br>\n",
    "\n",
    "$\\nu_1 = M(X) \\\\\n",
    "\\nu_2 = M(X^2) \\\\\n",
    "D(X) = \\nu_2-\\nu_1^2$\n",
    "<br><br>\n",
    "\n",
    "<u>**Центральным моментом порядка $k$**</u> случайной величины $X$ называют математическое ожидание величины $(X-M(X))^k$:\n",
    "$\\mu_k = M[(X-M(X))^k]$\n",
    "<br>\n",
    "\n",
    "$\\mu_1 = M[(X-M(X))] = 0 \\\\\n",
    "\\mu_2 = M[(X-M(X))^2] = D(X) \\\\\n",
    "\\mu_2 = \\nu_2-\\nu_1^2$\n"
   ]
  },
  {
   "cell_type": "markdown",
   "id": "b492685d",
   "metadata": {},
   "source": [
    "___\n",
    "### <font color = MediumBlue size = 4> <b>Многоугольник и функция распределения дискретной случайной величины</b> </font>\n",
    "\n",
    "<u>**Многоугольником</u> распределения вероятностей** дискретной случйаной величины называют ломаную, звенья которой соединяют соседние точки $(x_i;p_i)$.\n",
    "\n",
    "Функция распределения случайной величины: \\\n",
    "$F(X)=P(X<x)$, где \\\n",
    "$P(X<x)$ – вероятность того, что случайная величина  примет значение, меньше, чем переменная $x \\in \\mathbb R$.\n",
    "\n",
    "**Свойтсва функции распределения**:\n",
    "1) Значения функции распределения принадлежат отрезку $[0,1]$: $0 \\leq F(x) \\leq 1$\n",
    "\n",
    "2) $F(x)$ – неубывающая функция: $F(x_2) \\geq F(x_1)$, если $x_2 > x_1$"
   ]
  },
  {
   "cell_type": "markdown",
   "id": "a6cb7ecf",
   "metadata": {},
   "source": [
    "***\n",
    "## <font color = DarkGreen size = 5> <b>Распределения дискретной случайной величины</b> </font>\n",
    "\n",
    "***\n",
    "### <font color = MediumBlue size = 4> <b>Биномиальное распределение вероятностей</b> </font>\n",
    "\n",
    "Пусть проводится $n$ **независимых испытаний**, в каждом из которых случайное событие $A$ может появиться с вероятностью $p$. Тогда случайная величина $X$ – число появлений события $A$ в данной серии испытаний, имеет биномиальное распределение.\n",
    "\n",
    "Понятно, что эта случайная величина может принять одно из следующих значений: $x_0=0, x_1=1, x_2=2, \\ldots, x_n=n$.\n",
    "\n",
    "Соответствующие вероятности определяются формулой Бернулли: \\\n",
    "$\\displaystyle p_i = P_n^{x_i} = C_n^{x_i}p^{x_i}q^{n-x_i}$, где \\\n",
    "$n$ – количество независимых испытаний \\\n",
    "$p$ – вероятность появления события $A$ в каждом испытании \\\n",
    "$q=1-p$ – вероятность **не**появления события $A$ в каждом испытании \\\n",
    "$x_i=\\{0,1,2,\\ldots,n\\}$ – сколько раз может появиться событие $A$ в данной серии испытаний\n",
    "\n",
    "\n",
    "<table border=\"1\" bordercolor=\"grey\" width=\"700\">\n",
    "    <tr>\n",
    "        <td rowspan = 2>$X$</td>\n",
    "        <td>$x_i$</td>\n",
    "        <td>$0$</td>\n",
    "        <td>$1$</td>\n",
    "        <td>$2$</td>\n",
    "        <td>$\\ldots$</td>\n",
    "        <td>$n-1$</td>\n",
    "        <td>$n$</td>\n",
    "    </tr>\n",
    "    <tr>\n",
    "        <td>$p_i$</td>\n",
    "        <td>$C_n^{0}p^{0}q^{n}$</td>\n",
    "        <td>$C_n^{1}p^{1}q^{n-1}$</td>\n",
    "        <td>$C_n^{2}p^{2}q^{n-2}$</td>\n",
    "        <td>$\\ldots$</td>\n",
    "        <td>$C_n^{n-1}p^{n-1}q^{1}$</td>\n",
    "        <td>$C_n^{n}p^{n}q^{0}$</td>\n",
    "    </tr>\n",
    "</table>\n",
    "<br>\n",
    "\n",
    "Вероятности $p_i$ представляют собой **члены бинома Ньютона**. По формуле бинома:\n",
    "$C_n^{0}p^{0}q^{n} + C_n^{1}p^{1}q^{n-1} + C_n^{2}p^{2}q^{n-2} + \\ldots + C_n^{n-1}p^{n-1}q^{1} + C_n^{n}p^{n}q^{0} = (q+p)^n = 1^n = 1$\n"
   ]
  },
  {
   "cell_type": "code",
   "execution_count": 2,
   "id": "fc1b73eb",
   "metadata": {},
   "outputs": [
    {
     "data": {
      "image/png": "[encoded data removed]",
      "text/plain": [
       "<Figure size 640x480 with 1 Axes>"
      ]
     },
     "metadata": {},
     "output_type": "display_data"
    }
   ],
   "source": [
    "n, p = 5, 0.4\n",
    "rv = stats.binom(n, p)\n",
    "\n",
    "x = np.arange(rv.ppf(0.01), rv.ppf(0.99))\n",
    "\n",
    "plt.plot(x, rv.pmf(x), 'bo', ms=6)\n",
    "plt.vlines(x, 0, rv.pmf(x), colors='b', lw=3, alpha=0.5);"
   ]
  },
  {
   "cell_type": "markdown",
   "id": "41c3ca9b",
   "metadata": {},
   "source": [
    "___\n",
    "### <font color = MediumBlue size = 4> <b>Распределение и формула Пуассона</b> </font>\n",
    "\n",
    "Пусть производится $n$ независимых испытаний, в каждом из которых вероятность появления события равна $p$.\n",
    "Если количество испытаний $n$ достаточно велико, а вероятность $p$ появления события $A$ в отдельно взятом испытании весьма мала ($<0.1$), то вероятность того, что в данной серии испытаний событие $A$ появится ровно $m$ раз, можно приближенно вычислить по формуле Пуассона: \\\n",
    "$\\displaystyle P_m\\approx \\frac{λ^m}{m!}\\cdot e^{-λ}$, где $λ = np$ - среднее количество наступления события за определенную единицу измерений.\n",
    "\n",
    ">В теории установлено, что **математическое ожидание** пуассоновской случайной величины равно $M(X)=\\lambda$ и **дисперсия** – тому же самому значению $D(X)=\\lambda$."
   ]
  },
  {
   "cell_type": "code",
   "execution_count": 3,
   "id": "0fb43e94",
   "metadata": {},
   "outputs": [
    {
     "data": {
      "image/png": "[encoded data removed]",
      "text/plain": [
       "<Figure size 640x480 with 1 Axes>"
      ]
     },
     "metadata": {},
     "output_type": "display_data"
    }
   ],
   "source": [
    "mu = 0.9\n",
    "rv = stats.poisson(mu)\n",
    "\n",
    "x = np.arange(rv.ppf(0.01), rv.ppf(0.99))\n",
    "\n",
    "plt.plot(x, rv.pmf(x), 'bo', ms=6)\n",
    "plt.vlines(x, 0, rv.pmf(x), colors='b', lw=3, alpha=0.5);"
   ]
  },
  {
   "cell_type": "markdown",
   "id": "32c96482",
   "metadata": {},
   "source": [
    "___\n",
    "### <font color = MediumBlue size = 4> <b>Геометрическое распределение вероятностей</b> </font>\n",
    "\n",
    "Пусть проводится серия испытаний, в каждом из которых случайное событие $A$ может появиться с вероятностью $p$, причём, испытания заканчиваются при первом же появлении данного события. Тогда случайная величина $X$, характеризующая количество совершённых попыток, имеет геометрическое распределение.\n",
    "\n",
    "Дискретная случайная величина, которая  принимает бесконечное и счётное количество значений. В общем виде её закон распределения записывается следующим образом: $P(X=n)=q^{n-1}p$\n",
    "\n",
    "<table border=\"1\" bordercolor=\"grey\" width=\"500\">\n",
    "    <tr>\n",
    "        <td rowspan = 2>$X$</td>\n",
    "        <td>$x_i$</td>\n",
    "        <td>$1$</td>\n",
    "        <td>$2$</td>\n",
    "        <td>$3$</td>\n",
    "        <td>$\\ldots$</td>\n",
    "        <td>$n$</td>\n",
    "        <td>$\\ldots$</td>\n",
    "    </tr>\n",
    "    <tr>\n",
    "        <td>$x_i$</td>\n",
    "        <td>$q^0p$</td>\n",
    "        <td>$q^1p$</td>\n",
    "        <td>$q^2p$</td>\n",
    "        <td>$\\ldots$</td>\n",
    "        <td>$q^{n-1}p$</td>\n",
    "        <td>$\\ldots$</td>\n",
    "    </tr>\n",
    "</table>\n",
    "\n",
    "Вероятности $p_i$ представляют собой **бесконечно убывающую геометрическую прогрессию** с первым членом $p$ и основанием $q$. \\\n",
    "Как известно, сумма такой прогрессии равна: $\\displaystyle p+qp+q^2p+q^3p+\\ldots=\\frac{p}{1-q}=\\frac{p}{p}=1$"
   ]
  },
  {
   "cell_type": "code",
   "execution_count": 4,
   "id": "4cf55563",
   "metadata": {},
   "outputs": [
    {
     "data": {
      "image/png": "[encoded data removed]",
      "text/plain": [
       "<Figure size 640x480 with 1 Axes>"
      ]
     },
     "metadata": {},
     "output_type": "display_data"
    }
   ],
   "source": [
    "p = 0.2\n",
    "rv = stats.geom(p)\n",
    "\n",
    "x = np.arange(rv.ppf(0.01), rv.ppf(0.99))\n",
    "\n",
    "plt.plot(x, rv.pmf(x), 'bo', ms=6)\n",
    "plt.vlines(x, 0, rv.pmf(x), colors='b', lw=3, alpha=0.5);"
   ]
  },
  {
   "cell_type": "markdown",
   "id": "9ead8710",
   "metadata": {},
   "source": [
    "___\n",
    "### <font color = MediumBlue size = 4> <b>Гипергеометрическое распределение вероятностей</b> </font>\n",
    "\n",
    "Пусть в совокупности из $N$ объектов содержатся $M$ бъектов, обладающие некоторым признаком ($M<N$). Из этой совокупности случайным образом и без возвращения извлекается $n$ объектов. Тогда случайная величина $X$ – количество $m$ «особых» объектов в выборке – распределена по гипергеометрическому закону.\n",
    "\n",
    "Искомая вероятность равна отношению числа исходов, благоприятствующих событию $X=m$, к числу всех элементарных исходов: \\\n",
    "$\\displaystyle P(X=m) = \\frac{C_M^m C_{N-M}^{n-m}}{C_N^n}$"
   ]
  },
  {
   "cell_type": "code",
   "execution_count": 5,
   "id": "bc9c254d",
   "metadata": {},
   "outputs": [
    {
     "data": {
      "image/png": "[encoded data removed]",
      "text/plain": [
       "<Figure size 640x480 with 1 Axes>"
      ]
     },
     "metadata": {},
     "output_type": "display_data"
    }
   ],
   "source": [
    "M, n, N = 20, 7, 12\n",
    "rv = stats.hypergeom(M, n, N)\n",
    "\n",
    "x = np.arange(0, n+1)\n",
    "pmf_dogs = rv.pmf(x)\n",
    "\n",
    "plt.plot(x, pmf_dogs, 'bo', ms=6)\n",
    "plt.vlines(x, 0, pmf_dogs, colors='b', lw=3, alpha=0.5);"
   ]
  },
  {
   "cell_type": "code",
   "execution_count": null,
   "id": "2d94bd8d",
   "metadata": {},
   "outputs": [],
   "source": []
  }
 ],
 "metadata": {
  "kernelspec": {
   "display_name": "Python 3 (ipykernel)",
   "language": "python",
   "name": "python3"
  },
  "language_info": {
   "codemirror_mode": {
    "name": "ipython",
    "version": 3
   },
   "file_extension": ".py",
   "mimetype": "text/x-python",
   "name": "python",
   "nbconvert_exporter": "python",
   "pygments_lexer": "ipython3",
   "version": "3.9.13"
  }
 },
 "nbformat": 4,
 "nbformat_minor": 5
}
