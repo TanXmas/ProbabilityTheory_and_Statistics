{
 "cells": [
  {
   "cell_type": "markdown",
   "id": "8041e900",
   "metadata": {},
   "source": [
    "# <font color = Crimson size = 6> <b>Гипотеза о законе распределения генеральной совокупности</b> </font>"
   ]
  },
  {
   "cell_type": "code",
   "execution_count": 1,
   "id": "dc6bab91",
   "metadata": {},
   "outputs": [],
   "source": [
    "import numpy as np\n",
    "import pandas as pd\n",
    "\n",
    "from scipy import stats\n",
    "\n",
    "import matplotlib.pyplot as plt"
   ]
  },
  {
   "cell_type": "markdown",
   "id": "a6d5f2c8",
   "metadata": {},
   "source": [
    "Рассмотрим **генеральную совокупность**, распределение которой неизвестно. Однако есть основание полагать, что она распределена по некоторому закону $Z$ (чаще всего, нормально). Это предположение может появиться как до, так и в результате статистического исследования, когда мы извлекли и изучили выборку объёма $n$.\n",
    "\n",
    "И нам требуется на уровне значимости $\\alpha$ проверить нулевую гипотезу $H_0$ – о том, что генеральная совокупность распределена по закону $Z$ против конкурирующей гипотезы $H_1$ о том, что она по нему НЕ распределена.\n",
    "<br><br>\n",
    "\n",
    "Выборочные данные группируются в дискретный или интервальный вариационный ряд с вариантами $x_i$ и соответствующими частотами $n_i$.\n",
    "<img src=\"./img/st_07_image1.png\" width=\"\"/>\n",
    "\n",
    "Поскольку эти данные взяты из практического опыта, то выборочный вариационный ряд называют <u>**эмпирическим рядом**</u>, а частоты $n_i$ – <u>**эмпирическими частотами**</u>.\n",
    "<br><br>\n",
    "\n",
    "\n",
    "Далее строятся графики, рассчитываются выборочные характеристики: выборочная средняя $\\bar{x_e}$, выборочная дисперсия $\\sigma_e^2$ и другие.\n",
    "<br><br>\n",
    "\n",
    "\n",
    "На основе некоторых выборочных характеристик по специальным формулам, которые зависят от проверяемого закона $Z$, строится **теоретическое распределение**, где для тех же вариант $x_1,x_2,\\ldots,x_m$ рассчитываются **теоретические частоты** $n'_1,n'_2,\\ldots,n'_m$. Теоретические частоты моделируют закон $Z$ и наилучшим образом приближают эмпирические данные, при этом их сумма $\\sum{n'_i}$ чуть меньше либо равна сумме эмпирических частот $\\sum{n_i}=n$.\n",
    "\n",
    ">*Чуть меньше* бывает в тех случаях, когда теоретическое распределение бесконечно (а эмпирическое всегда конечно).\\\n",
    "Данным расхождением между суммами, как правило, пренебрегают\n",
    "\n",
    "<br>\n",
    "\n",
    "**Значимо** или **незначимо** различие между эмпирическими $n_1,n_2,\\ldots,n_m$ и соответствующими теоретическими $n'_1,n'_2,\\ldots,n'_m$ частотами? \\\n",
    "Для ответа на это вопрос рассматривают различные статистические критерии, которые называют **критериями согласия**, и наиболее популярный из них разработал Карл Пирсон."
   ]
  },
  {
   "cell_type": "markdown",
   "id": "067c5d65",
   "metadata": {},
   "source": [
    "***\n",
    "## <font color = DarkGreen size = 5> <b>Критерий согласия Пирсона</b> </font>\n",
    "\n",
    "$\\displaystyle \\chi^2 = \\sum{\\frac{(n_i-n'_i)^2}{n'_i}}$\n",
    "\n",
    "При достаточно большом объёме выборки $n$ распределение этой случайной величины близкО к распределению хи-квадрат с количеством степеней свободы $k=m-r-1$, где $r$ – количество оцениваемых параметров закона $Z$.\n",
    "<br><br>\n",
    "\n",
    "\n",
    "Далее строится правосторонняя критическая область:\n",
    "<img src=\"./img/st_07_image2.png\" width=\"\"/>\n",
    "\n",
    "Критическое значение: $\\chi_к^2 = \\chi^2(\\alpha,k)$\n",
    "\n",
    "Наблюдаемое значение критерия рассчитывается по эмпирическим и найденным теоретическим частотам:\\\n",
    "$\\displaystyle \\chi_н^2 = \\sum_{i=1}^{m}{\\frac{(n_i-n'_i)^2}{n'_i}}$\n",
    "\n",
    "Если $\\chi_н^2 < \\chi_к^2$, то на уровне значимости $\\alpha$ нет оснований отвергать гипотезу $H_0$ о том, что генеральная совокупность распределена по закону $Z$. То есть, различие между эмпирическими и теоретическими частотами незначимо и обусловлено случайными факторами (случайностью самой выборки, способом группировки данных и т.д.)\n",
    "\n",
    "Если $\\chi_н^2 < \\chi_к^2$, то нулевую гипотезу отвергаем, иными словами эмпирические и теоретические частоты отличаются значимо, и это различие вряд ли случайно."
   ]
  },
  {
   "cell_type": "markdown",
   "id": "5136af0e",
   "metadata": {},
   "source": [
    "##### <font color = SlateBlue size = 3> Пример </font>\n",
    "\n",
    "По результатам выборочного исследования найдено распределение средних удоев молока в фермерском хозяйстве (литров) от одной коровы за день:\n",
    "\n",
    "| Литры | 7.5-10.5 | 10.5-13.5 | 13.5-16.5 | 16.5-19.5 | 19.5-22.5 | 22.5-25.5 | 25.5-28.5 | 28.5-31.5 | 31.5-34.5 |\n",
    "|:-----|:-----:|:-----:|:-----:|:-----:|:-----:|:-----:|:-----:|:-----:|:-----:|\n",
    "| Коров | 2 | 6 | 10 | 17 | 33 | 11 | 9 | 7 | 5 |\n",
    "\n",
    "На уровне значимости $0,05$ проверить гипотезу о том, что генеральная совокупность (средний удой коров всей фермы) распределена нормально. Построить эмпирическую гистограмму и теоретическую кривую."
   ]
  },
  {
   "cell_type": "markdown",
   "id": "420205e2",
   "metadata": {},
   "source": [
    "На уровне значимости $\\alpha$ проверим гипотезу $H_0$ о нормальном распределении генеральной совокупности против конкурирующей гипотезы $H_1$ о том, что она так НЕ распределена.\\\n",
    "Используем критерий согласия Пирсона: $\\displaystyle \\chi^2 = \\sum{\\frac{(n_i-n'_i)^2}{n'_i}}$\n",
    "\n",
    "Эмпирические частоты известны из предложенного интервального ряда, и осталось найти теоретические. Для этого нужно вычислить выборочную среднюю $\\bar{x_e}$ и выборочное стандартное отклонение $\\sigma_e$.\\\n",
    "Выберем в качестве вариант $x_i$ середины частичных интервалов (длина каждого интервала $h=3$)."
   ]
  },
  {
   "cell_type": "code",
   "execution_count": 2,
   "id": "e783d759",
   "metadata": {},
   "outputs": [
    {
     "data": {
      "text/html": [
       "<div>\n",
       "<style scoped>\n",
       "    .dataframe tbody tr th:only-of-type {\n",
       "        vertical-align: middle;\n",
       "    }\n",
       "\n",
       "    .dataframe tbody tr th {\n",
       "        vertical-align: top;\n",
       "    }\n",
       "\n",
       "    .dataframe thead th {\n",
       "        text-align: right;\n",
       "    }\n",
       "</style>\n",
       "<table border=\"1\" class=\"dataframe\">\n",
       "  <thead>\n",
       "    <tr style=\"text-align: right;\">\n",
       "      <th></th>\n",
       "      <th>intL</th>\n",
       "      <th>intR</th>\n",
       "      <th>ni</th>\n",
       "      <th>xi</th>\n",
       "      <th>xini</th>\n",
       "      <th>xi2ni</th>\n",
       "    </tr>\n",
       "  </thead>\n",
       "  <tbody>\n",
       "    <tr>\n",
       "      <th>0</th>\n",
       "      <td>7.5</td>\n",
       "      <td>10.5</td>\n",
       "      <td>2</td>\n",
       "      <td>9.0</td>\n",
       "      <td>18.0</td>\n",
       "      <td>162.0</td>\n",
       "    </tr>\n",
       "    <tr>\n",
       "      <th>1</th>\n",
       "      <td>10.5</td>\n",
       "      <td>13.5</td>\n",
       "      <td>6</td>\n",
       "      <td>12.0</td>\n",
       "      <td>72.0</td>\n",
       "      <td>864.0</td>\n",
       "    </tr>\n",
       "    <tr>\n",
       "      <th>2</th>\n",
       "      <td>13.5</td>\n",
       "      <td>16.5</td>\n",
       "      <td>10</td>\n",
       "      <td>15.0</td>\n",
       "      <td>150.0</td>\n",
       "      <td>2250.0</td>\n",
       "    </tr>\n",
       "    <tr>\n",
       "      <th>3</th>\n",
       "      <td>16.5</td>\n",
       "      <td>19.5</td>\n",
       "      <td>17</td>\n",
       "      <td>18.0</td>\n",
       "      <td>306.0</td>\n",
       "      <td>5508.0</td>\n",
       "    </tr>\n",
       "    <tr>\n",
       "      <th>4</th>\n",
       "      <td>19.5</td>\n",
       "      <td>22.5</td>\n",
       "      <td>33</td>\n",
       "      <td>21.0</td>\n",
       "      <td>693.0</td>\n",
       "      <td>14553.0</td>\n",
       "    </tr>\n",
       "    <tr>\n",
       "      <th>5</th>\n",
       "      <td>22.5</td>\n",
       "      <td>25.5</td>\n",
       "      <td>11</td>\n",
       "      <td>24.0</td>\n",
       "      <td>264.0</td>\n",
       "      <td>6336.0</td>\n",
       "    </tr>\n",
       "    <tr>\n",
       "      <th>6</th>\n",
       "      <td>25.5</td>\n",
       "      <td>28.5</td>\n",
       "      <td>9</td>\n",
       "      <td>27.0</td>\n",
       "      <td>243.0</td>\n",
       "      <td>6561.0</td>\n",
       "    </tr>\n",
       "    <tr>\n",
       "      <th>7</th>\n",
       "      <td>28.5</td>\n",
       "      <td>31.5</td>\n",
       "      <td>7</td>\n",
       "      <td>30.0</td>\n",
       "      <td>210.0</td>\n",
       "      <td>6300.0</td>\n",
       "    </tr>\n",
       "    <tr>\n",
       "      <th>8</th>\n",
       "      <td>31.5</td>\n",
       "      <td>34.5</td>\n",
       "      <td>5</td>\n",
       "      <td>33.0</td>\n",
       "      <td>165.0</td>\n",
       "      <td>5445.0</td>\n",
       "    </tr>\n",
       "  </tbody>\n",
       "</table>\n",
       "</div>"
      ],
      "text/plain": [
       "   intL  intR  ni    xi   xini    xi2ni\n",
       "0   7.5  10.5   2   9.0   18.0    162.0\n",
       "1  10.5  13.5   6  12.0   72.0    864.0\n",
       "2  13.5  16.5  10  15.0  150.0   2250.0\n",
       "3  16.5  19.5  17  18.0  306.0   5508.0\n",
       "4  19.5  22.5  33  21.0  693.0  14553.0\n",
       "5  22.5  25.5  11  24.0  264.0   6336.0\n",
       "6  25.5  28.5   9  27.0  243.0   6561.0\n",
       "7  28.5  31.5   7  30.0  210.0   6300.0\n",
       "8  31.5  34.5   5  33.0  165.0   5445.0"
      ]
     },
     "execution_count": 2,
     "metadata": {},
     "output_type": "execute_result"
    }
   ],
   "source": [
    "df = pd.DataFrame({'intL': [7.5, 10.5, 13.5, 16.5, 19.5, 22.5, 25.5, 28.5, 31.5],\n",
    "                   'intR': [10.5, 13.5, 16.5, 19.5, 22.5, 25.5, 28.5, 31.5, 34.5],\n",
    "                   'ni': [2, 6, 10, 17, 33, 11, 9, 7, 5]})\n",
    "\n",
    "h = 3\n",
    "df['xi'] = df['intL'] + h/2\n",
    "df['xini'] = df['xi'] * df['ni']\n",
    "df['xi2ni'] = df['xi']**2 * df['ni']\n",
    "df"
   ]
  },
  {
   "cell_type": "code",
   "execution_count": 3,
   "id": "617505b6",
   "metadata": {},
   "outputs": [
    {
     "data": {
      "text/plain": [
       "21.21"
      ]
     },
     "execution_count": 3,
     "metadata": {},
     "output_type": "execute_result"
    }
   ],
   "source": [
    "X = []\n",
    "for i, row in df.iterrows():\n",
    "    n = 0\n",
    "    while n < row['ni']:\n",
    "        X.append(row['xi'])\n",
    "        n += 1\n",
    "\n",
    "n = sum(df['ni'])\n",
    "xe = sum(df['xini']) / n\n",
    "xe"
   ]
  },
  {
   "cell_type": "code",
   "execution_count": 4,
   "id": "399605a1",
   "metadata": {},
   "outputs": [
    {
     "data": {
      "text/plain": [
       "5.470457019299211"
      ]
     },
     "execution_count": 4,
     "metadata": {},
     "output_type": "execute_result"
    }
   ],
   "source": [
    "# смещенная дисперсия\n",
    "#De = sum(df['xi2ni']) / n - xe**2\n",
    "#De = np.var(X)\n",
    "#print(f'{De = }')\n",
    "\n",
    "# смещенное стандартное отклонение\n",
    "#sd = np.sqrt(De)\n",
    "sd = np.std(X)\n",
    "sd"
   ]
  },
  {
   "cell_type": "markdown",
   "id": "07b3d179",
   "metadata": {},
   "source": [
    "Теоретические частоты рассчитываются по формуле: \\\n",
    "$n'_i = \\cfrac{h \\cdot n}{\\sigma_e} \\cdot f(z_i)$, где \n",
    "$f(z)=\\cfrac{1}{\\sqrt{2\\pi}} \\cdot e^{-\\frac{z^2}{2}}$ – функция Гаусса, \n",
    "$z_i = \\cfrac{x_i-\\bar{x_e}}{\\sigma_e}$\n",
    "\n"
   ]
  },
  {
   "cell_type": "code",
   "execution_count": 5,
   "id": "c2bcffcc",
   "metadata": {},
   "outputs": [
    {
     "name": "stdout",
     "output_type": "stream",
     "text": [
      "98.75\n"
     ]
    },
    {
     "data": {
      "text/html": [
       "<div>\n",
       "<style scoped>\n",
       "    .dataframe tbody tr th:only-of-type {\n",
       "        vertical-align: middle;\n",
       "    }\n",
       "\n",
       "    .dataframe tbody tr th {\n",
       "        vertical-align: top;\n",
       "    }\n",
       "\n",
       "    .dataframe thead th {\n",
       "        text-align: right;\n",
       "    }\n",
       "</style>\n",
       "<table border=\"1\" class=\"dataframe\">\n",
       "  <thead>\n",
       "    <tr style=\"text-align: right;\">\n",
       "      <th></th>\n",
       "      <th>intL</th>\n",
       "      <th>intR</th>\n",
       "      <th>ni</th>\n",
       "      <th>xi</th>\n",
       "      <th>xini</th>\n",
       "      <th>xi2ni</th>\n",
       "      <th>zi</th>\n",
       "      <th>fzi</th>\n",
       "      <th>n'i</th>\n",
       "    </tr>\n",
       "  </thead>\n",
       "  <tbody>\n",
       "    <tr>\n",
       "      <th>0</th>\n",
       "      <td>7.5</td>\n",
       "      <td>10.5</td>\n",
       "      <td>2</td>\n",
       "      <td>9.0</td>\n",
       "      <td>18.0</td>\n",
       "      <td>162.0</td>\n",
       "      <td>-2.2320</td>\n",
       "      <td>0.033046</td>\n",
       "      <td>1.81</td>\n",
       "    </tr>\n",
       "    <tr>\n",
       "      <th>1</th>\n",
       "      <td>10.5</td>\n",
       "      <td>13.5</td>\n",
       "      <td>6</td>\n",
       "      <td>12.0</td>\n",
       "      <td>72.0</td>\n",
       "      <td>864.0</td>\n",
       "      <td>-1.6836</td>\n",
       "      <td>0.096695</td>\n",
       "      <td>5.30</td>\n",
       "    </tr>\n",
       "    <tr>\n",
       "      <th>2</th>\n",
       "      <td>13.5</td>\n",
       "      <td>16.5</td>\n",
       "      <td>10</td>\n",
       "      <td>15.0</td>\n",
       "      <td>150.0</td>\n",
       "      <td>2250.0</td>\n",
       "      <td>-1.1352</td>\n",
       "      <td>0.209448</td>\n",
       "      <td>11.49</td>\n",
       "    </tr>\n",
       "    <tr>\n",
       "      <th>3</th>\n",
       "      <td>16.5</td>\n",
       "      <td>19.5</td>\n",
       "      <td>17</td>\n",
       "      <td>18.0</td>\n",
       "      <td>306.0</td>\n",
       "      <td>5508.0</td>\n",
       "      <td>-0.5868</td>\n",
       "      <td>0.335845</td>\n",
       "      <td>18.42</td>\n",
       "    </tr>\n",
       "    <tr>\n",
       "      <th>4</th>\n",
       "      <td>19.5</td>\n",
       "      <td>22.5</td>\n",
       "      <td>33</td>\n",
       "      <td>21.0</td>\n",
       "      <td>693.0</td>\n",
       "      <td>14553.0</td>\n",
       "      <td>-0.0384</td>\n",
       "      <td>0.398648</td>\n",
       "      <td>21.86</td>\n",
       "    </tr>\n",
       "    <tr>\n",
       "      <th>5</th>\n",
       "      <td>22.5</td>\n",
       "      <td>25.5</td>\n",
       "      <td>11</td>\n",
       "      <td>24.0</td>\n",
       "      <td>264.0</td>\n",
       "      <td>6336.0</td>\n",
       "      <td>0.5100</td>\n",
       "      <td>0.350292</td>\n",
       "      <td>19.21</td>\n",
       "    </tr>\n",
       "    <tr>\n",
       "      <th>6</th>\n",
       "      <td>25.5</td>\n",
       "      <td>28.5</td>\n",
       "      <td>9</td>\n",
       "      <td>27.0</td>\n",
       "      <td>243.0</td>\n",
       "      <td>6561.0</td>\n",
       "      <td>1.0584</td>\n",
       "      <td>0.227855</td>\n",
       "      <td>12.50</td>\n",
       "    </tr>\n",
       "    <tr>\n",
       "      <th>7</th>\n",
       "      <td>28.5</td>\n",
       "      <td>31.5</td>\n",
       "      <td>7</td>\n",
       "      <td>30.0</td>\n",
       "      <td>210.0</td>\n",
       "      <td>6300.0</td>\n",
       "      <td>1.6068</td>\n",
       "      <td>0.109718</td>\n",
       "      <td>6.02</td>\n",
       "    </tr>\n",
       "    <tr>\n",
       "      <th>8</th>\n",
       "      <td>31.5</td>\n",
       "      <td>34.5</td>\n",
       "      <td>5</td>\n",
       "      <td>33.0</td>\n",
       "      <td>165.0</td>\n",
       "      <td>5445.0</td>\n",
       "      <td>2.1552</td>\n",
       "      <td>0.039110</td>\n",
       "      <td>2.14</td>\n",
       "    </tr>\n",
       "  </tbody>\n",
       "</table>\n",
       "</div>"
      ],
      "text/plain": [
       "   intL  intR  ni    xi   xini    xi2ni      zi       fzi    n'i\n",
       "0   7.5  10.5   2   9.0   18.0    162.0 -2.2320  0.033046   1.81\n",
       "1  10.5  13.5   6  12.0   72.0    864.0 -1.6836  0.096695   5.30\n",
       "2  13.5  16.5  10  15.0  150.0   2250.0 -1.1352  0.209448  11.49\n",
       "3  16.5  19.5  17  18.0  306.0   5508.0 -0.5868  0.335845  18.42\n",
       "4  19.5  22.5  33  21.0  693.0  14553.0 -0.0384  0.398648  21.86\n",
       "5  22.5  25.5  11  24.0  264.0   6336.0  0.5100  0.350292  19.21\n",
       "6  25.5  28.5   9  27.0  243.0   6561.0  1.0584  0.227855  12.50\n",
       "7  28.5  31.5   7  30.0  210.0   6300.0  1.6068  0.109718   6.02\n",
       "8  31.5  34.5   5  33.0  165.0   5445.0  2.1552  0.039110   2.14"
      ]
     },
     "execution_count": 5,
     "metadata": {},
     "output_type": "execute_result"
    }
   ],
   "source": [
    "df['zi'] = round((df['xi'] - xe) / sd,4)\n",
    "df['fzi'] = stats.norm.pdf(df['zi'])\n",
    "df[\"n'i\"] = round(h * n * df['fzi'] / sd,2)\n",
    "print(sum(df[\"n'i\"]))\n",
    "\n",
    "df"
   ]
  },
  {
   "cell_type": "code",
   "execution_count": 6,
   "id": "29ef0904",
   "metadata": {},
   "outputs": [
    {
     "data": {
      "image/png": "[encoded data removed]",
      "text/plain": [
       "<Figure size 400x400 with 1 Axes>"
      ]
     },
     "metadata": {},
     "output_type": "display_data"
    }
   ],
   "source": [
    "from scipy.interpolate import make_interp_spline\n",
    "\n",
    "# Создаем оси\n",
    "x_points = df['xi']\n",
    "y_points = df['ni']\n",
    "\n",
    "# Создаем plot\n",
    "fig, ax = plt.subplots(figsize=(4, 4))\n",
    "\n",
    "# Наводим красоту\n",
    "ax.bar(x_points, y_points, width=3, color = 'lightblue')\n",
    "\n",
    "# Сгладить график\n",
    "Xline = np.linspace(df['xi'].min(), df['xi'].max(), 200)\n",
    "spl = make_interp_spline(df['xi'], df[\"n'i\"], k=2)\n",
    "Ysmooth = spl(Xline)\n",
    "\n",
    "plt.plot(Xline, Ysmooth, color='red')\n",
    "plt.show()"
   ]
  },
  {
   "cell_type": "markdown",
   "id": "3d5958b1",
   "metadata": {},
   "source": [
    "Высота «ступенек» равна частотам $n_i$. Нормальная кривая построена на основе выборочных данных (выборочной средней и стандартного отклонения), она проходит через точки $(x_i,n'_i)$ и наилучшим образом приближает гистограмму. При этом сумма теоретических частот $\\sum{n'_i} \\approx 98.75$ оказалась чуть меньше объёма выборки $\\sum{n_i}=100$. Это объяснимо тем, что эмпирическая гистограмма конечна, а нормальная кривая – бесконечна, и небольшой «недобор» теоретических частот приходится на участки, лежащие слева и справа от гистограммы.\n",
    "\n",
    "Дальнейшая задача состоит в том, чтобы оценить, насколько ЗНАЧИМО отличаются эмпирические частоты от соответствующих теоретических частот.\n",
    "\n",
    "Но перед тем, как сравнивать теоретические и эмпирические частоты, следует объединить интервалы с малыми (меньше пяти) частотами. В данном случае объединяем два первых и два последних интервала.\n",
    "\n",
    "> Это нужно для того, чтобы сгладить неоправданно большое расхождением между малыми частотами по краям выборки. Действие не обязательное, но крайне желательное.\n",
    "\n",
    "Вычислим наблюдаемое значение критерия $\\displaystyle \\chi_н^2 = \\sum_{i=1}^{m}{\\frac{(n_i-n'_i)^2}{n'_i}}$ (сумма расхождений между частотами)"
   ]
  },
  {
   "cell_type": "code",
   "execution_count": 7,
   "id": "0fa49bac",
   "metadata": {},
   "outputs": [
    {
     "name": "stdout",
     "output_type": "stream",
     "text": [
      "Chi = 12.387\n"
     ]
    },
    {
     "data": {
      "text/html": [
       "<div>\n",
       "<style scoped>\n",
       "    .dataframe tbody tr th:only-of-type {\n",
       "        vertical-align: middle;\n",
       "    }\n",
       "\n",
       "    .dataframe tbody tr th {\n",
       "        vertical-align: top;\n",
       "    }\n",
       "\n",
       "    .dataframe thead th {\n",
       "        text-align: right;\n",
       "    }\n",
       "</style>\n",
       "<table border=\"1\" class=\"dataframe\">\n",
       "  <thead>\n",
       "    <tr style=\"text-align: right;\">\n",
       "      <th></th>\n",
       "      <th>ni</th>\n",
       "      <th>n'i</th>\n",
       "      <th>chi</th>\n",
       "    </tr>\n",
       "  </thead>\n",
       "  <tbody>\n",
       "    <tr>\n",
       "      <th>0</th>\n",
       "      <td>8.0</td>\n",
       "      <td>7.11</td>\n",
       "      <td>0.1114</td>\n",
       "    </tr>\n",
       "    <tr>\n",
       "      <th>1</th>\n",
       "      <td>10.0</td>\n",
       "      <td>11.49</td>\n",
       "      <td>0.1932</td>\n",
       "    </tr>\n",
       "    <tr>\n",
       "      <th>2</th>\n",
       "      <td>17.0</td>\n",
       "      <td>18.42</td>\n",
       "      <td>0.1095</td>\n",
       "    </tr>\n",
       "    <tr>\n",
       "      <th>3</th>\n",
       "      <td>33.0</td>\n",
       "      <td>21.86</td>\n",
       "      <td>5.6770</td>\n",
       "    </tr>\n",
       "    <tr>\n",
       "      <th>4</th>\n",
       "      <td>11.0</td>\n",
       "      <td>19.21</td>\n",
       "      <td>3.5088</td>\n",
       "    </tr>\n",
       "    <tr>\n",
       "      <th>5</th>\n",
       "      <td>9.0</td>\n",
       "      <td>12.50</td>\n",
       "      <td>0.9800</td>\n",
       "    </tr>\n",
       "    <tr>\n",
       "      <th>6</th>\n",
       "      <td>12.0</td>\n",
       "      <td>8.16</td>\n",
       "      <td>1.8071</td>\n",
       "    </tr>\n",
       "  </tbody>\n",
       "</table>\n",
       "</div>"
      ],
      "text/plain": [
       "     ni    n'i     chi\n",
       "0   8.0   7.11  0.1114\n",
       "1  10.0  11.49  0.1932\n",
       "2  17.0  18.42  0.1095\n",
       "3  33.0  21.86  5.6770\n",
       "4  11.0  19.21  3.5088\n",
       "5   9.0  12.50  0.9800\n",
       "6  12.0   8.16  1.8071"
      ]
     },
     "execution_count": 7,
     "metadata": {},
     "output_type": "execute_result"
    }
   ],
   "source": [
    "s1 = df[[\"ni\",\"n'i\"]].loc[0:1].sum()\n",
    "s2 = df[[\"ni\",\"n'i\"]].loc[7:8].sum()\n",
    "df_group = pd.concat([s1.to_frame().T, df[[\"ni\",\"n'i\"]].loc[2:6], s2.to_frame().T], ignore_index=True)\n",
    "\n",
    "df_group[\"chi\"] = round((df_group[\"ni\"]-df_group[\"n'i\"])**2/df_group[\"n'i\"],4)\n",
    "print(f'Chi = {sum(df_group[\"chi\"])}')\n",
    "\n",
    "df_group"
   ]
  },
  {
   "cell_type": "markdown",
   "id": "1b43ee8c",
   "metadata": {},
   "source": [
    "Найдём критическое значение $\\chi_к^2 = \\chi^2(\\alpha,k)$ критерия согласия Пирсона. \\\n",
    "Количество степеней свободы определяется по формуле $k=m-r-1$, где $m$ – количество интервалов, а $r$ – количество оцениваемых параметров рассматриваемого закона распределения. \\\n",
    "Так как мы объединяли интервалы, то теперь $m=7$. У нормального закона мы оцениваем $r=2$ параметра.\n",
    "\n",
    "> Два оцениваемых параметра: \\\n",
    "$\\bar{x_e}$ – это оценка неизвестного генерального матоожидания, \\\n",
    "$\\sigma_e$ – это оценка неизвестного генерального стандартного отклонения."
   ]
  },
  {
   "cell_type": "code",
   "execution_count": 8,
   "id": "2acbad4c",
   "metadata": {},
   "outputs": [
    {
     "name": "stdout",
     "output_type": "stream",
     "text": [
      "chi = 9.487729036781158\n"
     ]
    }
   ],
   "source": [
    "alpha = 0.05\n",
    "k = len(df_group.index) - 2 - 1\n",
    "\n",
    "chi = stats.chi2.isf(alpha, k)\n",
    "print(f'{chi = }')"
   ]
  },
  {
   "cell_type": "markdown",
   "id": "215db47d",
   "metadata": {},
   "source": [
    "Т.к. $\\chi_н^2 \\approx 12.387 > \\chi_к^2$, поэтому **на уровне значимости $0,05$ гипотезу $H_0$ о нормальном распределении генеральной совокупности отвергаем**.\n",
    "\n",
    "Иными словами **различие между эмпирическими и теоретическими частотами статистически значимо и вряд ли объяснимо случайными факторами**. При этом с вероятностью 5% мы совершили **ошибку 1-го рода** (то есть, ген. совокупность на самом деле распределена нормально, но мы это отвергли)."
   ]
  },
  {
   "cell_type": "markdown",
   "id": "72d1dcd1",
   "metadata": {},
   "source": [
    "***\n",
    "## <font color = DarkGreen size = 5> <b>Предполагаемый закон распределения</b> </font>\n",
    "\n",
    "***\n",
    "### <font color = MediumBlue size = 4> <b>Графический способ</b> </font>\n",
    "\n",
    "Для интревального вариационного ряда строится **гистограмма частот**:\n",
    "* Если построенная гистограмма по форме напоминает колоколообразный график плотности нормального распределения, то это является веской причиной предположить, что генеральная совокупность распределена нормально.\n",
    "\n",
    "* Если столбики примерно одинаковы по высоте, то предполагаем, что генеральная совокупность распределена равномерно.\n",
    "\n",
    "* Для показательного распределения будет своя, характерная гистограмма.\n",
    "\n",
    "Для дискретных распределений строится **полигон частот**."
   ]
  },
  {
   "cell_type": "markdown",
   "id": "df9110f6",
   "metadata": {},
   "source": [
    "***\n",
    "#### <font color = SteelBlue size = 3> <b>QQ-plot</b> </font>\n",
    "\n",
    "[Проверка распределения на нормальность](https://github.com/TanXmas/ProbabilityTheory_and_Statistics/blob/main/St_03_Normal%20distribution.ipynb)"
   ]
  },
  {
   "cell_type": "markdown",
   "id": "748af413",
   "metadata": {},
   "source": [
    "***\n",
    "### <font color = MediumBlue size = 4> <b>Аналитические признаки (для нормального распределения)</b> </font>\n",
    "\n",
    "1) У нормального распределения математическое ожидание совпадает с модой и медианой.\n",
    "\n",
    "2) Выполнение правила «трёх» сигм. Практически все значения нормальной случайной величины находятся в интервале $(a-3\\sigma,a+3\\sigma)$\n",
    "\n",
    "3) Коэффициенты асимметрии и эксцесса нормального распределения равны нулю.\n",
    "\n",
    "> На практике в исследование желательно включить все пункты за исключением, возможно, третьего (т.к. асимметрию и эксцесс рассчитывают далеко не всегда).\n",
    "\n",
    "Следует отметить, что перечисленные выше предпосылки ещё не означают, что соответствующая гипотеза будет принята. А если гипотеза и окажется принятой, то это всё равно на 100% не гарантирует нормальность генеральной совокупности (так как существует $\\beta$-вероятность совершить ошибку 2-го рода – принять неверную гипотезу)."
   ]
  },
  {
   "cell_type": "code",
   "execution_count": null,
   "id": "ba1065bb",
   "metadata": {},
   "outputs": [],
   "source": []
  }
 ],
 "metadata": {
  "kernelspec": {
   "display_name": "Python 3 (ipykernel)",
   "language": "python",
   "name": "python3"
  },
  "language_info": {
   "codemirror_mode": {
    "name": "ipython",
    "version": 3
   },
   "file_extension": ".py",
   "mimetype": "text/x-python",
   "name": "python",
   "nbconvert_exporter": "python",
   "pygments_lexer": "ipython3",
   "version": "3.9.13"
  }
 },
 "nbformat": 4,
 "nbformat_minor": 5
}
