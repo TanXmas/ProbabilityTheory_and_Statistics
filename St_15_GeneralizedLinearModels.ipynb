{
 "cells": [
  {
   "cell_type": "markdown",
   "id": "12db60e4",
   "metadata": {
    "pycharm": {
     "name": "#%% md\n"
    }
   },
   "source": [
    "# <font color = Crimson size = 6> <b>Обобщенные линейные модели (GLM)</b> </font>"
   ]
  },
  {
   "cell_type": "code",
   "execution_count": 1,
   "id": "7838efbf",
   "metadata": {
    "pycharm": {
     "name": "#%%\n"
    }
   },
   "outputs": [],
   "source": [
    "import numpy as np\n",
    "import pandas as pd\n",
    "\n",
    "import matplotlib.pyplot as plt\n",
    "import seaborn as sns\n",
    "\n",
    "from scipy import stats\n",
    "import statsmodels.api as sm\n",
    "import statsmodels.formula.api as smf\n",
    "\n",
    "import warnings\n",
    "warnings.filterwarnings(\"ignore\")"
   ]
  },
  {
   "cell_type": "markdown",
   "id": "5f8e8fca",
   "metadata": {
    "pycharm": {
     "name": "#%% md\n"
    }
   },
   "source": [
    "**Условия применения линейной регрессии**\n",
    "\n",
    "1. Наличие линейной зависимости между зависимой и независимой переменной.\n",
    "\n",
    "2. Нормальное распределение остатков.\n",
    "\n",
    "3. Гомоскедастичность. Однородность дисперсии остатков на всех уровнях независимой переменной.\n",
    "\n",
    "4. Нормальное распределение переменных (желательно).\n",
    "\n",
    "<img src=\"./img/st_15_image1.jpg\" alt=\"st_15_image1\" width=\"750\"/>\n",
    "\n",
    "**GLM используют, когда нарушаются условия применения линейной регрессии.**"
   ]
  },
  {
   "cell_type": "markdown",
   "id": "e1105150",
   "metadata": {
    "pycharm": {
     "name": "#%% md\n"
    }
   },
   "source": [
    "***\n",
    "## <font color = DarkGreen size = 5> <b>Общая (упрощенная) формула</b> </font>\n",
    "\n",
    "<img src=\"./img/st_15_image2.png\" alt=\"st_15_image2\" width=\"\"/>\n",
    "\n",
    "**Функция связи (Link Function)** преобразует распределение зависимой переменной так, что:\n",
    "- оно принимает значения от $-\\infty$ до $+\\infty$ <br>\n",
    "В подовляющем большинстве случаев, когда мы используем GLM, наше распределение не принимает значения из какого-то диапазона (чаще всего, когда неотрицательные значения). Т.к. коэффициенты могут быть как положительные, так и отрицательные, то линия регрессии может бесконечно двигаться в любом направлении. В том числе потенциальная регрессионная модель может предсказывать отрицательные значения для переменной, которая отрицательной быть не может никогда. И это проблематично, потому что дает нам неинтерпретируемые результаты, особенно если мы занимаемся предиктивной аналитикой. <br><br>\n",
    "- связь зависимой пременной с предикторами линейна <br><br>\n",
    "\n",
    "\n",
    "| Трансформация | Уравнение регрессии | Оценочное значение $\\hat{y}$ | Описание |\n",
    "| ----: | :-------: | :-------: | :--------- |\n",
    "| Identity $y$ |  $y = b_0 + b_1 x$  | $\\hat{y} = b_0 + b_1 x$ | Без преобразования (\"функция связи\" обычной линейной регрессии) |\n",
    "| Логарифмирование <br> $\\log{y}$ | $\\log{y} = b_0 + b_1 x$ | $\\hat{y} = 10^{b_0 + b_1 x}$ | Данные не должны быть отрицательными или нулевыми. <br> Компенсирует правостороннюю асимметрию. |\n",
    "| Обратная функция $\\cfrac{1}{y}$ | $\\cfrac{1}{y} = b_0 + b_1 x$ | $\\hat{y} = \\cfrac{1}{b_0 + b_1 x}$ | Данные могут быть отрицательными, но не нулевыми. <br> Меняет асимметрию на противоположную. |\n",
    "| Квадратный корень $\\sqrt{y}$ | $\\sqrt{y} = b_0 + b_1 x$ | $\\hat{y} = (b_0 + b_1 x)^2$ | Только положительные данные. <br> Компенсирует правостороннюю асимметрию. |\n",
    "| $\\log{x}$ | $y = b_0 + b_1 \\log{x}$ | $\\hat{y} = b_0 + b_1 \\log{x}$ |  |\n",
    "| $\\log{\\log{x}}$ и $\\log{y}$ | $\\log{y} = b_0 + b_1 \\log{x}$ | $\\hat{y} = 10^{b_0 + b_1 \\log{x}}$ |  |"
   ]
  },
  {
   "cell_type": "markdown",
   "id": "e2d42712",
   "metadata": {
    "pycharm": {
     "name": "#%% md\n"
    }
   },
   "source": [
    "***\n",
    "## <font color = DarkGreen size = 5> <b>Биномиальная регрессия (Binomial)</b> </font>\n",
    "\n",
    "**Номинативные данные с 2мя категориями (распределение Бернулли)**:\n",
    "- Нет градаций, данные дискретны\n",
    "- За их пределами нет вообще ничего\n",
    "- Работают не с самими значениями данных, а с их вероятностью\n",
    "\n",
    "Функция массы вероятности (pmf):\n",
    "\n",
    "$P(X=k) = \n",
    "   \\begin{cases}\n",
    "       p   & \\quad \\text{if } x=1 \\\\\n",
    "       1-p & \\quad \\text{if } x=0\n",
    "   \\end{cases}\n",
    "$, где $0 < p < 1$.\n"
   ]
  },
  {
   "cell_type": "code",
   "execution_count": 2,
   "id": "ef844563",
   "metadata": {
    "pycharm": {
     "name": "#%%\n"
    }
   },
   "outputs": [
    {
     "data": {
      "image/png": "[encoded data removed]",
      "text/plain": [
       "<Figure size 1200x400 with 1 Axes>"
      ]
     },
     "metadata": {},
     "output_type": "display_data"
    }
   ],
   "source": [
    "p = 0.75\n",
    "rv = stats.bernoulli(p)\n",
    "x = stats.bernoulli.rvs(p, size=100)\n",
    "\n",
    "plt.figure(figsize = [6*2, 4])\n",
    "plt.subplot(1, 2, 1)\n",
    "plt.scatter(x, rv.pmf(x))\n",
    "plt.ylim(0,1)\n",
    "plt.ylabel('$P(X=k)$')\n",
    "plt.xlabel('$k$')\n",
    "plt.title('Распределение вероятностей');"
   ]
  },
  {
   "cell_type": "markdown",
   "id": "fd136875",
   "metadata": {
    "pycharm": {
     "name": "#%% md\n"
    }
   },
   "source": [
    "***\n",
    "### <font color = MediumBlue size = 4> <b>Логистическая регрессия (Logistic)</b> </font>\n",
    "\n",
    "| Распределение | Разброс значений<br>зависимой переменной | Параметры | Функция связи |\n",
    "| -----: | :-----: | :----- | :-----: |\n",
    "| Бернулли<br>(биномиальное с $n=1$) | $[0;1]$ | $p$ - вероятность успеха<br>$n$ - количество попыток | Логит |\n",
    "\n",
    "<br><br>\n",
    "\n",
    "<table>\n",
    "    <caption><b>Как считать логит</b></caption>\n",
    "    <head>\n",
    "        <tr align=center>\n",
    "            <th width=25%><b>Элемент формулы</b></th>\n",
    "            <th><b>Интерпретация</b></th>\n",
    "            <th><b>Границы</b></th>\n",
    "        </tr>\n",
    "    </head>\n",
    "    <tbody>\n",
    "        <tr>\n",
    "            <td>$p$</td>\n",
    "            <td>вероятность успеха</td>\n",
    "            <td>$[0;1]$</td>\n",
    "        </tr>\n",
    "        <tr>\n",
    "            <td>$\\cfrac{p}{1-p}$</td>\n",
    "            <td>шансы успеха</td>\n",
    "            <td>$[0;\\infty)$</td>\n",
    "        </tr>\n",
    "        <tr>\n",
    "            <td>$\\ln\\left(\\cfrac{p}{1-p}\\right)$</td>\n",
    "            <td>логит</td>\n",
    "            <td>$(-\\infty;\\infty)$</td>\n",
    "        </tr>\n",
    "    </tbody>\n",
    "</table>"
   ]
  },
  {
   "cell_type": "code",
   "execution_count": 3,
   "id": "b365f2db",
   "metadata": {
    "pycharm": {
     "name": "#%%\n"
    }
   },
   "outputs": [
    {
     "data": {
      "image/png": "[encoded data removed]",
      "text/plain": [
       "<Figure size 1200x400 with 2 Axes>"
      ]
     },
     "metadata": {},
     "output_type": "display_data"
    }
   ],
   "source": [
    "plt.figure(figsize = [6*2, 4])\n",
    "\n",
    "X = np.linspace(stats.logistic.ppf(0.01), stats.logistic.ppf(0.99), 100)\n",
    "rv = stats.logistic()\n",
    "\n",
    "Mx, sigma =0, 1\n",
    "rvn = stats.norm(loc=Mx, scale=sigma)\n",
    "Xn = np.linspace(-4, 4, 100)\n",
    "\n",
    "plt.subplot(1, 2, 1)\n",
    "plt.plot(X, rv.cdf(X), label='logit')\n",
    "plt.plot(Xn, rvn.cdf(Xn), label='probit')\n",
    "plt.legend()\n",
    "plt.ylabel('$F(x)$')\n",
    "plt.xlabel('$x$')\n",
    "plt.title('функция распределения')\n",
    "\n",
    "plt.subplot(1, 2, 2)\n",
    "plt.plot(X, rv.pdf(X), label='logit')\n",
    "plt.plot(Xn, rvn.pdf(Xn), label='probit')\n",
    "plt.legend()\n",
    "plt.ylabel('$f(x)$')\n",
    "plt.xlabel('$x$')\n",
    "plt.title('функция плотности распределения');"
   ]
  },
  {
   "cell_type": "markdown",
   "id": "c59910f7",
   "metadata": {
    "pycharm": {
     "name": "#%% md\n"
    }
   },
   "source": [
    "Логистическое распределение, в которое мы трансформировали наши вероятности, похоже на нормальное.\n",
    "\n",
    "**Линейная регрессия** бесконечно растет в любую сторону и выходит за пределы $[0;1]$. <br>\n",
    "**Логистическая регрессия** не выходит за пределы $[0;1]$, в результате полычаем осознанные коэффициенты регрессионного уравнения и предсказания.\n",
    "\n",
    "<img src=\"./img/st_15_image3.jpg\" alt=\"st_15_image3\" width=\"\"/>\n"
   ]
  },
  {
   "cell_type": "markdown",
   "id": "5c6d591f",
   "metadata": {
    "pycharm": {
     "name": "#%% md\n"
    }
   },
   "source": [
    "##### <font color = SlateBlue size = 3> Пример </font>"
   ]
  },
  {
   "cell_type": "code",
   "execution_count": 4,
   "id": "ee94afb6",
   "metadata": {
    "pycharm": {
     "name": "#%%\n"
    }
   },
   "outputs": [
    {
     "data": {
      "text/html": [
       "<div>\n",
       "<style scoped>\n",
       "    .dataframe tbody tr th:only-of-type {\n",
       "        vertical-align: middle;\n",
       "    }\n",
       "\n",
       "    .dataframe tbody tr th {\n",
       "        vertical-align: top;\n",
       "    }\n",
       "\n",
       "    .dataframe thead th {\n",
       "        text-align: right;\n",
       "    }\n",
       "</style>\n",
       "<table border=\"1\" class=\"dataframe\">\n",
       "  <thead>\n",
       "    <tr style=\"text-align: right;\">\n",
       "      <th></th>\n",
       "      <th>PassengerId</th>\n",
       "      <th>Survived</th>\n",
       "      <th>Pclass</th>\n",
       "      <th>Name</th>\n",
       "      <th>Sex</th>\n",
       "      <th>Age</th>\n",
       "      <th>SibSp</th>\n",
       "      <th>Parch</th>\n",
       "      <th>Ticket</th>\n",
       "      <th>Fare</th>\n",
       "      <th>Cabin</th>\n",
       "      <th>Embarked</th>\n",
       "    </tr>\n",
       "  </thead>\n",
       "  <tbody>\n",
       "    <tr>\n",
       "      <th>0</th>\n",
       "      <td>1</td>\n",
       "      <td>0</td>\n",
       "      <td>3</td>\n",
       "      <td>Braund, Mr. Owen Harris</td>\n",
       "      <td>male</td>\n",
       "      <td>22.0</td>\n",
       "      <td>1</td>\n",
       "      <td>0</td>\n",
       "      <td>A/5 21171</td>\n",
       "      <td>7.2500</td>\n",
       "      <td>NaN</td>\n",
       "      <td>S</td>\n",
       "    </tr>\n",
       "    <tr>\n",
       "      <th>1</th>\n",
       "      <td>2</td>\n",
       "      <td>1</td>\n",
       "      <td>1</td>\n",
       "      <td>Cumings, Mrs. John Bradley (Florence Briggs Th...</td>\n",
       "      <td>female</td>\n",
       "      <td>38.0</td>\n",
       "      <td>1</td>\n",
       "      <td>0</td>\n",
       "      <td>PC 17599</td>\n",
       "      <td>71.2833</td>\n",
       "      <td>C85</td>\n",
       "      <td>C</td>\n",
       "    </tr>\n",
       "    <tr>\n",
       "      <th>2</th>\n",
       "      <td>3</td>\n",
       "      <td>1</td>\n",
       "      <td>3</td>\n",
       "      <td>Heikkinen, Miss. Laina</td>\n",
       "      <td>female</td>\n",
       "      <td>26.0</td>\n",
       "      <td>0</td>\n",
       "      <td>0</td>\n",
       "      <td>STON/O2. 3101282</td>\n",
       "      <td>7.9250</td>\n",
       "      <td>NaN</td>\n",
       "      <td>S</td>\n",
       "    </tr>\n",
       "    <tr>\n",
       "      <th>3</th>\n",
       "      <td>4</td>\n",
       "      <td>1</td>\n",
       "      <td>1</td>\n",
       "      <td>Futrelle, Mrs. Jacques Heath (Lily May Peel)</td>\n",
       "      <td>female</td>\n",
       "      <td>35.0</td>\n",
       "      <td>1</td>\n",
       "      <td>0</td>\n",
       "      <td>113803</td>\n",
       "      <td>53.1000</td>\n",
       "      <td>C123</td>\n",
       "      <td>S</td>\n",
       "    </tr>\n",
       "    <tr>\n",
       "      <th>4</th>\n",
       "      <td>5</td>\n",
       "      <td>0</td>\n",
       "      <td>3</td>\n",
       "      <td>Allen, Mr. William Henry</td>\n",
       "      <td>male</td>\n",
       "      <td>35.0</td>\n",
       "      <td>0</td>\n",
       "      <td>0</td>\n",
       "      <td>373450</td>\n",
       "      <td>8.0500</td>\n",
       "      <td>NaN</td>\n",
       "      <td>S</td>\n",
       "    </tr>\n",
       "  </tbody>\n",
       "</table>\n",
       "</div>"
      ],
      "text/plain": [
       "   PassengerId  Survived  Pclass  \\\n",
       "0            1         0       3   \n",
       "1            2         1       1   \n",
       "2            3         1       3   \n",
       "3            4         1       1   \n",
       "4            5         0       3   \n",
       "\n",
       "                                                Name     Sex   Age  SibSp  \\\n",
       "0                            Braund, Mr. Owen Harris    male  22.0      1   \n",
       "1  Cumings, Mrs. John Bradley (Florence Briggs Th...  female  38.0      1   \n",
       "2                             Heikkinen, Miss. Laina  female  26.0      0   \n",
       "3       Futrelle, Mrs. Jacques Heath (Lily May Peel)  female  35.0      1   \n",
       "4                           Allen, Mr. William Henry    male  35.0      0   \n",
       "\n",
       "   Parch            Ticket     Fare Cabin Embarked  \n",
       "0      0         A/5 21171   7.2500   NaN        S  \n",
       "1      0          PC 17599  71.2833   C85        C  \n",
       "2      0  STON/O2. 3101282   7.9250   NaN        S  \n",
       "3      0            113803  53.1000  C123        S  \n",
       "4      0            373450   8.0500   NaN        S  "
      ]
     },
     "execution_count": 4,
     "metadata": {},
     "output_type": "execute_result"
    }
   ],
   "source": [
    "df = pd.read_csv('./data/titanik_full_data.csv', sep='\\t')\n",
    "df.head()"
   ]
  },
  {
   "cell_type": "markdown",
   "id": "268fe1e8",
   "metadata": {
    "pycharm": {
     "name": "#%% md\n"
    }
   },
   "source": [
    "Из всего этого набора мы возьмём четыре столбца:\n",
    "- **Survived** - выжил пассажир или нет\n",
    "- **Sex** - пол пассажира\n",
    "- **Age** - возраст пассажира\n",
    "- **Pclass** - класс, в котором плыл пассажир (1, 2 или 3)\n",
    "\n",
    "Посмотрим на распределение выживших/погибших."
   ]
  },
  {
   "cell_type": "code",
   "execution_count": 5,
   "id": "379be8a9",
   "metadata": {
    "pycharm": {
     "name": "#%%\n"
    }
   },
   "outputs": [
    {
     "data": {
      "image/png": "[encoded data removed]",
      "text/plain": [
       "<Figure size 400x400 with 1 Axes>"
      ]
     },
     "metadata": {},
     "output_type": "display_data"
    }
   ],
   "source": [
    "plt.figure(figsize=(4, 4))\n",
    "sns.countplot(x = 'Survived', data = df)\n",
    "plt.xlabel('Выживаемость')\n",
    "plt.ylabel('Количество')\n",
    "plt.title('Судьба пассажиров Титаника');"
   ]
  },
  {
   "cell_type": "markdown",
   "id": "06be0362",
   "metadata": {
    "pycharm": {
     "name": "#%% md\n"
    }
   },
   "source": [
    "Применим логистическую регрессию. С помощью **`С()`** мы указываем категориальные переменные в формуле."
   ]
  },
  {
   "cell_type": "code",
   "execution_count": 6,
   "id": "03d2afed",
   "metadata": {
    "pycharm": {
     "name": "#%%\n"
    }
   },
   "outputs": [
    {
     "data": {
      "text/html": [
       "<table class=\"simpletable\">\n",
       "<caption>Generalized Linear Model Regression Results</caption>\n",
       "<tr>\n",
       "  <th>Dep. Variable:</th>       <td>Survived</td>     <th>  No. Observations:  </th>  <td>  1046</td> \n",
       "</tr>\n",
       "<tr>\n",
       "  <th>Model:</th>                  <td>GLM</td>       <th>  Df Residuals:      </th>  <td>  1041</td> \n",
       "</tr>\n",
       "<tr>\n",
       "  <th>Model Family:</th>        <td>Binomial</td>     <th>  Df Model:          </th>  <td>     4</td> \n",
       "</tr>\n",
       "<tr>\n",
       "  <th>Link Function:</th>         <td>Logit</td>      <th>  Scale:             </th> <td>  1.0000</td>\n",
       "</tr>\n",
       "<tr>\n",
       "  <th>Method:</th>                <td>IRLS</td>       <th>  Log-Likelihood:    </th> <td> -398.21</td>\n",
       "</tr>\n",
       "<tr>\n",
       "  <th>Date:</th>            <td>Mon, 19 Feb 2024</td> <th>  Deviance:          </th> <td>  796.42</td>\n",
       "</tr>\n",
       "<tr>\n",
       "  <th>Time:</th>                <td>14:57:49</td>     <th>  Pearson chi2:      </th> <td>1.10e+03</td>\n",
       "</tr>\n",
       "<tr>\n",
       "  <th>No. Iterations:</th>          <td>5</td>        <th>  Pseudo R-squ. (CS):</th>  <td>0.4421</td> \n",
       "</tr>\n",
       "<tr>\n",
       "  <th>Covariance Type:</th>     <td>nonrobust</td>    <th>                     </th>     <td> </td>   \n",
       "</tr>\n",
       "</table>\n",
       "<table class=\"simpletable\">\n",
       "<tr>\n",
       "         <td></td>           <th>coef</th>     <th>std err</th>      <th>z</th>      <th>P>|z|</th>  <th>[0.025</th>    <th>0.975]</th>  \n",
       "</tr>\n",
       "<tr>\n",
       "  <th>Intercept</th>      <td>    3.9568</td> <td>    0.372</td> <td>   10.641</td> <td> 0.000</td> <td>    3.228</td> <td>    4.686</td>\n",
       "</tr>\n",
       "<tr>\n",
       "  <th>C(Pclass)[T.2]</th> <td>   -1.2370</td> <td>    0.256</td> <td>   -4.833</td> <td> 0.000</td> <td>   -1.739</td> <td>   -0.735</td>\n",
       "</tr>\n",
       "<tr>\n",
       "  <th>C(Pclass)[T.3]</th> <td>   -2.2390</td> <td>    0.256</td> <td>   -8.759</td> <td> 0.000</td> <td>   -2.740</td> <td>   -1.738</td>\n",
       "</tr>\n",
       "<tr>\n",
       "  <th>C(Sex)[T.male]</th> <td>   -3.5601</td> <td>    0.196</td> <td>  -18.158</td> <td> 0.000</td> <td>   -3.944</td> <td>   -3.176</td>\n",
       "</tr>\n",
       "<tr>\n",
       "  <th>Age</th>            <td>   -0.0313</td> <td>    0.007</td> <td>   -4.407</td> <td> 0.000</td> <td>   -0.045</td> <td>   -0.017</td>\n",
       "</tr>\n",
       "</table>"
      ],
      "text/plain": [
       "<class 'statsmodels.iolib.summary.Summary'>\n",
       "\"\"\"\n",
       "                 Generalized Linear Model Regression Results                  \n",
       "==============================================================================\n",
       "Dep. Variable:               Survived   No. Observations:                 1046\n",
       "Model:                            GLM   Df Residuals:                     1041\n",
       "Model Family:                Binomial   Df Model:                            4\n",
       "Link Function:                  Logit   Scale:                          1.0000\n",
       "Method:                          IRLS   Log-Likelihood:                -398.21\n",
       "Date:                Mon, 19 Feb 2024   Deviance:                       796.42\n",
       "Time:                        14:57:49   Pearson chi2:                 1.10e+03\n",
       "No. Iterations:                     5   Pseudo R-squ. (CS):             0.4421\n",
       "Covariance Type:            nonrobust                                         \n",
       "==================================================================================\n",
       "                     coef    std err          z      P>|z|      [0.025      0.975]\n",
       "----------------------------------------------------------------------------------\n",
       "Intercept          3.9568      0.372     10.641      0.000       3.228       4.686\n",
       "C(Pclass)[T.2]    -1.2370      0.256     -4.833      0.000      -1.739      -0.735\n",
       "C(Pclass)[T.3]    -2.2390      0.256     -8.759      0.000      -2.740      -1.738\n",
       "C(Sex)[T.male]    -3.5601      0.196    -18.158      0.000      -3.944      -3.176\n",
       "Age               -0.0313      0.007     -4.407      0.000      -0.045      -0.017\n",
       "==================================================================================\n",
       "\"\"\""
      ]
     },
     "execution_count": 6,
     "metadata": {},
     "output_type": "execute_result"
    }
   ],
   "source": [
    "logit = smf.glm('Survived ~ C(Pclass) + C(Sex) + Age', data=df, family = sm.families.Binomial()).fit()\n",
    "logit.summary()"
   ]
  },
  {
   "cell_type": "markdown",
   "id": "a223573b",
   "metadata": {
    "pycharm": {
     "name": "#%% md\n"
    }
   },
   "source": [
    "`Intercept` - шансы выжить (логарифмические) для женщины в первом классе, которой 0 лет. \n",
    "\n",
    "- Все коэффициенты значимы (`P>|z|` меньше 0.05)\n",
    "- Шансы выжить во втором классе ниже, чем в первом, а в третьем ещё ниже\n",
    "- Быть мужчиной на Титанике ещё хуже\n",
    "- А также плохо быть старше на Титанике"
   ]
  },
  {
   "cell_type": "markdown",
   "id": "e68eadd5",
   "metadata": {
    "pycharm": {
     "name": "#%% md\n"
    }
   },
   "source": [
    "***\n",
    "### <font color = MediumBlue size = 4> <b>Пробит-регрессия (Probit)</b> </font>\n",
    "\n",
    "- Способ перевести вероятность в нормированное нормальное распределение ($a = 0$ и $\\sigma = 1$)\n",
    "- Используется обратная функция кумулятивного стандартного нормального распределения"
   ]
  },
  {
   "cell_type": "markdown",
   "id": "c603a33f",
   "metadata": {
    "pycharm": {
     "name": "#%% md\n"
    }
   },
   "source": [
    "***\n",
    "## <font color = DarkGreen size = 5> <b>Мультиномиальная регрессия (Multinomial)</b> </font>\n",
    "\n",
    "**Номинальные данные с 3мя категориями и больше:**\n",
    "- Нет градаций, данные дискретны\n",
    "- За их пределами нет вообще ничего\n",
    "- Работают не с самими значениями данных, а с их вероятностью\n",
    "- Вероятность нужно рассчитать для каждой категории отдельно\n",
    "\n",
    "| Распределение | Разброс значений<br>зависимой переменной | Параметры | Функция связи |\n",
    "| -----: | :-----: | :----- | :-----: |\n",
    "| Мульномиальное | $[0;1]$ | $p_1 \\dots p_k$ - вероятность каждого события<br>$n$ - количество попыток | Мультиномиальный логит |\n",
    "\n",
    "##### <font color = SlateBlue size = 3> Пример </font>"
   ]
  },
  {
   "cell_type": "code",
   "execution_count": 7,
   "id": "dc8daf72",
   "metadata": {
    "pycharm": {
     "name": "#%%\n"
    }
   },
   "outputs": [
    {
     "data": {
      "image/png": "[encoded data removed]",
      "text/plain": [
       "<Figure size 500x400 with 1 Axes>"
      ]
     },
     "metadata": {},
     "output_type": "display_data"
    }
   ],
   "source": [
    "plt.figure(figsize=(5, 4))\n",
    "sns.countplot(x = 'Pclass', data = df)\n",
    "plt.xlabel('Класс')\n",
    "plt.ylabel('Количество')\n",
    "plt.title('Пассажирские классы');"
   ]
  },
  {
   "cell_type": "markdown",
   "id": "f36fedee",
   "metadata": {
    "pycharm": {
     "name": "#%% md\n"
    }
   },
   "source": [
    "* Имя распределения - мультиномиальное\n",
    "* Разброс значений - (1...$n$)\n",
    "* Параметры - $p_1$...$p_n$ (вероятность каждого события), $n$ (количество попыток)\n",
    "* Типичная функция связи - мультиномиальный логит"
   ]
  },
  {
   "cell_type": "code",
   "execution_count": 8,
   "id": "e7f26c17",
   "metadata": {
    "pycharm": {
     "name": "#%%\n"
    }
   },
   "outputs": [
    {
     "name": "stdout",
     "output_type": "stream",
     "text": [
      "Optimization terminated successfully.\n",
      "         Current function value: 0.944697\n",
      "         Iterations 5\n"
     ]
    },
    {
     "data": {
      "text/html": [
       "<table class=\"simpletable\">\n",
       "<caption>MNLogit Regression Results</caption>\n",
       "<tr>\n",
       "  <th>Dep. Variable:</th>        <td>Pclass</td>      <th>  No. Observations:  </th>  <td>  1046</td>  \n",
       "</tr>\n",
       "<tr>\n",
       "  <th>Model:</th>                <td>MNLogit</td>     <th>  Df Residuals:      </th>  <td>  1040</td>  \n",
       "</tr>\n",
       "<tr>\n",
       "  <th>Method:</th>                 <td>MLE</td>       <th>  Df Model:          </th>  <td>     4</td>  \n",
       "</tr>\n",
       "<tr>\n",
       "  <th>Date:</th>            <td>Mon, 19 Feb 2024</td> <th>  Pseudo R-squ.:     </th>  <td>0.1028</td>  \n",
       "</tr>\n",
       "<tr>\n",
       "  <th>Time:</th>                <td>14:57:57</td>     <th>  Log-Likelihood:    </th> <td> -988.15</td> \n",
       "</tr>\n",
       "<tr>\n",
       "  <th>converged:</th>             <td>True</td>       <th>  LL-Null:           </th> <td> -1101.4</td> \n",
       "</tr>\n",
       "<tr>\n",
       "  <th>Covariance Type:</th>     <td>nonrobust</td>    <th>  LLR p-value:       </th> <td>7.608e-48</td>\n",
       "</tr>\n",
       "</table>\n",
       "<table class=\"simpletable\">\n",
       "<tr>\n",
       "     <th>Pclass=2</th>       <th>coef</th>     <th>std err</th>      <th>z</th>      <th>P>|z|</th>  <th>[0.025</th>    <th>0.975]</th>  \n",
       "</tr>\n",
       "<tr>\n",
       "  <th>Intercept</th>      <td>    1.4181</td> <td>    0.253</td> <td>    5.611</td> <td> 0.000</td> <td>    0.923</td> <td>    1.913</td>\n",
       "</tr>\n",
       "<tr>\n",
       "  <th>C(Sex)[T.male]</th> <td>    0.4934</td> <td>    0.183</td> <td>    2.691</td> <td> 0.007</td> <td>    0.134</td> <td>    0.853</td>\n",
       "</tr>\n",
       "<tr>\n",
       "  <th>Age</th>            <td>   -0.0522</td> <td>    0.007</td> <td>   -7.728</td> <td> 0.000</td> <td>   -0.065</td> <td>   -0.039</td>\n",
       "</tr>\n",
       "<tr>\n",
       "     <th>Pclass=3</th>       <th>coef</th>     <th>std err</th>      <th>z</th>      <th>P>|z|</th>  <th>[0.025</th>    <th>0.975]</th>  \n",
       "</tr>\n",
       "<tr>\n",
       "  <th>Intercept</th>      <td>    2.6021</td> <td>    0.239</td> <td>   10.900</td> <td> 0.000</td> <td>    2.134</td> <td>    3.070</td>\n",
       "</tr>\n",
       "<tr>\n",
       "  <th>C(Sex)[T.male]</th> <td>    1.0119</td> <td>    0.174</td> <td>    5.824</td> <td> 0.000</td> <td>    0.671</td> <td>    1.352</td>\n",
       "</tr>\n",
       "<tr>\n",
       "  <th>Age</th>            <td>   -0.0843</td> <td>    0.007</td> <td>  -12.514</td> <td> 0.000</td> <td>   -0.098</td> <td>   -0.071</td>\n",
       "</tr>\n",
       "</table>"
      ],
      "text/plain": [
       "<class 'statsmodels.iolib.summary.Summary'>\n",
       "\"\"\"\n",
       "                          MNLogit Regression Results                          \n",
       "==============================================================================\n",
       "Dep. Variable:                 Pclass   No. Observations:                 1046\n",
       "Model:                        MNLogit   Df Residuals:                     1040\n",
       "Method:                           MLE   Df Model:                            4\n",
       "Date:                Mon, 19 Feb 2024   Pseudo R-squ.:                  0.1028\n",
       "Time:                        14:57:57   Log-Likelihood:                -988.15\n",
       "converged:                       True   LL-Null:                       -1101.4\n",
       "Covariance Type:            nonrobust   LLR p-value:                 7.608e-48\n",
       "==================================================================================\n",
       "      Pclass=2       coef    std err          z      P>|z|      [0.025      0.975]\n",
       "----------------------------------------------------------------------------------\n",
       "Intercept          1.4181      0.253      5.611      0.000       0.923       1.913\n",
       "C(Sex)[T.male]     0.4934      0.183      2.691      0.007       0.134       0.853\n",
       "Age               -0.0522      0.007     -7.728      0.000      -0.065      -0.039\n",
       "----------------------------------------------------------------------------------\n",
       "      Pclass=3       coef    std err          z      P>|z|      [0.025      0.975]\n",
       "----------------------------------------------------------------------------------\n",
       "Intercept          2.6021      0.239     10.900      0.000       2.134       3.070\n",
       "C(Sex)[T.male]     1.0119      0.174      5.824      0.000       0.671       1.352\n",
       "Age               -0.0843      0.007    -12.514      0.000      -0.098      -0.071\n",
       "==================================================================================\n",
       "\"\"\""
      ]
     },
     "execution_count": 8,
     "metadata": {},
     "output_type": "execute_result"
    }
   ],
   "source": [
    "multi_res = smf.mnlogit('Pclass ~ C(Sex) + Age', df).fit()\n",
    "multi_res.summary()"
   ]
  },
  {
   "cell_type": "markdown",
   "id": "d305140c",
   "metadata": {
    "pycharm": {
     "name": "#%% md\n"
    }
   },
   "source": [
    "Результат интерпретируем относительно первого класса:\n",
    "- Мужчин больше во втором, а в третьем ещё больше\n",
    "- Судя по тому, что интерцепт тоже больше (а в него входят женщины), женщин тоже больше => в других классах просто больше людей\n",
    "- У возраста обратная зависимость"
   ]
  },
  {
   "cell_type": "markdown",
   "id": "fe4e5efb",
   "metadata": {
    "pycharm": {
     "name": "#%% md\n"
    }
   },
   "source": [
    "***\n",
    "## <font color = DarkGreen size = 5> <b>Порядковая регресси (Ordinal)</b> </font>\n",
    "\n",
    "**Порядковые данные**:\n",
    "- Данные дискретны\n",
    "- Есть порядок в категориях - какие-то категории больше или меньше других\n",
    "- Не можем понять, на сколько больше или меньше\n",
    "- Работают не с самими значениями данных, а с их вероятностью\n",
    "\n",
    "**Что делать?**\n",
    "- Избегайте собирать данные в порядковой шкале\n",
    "- Если есть возможность - не анализируйте такие данные\n",
    "- Если приходится, но гипотезы простые - пользуйтесь ранговыми непараметрическими методами\n",
    "- Иначе GLM\n",
    "\n",
    "GLM допускает какое-то реально существующее непрерывное распределние произвольной формы, но из-за того, что мы измерили его в порядковой шкале оно оказалось разрезано на несколько кусков - порогов (thresholds).\n",
    "\n",
    "<img src=\"./img/st_15_image4.jpg\" alt=\"st_15_image4\" width=\"400\"/>\n",
    "\n",
    "Пороги могут находиться как на одинаковом расстоянии друг от друга, так и на разном.\n",
    "\n",
    "<img src=\"./img/st_15_image5.jpg\" alt=\"st_15_image5\" width=\"400\"/>\n",
    "\n",
    "В любом случае, пороги обозначают границы, которые разделяют данные между собой на разные категории.\n",
    "\n",
    "Порядковая регрессия похожа на логистическую с поправкой на такую ситуацию. Т.е. нам мужно оченить с какой верояностью мы перейдем от более низкой категории к более высокой, что пересечем очередной порог.\n",
    "\n",
    "| Распределение | Разброс значений<br>зависимой переменной | Параметры | Функция связи |\n",
    "| -----: | :-----: | :----- | :-----: |\n",
    "| Кумулятивное пороговое | $[0;1]$ | $p_1 \\dots p_k$ - вероятность каждой категории | Порядковый логит |\n",
    "\n",
    "\n",
    "##### <font color = SlateBlue size = 3> Пример </font>\n",
    "\n",
    "* Имя распределения - кумулятивное пороговое\n",
    "* Разброс значений - (1...$n$)\n",
    "* Параметры - $p_1$...$p_n$ (вероятность каждого события)\n",
    "* Типичная функция связи - порядковый логит\n",
    "\n",
    "Качаем пакет `bevel` - его нет на `pip`, нужно ставить с [Гитхаба](https://github.com/Shopify/bevel). Про то, как устанавливать пакеты с Гитхаба, читайте [пост на StackOverflow](https://stackoverflow.com/questions/15268953/how-to-install-python-package-from-github)."
   ]
  },
  {
   "cell_type": "code",
   "execution_count": null,
   "id": "d4a0042a",
   "metadata": {
    "pycharm": {
     "name": "#%%\n"
    }
   },
   "outputs": [],
   "source": [
    "#from bevel.linear_ordinal_regression import OrderedLogit"
   ]
  },
  {
   "cell_type": "markdown",
   "id": "1e1ae991",
   "metadata": {
    "pycharm": {
     "name": "#%% md\n"
    }
   },
   "source": [
    "В следующем датасете оценивали качество красных вин с разными химическими характеристиками."
   ]
  },
  {
   "cell_type": "code",
   "execution_count": 9,
   "id": "91298375",
   "metadata": {
    "pycharm": {
     "name": "#%%\n"
    }
   },
   "outputs": [
    {
     "data": {
      "text/html": [
       "<div>\n",
       "<style scoped>\n",
       "    .dataframe tbody tr th:only-of-type {\n",
       "        vertical-align: middle;\n",
       "    }\n",
       "\n",
       "    .dataframe tbody tr th {\n",
       "        vertical-align: top;\n",
       "    }\n",
       "\n",
       "    .dataframe thead th {\n",
       "        text-align: right;\n",
       "    }\n",
       "</style>\n",
       "<table border=\"1\" class=\"dataframe\">\n",
       "  <thead>\n",
       "    <tr style=\"text-align: right;\">\n",
       "      <th></th>\n",
       "      <th>fixed acidity</th>\n",
       "      <th>volatile acidity</th>\n",
       "      <th>citric acid</th>\n",
       "      <th>residual sugar</th>\n",
       "      <th>chlorides</th>\n",
       "      <th>free sulfur dioxide</th>\n",
       "      <th>total sulfur dioxide</th>\n",
       "      <th>density</th>\n",
       "      <th>pH</th>\n",
       "      <th>sulphates</th>\n",
       "      <th>alcohol</th>\n",
       "      <th>quality</th>\n",
       "    </tr>\n",
       "  </thead>\n",
       "  <tbody>\n",
       "    <tr>\n",
       "      <th>0</th>\n",
       "      <td>7.4</td>\n",
       "      <td>0.70</td>\n",
       "      <td>0.00</td>\n",
       "      <td>1.9</td>\n",
       "      <td>0.076</td>\n",
       "      <td>11.0</td>\n",
       "      <td>34.0</td>\n",
       "      <td>0.9978</td>\n",
       "      <td>3.51</td>\n",
       "      <td>0.56</td>\n",
       "      <td>9.4</td>\n",
       "      <td>5</td>\n",
       "    </tr>\n",
       "    <tr>\n",
       "      <th>1</th>\n",
       "      <td>7.8</td>\n",
       "      <td>0.88</td>\n",
       "      <td>0.00</td>\n",
       "      <td>2.6</td>\n",
       "      <td>0.098</td>\n",
       "      <td>25.0</td>\n",
       "      <td>67.0</td>\n",
       "      <td>0.9968</td>\n",
       "      <td>3.20</td>\n",
       "      <td>0.68</td>\n",
       "      <td>9.8</td>\n",
       "      <td>5</td>\n",
       "    </tr>\n",
       "    <tr>\n",
       "      <th>2</th>\n",
       "      <td>7.8</td>\n",
       "      <td>0.76</td>\n",
       "      <td>0.04</td>\n",
       "      <td>2.3</td>\n",
       "      <td>0.092</td>\n",
       "      <td>15.0</td>\n",
       "      <td>54.0</td>\n",
       "      <td>0.9970</td>\n",
       "      <td>3.26</td>\n",
       "      <td>0.65</td>\n",
       "      <td>9.8</td>\n",
       "      <td>5</td>\n",
       "    </tr>\n",
       "    <tr>\n",
       "      <th>3</th>\n",
       "      <td>11.2</td>\n",
       "      <td>0.28</td>\n",
       "      <td>0.56</td>\n",
       "      <td>1.9</td>\n",
       "      <td>0.075</td>\n",
       "      <td>17.0</td>\n",
       "      <td>60.0</td>\n",
       "      <td>0.9980</td>\n",
       "      <td>3.16</td>\n",
       "      <td>0.58</td>\n",
       "      <td>9.8</td>\n",
       "      <td>6</td>\n",
       "    </tr>\n",
       "    <tr>\n",
       "      <th>4</th>\n",
       "      <td>7.4</td>\n",
       "      <td>0.70</td>\n",
       "      <td>0.00</td>\n",
       "      <td>1.9</td>\n",
       "      <td>0.076</td>\n",
       "      <td>11.0</td>\n",
       "      <td>34.0</td>\n",
       "      <td>0.9978</td>\n",
       "      <td>3.51</td>\n",
       "      <td>0.56</td>\n",
       "      <td>9.4</td>\n",
       "      <td>5</td>\n",
       "    </tr>\n",
       "  </tbody>\n",
       "</table>\n",
       "</div>"
      ],
      "text/plain": [
       "   fixed acidity  volatile acidity  citric acid  residual sugar  chlorides  \\\n",
       "0            7.4              0.70         0.00             1.9      0.076   \n",
       "1            7.8              0.88         0.00             2.6      0.098   \n",
       "2            7.8              0.76         0.04             2.3      0.092   \n",
       "3           11.2              0.28         0.56             1.9      0.075   \n",
       "4            7.4              0.70         0.00             1.9      0.076   \n",
       "\n",
       "   free sulfur dioxide  total sulfur dioxide  density    pH  sulphates  \\\n",
       "0                 11.0                  34.0   0.9978  3.51       0.56   \n",
       "1                 25.0                  67.0   0.9968  3.20       0.68   \n",
       "2                 15.0                  54.0   0.9970  3.26       0.65   \n",
       "3                 17.0                  60.0   0.9980  3.16       0.58   \n",
       "4                 11.0                  34.0   0.9978  3.51       0.56   \n",
       "\n",
       "   alcohol  quality  \n",
       "0      9.4        5  \n",
       "1      9.8        5  \n",
       "2      9.8        5  \n",
       "3      9.8        6  \n",
       "4      9.4        5  "
      ]
     },
     "execution_count": 9,
     "metadata": {},
     "output_type": "execute_result"
    }
   ],
   "source": [
    "df = pd.read_csv('./data/winequality-red.csv', sep = ';')\n",
    "df.head()"
   ]
  },
  {
   "cell_type": "markdown",
   "id": "9b5cb9e7",
   "metadata": {
    "pycharm": {
     "name": "#%% md\n"
    }
   },
   "source": [
    "Посмотрим на распределение рейтингов (переменная `quality`):"
   ]
  },
  {
   "cell_type": "code",
   "execution_count": 10,
   "id": "d02e090b",
   "metadata": {
    "pycharm": {
     "name": "#%%\n"
    }
   },
   "outputs": [
    {
     "data": {
      "image/png": "[encoded data removed]",
      "text/plain": [
       "<Figure size 600x400 with 1 Axes>"
      ]
     },
     "metadata": {},
     "output_type": "display_data"
    }
   ],
   "source": [
    "plt.figure(figsize=(6, 4))\n",
    "sns.countplot(x = 'quality', data = df)\n",
    "plt.xlabel('Оценка')\n",
    "plt.ylabel('Количество')\n",
    "plt.title('Рейтинг красных вин');"
   ]
  },
  {
   "cell_type": "code",
   "execution_count": 11,
   "id": "d809d3a5",
   "metadata": {
    "pycharm": {
     "name": "#%%\n"
    }
   },
   "outputs": [],
   "source": [
    "Y = df.quality\n",
    "X = df.drop('quality', axis = 1)\n",
    "\n",
    "#ol = OrderedLogit()\n",
    "#ol.fit(X, Y)\n",
    "\n",
    "#ol.print_summary()"
   ]
  },
  {
   "cell_type": "markdown",
   "id": "79e02155",
   "metadata": {
    "pycharm": {
     "name": "#%% md\n"
    }
   },
   "source": [
    "`Somers' D` - это как $R^2$, только для порядковых моделей и меняется от -1 до 1 (как корреляция). Чем он больше и положительнее - тем лучше.\n",
    "\n",
    "Плохо на рейтинги влияют:\n",
    "- летучая кислотность\n",
    "- содержание хлоридов\n",
    "- общее содержание диоксида серы\n",
    "\n",
    "Хорошо влияет:\n",
    "- свободный диоксид серы (тут значимость спорная)\n",
    "- содержание сульфатов\n",
    "- содержание алкоголя\n",
    "\n",
    "Ещё есть более богатый на модели и документацию пакет `mord` (документация [вот тут](https://pythonhosted.org/mord/)), который можно скачать через `pip`. Но он настроен на построение предсказательных моделей и не даёт статистического вывода."
   ]
  },
  {
   "cell_type": "markdown",
   "id": "c07be2cf",
   "metadata": {
    "pycharm": {
     "name": "#%% md\n"
    }
   },
   "source": [
    "***\n",
    "## <font color = DarkGreen size = 5> <b>Регрессия Пуассона (Poisson)</b> </font>\n",
    "\n",
    "**Количественные данные (count data):**\n",
    "- Данные дискретны\n",
    "- Данные неотрицательные\n",
    "- Чаще всего наблюдается правосторонняя ассиметрия\n",
    "\n",
    "| Распределение | Разброс значений<br>зависимой переменной | Параметры | Функция связи |\n",
    "| -----: | :-----: | :----- | :-----: |\n",
    "| Пуассоновское | $[0; \\infty)$ | $\\lambda$ - темп (rate) | Логарифм |\n",
    "\n",
    "**На среднее и дисперсию у распределения Пуассона один параметр $\\lambda$**\n",
    "- Если дисперсия в реальности меньше среднего - недодисперсия (underdispersion) - встречается редко\n",
    "- Если дисперсия в реальности больше среднего - сверхдисперсия (overdispersion) - очень частый случай"
   ]
  },
  {
   "cell_type": "markdown",
   "id": "4323a163",
   "metadata": {
    "pycharm": {
     "name": "#%% md\n"
    }
   },
   "source": [
    "##### <font color = SlateBlue size = 3> Пример </font>\n",
    "Используем данные по владельцам кредитных карточек"
   ]
  },
  {
   "cell_type": "code",
   "execution_count": 12,
   "id": "872fb5a8",
   "metadata": {
    "pycharm": {
     "name": "#%%\n"
    },
    "scrolled": true
   },
   "outputs": [
    {
     "data": {
      "text/html": [
       "<div>\n",
       "<style scoped>\n",
       "    .dataframe tbody tr th:only-of-type {\n",
       "        vertical-align: middle;\n",
       "    }\n",
       "\n",
       "    .dataframe tbody tr th {\n",
       "        vertical-align: top;\n",
       "    }\n",
       "\n",
       "    .dataframe thead th {\n",
       "        text-align: right;\n",
       "    }\n",
       "</style>\n",
       "<table border=\"1\" class=\"dataframe\">\n",
       "  <thead>\n",
       "    <tr style=\"text-align: right;\">\n",
       "      <th></th>\n",
       "      <th>card</th>\n",
       "      <th>reports</th>\n",
       "      <th>age</th>\n",
       "      <th>income</th>\n",
       "      <th>share</th>\n",
       "      <th>expenditure</th>\n",
       "      <th>owner</th>\n",
       "      <th>selfemp</th>\n",
       "      <th>dependents</th>\n",
       "      <th>months</th>\n",
       "      <th>majorcards</th>\n",
       "      <th>active</th>\n",
       "    </tr>\n",
       "  </thead>\n",
       "  <tbody>\n",
       "    <tr>\n",
       "      <th>0</th>\n",
       "      <td>yes</td>\n",
       "      <td>0</td>\n",
       "      <td>37.66667</td>\n",
       "      <td>4.5200</td>\n",
       "      <td>0.033270</td>\n",
       "      <td>124.983300</td>\n",
       "      <td>yes</td>\n",
       "      <td>no</td>\n",
       "      <td>3</td>\n",
       "      <td>54</td>\n",
       "      <td>1</td>\n",
       "      <td>12</td>\n",
       "    </tr>\n",
       "    <tr>\n",
       "      <th>1</th>\n",
       "      <td>yes</td>\n",
       "      <td>0</td>\n",
       "      <td>33.25000</td>\n",
       "      <td>2.4200</td>\n",
       "      <td>0.005217</td>\n",
       "      <td>9.854167</td>\n",
       "      <td>no</td>\n",
       "      <td>no</td>\n",
       "      <td>3</td>\n",
       "      <td>34</td>\n",
       "      <td>1</td>\n",
       "      <td>13</td>\n",
       "    </tr>\n",
       "    <tr>\n",
       "      <th>2</th>\n",
       "      <td>yes</td>\n",
       "      <td>0</td>\n",
       "      <td>33.66667</td>\n",
       "      <td>4.5000</td>\n",
       "      <td>0.004156</td>\n",
       "      <td>15.000000</td>\n",
       "      <td>yes</td>\n",
       "      <td>no</td>\n",
       "      <td>4</td>\n",
       "      <td>58</td>\n",
       "      <td>1</td>\n",
       "      <td>5</td>\n",
       "    </tr>\n",
       "    <tr>\n",
       "      <th>3</th>\n",
       "      <td>yes</td>\n",
       "      <td>0</td>\n",
       "      <td>30.50000</td>\n",
       "      <td>2.5400</td>\n",
       "      <td>0.065214</td>\n",
       "      <td>137.869200</td>\n",
       "      <td>no</td>\n",
       "      <td>no</td>\n",
       "      <td>0</td>\n",
       "      <td>25</td>\n",
       "      <td>1</td>\n",
       "      <td>7</td>\n",
       "    </tr>\n",
       "    <tr>\n",
       "      <th>4</th>\n",
       "      <td>yes</td>\n",
       "      <td>0</td>\n",
       "      <td>32.16667</td>\n",
       "      <td>9.7867</td>\n",
       "      <td>0.067051</td>\n",
       "      <td>546.503300</td>\n",
       "      <td>yes</td>\n",
       "      <td>no</td>\n",
       "      <td>2</td>\n",
       "      <td>64</td>\n",
       "      <td>1</td>\n",
       "      <td>5</td>\n",
       "    </tr>\n",
       "  </tbody>\n",
       "</table>\n",
       "</div>"
      ],
      "text/plain": [
       "  card  reports       age  income     share  expenditure owner selfemp  \\\n",
       "0  yes        0  37.66667  4.5200  0.033270   124.983300   yes      no   \n",
       "1  yes        0  33.25000  2.4200  0.005217     9.854167    no      no   \n",
       "2  yes        0  33.66667  4.5000  0.004156    15.000000   yes      no   \n",
       "3  yes        0  30.50000  2.5400  0.065214   137.869200    no      no   \n",
       "4  yes        0  32.16667  9.7867  0.067051   546.503300   yes      no   \n",
       "\n",
       "   dependents  months  majorcards  active  \n",
       "0           3      54           1      12  \n",
       "1           3      34           1      13  \n",
       "2           4      58           1       5  \n",
       "3           0      25           1       7  \n",
       "4           2      64           1       5  "
      ]
     },
     "execution_count": 12,
     "metadata": {},
     "output_type": "execute_result"
    }
   ],
   "source": [
    "df = pd.read_csv('./data/credit_card.csv')\n",
    "df.head()"
   ]
  },
  {
   "cell_type": "markdown",
   "id": "eaa4ed4c",
   "metadata": {
    "pycharm": {
     "name": "#%% md\n"
    }
   },
   "source": [
    "Из этого всего возьмём переменные:\n",
    "\n",
    "- `active` - количество активных счетов\n",
    "- `age` - возраст\n",
    "- `income` - годовой доход в десятках тысяч\n",
    "- `expenditure` - месячный расход средств кредитной карты\n",
    "- `owner` - владеет ли пользователь собственным домом или нет\n",
    "- `selfemp` - самозанятый или нет\n",
    "\n",
    "Посмотрим распределение количества активных счетов."
   ]
  },
  {
   "cell_type": "code",
   "execution_count": 13,
   "id": "a5e06a7f",
   "metadata": {
    "pycharm": {
     "name": "#%%\n"
    }
   },
   "outputs": [
    {
     "data": {
      "image/png": "[encoded data removed]",
      "text/plain": [
       "<Figure size 640x480 with 1 Axes>"
      ]
     },
     "metadata": {},
     "output_type": "display_data"
    }
   ],
   "source": [
    "sns.countplot(x = 'active', data = df)\n",
    "plt.xlabel('Количество')\n",
    "plt.ylabel('Частота')\n",
    "plt.title('Количество активных счетов');"
   ]
  },
  {
   "cell_type": "code",
   "execution_count": 14,
   "id": "416bff2d",
   "metadata": {
    "pycharm": {
     "name": "#%%\n"
    }
   },
   "outputs": [
    {
     "data": {
      "text/html": [
       "<table class=\"simpletable\">\n",
       "<caption>Generalized Linear Model Regression Results</caption>\n",
       "<tr>\n",
       "  <th>Dep. Variable:</th>        <td>active</td>      <th>  No. Observations:  </th>  <td>  1319</td> \n",
       "</tr>\n",
       "<tr>\n",
       "  <th>Model:</th>                  <td>GLM</td>       <th>  Df Residuals:      </th>  <td>  1313</td> \n",
       "</tr>\n",
       "<tr>\n",
       "  <th>Model Family:</th>         <td>Poisson</td>     <th>  Df Model:          </th>  <td>     5</td> \n",
       "</tr>\n",
       "<tr>\n",
       "  <th>Link Function:</th>          <td>Log</td>       <th>  Scale:             </th> <td>  1.0000</td>\n",
       "</tr>\n",
       "<tr>\n",
       "  <th>Method:</th>                <td>IRLS</td>       <th>  Log-Likelihood:    </th> <td> -5614.4</td>\n",
       "</tr>\n",
       "<tr>\n",
       "  <th>Date:</th>            <td>Mon, 19 Feb 2024</td> <th>  Deviance:          </th> <td>  7142.4</td>\n",
       "</tr>\n",
       "<tr>\n",
       "  <th>Time:</th>                <td>14:59:16</td>     <th>  Pearson chi2:      </th> <td>6.89e+03</td>\n",
       "</tr>\n",
       "<tr>\n",
       "  <th>No. Iterations:</th>          <td>5</td>        <th>  Pseudo R-squ. (CS):</th>  <td>0.3903</td> \n",
       "</tr>\n",
       "<tr>\n",
       "  <th>Covariance Type:</th>     <td>nonrobust</td>    <th>                     </th>     <td> </td>   \n",
       "</tr>\n",
       "</table>\n",
       "<table class=\"simpletable\">\n",
       "<tr>\n",
       "          <td></td>             <th>coef</th>     <th>std err</th>      <th>z</th>      <th>P>|z|</th>  <th>[0.025</th>    <th>0.975]</th>  \n",
       "</tr>\n",
       "<tr>\n",
       "  <th>Intercept</th>         <td>    1.4000</td> <td>    0.037</td> <td>   37.440</td> <td> 0.000</td> <td>    1.327</td> <td>    1.473</td>\n",
       "</tr>\n",
       "<tr>\n",
       "  <th>C(owner)[T.yes]</th>   <td>    0.4033</td> <td>    0.023</td> <td>   17.409</td> <td> 0.000</td> <td>    0.358</td> <td>    0.449</td>\n",
       "</tr>\n",
       "<tr>\n",
       "  <th>C(selfemp)[T.yes]</th> <td>    0.0141</td> <td>    0.040</td> <td>    0.355</td> <td> 0.723</td> <td>   -0.064</td> <td>    0.092</td>\n",
       "</tr>\n",
       "<tr>\n",
       "  <th>age</th>               <td>    0.0062</td> <td>    0.001</td> <td>    5.648</td> <td> 0.000</td> <td>    0.004</td> <td>    0.008</td>\n",
       "</tr>\n",
       "<tr>\n",
       "  <th>income</th>            <td>    0.0361</td> <td>    0.006</td> <td>    5.752</td> <td> 0.000</td> <td>    0.024</td> <td>    0.048</td>\n",
       "</tr>\n",
       "<tr>\n",
       "  <th>expenditure</th>       <td> 2.925e-05</td> <td> 3.75e-05</td> <td>    0.779</td> <td> 0.436</td> <td>-4.43e-05</td> <td>    0.000</td>\n",
       "</tr>\n",
       "</table>"
      ],
      "text/plain": [
       "<class 'statsmodels.iolib.summary.Summary'>\n",
       "\"\"\"\n",
       "                 Generalized Linear Model Regression Results                  \n",
       "==============================================================================\n",
       "Dep. Variable:                 active   No. Observations:                 1319\n",
       "Model:                            GLM   Df Residuals:                     1313\n",
       "Model Family:                 Poisson   Df Model:                            5\n",
       "Link Function:                    Log   Scale:                          1.0000\n",
       "Method:                          IRLS   Log-Likelihood:                -5614.4\n",
       "Date:                Mon, 19 Feb 2024   Deviance:                       7142.4\n",
       "Time:                        14:59:16   Pearson chi2:                 6.89e+03\n",
       "No. Iterations:                     5   Pseudo R-squ. (CS):             0.3903\n",
       "Covariance Type:            nonrobust                                         \n",
       "=====================================================================================\n",
       "                        coef    std err          z      P>|z|      [0.025      0.975]\n",
       "-------------------------------------------------------------------------------------\n",
       "Intercept             1.4000      0.037     37.440      0.000       1.327       1.473\n",
       "C(owner)[T.yes]       0.4033      0.023     17.409      0.000       0.358       0.449\n",
       "C(selfemp)[T.yes]     0.0141      0.040      0.355      0.723      -0.064       0.092\n",
       "age                   0.0062      0.001      5.648      0.000       0.004       0.008\n",
       "income                0.0361      0.006      5.752      0.000       0.024       0.048\n",
       "expenditure        2.925e-05   3.75e-05      0.779      0.436   -4.43e-05       0.000\n",
       "=====================================================================================\n",
       "\"\"\""
      ]
     },
     "execution_count": 14,
     "metadata": {},
     "output_type": "execute_result"
    }
   ],
   "source": [
    "pois = smf.glm('active ~ age + income + expenditure + C(owner) + C(selfemp)', \\\n",
    "               family = sm.families.Poisson(), data = df).fit()\n",
    "pois.summary()"
   ]
  },
  {
   "cell_type": "markdown",
   "id": "ee0bc9ae",
   "metadata": {
    "pycharm": {
     "name": "#%% md\n"
    }
   },
   "source": [
    "Количество крединтых кард растёт в зависимости от: <br>\n",
    "* дохода \n",
    "* возраста\n",
    "* владения собственным домом"
   ]
  },
  {
   "cell_type": "markdown",
   "id": "cf14d128",
   "metadata": {
    "pycharm": {
     "name": "#%% md\n"
    }
   },
   "source": [
    "Чтобы проверить распределение на сверхдисперсию: $\\cfrac{\\text{показатель остатков}}{\\text{степени свободы остатков}}$"
   ]
  },
  {
   "cell_type": "code",
   "execution_count": 15,
   "id": "4e10d0b4",
   "metadata": {
    "pycharm": {
     "name": "#%%\n"
    }
   },
   "outputs": [
    {
     "data": {
      "text/plain": [
       "5.249939996924423"
      ]
     },
     "execution_count": 15,
     "metadata": {},
     "output_type": "execute_result"
    }
   ],
   "source": [
    "# сверхдисперсия\n",
    "pois.pearson_chi2/pois.df_resid"
   ]
  },
  {
   "cell_type": "markdown",
   "id": "c69d038f",
   "metadata": {
    "pycharm": {
     "name": "#%% md\n"
    }
   },
   "source": [
    "Для модели Пуассона это значение должно быть близко к 1. Дисперсия в 5 раз превышает среднее, что негативно влияет на предсказательную способность модели.\n",
    "\n",
    "Нужно другое распределение, которое может компенсировать проблему."
   ]
  },
  {
   "cell_type": "markdown",
   "id": "07bd658a",
   "metadata": {
    "pycharm": {
     "name": "#%% md\n"
    }
   },
   "source": [
    "***\n",
    "## <font color = DarkGreen size = 5> <b>Отрицательно-биномиальная регрессия (Negative Binomial)</b> </font>\n",
    "\n",
    "Применяется при сверхдисперсии. \n",
    "\n",
    "**Отрицательное биномиальное распределение** - комбинация из распределения Пуассона и гамма-распределения. \\\n",
    "Гамма по своим характеристикам очень похоже на распределение Пуассона, но оно не дискретно.\n",
    "\n",
    "| Распределение | Разброс значений<br>зависимой переменной | Параметры | Функция связи |\n",
    "| -----: | :-----: | :----- | :-----: |\n",
    "| Отрицательное биномиальное | $[0; \\infty)$ | $\\mu$ - среднее<br>$\\theta$ - форма / дисперсия | Логарифм |\n",
    "\n",
    "Отрицательно-биномиальное распределение поддерживает гораздо больше \"форм\" и ситуаций, чем распредление Пуассона.\n",
    "<img src=\"./img/st_15_image6.jpg\" alt=\"st_15_image6\" width=\"\"/>\n",
    "\n",
    "##### <font color = SlateBlue size = 3> Пример </font>\n",
    "Используем данные по владельцам кредитных карточек\n",
    "\n",
    "Когда строим модель, обращаем внимание на аргумент `alpha` - это параметр дисперсии. От него зависит сходимость результатов, поэтому в случае ошибок рекомендуется ставить его в диапазоне от 0.1 до 2."
   ]
  },
  {
   "cell_type": "code",
   "execution_count": 16,
   "id": "3ffc81ca",
   "metadata": {
    "pycharm": {
     "name": "#%%\n"
    }
   },
   "outputs": [
    {
     "data": {
      "text/html": [
       "<table class=\"simpletable\">\n",
       "<caption>Generalized Linear Model Regression Results</caption>\n",
       "<tr>\n",
       "  <th>Dep. Variable:</th>        <td>active</td>      <th>  No. Observations:  </th>  <td>  1319</td> \n",
       "</tr>\n",
       "<tr>\n",
       "  <th>Model:</th>                  <td>GLM</td>       <th>  Df Residuals:      </th>  <td>  1313</td> \n",
       "</tr>\n",
       "<tr>\n",
       "  <th>Model Family:</th>    <td>NegativeBinomial</td> <th>  Df Model:          </th>  <td>     5</td> \n",
       "</tr>\n",
       "<tr>\n",
       "  <th>Link Function:</th>          <td>Log</td>       <th>  Scale:             </th> <td>  1.0000</td>\n",
       "</tr>\n",
       "<tr>\n",
       "  <th>Method:</th>                <td>IRLS</td>       <th>  Log-Likelihood:    </th> <td> -4429.3</td>\n",
       "</tr>\n",
       "<tr>\n",
       "  <th>Date:</th>            <td>Mon, 19 Feb 2024</td> <th>  Deviance:          </th> <td>  3940.9</td>\n",
       "</tr>\n",
       "<tr>\n",
       "  <th>Time:</th>                <td>14:59:44</td>     <th>  Pearson chi2:      </th> <td>3.44e+03</td>\n",
       "</tr>\n",
       "<tr>\n",
       "  <th>No. Iterations:</th>          <td>5</td>        <th>  Pseudo R-squ. (CS):</th>  <td>0.2157</td> \n",
       "</tr>\n",
       "<tr>\n",
       "  <th>Covariance Type:</th>     <td>nonrobust</td>    <th>                     </th>     <td> </td>   \n",
       "</tr>\n",
       "</table>\n",
       "<table class=\"simpletable\">\n",
       "<tr>\n",
       "          <td></td>             <th>coef</th>     <th>std err</th>      <th>z</th>      <th>P>|z|</th>  <th>[0.025</th>    <th>0.975]</th>  \n",
       "</tr>\n",
       "<tr>\n",
       "  <th>Intercept</th>         <td>    1.3690</td> <td>    0.054</td> <td>   25.206</td> <td> 0.000</td> <td>    1.263</td> <td>    1.475</td>\n",
       "</tr>\n",
       "<tr>\n",
       "  <th>C(owner)[T.yes]</th>   <td>    0.3984</td> <td>    0.033</td> <td>   11.996</td> <td> 0.000</td> <td>    0.333</td> <td>    0.463</td>\n",
       "</tr>\n",
       "<tr>\n",
       "  <th>C(selfemp)[T.yes]</th> <td>    0.0055</td> <td>    0.059</td> <td>    0.094</td> <td> 0.925</td> <td>   -0.110</td> <td>    0.121</td>\n",
       "</tr>\n",
       "<tr>\n",
       "  <th>age</th>               <td>    0.0069</td> <td>    0.002</td> <td>    4.263</td> <td> 0.000</td> <td>    0.004</td> <td>    0.010</td>\n",
       "</tr>\n",
       "<tr>\n",
       "  <th>income</th>            <td>    0.0393</td> <td>    0.010</td> <td>    4.099</td> <td> 0.000</td> <td>    0.021</td> <td>    0.058</td>\n",
       "</tr>\n",
       "<tr>\n",
       "  <th>expenditure</th>       <td> 2.445e-05</td> <td> 5.63e-05</td> <td>    0.434</td> <td> 0.664</td> <td>-8.59e-05</td> <td>    0.000</td>\n",
       "</tr>\n",
       "</table>"
      ],
      "text/plain": [
       "<class 'statsmodels.iolib.summary.Summary'>\n",
       "\"\"\"\n",
       "                 Generalized Linear Model Regression Results                  \n",
       "==============================================================================\n",
       "Dep. Variable:                 active   No. Observations:                 1319\n",
       "Model:                            GLM   Df Residuals:                     1313\n",
       "Model Family:        NegativeBinomial   Df Model:                            5\n",
       "Link Function:                    Log   Scale:                          1.0000\n",
       "Method:                          IRLS   Log-Likelihood:                -4429.3\n",
       "Date:                Mon, 19 Feb 2024   Deviance:                       3940.9\n",
       "Time:                        14:59:44   Pearson chi2:                 3.44e+03\n",
       "No. Iterations:                     5   Pseudo R-squ. (CS):             0.2157\n",
       "Covariance Type:            nonrobust                                         \n",
       "=====================================================================================\n",
       "                        coef    std err          z      P>|z|      [0.025      0.975]\n",
       "-------------------------------------------------------------------------------------\n",
       "Intercept             1.3690      0.054     25.206      0.000       1.263       1.475\n",
       "C(owner)[T.yes]       0.3984      0.033     11.996      0.000       0.333       0.463\n",
       "C(selfemp)[T.yes]     0.0055      0.059      0.094      0.925      -0.110       0.121\n",
       "age                   0.0069      0.002      4.263      0.000       0.004       0.010\n",
       "income                0.0393      0.010      4.099      0.000       0.021       0.058\n",
       "expenditure        2.445e-05   5.63e-05      0.434      0.664   -8.59e-05       0.000\n",
       "=====================================================================================\n",
       "\"\"\""
      ]
     },
     "execution_count": 16,
     "metadata": {},
     "output_type": "execute_result"
    }
   ],
   "source": [
    "neg = smf.glm('active ~ age + income + expenditure + C(owner) + C(selfemp)', data = df, \\\n",
    "              family = sm.families.NegativeBinomial(alpha=0.15)).fit()\n",
    "neg.summary()"
   ]
  },
  {
   "cell_type": "markdown",
   "id": "e6ada3af",
   "metadata": {
    "pycharm": {
     "name": "#%% md\n"
    }
   },
   "source": [
    "Количество крединтых кард растёт в зависимости от:\n",
    "\n",
    "* дохода \n",
    "* возраста\n",
    "* владения собственным домом\n",
    "\n",
    "Интерпретация результатов очень похожа."
   ]
  },
  {
   "cell_type": "code",
   "execution_count": 17,
   "id": "07690c04",
   "metadata": {
    "pycharm": {
     "name": "#%%\n"
    }
   },
   "outputs": [
    {
     "data": {
      "text/plain": [
       "2.619678072486944"
      ]
     },
     "execution_count": 17,
     "metadata": {},
     "output_type": "execute_result"
    }
   ],
   "source": [
    "# сверхдисперсия\n",
    "neg.pearson_chi2/neg.df_resid"
   ]
  },
  {
   "cell_type": "markdown",
   "id": "772ca47a",
   "metadata": {
    "pycharm": {
     "name": "#%% md\n"
    }
   },
   "source": [
    "Сравним модели с помощью информационного критерия Акаике (AIC):\n",
    "\n",
    "- Его абсолютное значение ничего не значит, полезен только для сравнения моделей\n",
    "- Чем он ниже, тем лучше модель\n",
    "\n",
    "> Мы можем сравнить два разных типа моделей через AIC (при условии, что ЗП и НП одинаковые)."
   ]
  },
  {
   "cell_type": "code",
   "execution_count": 18,
   "id": "a8b2c9cb",
   "metadata": {
    "pycharm": {
     "name": "#%%\n"
    }
   },
   "outputs": [
    {
     "name": "stdout",
     "output_type": "stream",
     "text": [
      "11240.817775454603\n",
      "8870.632884339047\n"
     ]
    }
   ],
   "source": [
    "print(pois.aic)\n",
    "print(neg.aic)"
   ]
  },
  {
   "cell_type": "markdown",
   "id": "291127bb",
   "metadata": {
    "pycharm": {
     "name": "#%% md\n"
    }
   },
   "source": [
    "Предиктивная способность негативно-биномиальной модели лучше."
   ]
  },
  {
   "cell_type": "markdown",
   "id": "292cf65b",
   "metadata": {
    "pycharm": {
     "name": "#%% md\n"
    }
   },
   "source": [
    "***\n",
    "## <font color = DarkGreen size = 5> <b>Регрессия с повышенным количеством нулей (zero-inflated)</b> </font>\n",
    "\n",
    "**Если в распределении наблюдается выброс нулей, тогда предполагаем, что у нас есть два процесса:**\n",
    "\n",
    "1. Основной (Пуассоновский или отрицательно-биномиальный)\n",
    "2. Дополнительны (генерирующий лишние нули)\n",
    "\n",
    "| Распределение | Разброс значений<br>зависимой переменной | Параметры | Функция связи |\n",
    "| -----: | :-----: | :----- | :-----: |\n",
    "| Пуассоновское | $[0; \\infty)$ | $\\lambda$ - темп (rate)<br>$\\pi$ - вероятность принадлежности нуля одному из двух процессов | Логарифм |\n",
    "| Отрицательное биномиальное | $[0; \\infty)$ | $\\mu$ - среднее<br>$\\theta$ - форма / дисперсия<br>$\\pi$ - вероятность принадлежности нуля одному из двух процессов | Логарифм |\n",
    "\n",
    "##### <font color = SlateBlue size = 3> Пример </font>\n",
    "Используем данные по владельцам кредитных карточек"
   ]
  },
  {
   "cell_type": "code",
   "execution_count": 19,
   "id": "08c80c41",
   "metadata": {
    "pycharm": {
     "name": "#%%\n"
    }
   },
   "outputs": [],
   "source": [
    "# перекодируем категориальные данные: yes, no = 1, 0\n",
    "df.owner = np.where(df.owner == 'yes', 1, 0)\n",
    "df.selfemp = np.where(df.selfemp == 'yes', 1, 0)\n",
    "\n",
    "Y = df.active\n",
    "X = df.loc[:, ['owner', 'selfemp', 'age', 'income', 'expenditure']]\n",
    "X = sm.add_constant(X) # добавляем константу, чтобы в модели был intercept"
   ]
  },
  {
   "cell_type": "code",
   "execution_count": 20,
   "id": "9f94a0a1",
   "metadata": {
    "pycharm": {
     "name": "#%%\n"
    }
   },
   "outputs": [
    {
     "name": "stdout",
     "output_type": "stream",
     "text": [
      "Optimization terminated successfully.\n",
      "         Current function value: 3.899929\n",
      "         Iterations: 4\n",
      "         Function evaluations: 6\n",
      "         Gradient evaluations: 6\n",
      "         Hessian evaluations: 4\n"
     ]
    },
    {
     "data": {
      "text/html": [
       "<table class=\"simpletable\">\n",
       "<caption>ZeroInflatedPoisson Regression Results</caption>\n",
       "<tr>\n",
       "  <th>Dep. Variable:</th>         <td>active</td>        <th>  No. Observations:  </th>  <td>  1319</td> \n",
       "</tr>\n",
       "<tr>\n",
       "  <th>Model:</th>           <td>ZeroInflatedPoisson</td> <th>  Df Residuals:      </th>  <td>  1313</td> \n",
       "</tr>\n",
       "<tr>\n",
       "  <th>Method:</th>                  <td>MLE</td>         <th>  Df Model:          </th>  <td>     5</td> \n",
       "</tr>\n",
       "<tr>\n",
       "  <th>Date:</th>             <td>Mon, 19 Feb 2024</td>   <th>  Pseudo R-squ.:     </th> <td>-0.05893</td>\n",
       "</tr>\n",
       "<tr>\n",
       "  <th>Time:</th>                 <td>15:00:20</td>       <th>  Log-Likelihood:    </th> <td> -5144.0</td>\n",
       "</tr>\n",
       "<tr>\n",
       "  <th>converged:</th>              <td>True</td>         <th>  LL-Null:           </th> <td> -4857.8</td>\n",
       "</tr>\n",
       "<tr>\n",
       "  <th>Covariance Type:</th>      <td>nonrobust</td>      <th>  LLR p-value:       </th>  <td> 1.000</td> \n",
       "</tr>\n",
       "</table>\n",
       "<table class=\"simpletable\">\n",
       "<tr>\n",
       "        <td></td>           <th>coef</th>     <th>std err</th>      <th>z</th>      <th>P>|z|</th>  <th>[0.025</th>    <th>0.975]</th>  \n",
       "</tr>\n",
       "<tr>\n",
       "  <th>inflate_const</th> <td>    0.0999</td> <td>    0.055</td> <td>    1.812</td> <td> 0.070</td> <td>   -0.008</td> <td>    0.208</td>\n",
       "</tr>\n",
       "<tr>\n",
       "  <th>const</th>         <td>    1.7967</td> <td>    0.037</td> <td>   48.172</td> <td> 0.000</td> <td>    1.724</td> <td>    1.870</td>\n",
       "</tr>\n",
       "<tr>\n",
       "  <th>owner</th>         <td>    0.0017</td> <td>    0.023</td> <td>    0.073</td> <td> 0.942</td> <td>   -0.043</td> <td>    0.046</td>\n",
       "</tr>\n",
       "<tr>\n",
       "  <th>selfemp</th>       <td>    0.0008</td> <td>    0.039</td> <td>    0.022</td> <td> 0.983</td> <td>   -0.075</td> <td>    0.077</td>\n",
       "</tr>\n",
       "<tr>\n",
       "  <th>age</th>           <td>    0.0093</td> <td>    0.001</td> <td>    8.656</td> <td> 0.000</td> <td>    0.007</td> <td>    0.011</td>\n",
       "</tr>\n",
       "<tr>\n",
       "  <th>income</th>        <td>    0.0019</td> <td>    0.007</td> <td>    0.280</td> <td> 0.779</td> <td>   -0.011</td> <td>    0.015</td>\n",
       "</tr>\n",
       "<tr>\n",
       "  <th>expenditure</th>   <td>    0.0001</td> <td> 3.81e-05</td> <td>    2.691</td> <td> 0.007</td> <td> 2.79e-05</td> <td>    0.000</td>\n",
       "</tr>\n",
       "</table>"
      ],
      "text/plain": [
       "<class 'statsmodels.iolib.summary.Summary'>\n",
       "\"\"\"\n",
       "                     ZeroInflatedPoisson Regression Results                    \n",
       "===============================================================================\n",
       "Dep. Variable:                  active   No. Observations:                 1319\n",
       "Model:             ZeroInflatedPoisson   Df Residuals:                     1313\n",
       "Method:                            MLE   Df Model:                            5\n",
       "Date:                 Mon, 19 Feb 2024   Pseudo R-squ.:                -0.05893\n",
       "Time:                         15:00:20   Log-Likelihood:                -5144.0\n",
       "converged:                        True   LL-Null:                       -4857.8\n",
       "Covariance Type:             nonrobust   LLR p-value:                     1.000\n",
       "=================================================================================\n",
       "                    coef    std err          z      P>|z|      [0.025      0.975]\n",
       "---------------------------------------------------------------------------------\n",
       "inflate_const     0.0999      0.055      1.812      0.070      -0.008       0.208\n",
       "const             1.7967      0.037     48.172      0.000       1.724       1.870\n",
       "owner             0.0017      0.023      0.073      0.942      -0.043       0.046\n",
       "selfemp           0.0008      0.039      0.022      0.983      -0.075       0.077\n",
       "age               0.0093      0.001      8.656      0.000       0.007       0.011\n",
       "income            0.0019      0.007      0.280      0.779      -0.011       0.015\n",
       "expenditure       0.0001   3.81e-05      2.691      0.007    2.79e-05       0.000\n",
       "=================================================================================\n",
       "\"\"\""
      ]
     },
     "execution_count": 20,
     "metadata": {},
     "output_type": "execute_result"
    }
   ],
   "source": [
    "zeroinf = sm.ZeroInflatedPoisson(Y, X).fit(maxiter = 100, method = 'ncg')\n",
    "zeroinf.summary()"
   ]
  },
  {
   "cell_type": "markdown",
   "id": "49de3a30",
   "metadata": {
    "pycharm": {
     "name": "#%% md\n"
    }
   },
   "source": [
    "Появился коэффициент `inflate` - это коэффициент, отвечающий за компенсацию лишних нулей.\n",
    "\n",
    "Изменилась интерпретация. Количество крединтых кард растёт в зависимости от:\n",
    "\n",
    "* возраста\n",
    "* расходов"
   ]
  },
  {
   "cell_type": "code",
   "execution_count": 21,
   "id": "5c30a2ef",
   "metadata": {
    "pycharm": {
     "name": "#%%\n"
    }
   },
   "outputs": [
    {
     "name": "stdout",
     "output_type": "stream",
     "text": [
      "11240.817775454603\n",
      "8870.632884339047\n",
      "10300.01303290444\n"
     ]
    }
   ],
   "source": [
    "print(pois.aic)\n",
    "print(neg.aic)\n",
    "print(zeroinf.aic)"
   ]
  },
  {
   "cell_type": "markdown",
   "id": "c285049a",
   "metadata": {
    "pycharm": {
     "name": "#%% md\n"
    }
   },
   "source": [
    "Построим ZeroInflated на основе отрицательно-биномиального распределения."
   ]
  },
  {
   "cell_type": "code",
   "execution_count": 22,
   "id": "9dc43cb3",
   "metadata": {
    "pycharm": {
     "name": "#%%\n"
    }
   },
   "outputs": [
    {
     "name": "stdout",
     "output_type": "stream",
     "text": [
      "Optimization terminated successfully.\n",
      "         Current function value: 3.055914\n",
      "         Iterations: 5\n",
      "         Function evaluations: 9\n",
      "         Gradient evaluations: 9\n",
      "         Hessian evaluations: 5\n"
     ]
    },
    {
     "data": {
      "text/html": [
       "<table class=\"simpletable\">\n",
       "<caption>ZeroInflatedNegativeBinomialP Regression Results</caption>\n",
       "<tr>\n",
       "  <th>Dep. Variable:</th>              <td>active</td>             <th>  No. Observations:  </th>  <td>  1319</td> \n",
       "</tr>\n",
       "<tr>\n",
       "  <th>Model:</th>           <td>ZeroInflatedNegativeBinomialP</td> <th>  Df Residuals:      </th>  <td>  1313</td> \n",
       "</tr>\n",
       "<tr>\n",
       "  <th>Method:</th>                       <td>MLE</td>              <th>  Df Model:          </th>  <td>     5</td> \n",
       "</tr>\n",
       "<tr>\n",
       "  <th>Date:</th>                  <td>Mon, 19 Feb 2024</td>        <th>  Pseudo R-squ.:     </th> <td>-0.03018</td>\n",
       "</tr>\n",
       "<tr>\n",
       "  <th>Time:</th>                      <td>15:00:41</td>            <th>  Log-Likelihood:    </th> <td> -4030.7</td>\n",
       "</tr>\n",
       "<tr>\n",
       "  <th>converged:</th>                   <td>True</td>              <th>  LL-Null:           </th> <td> -3912.7</td>\n",
       "</tr>\n",
       "<tr>\n",
       "  <th>Covariance Type:</th>           <td>nonrobust</td>           <th>  LLR p-value:       </th>  <td> 1.000</td> \n",
       "</tr>\n",
       "</table>\n",
       "<table class=\"simpletable\">\n",
       "<tr>\n",
       "        <td></td>           <th>coef</th>     <th>std err</th>      <th>z</th>      <th>P>|z|</th>  <th>[0.025</th>    <th>0.975]</th>  \n",
       "</tr>\n",
       "<tr>\n",
       "  <th>inflate_const</th> <td>   -0.5152</td> <td>    0.058</td> <td>   -8.820</td> <td> 0.000</td> <td>   -0.630</td> <td>   -0.401</td>\n",
       "</tr>\n",
       "<tr>\n",
       "  <th>const</th>         <td>    1.4543</td> <td>    0.087</td> <td>   16.765</td> <td> 0.000</td> <td>    1.284</td> <td>    1.624</td>\n",
       "</tr>\n",
       "<tr>\n",
       "  <th>owner</th>         <td>    0.3590</td> <td>    0.050</td> <td>    7.112</td> <td> 0.000</td> <td>    0.260</td> <td>    0.458</td>\n",
       "</tr>\n",
       "<tr>\n",
       "  <th>selfemp</th>       <td>    0.0029</td> <td>    0.090</td> <td>    0.032</td> <td> 0.974</td> <td>   -0.173</td> <td>    0.178</td>\n",
       "</tr>\n",
       "<tr>\n",
       "  <th>age</th>           <td>    0.0097</td> <td>    0.003</td> <td>    3.757</td> <td> 0.000</td> <td>    0.005</td> <td>    0.015</td>\n",
       "</tr>\n",
       "<tr>\n",
       "  <th>income</th>        <td>    0.0352</td> <td>    0.016</td> <td>    2.234</td> <td> 0.026</td> <td>    0.004</td> <td>    0.066</td>\n",
       "</tr>\n",
       "<tr>\n",
       "  <th>expenditure</th>   <td> 5.109e-05</td> <td> 9.08e-05</td> <td>    0.563</td> <td> 0.573</td> <td>   -0.000</td> <td>    0.000</td>\n",
       "</tr>\n",
       "<tr>\n",
       "  <th>alpha</th>         <td>    0.4517</td> <td>    0.032</td> <td>   14.330</td> <td> 0.000</td> <td>    0.390</td> <td>    0.514</td>\n",
       "</tr>\n",
       "</table>"
      ],
      "text/plain": [
       "<class 'statsmodels.iolib.summary.Summary'>\n",
       "\"\"\"\n",
       "                     ZeroInflatedNegativeBinomialP Regression Results                    \n",
       "=========================================================================================\n",
       "Dep. Variable:                            active   No. Observations:                 1319\n",
       "Model:             ZeroInflatedNegativeBinomialP   Df Residuals:                     1313\n",
       "Method:                                      MLE   Df Model:                            5\n",
       "Date:                           Mon, 19 Feb 2024   Pseudo R-squ.:                -0.03018\n",
       "Time:                                   15:00:41   Log-Likelihood:                -4030.7\n",
       "converged:                                  True   LL-Null:                       -3912.7\n",
       "Covariance Type:                       nonrobust   LLR p-value:                     1.000\n",
       "=================================================================================\n",
       "                    coef    std err          z      P>|z|      [0.025      0.975]\n",
       "---------------------------------------------------------------------------------\n",
       "inflate_const    -0.5152      0.058     -8.820      0.000      -0.630      -0.401\n",
       "const             1.4543      0.087     16.765      0.000       1.284       1.624\n",
       "owner             0.3590      0.050      7.112      0.000       0.260       0.458\n",
       "selfemp           0.0029      0.090      0.032      0.974      -0.173       0.178\n",
       "age               0.0097      0.003      3.757      0.000       0.005       0.015\n",
       "income            0.0352      0.016      2.234      0.026       0.004       0.066\n",
       "expenditure    5.109e-05   9.08e-05      0.563      0.573      -0.000       0.000\n",
       "alpha             0.4517      0.032     14.330      0.000       0.390       0.514\n",
       "=================================================================================\n",
       "\"\"\""
      ]
     },
     "execution_count": 22,
     "metadata": {},
     "output_type": "execute_result"
    }
   ],
   "source": [
    "zeroinf2 = sm.ZeroInflatedNegativeBinomialP(Y, X).fit(maxiter = 100, method = 'ncg')\n",
    "zeroinf2.summary()"
   ]
  },
  {
   "cell_type": "markdown",
   "id": "76fb2db6",
   "metadata": {
    "pycharm": {
     "name": "#%% md\n"
    }
   },
   "source": [
    "Здесь интерпретация результатов похожа на изначальную.\n",
    "\n",
    "Ещё есть параметр `alpha`, который оценивает избыток дисперсии."
   ]
  },
  {
   "cell_type": "code",
   "execution_count": 23,
   "id": "945e1ffe",
   "metadata": {
    "pycharm": {
     "name": "#%%\n"
    }
   },
   "outputs": [
    {
     "name": "stdout",
     "output_type": "stream",
     "text": [
      "11240.817775454603\n",
      "8870.632884339047\n",
      "10300.01303290444\n",
      "8073.499950321415\n"
     ]
    }
   ],
   "source": [
    "print(pois.aic)\n",
    "print(neg.aic)\n",
    "print(zeroinf.aic)\n",
    "print(zeroinf2.aic)"
   ]
  },
  {
   "cell_type": "markdown",
   "id": "eb4ab153",
   "metadata": {
    "pycharm": {
     "name": "#%% md\n"
    }
   },
   "source": [
    "Zero-inflated лучше своих обычных вариантов в данной ситуации."
   ]
  },
  {
   "cell_type": "markdown",
   "id": "53fea2b0",
   "metadata": {
    "pycharm": {
     "name": "#%% md\n"
    }
   },
   "source": [
    "***\n",
    "## <font color = DarkGreen size = 5> <b>Регрессия выживаемости (survival)</b> </font>\n"
   ]
  },
  {
   "cell_type": "markdown",
   "id": "eaa6942f",
   "metadata": {
    "pycharm": {
     "name": "#%%\n"
    }
   },
   "source": [
    "Отток клиентов: у нас есть не только события (бинарная переменная), но и время до них.\n",
    "Но мы не можем определить время до события у тех, у кого оно не произошло.\n",
    "Но исключить их из модели мы тоже не можем.\n",
    "\n",
    "<img src=\"./img/st_15_image8.jpg\" alt=\"st_15_image8\" width=\"500\"/>\n",
    "\n",
    "Часть данных, для которой событие не произошло, называют цензурированной.\n",
    "Она также влияет на показатели итоговой модели.\n",
    "\n",
    "<img src=\"./img/st_15_image7.jpg\" alt=\"st_15_image7\" width=\"600\"/>"
   ]
  },
  {
   "cell_type": "markdown",
   "id": "cf9212bd",
   "metadata": {
    "pycharm": {
     "name": "#%%\n"
    }
   },
   "source": [
    "***\n",
    "### <font color = MediumBlue size = 4> <b>Модель ускорения времени неудач (Accelerated Failure Time Model, AFT) </b> </font>\n",
    "\n",
    "* Имя распределения - Вейбулла (как пример)\n",
    "* Разброс значений - (0;$\\infty$)\n",
    "* Параметры - $\\alpha$ (дисперсия), $\\gamma$ (форма)\n",
    "* Типичная функция связи - логарифм\n",
    "\n",
    "<img src=\"./img/st_15_image9.jpg\" alt=\"st_15_image9\" width=\"500\"/>\n"
   ]
  },
  {
   "cell_type": "code",
   "execution_count": null,
   "id": "b1a1eaa1",
   "metadata": {
    "pycharm": {
     "name": "#%%\n"
    }
   },
   "outputs": [],
   "source": [
    "#import lifelines as lf"
   ]
  },
  {
   "cell_type": "code",
   "execution_count": 27,
   "id": "616232a4",
   "metadata": {
    "pycharm": {
     "name": "#%%\n"
    }
   },
   "outputs": [
    {
     "data": {
      "text/html": [
       "<div>\n",
       "<style scoped>\n",
       "    .dataframe tbody tr th:only-of-type {\n",
       "        vertical-align: middle;\n",
       "    }\n",
       "\n",
       "    .dataframe tbody tr th {\n",
       "        vertical-align: top;\n",
       "    }\n",
       "\n",
       "    .dataframe thead th {\n",
       "        text-align: right;\n",
       "    }\n",
       "</style>\n",
       "<table border=\"1\" class=\"dataframe\">\n",
       "  <thead>\n",
       "    <tr style=\"text-align: right;\">\n",
       "      <th></th>\n",
       "      <th>customerID</th>\n",
       "      <th>gender</th>\n",
       "      <th>SeniorCitizen</th>\n",
       "      <th>Partner</th>\n",
       "      <th>Dependents</th>\n",
       "      <th>tenure</th>\n",
       "      <th>PhoneService</th>\n",
       "      <th>MultipleLines</th>\n",
       "      <th>InternetService</th>\n",
       "      <th>OnlineSecurity</th>\n",
       "      <th>...</th>\n",
       "      <th>DeviceProtection</th>\n",
       "      <th>TechSupport</th>\n",
       "      <th>StreamingTV</th>\n",
       "      <th>StreamingMovies</th>\n",
       "      <th>Contract</th>\n",
       "      <th>PaperlessBilling</th>\n",
       "      <th>PaymentMethod</th>\n",
       "      <th>MonthlyCharges</th>\n",
       "      <th>TotalCharges</th>\n",
       "      <th>Churn</th>\n",
       "    </tr>\n",
       "  </thead>\n",
       "  <tbody>\n",
       "    <tr>\n",
       "      <th>0</th>\n",
       "      <td>7590-VHVEG</td>\n",
       "      <td>Female</td>\n",
       "      <td>0</td>\n",
       "      <td>Yes</td>\n",
       "      <td>No</td>\n",
       "      <td>1</td>\n",
       "      <td>No</td>\n",
       "      <td>No phone service</td>\n",
       "      <td>DSL</td>\n",
       "      <td>No</td>\n",
       "      <td>...</td>\n",
       "      <td>No</td>\n",
       "      <td>No</td>\n",
       "      <td>No</td>\n",
       "      <td>No</td>\n",
       "      <td>Month-to-month</td>\n",
       "      <td>Yes</td>\n",
       "      <td>Electronic check</td>\n",
       "      <td>29.85</td>\n",
       "      <td>29.85</td>\n",
       "      <td>No</td>\n",
       "    </tr>\n",
       "    <tr>\n",
       "      <th>1</th>\n",
       "      <td>5575-GNVDE</td>\n",
       "      <td>Male</td>\n",
       "      <td>0</td>\n",
       "      <td>No</td>\n",
       "      <td>No</td>\n",
       "      <td>34</td>\n",
       "      <td>Yes</td>\n",
       "      <td>No</td>\n",
       "      <td>DSL</td>\n",
       "      <td>Yes</td>\n",
       "      <td>...</td>\n",
       "      <td>Yes</td>\n",
       "      <td>No</td>\n",
       "      <td>No</td>\n",
       "      <td>No</td>\n",
       "      <td>One year</td>\n",
       "      <td>No</td>\n",
       "      <td>Mailed check</td>\n",
       "      <td>56.95</td>\n",
       "      <td>1889.5</td>\n",
       "      <td>No</td>\n",
       "    </tr>\n",
       "    <tr>\n",
       "      <th>2</th>\n",
       "      <td>3668-QPYBK</td>\n",
       "      <td>Male</td>\n",
       "      <td>0</td>\n",
       "      <td>No</td>\n",
       "      <td>No</td>\n",
       "      <td>2</td>\n",
       "      <td>Yes</td>\n",
       "      <td>No</td>\n",
       "      <td>DSL</td>\n",
       "      <td>Yes</td>\n",
       "      <td>...</td>\n",
       "      <td>No</td>\n",
       "      <td>No</td>\n",
       "      <td>No</td>\n",
       "      <td>No</td>\n",
       "      <td>Month-to-month</td>\n",
       "      <td>Yes</td>\n",
       "      <td>Mailed check</td>\n",
       "      <td>53.85</td>\n",
       "      <td>108.15</td>\n",
       "      <td>Yes</td>\n",
       "    </tr>\n",
       "    <tr>\n",
       "      <th>3</th>\n",
       "      <td>7795-CFOCW</td>\n",
       "      <td>Male</td>\n",
       "      <td>0</td>\n",
       "      <td>No</td>\n",
       "      <td>No</td>\n",
       "      <td>45</td>\n",
       "      <td>No</td>\n",
       "      <td>No phone service</td>\n",
       "      <td>DSL</td>\n",
       "      <td>Yes</td>\n",
       "      <td>...</td>\n",
       "      <td>Yes</td>\n",
       "      <td>Yes</td>\n",
       "      <td>No</td>\n",
       "      <td>No</td>\n",
       "      <td>One year</td>\n",
       "      <td>No</td>\n",
       "      <td>Bank transfer (automatic)</td>\n",
       "      <td>42.30</td>\n",
       "      <td>1840.75</td>\n",
       "      <td>No</td>\n",
       "    </tr>\n",
       "    <tr>\n",
       "      <th>4</th>\n",
       "      <td>9237-HQITU</td>\n",
       "      <td>Female</td>\n",
       "      <td>0</td>\n",
       "      <td>No</td>\n",
       "      <td>No</td>\n",
       "      <td>2</td>\n",
       "      <td>Yes</td>\n",
       "      <td>No</td>\n",
       "      <td>Fiber optic</td>\n",
       "      <td>No</td>\n",
       "      <td>...</td>\n",
       "      <td>No</td>\n",
       "      <td>No</td>\n",
       "      <td>No</td>\n",
       "      <td>No</td>\n",
       "      <td>Month-to-month</td>\n",
       "      <td>Yes</td>\n",
       "      <td>Electronic check</td>\n",
       "      <td>70.70</td>\n",
       "      <td>151.65</td>\n",
       "      <td>Yes</td>\n",
       "    </tr>\n",
       "  </tbody>\n",
       "</table>\n",
       "<p>5 rows × 21 columns</p>\n",
       "</div>"
      ],
      "text/plain": [
       "   customerID  gender  SeniorCitizen Partner Dependents  tenure PhoneService  \\\n",
       "0  7590-VHVEG  Female              0     Yes         No       1           No   \n",
       "1  5575-GNVDE    Male              0      No         No      34          Yes   \n",
       "2  3668-QPYBK    Male              0      No         No       2          Yes   \n",
       "3  7795-CFOCW    Male              0      No         No      45           No   \n",
       "4  9237-HQITU  Female              0      No         No       2          Yes   \n",
       "\n",
       "      MultipleLines InternetService OnlineSecurity  ... DeviceProtection  \\\n",
       "0  No phone service             DSL             No  ...               No   \n",
       "1                No             DSL            Yes  ...              Yes   \n",
       "2                No             DSL            Yes  ...               No   \n",
       "3  No phone service             DSL            Yes  ...              Yes   \n",
       "4                No     Fiber optic             No  ...               No   \n",
       "\n",
       "  TechSupport StreamingTV StreamingMovies        Contract PaperlessBilling  \\\n",
       "0          No          No              No  Month-to-month              Yes   \n",
       "1          No          No              No        One year               No   \n",
       "2          No          No              No  Month-to-month              Yes   \n",
       "3         Yes          No              No        One year               No   \n",
       "4          No          No              No  Month-to-month              Yes   \n",
       "\n",
       "               PaymentMethod MonthlyCharges  TotalCharges Churn  \n",
       "0           Electronic check          29.85         29.85    No  \n",
       "1               Mailed check          56.95        1889.5    No  \n",
       "2               Mailed check          53.85        108.15   Yes  \n",
       "3  Bank transfer (automatic)          42.30       1840.75    No  \n",
       "4           Electronic check          70.70        151.65   Yes  \n",
       "\n",
       "[5 rows x 21 columns]"
      ]
     },
     "execution_count": 27,
     "metadata": {},
     "output_type": "execute_result"
    }
   ],
   "source": [
    "churn = pd.read_csv('./data/Telco-Customer-Churn.csv')\n",
    "churn.head()"
   ]
  },
  {
   "cell_type": "markdown",
   "id": "b4ca9a66",
   "metadata": {},
   "source": [
    "- **Churn** - ушёл клиент или нет\n",
    "- **tenure** - сколько месяцев пробыл с компанией\n",
    "- **SeniorCitizen** - клиент пожилой или нет\n",
    "- **Dependents** - есть иждивенцы в семье или нет\n",
    "- **MonthlyCharges** - сколько клиент платит в месяц\n",
    "- **PaperlessBilling** - оплата с чеком или бесчековая\n",
    "\n",
    "Распределение оттока:"
   ]
  },
  {
   "cell_type": "code",
   "execution_count": 28,
   "id": "654303d6",
   "metadata": {},
   "outputs": [
    {
     "data": {
      "text/plain": [
       "Text(0.5, 1.0, 'Судьба клиентов компании')"
      ]
     },
     "execution_count": 28,
     "metadata": {},
     "output_type": "execute_result"
    },
    {
     "data": {
      "image/png": "[encoded data removed]",
      "text/plain": [
       "<Figure size 640x480 with 1 Axes>"
      ]
     },
     "metadata": {},
     "output_type": "display_data"
    }
   ],
   "source": [
    "sns.countplot(x = 'Churn', data = churn)\n",
    "plt.xlabel('Ушёл ли клиент?')\n",
    "plt.ylabel('Количество')\n",
    "plt.title('Судьба клиентов компании')"
   ]
  },
  {
   "cell_type": "markdown",
   "id": "30a29e06",
   "metadata": {},
   "source": [
    "Распределение, сколько люди месяцев проводят с компанией:"
   ]
  },
  {
   "cell_type": "code",
   "execution_count": 30,
   "id": "f941d817",
   "metadata": {},
   "outputs": [
    {
     "data": {
      "text/plain": [
       "Text(0.5, 1.0, 'Сколько времени клиенты провели с компанией')"
      ]
     },
     "execution_count": 30,
     "metadata": {},
     "output_type": "execute_result"
    },
    {
     "data": {
      "image/png": "[encoded data removed]",
      "text/plain": [
       "<Figure size 640x480 with 1 Axes>"
      ]
     },
     "metadata": {},
     "output_type": "display_data"
    }
   ],
   "source": [
    "sns.distplot(churn['tenure'], kde = False)\n",
    "plt.xlabel('Количество месяцев')\n",
    "plt.ylabel('Частота')\n",
    "plt.title('Сколько времени клиенты провели с компанией')"
   ]
  },
  {
   "cell_type": "markdown",
   "id": "28e97d75",
   "metadata": {},
   "source": [
    "Предварительно подготовим данные:"
   ]
  },
  {
   "cell_type": "code",
   "execution_count": 31,
   "id": "7e2e75f6",
   "metadata": {},
   "outputs": [],
   "source": [
    "churn['tenure'] = churn['tenure'] + 0.001    # чтобы не было нулевых месяцев\n",
    "churn['Churn'] = np.where(churn['Churn'] == 'Yes', 1, 0)    # перекодируем в числа\n",
    "churn['SeniorCitizen'] = np.where(churn['SeniorCitizen'] == 1, 'Yes', 'No')    # наоборот"
   ]
  },
  {
   "cell_type": "markdown",
   "id": "f2032c9b",
   "metadata": {},
   "source": [
    "Строим модель. Ей нужно указать данные, колонку со временем, колонку с событием, и опционально формулу."
   ]
  },
  {
   "cell_type": "code",
   "execution_count": null,
   "id": "5d84aa58",
   "metadata": {},
   "outputs": [],
   "source": [
    "#surv = lf.WeibullAFTFitter()\n",
    "\n",
    "#surv.fit(df = churn, duration_col = 'tenure', event_col = 'Churn', \n",
    "#         formula = 'C(SeniorCitizen) + C(Dependents) + MonthlyCharges + C(PaperlessBilling)')"
   ]
  },
  {
   "cell_type": "code",
   "execution_count": null,
   "id": "99606fa9",
   "metadata": {},
   "outputs": [],
   "source": [
    "#surv.print_summary()"
   ]
  },
  {
   "cell_type": "markdown",
   "id": "0d0e60bd",
   "metadata": {},
   "source": [
    "Если коэффициент меньше нуля - время до события короче.\n",
    "Если коэффициент больше нуля - время до события дольше.\n",
    "\n",
    "Интерпретация:\n",
    "* Пожилые люди меньше времени пользуются сервисом\n",
    "* Те, у кого бесчековая оплата - ещё меньше\n",
    "* Люди с иждивенциами пользуются им больше обычного"
   ]
  },
  {
   "cell_type": "markdown",
   "id": "5aa240fc",
   "metadata": {},
   "source": [
    "* Переменная из двух категорий – биномиальная регрессия\n",
    "* Категорий больше – мультиномиальная\n",
    "* В категориях есть явное убывание или нарастание – порядковая\n",
    "* Считаем количество чего-то – Пуассоновская\n",
    "* Дисперсия больше среднего – отрицательно-биномиальная\n",
    "* Слишком много нулей – zero-inflated-модель\n",
    "* У нас есть какое-то событие и время до него – анализ выживаемости"
   ]
  },
  {
   "cell_type": "code",
   "execution_count": null,
   "id": "fc0c1938",
   "metadata": {},
   "outputs": [],
   "source": []
  }
 ],
 "metadata": {
  "kernelspec": {
   "display_name": "Python 3 (ipykernel)",
   "language": "python",
   "name": "python3"
  },
  "language_info": {
   "codemirror_mode": {
    "name": "ipython",
    "version": 3
   },
   "file_extension": ".py",
   "mimetype": "text/x-python",
   "name": "python",
   "nbconvert_exporter": "python",
   "pygments_lexer": "ipython3",
   "version": "3.9.13"
  }
 },
 "nbformat": 4,
 "nbformat_minor": 5
}
