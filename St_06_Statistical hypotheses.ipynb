{
 "cells": [
  {
   "cell_type": "markdown",
   "id": "a221579f",
   "metadata": {},
   "source": [
    "# <font color = Crimson size = 6> <b>Статистические гипотезы</b> </font>"
   ]
  },
  {
   "cell_type": "markdown",
   "id": "ca56ed76",
   "metadata": {},
   "source": [
    "___\n",
    "## <font color = DarkGreen size = 5> <b>Гипотеза о равенстве генеральных средних двух распределений</b> </font>\n",
    "\n",
    "Из двух **генеральных совокупностей** извлечены **выборки** объёмов $n$ и $m$ и найдены их **выборочные средние**: $\\bar{x}$ и $\\bar{y}$ соответственно. Требуется **на уровне значимости** $\\alpha$ проверить гипотезу $H_0: \\bar{X} = \\bar{Y}$ о равенстве **генеральных средних** против одной из следующих конкурирующих гипотез:\\\n",
    "$H_1: \\bar{X} < \\bar{Y}$ – левосторонняя критическая область \\\n",
    "$H_1: \\bar{X} > \\bar{Y}$ – правосторонняя критическая область \\\n",
    "$H_1: \\bar{X} \\not= \\bar{Y}$ – двусторонняя критическая область"
   ]
  },
  {
   "cell_type": "markdown",
   "id": "0012cdbc",
   "metadata": {},
   "source": [
    "___\n",
    "### <font color = MediumBlue size = 4> <b>Выборки независимы ($n>30$,$m>30$),<br>генеральные совокупности распределены нормально<br>и известны их дисперсии $\\sigma_x^2$ и $\\sigma_y^2$</b> </font>\n",
    "\n",
    "Для проверки нулевой гипотезы используют статистический критерий \\\n",
    "$\\displaystyle Z = \\frac{\\bar{x}-\\bar{y}}{\\displaystyle \\sqrt{\\frac{\\sigma_x^2}{n}+\\frac{\\sigma_y^2}{m}}}$\n",
    "\n",
    "Критическая область однозначно определяется критическим значением $z_к$, которое отыскивается из соотношения: \\\n",
    "$\\displaystyle \\Phi(z_к) = \\frac{1-2\\alpha}{2}$ – для односторонней области \\\n",
    "$\\displaystyle \\Phi(z_к) = \\frac{1-\\alpha}{2}$ – для двусторонней области \\\n",
    "$\\alpha$ – выбранный уровень значимости \\\n",
    "$\\Phi(z)$ – функция Лапласа\n",
    "\n",
    "Далее на основании выборочных данных рассчитывается наблюдаемое значение критерия:\n",
    "$\\displaystyle z_н = \\frac{\\bar{x}-\\bar{y}}{\\displaystyle \\sqrt{\\frac{\\sigma_x^2}{n}+\\frac{\\sigma_y^2}{m}}}$\n",
    "\n",
    "Если $z_н$ в критическую область НЕ попадает, то гипотезу $H_0: \\bar{X} = \\bar{Y}$ на уровне значимости $\\alpha$ принимаем. \\\n",
    "Если же попадает, то нулевая гипотеза отвергается в пользу альтернативной гипотезы $H_1$.\n"
   ]
  },
  {
   "cell_type": "markdown",
   "id": "b0ab2f43",
   "metadata": {},
   "source": [
    "___\n",
    "### <font color = MediumBlue size = 4> <b>Независимые выборки достаточно большие ($n>30$,$m>30$),<br>генеральные дисперсии неизвестны,<br>генеральные совокупности могут иметь и другое распределение (не нормальное)</b> </font>\n",
    "\n",
    "Для проверки нулевой гипотезы используют статистический критерий \\\n",
    "$\\displaystyle Z = \\frac{\\bar{x}-\\bar{y}}{\\displaystyle \\sqrt{\\frac{D_x^2}{n}+\\frac{D_y^2}{m}}}$, где \\\n",
    "$\\bar{x}$, $\\bar{y}$ - выборочные средние \\\n",
    "$D_x^2$, $D_y^2$ - смещенные выборочные дисперсии (можно использовать и несмещенную)"
   ]
  },
  {
   "cell_type": "markdown",
   "id": "d51ca4cc",
   "metadata": {},
   "source": [
    "___\n",
    "### <font color = MediumBlue size = 4> <b>Малые независимые выборки ($n<30$,$m<30$),<br>генеральные совокупности распределены нормально<br>и дисперсии их неизвестны</b> </font>\n",
    "\n",
    "Если предположить или доказать, что генеральные дисперсии одинаковы (хотя и не известны), то для проверки гипотезы \\\n",
    "$H_0: \\bar{X} = \\bar{Y}$ (значимо или незначимо различаются выборочные средние $\\bar{x}$ и $\\bar{y}$, найденные по независимым малым выборкам объемов $n$ и $m$) можно использовать следующий критерий:\n",
    "\n",
    "$\\displaystyle T = \\frac{\\bar{x}-\\bar{y}}{\\sqrt{(n-1)S_x^2+(m-1)S_y^2}} \\cdot \\sqrt{\\frac{nm(n+m-2)}{n+m}}$, где \\\n",
    "$\\bar{x}$, $\\bar{y}$ - выборочные средние \\\n",
    "$S_x^2$, $S_y^2$ - несмещенные выборочные дисперсии\n",
    "\n",
    "Эта случайная величина распределена по закону Стьюдента с $k=n+m-2$ степенями свободы."
   ]
  },
  {
   "cell_type": "markdown",
   "id": "bad1798f",
   "metadata": {},
   "source": [
    "##### <font color = SlateBlue size = 3> Пример </font>\n",
    "\n",
    "Первые премии Оскар за лучшую мужскую и женскую роль были вручены в 1929. Данные гистограммы демонстрируют распределение возраста победителей с 1929 по 2014 год (100 мужчин, 100 женщин). Используя t-критерий проверьте, можно ли считать наблюдаемые различия в возрасте между лучшими актрисами и актерами статистически достоверными. Средний возраст мужчин равен 45, sd = 9. Средний возраст женщин равен 34, sd = 10.\n",
    "\n",
    "$H_0: \\bar{X} = \\bar{Y}$ \\\n",
    "$H_1: \\bar{X} \\not= \\bar{Y}$ – двусторонняя критическая область\n",
    "\n",
    "Если $|t_н| < t_к$, то гипотеза $H_0$ принимается, в противном случае – отвергается."
   ]
  },
  {
   "cell_type": "code",
   "execution_count": 1,
   "id": "8ed8d1ce",
   "metadata": {},
   "outputs": [
    {
     "name": "stdout",
     "output_type": "stream",
     "text": [
      "Tn = 8.18\n",
      "Tk = 1.9720174778338955\n",
      "H0: M(X)=M(Y) is False\n"
     ]
    }
   ],
   "source": [
    "from math import sqrt\n",
    "from scipy.stats import t\n",
    "\n",
    "a_x, sd_x, a_y, sd_y = 45, 9, 34, 10\n",
    "n, m = 100, 100\n",
    "alpha = 0.05\n",
    "\n",
    "se = sqrt((sd_x**2+sd_y**2)/n)\n",
    "Tn = round((a_x - a_y)/se,2)\n",
    "print(f'{Tn = }')\n",
    "\n",
    "df = n + m - 2\n",
    "Tk = t.ppf(1-alpha/2, df)\n",
    "print(f'{Tk = }')\n",
    "\n",
    "print(f'H0: M(X)=M(Y) is {abs(Tn)<Tk}')"
   ]
  },
  {
   "cell_type": "code",
   "execution_count": 2,
   "id": "95b5b91c",
   "metadata": {},
   "outputs": [
    {
     "name": "stdout",
     "output_type": "stream",
     "text": [
      "p_value = 3.375077994860476e-14\n",
      "H0: M(X)=M(Y) is False\n"
     ]
    }
   ],
   "source": [
    "p_value = (1-t.cdf(abs(Tn),df))*2\n",
    "print(f'{p_value = }')\n",
    "print(f'H0: M(X)=M(Y) is {p_value>alpha}')"
   ]
  },
  {
   "cell_type": "markdown",
   "id": "a5abce5b",
   "metadata": {},
   "source": [
    "___\n",
    "### <font color = MediumBlue size = 4> <b>Выборки зависимы,<br>генеральные совокупности распределены нормально<br>и дисперсии их неизвестны</b> </font>\n",
    "\n",
    "Здесь рассматриваются выборки одинакового объёма, варианты которых попарно зависимы.\n",
    "\n",
    "Пусть генеральные совокупности $X$ и $Y$ распределены нормально, причем их дисперсии неизвестны. \\\n",
    "Требуется при уровне значимости $\\alpha$ проверить нулевую гипотезу $H_0: M(X) = M(Y)$ о равенстве генеральных средних нормальных совокупностей с неизвестными дисперсиями при конкурирующей гипотезе $H_1: M(X) \\not= M(Y)$ по двум зависимым выборкам одинакового объема.\n",
    "\n",
    "В случае зависимых выборок гипотеза о равенстве генеральных средних сводится к уже разобранной **гипотезе о значении генеральной средней**. Тогда речь идет о случайной величине $\\bar{D}=\\bar{x}-\\bar{y}$ – случайной разнице между случайными значениями $\\bar{x}$ и $\\bar{y}$ выборочных средних. \\\n",
    "И мы проверяем гипотезу о том, что генеральная средняя (матожидание) этой разницы равна нулю \\\n",
    "$H_0: M(\\bar{D})=0$ против \\\n",
    "$H_1: M(\\bar{D})\\not=0$ или $H_1: M(\\bar{D})>0$ или $H_1: M(\\bar{D})<0$.\n",
    "\n",
    "$\\displaystyle T = \\frac{\\bar{d}\\sqrt{n}}{S_d}$, где \\\n",
    "$\\bar{d}$ – случайная разница между выборочными средними, \\\n",
    "$S_d$ - несмещенное стандартное отклонение.\n",
    "\n",
    "Критерий имеет распределение Стьюдента с количеством степеней свободы $k=n-1$.\\\n",
    "$t_к$ ищем по таблице критических значений Стьюдента.\n",
    "\n",
    "Для $t_н$ находим \n",
    "\n",
    "* выборочную среднюю: $\\displaystyle \\bar{d} = \\bar{x} - \\bar{y} = \\frac{\\sum{d_i}}{n}$\n",
    "\n",
    "* несмещенное стандартное отклонение: $\\displaystyle S_d = \\sqrt{\\displaystyle \\frac{\\sum{d_i^2} - \\displaystyle \\frac{(\\sum{d_i})^2}{n}}{n-1}}$\n"
   ]
  },
  {
   "attachments": {
    "image-2.png": {
     "image/png": "[encoded data removed]"
    },
    "image.png": {
     "image/png": "[encoded data removed]"
    }
   },
   "cell_type": "markdown",
   "id": "56cfd281",
   "metadata": {},
   "source": [
    "___\n",
    "## <font color = DarkGreen size = 5> <b>Гипотеза о равенстве генеральных дисперсий двух нормальных распределений</b> </font>\n",
    "\n",
    "Пусть генеральные совокупности $X$ и $Y$ распределены нормально. По независимым выборкам с объемами $n$ и $m$ соответственно извлеченным из этих совокупностей, найдены их несмещенные дисперсии $S_x^2$ и $S_y^2$. Требуется по несмещенным дисперсиям при заданном уровне значимости $\\alpha$ проверить нулевую гипотезу, состоящую в том, что генеральные дисперсии рассматриваемых совокупностей равны между собой: $H_0: D(X)=D(Y)$.\n",
    "\n",
    "Учитывая, что $S_x^2$ и $S_y^2$ – несмещенные дисперсии, т.е. $M(S_x^2)=D(X)$ и $M(S_y^2)=D(Y)$, \\\n",
    "то нулевую гипотезу можно записать так: \\\n",
    "$H_0: M(S_x^2) = M(S_y^2)$\n",
    "\n",
    "Таким образом, требуется проверить, что математические ожидания несмещенных выборочных дисперсий равны между собой. Такая задача ставится потому, что обычно несмещенные дисперсии оказываются различными. Возникает вопрос: значимо (существенно) или незначимо различаются исправленные дисперсии?\n",
    "\n",
    "> Если окажется, что нулевая гипотеза справедлива, т.е. генеральные дисперсии одинаковы, то различие исправленных дисперсий незначимо и объясняется случайными причинами.\\\n",
    "Если нулевая гипотеза отвергнута, т.е. генеральные дисперсии неодинаковы, то различие исправленных дисперсий значимо и не \n",
    "может быть объяснено случайными причинами, а является следствием того, что сами генеральные дисперсии различны.\n",
    "\n",
    "В качестве критерия проверки нулевой гипотезы примем отношение большей несмещенной дисперсии к меньшей, т.е. случайную величину $\\displaystyle F = \\frac{S_{бол}^2}{S_{мен}^2}$\n",
    "\n",
    "Данная случайная величина имеет **распределение Фишера-Снедекора** (F-распределение) со степенями свободы: \\\n",
    "$k_1=n-1$ и $k_2=m-1$, если $S_x^2 > S_y^2$ \\\n",
    "или \\\n",
    "$k_1=m-1$ и $k_2=n-1$, если $S_x^2 < S_y^2$ \\\n",
    "То есть, степень свободы $k_1$ соответствует выборке с бОльшей несмещенной дисперсией.\n",
    "<br><br>\n",
    "\n",
    "\n",
    "В качестве альтернативы рассматривают одну из следующих гипотез:\n",
    "\n",
    "1) $H_1: \\sigma_x^2 > \\sigma_y^2$, если $S_x^2 > S_y^2$ **либо** $H_1: \\sigma_y^2 > \\sigma_x^2$, если $S_y^2 > S_x^2$.\\\n",
    "Для этой гипотезы строят правостороннюю критическую область:\n",
    "![image.png](attachment:image.png)\n",
    "Критическое значение $F_к = F_к(\\alpha,k_1,k_2)$\n",
    "\n",
    "2) $H_1: \\sigma_x^2 \\not= \\sigma_y^2$ – для этой гипотезы строится двусторонняя критическая область:\n",
    "![image-2.png](attachment:image-2.png)\n",
    "Для решения нашей задачи достаточно найти лишь правое критическое значение $F_{к.пр.} = F_к(\\alpha/2,k_1,k_2)$\n",
    "<br><br>\n",
    "\n",
    "\n",
    "На основании выборочных данных рассчитывается наблюдаемое значение критерия $F_н$, и если оно попадает в критическую область ($F_н > F_к$ для обоих случаев), то гипотеза $H_0: \\sigma_x^2 = \\sigma_y^2$ **отвергается**. Если $F_н < F_к$, то **принимается**."
   ]
  },
  {
   "cell_type": "code",
   "execution_count": 1,
   "id": "0e3b0f4e",
   "metadata": {},
   "outputs": [
    {
     "name": "stdout",
     "output_type": "stream",
     "text": [
      "Fk = 4.533676950275243\n",
      "alpha = 0.05\n",
      "Fk = 6.22716116435764\n",
      "alpha = 0.05\n"
     ]
    }
   ],
   "source": [
    "from scipy.stats import f\n",
    "\n",
    "alpha = 0.05\n",
    "p = 1 - alpha\n",
    "k1, k2 = 4, 6\n",
    "\n",
    "# правосторонняя критическая область\n",
    "Fk = f.ppf(p, k1, k2)\n",
    "print(f'{Fk = }')\n",
    "\n",
    "alpha = 1 - f.cdf(Fk, k1, k2)\n",
    "print(f'{alpha = :.2f}')\n",
    "\n",
    "# двусторонняя критическая область\n",
    "p = 1 - alpha/2\n",
    "Fk = f.ppf(p, k1, k2)\n",
    "print(f'{Fk = }')\n",
    "\n",
    "alpha = (1 - f.cdf(Fk, k1, k2))*2\n",
    "print(f'{alpha = :.2f}')"
   ]
  },
  {
   "cell_type": "markdown",
   "id": "91bc3110",
   "metadata": {},
   "source": [
    "##### <font color = SlateBlue size = 3> Пример </font>\n",
    "\n",
    "Некоторая физическая величина измерена $n=7$ и $m=5$ раз двумя различными способами. По результатам измерений найдены соответствующие погрешности $S_x^2=6.3$ и $S_y^2=10.1$. Требуется на уровне значимости 0,05 проверить, одинаковую ли точность обеспечивают эти способы измерений.\n",
    "\n",
    "Полагая, что погрешности измерений распределены нормально, проверим гипотезу $H_0: \\sigma_x^2 = \\sigma_y^2$ о том, что точность двух способов одинакова против конкурирующей гипотезы $H_1: \\sigma_y^2 > \\sigma_x^2$."
   ]
  },
  {
   "cell_type": "code",
   "execution_count": 2,
   "id": "52263008",
   "metadata": {},
   "outputs": [
    {
     "name": "stdout",
     "output_type": "stream",
     "text": [
      "Fk = 4.534\n",
      "Fn = 1.603\n",
      "H0: D(X) = D(Y) is True\n"
     ]
    }
   ],
   "source": [
    "from scipy.stats import f\n",
    "\n",
    "n, m = 7, 5\n",
    "s_x, s_y = 6.3, 10.1\n",
    "k1, k2 = m-1, n-1\n",
    "alpha = 0.05\n",
    "p = 1 - alpha\n",
    "\n",
    "Fk = round(f.ppf(p, k1, k2),3)\n",
    "print(f'{Fk = }')\n",
    "\n",
    "Fn = round(s_y/s_x,3)\n",
    "print(f'{Fn = }')\n",
    "\n",
    "print(f'H0: D(X) = D(Y) is {Fn<Fk}')"
   ]
  },
  {
   "cell_type": "markdown",
   "id": "97251c23",
   "metadata": {},
   "source": [
    "Различие выборочных значений $S_x^2=6.3$ и $S_y^2=10.1$ обусловлено случайными факторами, но прежде всего, малым количеством опытов.\n",
    "\n",
    "**Ответ**: на уровне значимости 0,05 точность способов измерения одинакова."
   ]
  },
  {
   "cell_type": "markdown",
   "id": "167c765f",
   "metadata": {},
   "source": [
    "___\n",
    "## <font color = DarkGreen size = 5> <b>Сравнение вероятностей двух биномиальных распределений</b> </font>\n",
    "\n",
    "Пусть в двух генеральных совокупностях проводятся независимые испытания, в каждом из которых событие $A$ может появиться – с неизвестной вероятностью $p_1$ в первой совокупности и с неизвестной вероятностью $p_2$ – во второй. По выборочным сериям испытаний объёмами $n_1$ и $n_2$ найдены соответствующие относительные частоты: \\\n",
    "$\\displaystyle \\omega_1(A) = \\frac{m_1}{n_1}$, $\\displaystyle \\omega_2(A) = \\frac{m_2}{n_2}$, где \\\n",
    "$m_1,\\,m_2$ – фактическое число появлений события $A$ в 1-й и во 2-й выборке.\n",
    "\n",
    "Требуется оценить, значимо или незначимо отличаются друг от друга относительные частоты. Незначимое отличие объяснимо случайными факторами и справедливостью гипотезы $H_0: p_1 = p_2$.\n",
    "\n",
    "Т.к. при достаточно большой выборке биномиальное распределение близко к нормальному, то для проверки этой гипотезы используют критерий: \\\n",
    "$\\displaystyle Z = \\frac\n",
    "{\\displaystyle \\frac{m_1}{n_1} - \\frac{m_2}{n_2}}\n",
    "{\\displaystyle \\sqrt{\n",
    "\\frac{m_1+m_2}{n_1+n_2} \\cdot\n",
    "\\left(1 - \\frac{m_1+m_2}{n_1+n_2}\\right) \n",
    "\\left(\\frac{1}{n_1} + \\frac{1}{n_2}\\right)}}$, где \\\n",
    "$m_1,\\,m_2$ – случайное количество появлений события $A$ в 1-й и во 2-й выборке соответственно.\n",
    "\n",
    "Для конкурирующей гипотезы $H_1: p_1 < p_2$ строится левосторонняя критическая область. \\\n",
    "Для конкурирующей гипотезы $H_1: p_1 > p_2$ строится правосторонняя критическая область. \\\n",
    "Для конкурирующей гипотезы $H_1: p_1 \\not= p_2$ строится двусторонняя критическая область.\n",
    "\n",
    "Критическое значение отыскивается из соотношения: \\\n",
    "$\\displaystyle \\Phi(z_к) = \\frac{1-2\\alpha}{2}$ для односторонней области и \\\n",
    "$\\displaystyle \\Phi(z_к) = \\frac{1-\\alpha}{2}$ для двусторонней области, где \\\n",
    "$\\alpha$ – выбранный уровень значимости, $\\Phi(z)$ – функция Лапласа.\n",
    "\n",
    "Если наблюдаемое значение критерия $z_н$ попадает в критическую область, то гипотеза $H_0: p_1 = p_2$ отвергается."
   ]
  },
  {
   "cell_type": "markdown",
   "id": "50b70f32",
   "metadata": {},
   "source": [
    "##### <font color = SlateBlue size = 3> Пример </font>\n",
    "\n",
    "От двух поставщиков в магазин поступило $n_1=200$ и $n_2=300$ однотипных изделий. В первой партии оказалось $m_1=14$ бракованных изделий, а во второй $m_2=27$. Требуется на уровне значимости 0,05 оценить, одинаково ли хороши поставщики.\n",
    "\n",
    "Очевидно, что здесь существуют вполне конкретные вероятности $p_1$ и $p_2$ – того, что магазин получит бракованное изделие от 1-го и 2-го поставщика соответственно.  И эти вероятности нам не известны. Однако в нашем распоряжении есть выборочные данные – относительные частоты: $\\omega_1 = 0.07$ и $\\omega_2 = 0.09$. И возникает вопрос: эта разница случайна или нет?\n",
    "\n",
    "На уровне значимости $\\alpha = 0.05$ проверим гипотезу $H_0: p_1 = p_2$ о том, что поставщики равноценны против конкурирующей гипотезы $H_1: p_1 \\not= p_2$.\n",
    "\n",
    "Критическое значение двусторонней критической области найдём из соотношения $\\displaystyle \\Phi(z_к) = \\frac{1-\\alpha}{2}$"
   ]
  },
  {
   "cell_type": "code",
   "execution_count": 5,
   "id": "d59c2aaf",
   "metadata": {},
   "outputs": [
    {
     "name": "stdout",
     "output_type": "stream",
     "text": [
      "Zk = 1.96\n",
      "Zn = -0.80\n",
      "H0: p1 = p2 is True\n"
     ]
    }
   ],
   "source": [
    "from math import sqrt\n",
    "from scipy.stats import norm\n",
    "\n",
    "n1, n2, m1, m2, alpha = 200, 300, 14, 27, 0.05\n",
    "w1, w2 = m1/n1, m2/n2\n",
    "\n",
    "phi = (1-alpha)/2\n",
    "Zk = norm.ppf(phi+0.5)\n",
    "print(f'{Zk = :.2f}')\n",
    "\n",
    "Zn = (m1/n1-m2/n2)/sqrt((m1+m2)/(n1+n2) * (1 - (m1+m2)/(n1+n2)) * (1/n1+1/n2)) \n",
    "print(f'{Zn = :.2f}')\n",
    "\n",
    "print(f'H0: p1 = p2 is {Zn<abs(Zk)}')"
   ]
  },
  {
   "cell_type": "markdown",
   "id": "5131b078",
   "metadata": {},
   "source": [
    "Полученное значение попало в область принятия гипотезы $H_0: p_1 = p_2$, таким образом, различие относительных частот $\\omega_1 = 0.07$ и $\\omega_2 = 0.09$ скорее всего, случайно. \\\n",
    "**Ответ**: на уровне значимости 0,05 нет оснований отдавать предпочтение какому-то одному из поставщиков."
   ]
  },
  {
   "cell_type": "code",
   "execution_count": null,
   "id": "a5a2e82a",
   "metadata": {},
   "outputs": [],
   "source": []
  }
 ],
 "metadata": {
  "kernelspec": {
   "display_name": "Python 3 (ipykernel)",
   "language": "python",
   "name": "python3"
  },
  "language_info": {
   "codemirror_mode": {
    "name": "ipython",
    "version": 3
   },
   "file_extension": ".py",
   "mimetype": "text/x-python",
   "name": "python",
   "nbconvert_exporter": "python",
   "pygments_lexer": "ipython3",
   "version": "3.9.13"
  }
 },
 "nbformat": 4,
 "nbformat_minor": 5
}
