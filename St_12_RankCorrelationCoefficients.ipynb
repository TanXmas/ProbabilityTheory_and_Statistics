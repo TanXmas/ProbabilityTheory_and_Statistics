{
 "cells": [
  {
   "cell_type": "markdown",
   "id": "0b861c94",
   "metadata": {},
   "source": [
    "# <font color = Crimson size = 6> <b>Регрессионный анализ. <br> Коэффициенты ранговой корреляции</b> </font>\n",
    "\n",
    "Не всегда понятна форма зависимости (Линейная? Гиперболическая? Экспоненциальная? Какая-то другая?). Эта форма бывает сложной, а то и вовсе не определима (в принципе). И вообще, мы можем исследовать не количественный, а некоторый качественный признак."
   ]
  },
  {
   "cell_type": "code",
   "execution_count": 2,
   "id": "a014bfbc",
   "metadata": {},
   "outputs": [],
   "source": [
    "import numpy as np\n",
    "import pandas as pd\n",
    "\n",
    "import scipy.stats as stats\n",
    "\n",
    "import matplotlib.pyplot as plt\n",
    "import seaborn as sns\n",
    "\n",
    "import warnings\n",
    "warnings.filterwarnings('ignore')"
   ]
  },
  {
   "cell_type": "markdown",
   "id": "5eb436f5",
   "metadata": {},
   "source": [
    "***\n",
    "## <font color = DarkGreen size = 5> <b>Коэффициент ранговой корреляции Спирмена</b> </font>\n",
    "\n",
    "##### <font color = SlateBlue size = 3> Пример </font>\n",
    "\n",
    "**Имеются выборочные данные по $n=8$ студентам:**\n",
    "\n",
    "| X | 12 | 9 | 8 | 14 | 15 | 11 | 10 | 15 |\n",
    "|---|---|---|---|---|---|---|---|---|\n",
    "| Y | 42 | 107 | 100 | 60 | 78 | 79 | 90 | 54 |\n",
    "\n",
    "где, $X$ – количество прогулов за некоторый период времени, \\\n",
    "а $Y$ – суммарная успеваемость за этот период."
   ]
  },
  {
   "cell_type": "code",
   "execution_count": 3,
   "id": "bde4966f",
   "metadata": {},
   "outputs": [],
   "source": [
    "df = pd.DataFrame({'X': [12, 9, 8, 14, 15, 11, 10, 15],\n",
    "                   'Y': [42, 107, 100, 60, 78, 79, 90 ,54]})"
   ]
  },
  {
   "cell_type": "code",
   "execution_count": 9,
   "id": "acd3552a",
   "metadata": {},
   "outputs": [
    {
     "data": {
      "text/plain": [
       "-0.7193069877978744"
      ]
     },
     "execution_count": 9,
     "metadata": {},
     "output_type": "execute_result"
    }
   ],
   "source": [
    "# линейный коэффициент корреляции\n",
    "np.corrcoef(df.X, df.Y)[0,1]"
   ]
  },
  {
   "cell_type": "markdown",
   "id": "4c900495",
   "metadata": {},
   "source": [
    "Линейный коэффициент корреляции $r_{xy} \\approx -0.72$, что говорит о сильной обратной корреляционной зависимости $Y$ – суммарной успеваемости от $X$ – количества прогулов."
   ]
  },
  {
   "cell_type": "markdown",
   "id": "7bf8cbf2",
   "metadata": {},
   "source": [
    "Найдем [уравнение линейной регрессии](https://github.com/TanXmas/ProbabilityTheory_and_Statistics/blob/main/St_09_Linear%20regression.ipynb)\n",
    "\n",
    "$\\hat{y} = \\beta_0 + \\beta_1 x_i$\n",
    "\n",
    "$\\beta_1 = r \\cfrac{\\sigma_y}{\\sigma_x}$ – **коэффициент регрессии** $Y$ на $X$\\\n",
    "$\\beta_0 = m_y - r \\cfrac{\\sigma_y}{\\sigma_x} m_x = m_y - \\beta_1 m_x$ – **интерсепт**"
   ]
  },
  {
   "cell_type": "code",
   "execution_count": 4,
   "id": "69b7bffc",
   "metadata": {},
   "outputs": [
    {
     "data": {
      "text/plain": [
       "(147.3203883495146, -6.048543689320389)"
      ]
     },
     "execution_count": 4,
     "metadata": {},
     "output_type": "execute_result"
    }
   ],
   "source": [
    "n = df.shape[0]\n",
    "Mx, My, SDx, SDy = df['X'].mean(), df['Y'].mean(), df['X'].std(), df['Y'].std()\n",
    "r = np.corrcoef(df['X'],df['Y'])[0,1]\n",
    "\n",
    "b1 = r * SDy / SDx\n",
    "b0 = My - b1 * Mx\n",
    "b0, b1"
   ]
  },
  {
   "cell_type": "code",
   "execution_count": 5,
   "id": "9a5a8ff5",
   "metadata": {},
   "outputs": [],
   "source": [
    "y_pred = 147.32 + -6.0485 * df['X']"
   ]
  },
  {
   "cell_type": "code",
   "execution_count": 6,
   "id": "c8798749",
   "metadata": {},
   "outputs": [
    {
     "data": {
      "image/png": "[encoded data removed]",
      "text/plain": [
       "<Figure size 800x500 with 1 Axes>"
      ]
     },
     "metadata": {},
     "output_type": "display_data"
    }
   ],
   "source": [
    "plt.figure(figsize=(8,5))\n",
    "\n",
    "sns.scatterplot(x='X', y='Y', data=df)\n",
    "sns.lineplot(x=df.X, y=y_pred, color ='r')\n",
    "\n",
    "plt.xlim([5,19])\n",
    "plt.xticks(ticks=np.arange(5, 19))\n",
    "plt.ylim([0,120])\n",
    "plt.yticks(ticks=np.arange(0, 120, 10))\n",
    "plt.xlabel('прогулы')\n",
    "plt.ylabel('успеваемость')\n",
    "plt.grid(linewidth=0.4);"
   ]
  },
  {
   "cell_type": "markdown",
   "id": "2887a548",
   "metadata": {},
   "source": [
    "У такого подхода могут быть изъяны. Во-первых, прогулы и успеваемость – это величины дискретные (прерывные), но мы приблизили их непрерывной функцией (линейной). И во-вторых, зависимость может быть гораздо более сложной. Когда прогулов немного, успеваемость, вероятно, падает несущественно; когда их количество растёт – ситуация начинает ухудшаться, и, наконец, с некоторого момента достижения стремительно падают. Возможно, удастся подобрать кривую, удачно приближающую точки, но у нас мало данных (8 наблюдений всего), и по чертежу сомнительно, что удастся.\n",
    "\n",
    "**Поэтому в качестве альтернативы уместно рассмотреть ранговый подход.** \\\n",
    "Оценим тесноту связи между рангами. Для этого нужно вычислить коэффициент ранговой корреляции Спирмена $r_s$."
   ]
  },
  {
   "cell_type": "code",
   "execution_count": 10,
   "id": "1cde2a08",
   "metadata": {},
   "outputs": [
    {
     "data": {
      "text/plain": [
       "SpearmanrResult(correlation=-0.790433332862751, pvalue=0.019544537274857787)"
      ]
     },
     "execution_count": 10,
     "metadata": {},
     "output_type": "execute_result"
    }
   ],
   "source": [
    "stats.spearmanr(df.X, df.Y)"
   ]
  },
  {
   "cell_type": "markdown",
   "id": "271d6145",
   "metadata": {},
   "source": [
    "Поскольку $r_s$ – это линейный коэффициент корреляции между рангами, то его интерпретация будет такой же.\\\n",
    "$r_s \\approx -0.79$, таким образом, существует сильная обратная корреляционная зависимость $Y$ – суммарной успеваемости от $X$ – количества прогулов."
   ]
  },
  {
   "cell_type": "markdown",
   "id": "ae4d259f",
   "metadata": {},
   "source": [
    "***\n",
    "## <font color = DarkGreen size = 5> <b>Ранговый коэффициент корреляции Кендалла</b> </font>"
   ]
  },
  {
   "cell_type": "markdown",
   "id": "019bbedf",
   "metadata": {},
   "source": [
    "***\n",
    "## <font color = DarkGreen size = 5> <b>Коэффициент корреляции Фехнера</b> </font>\n",
    "\n",
    "Коэффициент корреляции Фехнера тоже является ранговым коэффициентом, но в отличие от коэффициента Спирмена использует лишь два ранга: «да-нет», «больше / меньше среднего».\n",
    "\n",
    "$K_ф = \\cfrac{n_с-n_н}{n_с+n_н}$, где \\\n",
    "$n_с$ - число совпадений знаков отклонений индивидуальных величин от средней, \\\n",
    "$n_н$ - число несовпадений.\n",
    "\n",
    "Коэффициент корреляции Фехнера (как и линейный и коэффициент Спирмена) изменяется в тех же пределах $-1 \\leq K_ф \\leq 1$ и интерпретируется по той же шкале.\n",
    "\n",
    "При этом если $K_ф < 0$, то корреляционная связь обратная, а если $K_ф > 0$, то прямая."
   ]
  },
  {
   "cell_type": "code",
   "execution_count": null,
   "id": "b3c237e8",
   "metadata": {},
   "outputs": [],
   "source": []
  }
 ],
 "metadata": {
  "kernelspec": {
   "display_name": "Python 3 (ipykernel)",
   "language": "python",
   "name": "python3"
  },
  "language_info": {
   "codemirror_mode": {
    "name": "ipython",
    "version": 3
   },
   "file_extension": ".py",
   "mimetype": "text/x-python",
   "name": "python",
   "nbconvert_exporter": "python",
   "pygments_lexer": "ipython3",
   "version": "3.9.13"
  }
 },
 "nbformat": 4,
 "nbformat_minor": 5
}
