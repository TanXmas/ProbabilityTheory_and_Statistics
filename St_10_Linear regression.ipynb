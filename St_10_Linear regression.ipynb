{
 "cells": [
  {
   "cell_type": "markdown",
   "id": "198c408c",
   "metadata": {},
   "source": [
    "# <font color = Crimson size = 6> <b>Регрессионный анализ. <br> Парная (однофакторная) линейная регрессия</b> </font>"
   ]
  },
  {
   "cell_type": "markdown",
   "id": "99e0314d",
   "metadata": {},
   "source": [
    "Если **корреляционный анализ** помогает нам оценить тесноту связи, то **регрессионный анализ** может ответить на вопрос, как именно изменяется зависимая переменная $y$ при изменении независимой переменной $x$. Регрессионный анализ помогает нам подобрать математическую модель определенного типа, с помощью которой мы опишем изменение зависимой переменной $y$ при изменении независимой переменной $x$."
   ]
  },
  {
   "cell_type": "code",
   "execution_count": 1,
   "id": "d2b87894",
   "metadata": {},
   "outputs": [],
   "source": [
    "from math import log10\n",
    "import numpy as np\n",
    "import pandas as pd\n",
    "\n",
    "import scipy.stats as stats\n",
    "\n",
    "import matplotlib.pyplot as plt\n",
    "import seaborn as sns\n",
    "\n",
    "from sklearn.linear_model import LinearRegression\n",
    "\n",
    "#from tqdm import tqdm\n",
    "\n",
    "import warnings\n",
    "warnings.filterwarnings('ignore')"
   ]
  },
  {
   "cell_type": "markdown",
   "id": "8c208c49",
   "metadata": {},
   "source": [
    "***\n",
    "## <font color = DarkGreen size = 5> <b>Уравнение линейной регрессии</b> </font>\n",
    "\n",
    "Если признак один, то такая линейная регрессия называется **парной**. Она описывает связь признака $x$ с результирующей $y$. В основе математической модели, описывающей эту зависимость, лежит предположение, что зависимость выражена следующим образом:\n",
    "\n",
    "$$Y = A + B X + e$$\n",
    "$Y$ — зависимая переменная (отклик, исход) \\\n",
    "$X$ — независимая переменная (предиктор, признак) \\\n",
    "$A$ — свободный член (intercept) \\\n",
    "$B$ — коэффициент регрессии (угловой коэффициент) \\\n",
    "$e$ — остатки (случайная ошибка)\n",
    "<br><br>\n",
    "\n",
    "Подогнанные значения (предсказанные значения) $\\hat{y}$ задаются формулой:\n",
    "\n",
    "$$\\hat{y_i} = \\beta_0 + \\beta_1 x_i$$\n",
    "$\\beta_0, \\beta_1$ — оценочные коэффициенты\n",
    "<br><br>\n",
    "\n",
    "Остатки $\\hat{e_i}$ вычисляются путем вычитания предсказанных значений из исходных данных:\n",
    "\n",
    "$$\\hat{e_i} = y_i - \\hat{y_i}$$"
   ]
  },
  {
   "cell_type": "markdown",
   "id": "87937e22",
   "metadata": {},
   "source": [
    "***\n",
    "### <font color = MediumBlue size = 4> <b>Диаграмма рассеяния</b> </font>\n",
    "\n",
    "**Диаграмма рассеяния** – это множество точек $(x_i;y_i)$ в декартовой системе координат, абсциссы $x_i$ которых соответствуют значениям признака-фактора $X$, а ординаты $y_i$ – соответствующим значениям признака-результата $Y$."
   ]
  },
  {
   "cell_type": "markdown",
   "id": "d8fae0ac",
   "metadata": {},
   "source": [
    "##### <font color = SlateBlue size = 3> Пример </font>\n",
    "\n",
    "**Имеются выборочные данные по 8ми студентам, где $X$ – количество прогулов за некоторый период времени, $Y$ – суммарная успеваемость за этот период.**"
   ]
  },
  {
   "cell_type": "code",
   "execution_count": 2,
   "id": "3788f2de",
   "metadata": {},
   "outputs": [],
   "source": [
    "df = pd.DataFrame({'X': [12,   9,   8, 14, 15, 11, 10, 15],\n",
    "                   'Y': [42, 107, 100, 60, 78, 79, 90 ,54]})"
   ]
  },
  {
   "cell_type": "code",
   "execution_count": 6,
   "id": "f3b05efd",
   "metadata": {},
   "outputs": [
    {
     "data": {
      "image/png": "[encoded data removed]",
      "text/plain": [
       "<Figure size 600x300 with 1 Axes>"
      ]
     },
     "metadata": {},
     "output_type": "display_data"
    }
   ],
   "source": [
    "plt.figure(figsize=(6,3))\n",
    "\n",
    "sns.scatterplot(x='X', y='Y', data=df)\n",
    "\n",
    "plt.xlim([0,19])\n",
    "plt.xticks(ticks=np.arange(0, 19))\n",
    "plt.ylim([20,120])\n",
    "plt.yticks(ticks=np.arange(20, 120, 10))\n",
    "plt.xlabel('прогулы')\n",
    "plt.ylabel('успеваемость')\n",
    "plt.grid(linewidth=0.4);"
   ]
  },
  {
   "cell_type": "markdown",
   "id": "dd1af6ad",
   "metadata": {},
   "source": [
    "***\n",
    "### <font color = MediumBlue size = 4> <b>Метод наименьших квадратов</b> </font>\n",
    "\n",
    "Оптимальная прямая $y = a + bx$, которая проходит максимально близко к эмпирическим точкам. \\\n",
    "Обычно её находят **методом наименьших квадратов** – это метод нахождения оптимальных параметров линейной регрессии, таких, что сумма квадратов ошибок (остатков) была минимальна.\n",
    "\n",
    "$\\hat{y} = \\beta_0 + \\beta_1 x_i$\n",
    "\n",
    "$\\beta_1 = r \\cfrac{\\sigma_y}{\\sigma_x}$ – **коэффициент регрессии** $Y$ на $X$\\\n",
    "$\\beta_0 = m_y - r \\cfrac{\\sigma_y}{\\sigma_x} m_x = m_y - \\beta_1 m_x$ – **интерсепт**"
   ]
  },
  {
   "cell_type": "code",
   "execution_count": 7,
   "id": "58b91791",
   "metadata": {},
   "outputs": [],
   "source": [
    "X = df['X'].values\n",
    "Y = df['Y'].values\n",
    "n = X.shape[0]"
   ]
  },
  {
   "cell_type": "code",
   "execution_count": 8,
   "id": "fbccc903",
   "metadata": {},
   "outputs": [
    {
     "data": {
      "text/plain": [
       "(147.3203883495146, -6.048543689320389)"
      ]
     },
     "execution_count": 8,
     "metadata": {},
     "output_type": "execute_result"
    }
   ],
   "source": [
    "Mx, My, SDx, SDy = X.mean(), Y.mean(), X.std(), Y.std()\n",
    "r = np.corrcoef(X,Y)[0,1]\n",
    "\n",
    "b1 = r * SDy / SDx\n",
    "b0 = My - b1 * Mx\n",
    "b0, b1"
   ]
  },
  {
   "cell_type": "markdown",
   "id": "d8d2fcbe",
   "metadata": {},
   "source": [
    "#### <font color = SteelBlue size = 3> <b>Функция потерь</b> </font>\n",
    "\n",
    "В основе метода линейной регрессии лежит метод наименьших квадратов. Т.е. коэффициенты подбираются таким образом, чтобы минимизировать среднюю квадратичную ошибку, которая находится по формуле: \\\n",
    "$mse = \\cfrac{\\sum{(y-\\hat{y})^2}}{n}$\n",
    "\n",
    "$\\sigma_y^2(1-r^2)$ – **остаточная дисперсия** случайной величины $Y$ относительно случайной величины $X$ \\\n",
    "(характеризует величину ошибки, которую допускают при замене $Y$ линейной функцией $\\hat{Y} = \\beta_0 + \\beta_1 X$).\n",
    "\n",
    "[Метод наименьших квадратов](https://github.com/TanXmas/ProbabilityTheory_and_Statistics/blob/main/PT_04_System%20of%20two%20random%20variables.ipynb)"
   ]
  },
  {
   "cell_type": "markdown",
   "id": "8237dd5a",
   "metadata": {},
   "source": [
    "***\n",
    "### <font color = MediumBlue size = 4> <b>Матричный метод</b> </font>\n",
    "\n",
    "Чтобы решить матричным методом уравнение вида $\\hat{y} = \\beta_0 + \\beta_1 x_i$, нам нужно представить это уравнение в матричном виде.\\\n",
    "Матрица $Y$ равна произведению матрицы $X$ и матрицы $B$: \\\n",
    "$Y = X \\cdot B$\n",
    "\n",
    "$\\begin{pmatrix} y_1 \\\\ y_2 \\\\ \\ldots \\\\ y_n \\\\ \\end{pmatrix}$ = \n",
    "$\\begin{pmatrix} 1 & x_1 \\\\ 1 & x_2 \\\\ \\ldots \\\\ 1 & x_n \\\\ \\end{pmatrix}$\n",
    "$\\begin{pmatrix} \\beta_0 \\\\ \\beta_1 \\\\ \\end{pmatrix}$\n",
    "\n",
    "$B = (X^T \\cdot X)^{-1} \\cdot X^T \\cdot Y$\n",
    "\n",
    "Матричный метод мы также можем использовать и при многомерном анализе. Тогда у нас будет больше столбцов (признаков) в матрице $X$ и, соответственно, матрица $B$ даст больше коэффициентов.\n",
    "\n",
    "Если по какой-то причине мы хотим построить модель без интерсепта, тогда просто не добавляем столбец единиц."
   ]
  },
  {
   "cell_type": "code",
   "execution_count": 9,
   "id": "5b9d446d",
   "metadata": {},
   "outputs": [],
   "source": [
    "X = df['X'].values\n",
    "X = np.hstack([np.ones((n,1)), X.reshape((-1,1))])"
   ]
  },
  {
   "cell_type": "code",
   "execution_count": 10,
   "id": "7a2500ba",
   "metadata": {},
   "outputs": [],
   "source": [
    "Y = df['Y'].values\n",
    "Y = Y.reshape((-1,1))"
   ]
  },
  {
   "cell_type": "code",
   "execution_count": 11,
   "id": "567dc39a",
   "metadata": {},
   "outputs": [
    {
     "data": {
      "text/plain": [
       "array([[147.32038835],\n",
       "       [ -6.04854369]])"
      ]
     },
     "execution_count": 11,
     "metadata": {},
     "output_type": "execute_result"
    }
   ],
   "source": [
    "B = np.linalg.inv(X.T @ X) @ (X.T @ Y)\n",
    "B"
   ]
  },
  {
   "cell_type": "markdown",
   "id": "cf6780a1",
   "metadata": {},
   "source": [
    "***\n",
    "### <font color = MediumBlue size = 4> <b>Метод градиентного спуска</b> </font>\n",
    "\n",
    "Градиентом функции многих переменных в данной точке называется вектор, координаты которого равны частным производным по соответствующим аргументам, вычисленным в данной точке.\n",
    "\n",
    "Рассмотрим функцию двух переменных $f(x, y)$. Градиентом функции f(x, y) будет вектор $\\nabla{f} = \\left(\\cfrac{df}{dx}, \\cfrac{df}{dy}\\right)$. Производные $\\cfrac{df}{dx}$ и $\\cfrac{df}{dy}$ вычисляются в каждой точке $(x, y)$. Таким образом, градиент задан в каждой точке и будет меняться от точки к точке.\n",
    "\n",
    "В данной точке градиент будет показывать нам направление наибольшего возрастания функции. Модуль градиента совпадает с максимальной скоростью возрастания функции в данной точке. Когда у нас есть две переменные, то наш двухкомпонентный градиент\n",
    "может указать направление наибольшего возрастания функции на плоскости. Аналогично с тремя переменными – градиент может указать направление наибольшего возрастания функции в трехмерном пространстве.\n",
    "<br><br>\n",
    "\n",
    "Функция, для которой мы будем искать экстремум, в машинном обучении называется **целевой функцией (objective function)**. Задача по нахождению экстремума функции называется задачей оптимизации. Если речь идет о поиске минимума, то употребляют термины **функция стоимости (cost function)**, **функция потерь (loss function)**, **функция ошибок (error function)**.\n",
    "\n",
    "Если функция дифференцируема, то найти точки, подозрительные на экстремум, можно с помощью необходимого условия экстремума: все частные производные должны равняться нулю, а значит, вектор градиента – нулевому вектору. Но не всегда задачу можно решать аналитически. В таком случае используется численная оптимизация. Наиболее простым в реализации из всех методов численной оптимизации является метод градиентного спуска.\n",
    "\n",
    "**Градиентный спуск** – итерационный метод. Основная идея градиентного спуска состоит в том, чтобы двигаться к минимуму в направлении наиболее быстрого убывания функции потерь, которое определяется антиградиентом. В ходе градиентного спуска мы итеративно применяем следующее правило обновления: \\\n",
    "$w^t = W^{t-1} - \\eta \\cdot \\nabla{Q(w^{t-1})}$, где \\\n",
    "$\\nabla{Q(w^{t-1})}$ – это градиент функции потерь, которую мы пытаемся минимизировать, \\\n",
    "$\\eta$ — размер шага градиентного спуска, называемый **темпом обучения**, или **скоростью обучения (learning rate)**.\n",
    "\n",
    "Мы выбираем каким-либо способом начальную точку, вычисляем в ней градиент рассматриваемой функции и делаем небольшой шаг в обратном, антиградиентном направлении. В результате приходим в точку, в которой значение функции будет меньше первоначального. В новой точке повторяем процедуру: снова вычисляем градиент функции и делаем шаг в обратном направлении. Продолжая этот процесс, мы будем двигаться в сторону убывания функции.\n",
    "\n",
    "Важно, чтобы наша функция была выпуклой и гладкой. Гладкой или непрерывно дифференцируемой функцией называют функцию, имеющую непрерывную производную на всем множестве определения. Выпуклой (или выпуклой вниз) функцией называют функцию, для которой отрезок между любыми двумя точками ее графика в векторном пространстве лежит не ниже соответствующей дуги графика. Выпуклость гарантирует существование лишь одного минимума, а гладкость – существование вектора градиента в каждой точке.\n",
    "\n",
    "<img src=\"./img/st_10_image1.jpg\" width=\"500\"/>\n",
    "<br><br>\n",
    "\n",
    "***\n",
    "Наша функция линейной регрессии – это прямая $y = a + bx$, которая проходит максимально близко к эмпирическим точкам.\n",
    "\n",
    "Необходимо минимизировать функцию:\\\n",
    "$\\displaystyle F(a,b) = \\sum_{i=1}^{n}{(a + b x_i -y_i)^2}$\n",
    "\n",
    "Для отыскания минимума нужны частные производные: \\\n",
    "$\\displaystyle \\cfrac{\\partial{F}}{\\partial{a}} = 2\\sum_{i=1}^{n}{(a + b x_i - y_i)x_i}$ \\\n",
    "$\\displaystyle \\cfrac{\\partial{F}}{\\partial{b}} = 2\\sum_{i=1}^{n}{(a + b x_i - y_i)}$"
   ]
  },
  {
   "cell_type": "code",
   "execution_count": 12,
   "id": "a651fab4",
   "metadata": {},
   "outputs": [],
   "source": [
    "# функция потерь\n",
    "def mse(a, b, x, y, n):\n",
    "    return np.sum((a + b*x - y)**2)\n",
    "\n",
    "# частная производная функции потерь по a\n",
    "def mse_pa(a, b, x, y, n):\n",
    "    return 2 * np.sum((a + b*x) - y)\n",
    "\n",
    "# частная производная функции потерь по b\n",
    "def mse_pb(a, b, x, y, n):\n",
    "    return 2 * np.sum(((a + b*x) - y)*x)"
   ]
  },
  {
   "cell_type": "code",
   "execution_count": 13,
   "id": "357ddcab",
   "metadata": {},
   "outputs": [],
   "source": [
    "X = df['X'].values\n",
    "Y = df['Y'].values"
   ]
  },
  {
   "cell_type": "code",
   "execution_count": 14,
   "id": "864991ed",
   "metadata": {},
   "outputs": [
    {
     "name": "stdout",
     "output_type": "stream",
     "text": [
      "0: a = 0.0122 b = 0.13709706400000002 mse = 48281.28441430877\n",
      "100000: a = 74.9995314663167 b = -0.16602164745538592 mse = 3621.470641785071\n",
      "200000: a = 111.70124260686227 b = -3.15131018056983 mse = 2209.554336601415\n",
      "300000: a = 129.77740561791794 b = -4.621611168798081 mse = 1867.0636025618114\n",
      "400000: a = 138.68019676983243 b = -5.34575725116323 mse = 1783.985092545101\n",
      "500000: a = 143.06495974448737 b = -5.702410448572362 mse = 1763.8326091619897\n",
      "600000: a = 145.2245236403238 b = -5.878067690003988 mse = 1758.944189925492\n",
      "700000: a = 146.28814241451045 b = -5.964581610786184 mse = 1757.758398468552\n",
      "800000: a = 146.81199118739949 b = -6.007191061032344 mse = 1757.4707591906324\n",
      "900000: a = 147.0699948476535 b = -6.028176877347788 mse = 1757.400986083635\n",
      "1000000: a = 147.19706565921268 b = -6.0385127179626386 mse = 1757.3840611125552\n",
      "1100000: a = 147.25965000834384 b = -6.0436032800647235 mse = 1757.3799555959972\n",
      "1200000: a = 147.29047377273318 b = -6.046110460997692 mse = 1757.378959714461\n",
      "1300000: a = 147.30565495563465 b = -6.047345286563763 mse = 1757.378718141927\n",
      "1400000: a = 147.3131319241015 b = -6.047953457341993 mse = 1757.378659543303\n",
      "1500000: a = 147.31681444724688 b = -6.04825299089989 mse = 1757.378645328943\n",
      "1600000: a = 147.31862814711675 b = -6.048400515831446 mse = 1757.378641880944\n",
      "1700000: a = 147.31952142248252 b = -6.0484731741523685 mse = 1757.378641044558\n",
      "Достигнут минимум 1748305: a = 147.31977259728228 b = -6.0484936045144995 mse = 1757.3786409118281\n"
     ]
    }
   ],
   "source": [
    "alpha = 1e-5\n",
    "a = 0\n",
    "b = 0\n",
    "mse_min = mse(a,b,X,Y,n)\n",
    "\n",
    "for i in range(2*10**6):\n",
    "    a -= alpha * mse_pa(a,b,X,Y,n)\n",
    "    b -= alpha * mse_pb(a,b,X,Y,n)\n",
    "    if not i%(1*10**5):\n",
    "        print(f'{i}: {a = } {b = } mse = {mse(a, b, X, Y, n)}')\n",
    "    if mse(a,b,X,Y,n) > mse_min:\n",
    "        print(f'Достигнут минимум {i_min}: a = {a_min} b = {b_min} mse = {mse_min}')\n",
    "        break\n",
    "    else:\n",
    "        mse_min = mse(a,b,X,Y,n)\n",
    "        i_min, a_min, b_min = i, a, b"
   ]
  },
  {
   "cell_type": "markdown",
   "id": "607c3ba7",
   "metadata": {},
   "source": [
    "***\n",
    "### <font color = MediumBlue size = 4> <b>Модель ML (sklearn)</b> </font>"
   ]
  },
  {
   "cell_type": "code",
   "execution_count": 15,
   "id": "d92f7eef",
   "metadata": {},
   "outputs": [],
   "source": [
    "X = df[['X']].values\n",
    "y = df['Y'].values"
   ]
  },
  {
   "cell_type": "code",
   "execution_count": 16,
   "id": "2a63c76c",
   "metadata": {},
   "outputs": [
    {
     "data": {
      "text/plain": [
       "(147.3203883495146, -6.048543689320389)"
      ]
     },
     "execution_count": 16,
     "metadata": {},
     "output_type": "execute_result"
    }
   ],
   "source": [
    "reg = LinearRegression().fit(X, y)\n",
    "y_pred = reg.predict(X)\n",
    "\n",
    "a = reg.intercept_\n",
    "b = reg.coef_[0]\n",
    "a,b"
   ]
  },
  {
   "cell_type": "code",
   "execution_count": 20,
   "id": "6de10b78",
   "metadata": {},
   "outputs": [
    {
     "data": {
      "image/png": "[encoded data removed]",
      "text/plain": [
       "<Figure size 600x400 with 1 Axes>"
      ]
     },
     "metadata": {},
     "output_type": "display_data"
    }
   ],
   "source": [
    "plt.figure(figsize=(6,4))\n",
    "\n",
    "sns.scatterplot(x='X', y='Y', data=df)\n",
    "sns.lineplot(x=df.X, y=y_pred, color ='r')\n",
    "\n",
    "plt.xlim([5,19])\n",
    "plt.xticks(ticks=np.arange(5, 19))\n",
    "plt.ylim([0,120])\n",
    "plt.yticks(ticks=np.arange(0, 120, 10))\n",
    "plt.xlabel('прогулы')\n",
    "plt.ylabel('успеваемость')\n",
    "plt.grid(linewidth=0.4);"
   ]
  },
  {
   "cell_type": "markdown",
   "id": "f4ac670a",
   "metadata": {},
   "source": [
    "Уравнение регрессии аппроксимирует (приближает) эмпирические данные (точки), и с помощью него можно интерполировать (оценить) неизвестные промежуточные значения.\n",
    "\n",
    "Очевидно, что чем ближе эмпирические точки к прямой, тем теснее линейная корреляционная зависимость – тем уравнение регрессии достовернее отражает ситуацию, и тем качественнее полученная модель. И наоборот, если многие точки разбросаны вдали от прямой, то признак $Y$ зависит от $X$ вовсе не линейно (если вообще зависит) и линейная функция плохо отражает реальную картину."
   ]
  },
  {
   "cell_type": "markdown",
   "id": "62e8546e",
   "metadata": {},
   "source": [
    "***\n",
    "## <font color = DarkGreen size = 5> <b>Условия применимости линейной регрессии</b> </font>\n",
    "\n",
    "***\n",
    "### <font color = MediumBlue size = 4> <b>1. Наличие линейной зависимости между зависимой и независимой переменной</b> </font>\n",
    "\n",
    "<img src=\"./img/st_10_image3.png\" width=\"\"/>"
   ]
  },
  {
   "cell_type": "markdown",
   "id": "0ae78d41",
   "metadata": {},
   "source": [
    "***\n",
    "### <font color = MediumBlue size = 4> <b>2. Независимость остатков</b> </font>\n",
    "\n",
    "<img src=\"./img/st_10_image4.png\" width=\"\"/>"
   ]
  },
  {
   "cell_type": "code",
   "execution_count": 21,
   "id": "a6a91ae0",
   "metadata": {},
   "outputs": [],
   "source": [
    "e = df.Y.values - y_pred"
   ]
  },
  {
   "cell_type": "code",
   "execution_count": 22,
   "id": "d34cf41a",
   "metadata": {},
   "outputs": [
    {
     "data": {
      "image/png": "[encoded data removed]",
      "text/plain": [
       "<Figure size 400x400 with 1 Axes>"
      ]
     },
     "metadata": {},
     "output_type": "display_data"
    }
   ],
   "source": [
    "plt.figure(figsize=(4,4))\n",
    "\n",
    "sns.scatterplot(x=df.X, y=e)\n",
    "plt.axhline(0, linestyle='--', linewidth = 1);"
   ]
  },
  {
   "cell_type": "markdown",
   "id": "0a989e58",
   "metadata": {},
   "source": [
    "***\n",
    "### <font color = MediumBlue size = 4> <b>3. Остатки долны быть нормально распределены</b> </font>\n",
    "\n",
    "<img src=\"./img/st_10_image5.png\" width=\"\"/>"
   ]
  },
  {
   "cell_type": "code",
   "execution_count": 23,
   "id": "5c7b84ca",
   "metadata": {},
   "outputs": [
    {
     "data": {
      "text/plain": [
       "ShapiroResult(statistic=0.8757836818695068, pvalue=0.17155571281909943)"
      ]
     },
     "execution_count": 23,
     "metadata": {},
     "output_type": "execute_result"
    }
   ],
   "source": [
    "stats.shapiro(e)"
   ]
  },
  {
   "cell_type": "code",
   "execution_count": 24,
   "id": "d647fe32",
   "metadata": {},
   "outputs": [
    {
     "data": {
      "image/png": "[encoded data removed]",
      "text/plain": [
       "<Figure size 400x400 with 1 Axes>"
      ]
     },
     "metadata": {},
     "output_type": "display_data"
    }
   ],
   "source": [
    "plt.figure(figsize = (4, 4))\n",
    "\n",
    "stats.probplot(e, dist=\"norm\", plot=plt)\n",
    "\n",
    "plt.title('QQ-plot / Квантиль-квантиль')\n",
    "plt.xlabel('Квантили Z-распределения')\n",
    "plt.ylabel('Квантили фактического распределения');"
   ]
  },
  {
   "cell_type": "markdown",
   "id": "c5cd3cd3",
   "metadata": {},
   "source": [
    "***\n",
    "### <font color = MediumBlue size = 4> <b>4. Гомоскедастичность</b> </font>\n",
    "\n",
    "Под этим свойством понимается постоянство дисперсии при всех значениях $x$.\n",
    "\n",
    "Одинаковая изменчивость зависимой переменной на всех уровнях независимой переменной (постоянная изменчивость остатков)."
   ]
  },
  {
   "cell_type": "code",
   "execution_count": 25,
   "id": "c13958c9",
   "metadata": {},
   "outputs": [
    {
     "data": {
      "image/png": "[encoded data removed]",
      "text/plain": [
       "<Figure size 400x400 with 1 Axes>"
      ]
     },
     "metadata": {},
     "output_type": "display_data"
    }
   ],
   "source": [
    "plt.figure(figsize = (4, 4))\n",
    "\n",
    "sns.regplot(x = y_pred, y = e);"
   ]
  },
  {
   "cell_type": "markdown",
   "id": "961d0d19",
   "metadata": {},
   "source": [
    "***\n",
    "## <font color = DarkGreen size = 5> <b>Показатели влияния фактора на результат</b> </font>\n",
    "\n",
    "***\n",
    "### <font color = MediumBlue size = 4> <b>Линейный коэффициент корреляции</b> </font>\n",
    "\n",
    "**Линейный коэффициент корреляции** – это частный аналог [эмпирического корреляционного отношения](https://github.com/TanXmas/ProbabilityTheory_and_Statistics/blob/main/St_08_Grouping%20data.%20Correlation%20analysis.ipynb). Но в отличие от отношения, он показывает не только тесноту, но ещё и направление зависимости, ну и, конечно, здесь определена её форма (линейная). Позволяет оценить тесноту линейной корреляционной зависимости – насколько близко расположены точки к построенной прямой.\n",
    "\n",
    "#### <font color = SteelBlue size = 3> <b>Выборочный линейный коэффициент парной корреляции Пирсона</b> </font>\n",
    "\n",
    "**Коэффициентом корреляции** $r_{xy}$ случайных величин $X$ и $Y$ называют отношение корреляционного момента к произведению  \n",
    "средних квадратических отклонений этих величин: \\\n",
    "$r_{xy} = \\cfrac{cov_{xy}}{\\sigma_x \\sigma_y}$, где \n",
    "$cov_{xy} = M(XY) - M(X)M(Y)$ - [ковариация (корреляционный момент)](https://github.com/TanXmas/ProbabilityTheory_and_Statistics/blob/main/PT_04_System%20of%20two%20random%20variables.ipynb) $X$ и $Y$"
   ]
  },
  {
   "cell_type": "code",
   "execution_count": 26,
   "id": "c9cc36db",
   "metadata": {},
   "outputs": [],
   "source": [
    "X = df['X'].values\n",
    "Y = df['Y'].values"
   ]
  },
  {
   "cell_type": "code",
   "execution_count": 27,
   "id": "c2d01aa6",
   "metadata": {},
   "outputs": [
    {
     "data": {
      "text/plain": [
       "-0.7193069877978744"
      ]
     },
     "execution_count": 27,
     "metadata": {},
     "output_type": "execute_result"
    }
   ],
   "source": [
    "m = np.mean(X*Y) - np.mean(X) * np.mean(Y)\n",
    "SDx = np.std(X)\n",
    "SDy = np.std(Y)\n",
    "r = m / (SDx * SDy)\n",
    "r"
   ]
  },
  {
   "cell_type": "code",
   "execution_count": 28,
   "id": "de19c463",
   "metadata": {},
   "outputs": [
    {
     "data": {
      "text/plain": [
       "array([[ 1.        , -0.71930699],\n",
       "       [-0.71930699,  1.        ]])"
      ]
     },
     "execution_count": 28,
     "metadata": {},
     "output_type": "execute_result"
    }
   ],
   "source": [
    "np.corrcoef(X, Y)"
   ]
  },
  {
   "cell_type": "markdown",
   "id": "f9a71ab8",
   "metadata": {},
   "source": [
    "#### <font color = SteelBlue size = 3> <b>Выборочный коэффициент ранговой корреляции Спирмена </b></font>\n",
    "\n",
    "Допустим, что объекты генеральной совокупности обладают двумя качественными признаками.\n",
    "\n",
    ">Под качественным подразумевается признак, который невозможно измерить точно, но он позволяет сравнивать объекты между собой и, следовательно, расположить их в порядке убывания или возрастания качества. Для  определенности будем всегда располагать объекты в порядке ухудшения качества. При таком «ранжировании» на первом месте находится объект наилучшего качества по сравнению с остальными; на втором месте окажется объект «хуже» первого, но «лучше» других и т.д.\n",
    "\n",
    "Пусть выборка объема $n$ содержит независимые объекты, которые обладают двумя качественными признаками $A$ и $B$. Для оценки \n",
    "степени связи признаков вводят, в частности, коэффициенты ранговой корреляции Спирмена и Кендалла.\n",
    "\n",
    "Расположим сначала объекты выборки в порядке ухудшения качества по признаку $A$ при допущении, что **все объекты имеют различное качество по обоим признакам**.\n",
    "\n",
    "Припишем объекту, стоящему на $i$-м месте, число — ранг $x_i$, равный порядковому номеру объекта. Расположим теперь объекты в порядке убывания качества по признаку $B$ и припишем каждому из них ранг $y_i$, равный порядковому номеру объекта.\n",
    "\n",
    "В итоге получим две последовательности рангов: \\\n",
    "$A: x_1, x_2, \\ldots, x_n$ \\\n",
    "$B: y_1, x_y, \\ldots, y_n$\n",
    "\n",
    "$r = 1 - \\cfrac{6 \\cdot \\sum{(x_i-y_i)^2}}{n^3-n}$\n",
    "\n",
    "> К недостатку рангового коэффициента корреляции Спирмена можно отнести тот факт, что он практически ничего не говорит о форме зависимости."
   ]
  },
  {
   "cell_type": "code",
   "execution_count": 29,
   "id": "96ee3a87",
   "metadata": {},
   "outputs": [],
   "source": [
    "X = np.array([1.2, 1.6, 1.8, 1.8, 2.5, 2.6, 3, 3.3])\n",
    "Y = np.array([27, 37, 42, 48, 57, 56, 77, 80])"
   ]
  },
  {
   "cell_type": "code",
   "execution_count": 30,
   "id": "9613cf7d",
   "metadata": {},
   "outputs": [
    {
     "data": {
      "text/html": [
       "<div>\n",
       "<style scoped>\n",
       "    .dataframe tbody tr th:only-of-type {\n",
       "        vertical-align: middle;\n",
       "    }\n",
       "\n",
       "    .dataframe tbody tr th {\n",
       "        vertical-align: top;\n",
       "    }\n",
       "\n",
       "    .dataframe thead th {\n",
       "        text-align: right;\n",
       "    }\n",
       "</style>\n",
       "<table border=\"1\" class=\"dataframe\">\n",
       "  <thead>\n",
       "    <tr style=\"text-align: right;\">\n",
       "      <th></th>\n",
       "      <th>X</th>\n",
       "      <th>Y</th>\n",
       "      <th>Xr</th>\n",
       "      <th>Yr</th>\n",
       "    </tr>\n",
       "  </thead>\n",
       "  <tbody>\n",
       "    <tr>\n",
       "      <th>0</th>\n",
       "      <td>1.2</td>\n",
       "      <td>27</td>\n",
       "      <td>1.0</td>\n",
       "      <td>1.0</td>\n",
       "    </tr>\n",
       "    <tr>\n",
       "      <th>1</th>\n",
       "      <td>1.6</td>\n",
       "      <td>37</td>\n",
       "      <td>2.0</td>\n",
       "      <td>2.0</td>\n",
       "    </tr>\n",
       "    <tr>\n",
       "      <th>2</th>\n",
       "      <td>1.8</td>\n",
       "      <td>42</td>\n",
       "      <td>3.5</td>\n",
       "      <td>3.0</td>\n",
       "    </tr>\n",
       "    <tr>\n",
       "      <th>3</th>\n",
       "      <td>1.8</td>\n",
       "      <td>48</td>\n",
       "      <td>3.5</td>\n",
       "      <td>4.0</td>\n",
       "    </tr>\n",
       "    <tr>\n",
       "      <th>4</th>\n",
       "      <td>2.5</td>\n",
       "      <td>57</td>\n",
       "      <td>5.0</td>\n",
       "      <td>6.0</td>\n",
       "    </tr>\n",
       "    <tr>\n",
       "      <th>5</th>\n",
       "      <td>2.6</td>\n",
       "      <td>56</td>\n",
       "      <td>6.0</td>\n",
       "      <td>5.0</td>\n",
       "    </tr>\n",
       "    <tr>\n",
       "      <th>6</th>\n",
       "      <td>3.0</td>\n",
       "      <td>77</td>\n",
       "      <td>7.0</td>\n",
       "      <td>7.0</td>\n",
       "    </tr>\n",
       "    <tr>\n",
       "      <th>7</th>\n",
       "      <td>3.3</td>\n",
       "      <td>80</td>\n",
       "      <td>8.0</td>\n",
       "      <td>8.0</td>\n",
       "    </tr>\n",
       "  </tbody>\n",
       "</table>\n",
       "</div>"
      ],
      "text/plain": [
       "     X   Y   Xr   Yr\n",
       "0  1.2  27  1.0  1.0\n",
       "1  1.6  37  2.0  2.0\n",
       "2  1.8  42  3.5  3.0\n",
       "3  1.8  48  3.5  4.0\n",
       "4  2.5  57  5.0  6.0\n",
       "5  2.6  56  6.0  5.0\n",
       "6  3.0  77  7.0  7.0\n",
       "7  3.3  80  8.0  8.0"
      ]
     },
     "execution_count": 30,
     "metadata": {},
     "output_type": "execute_result"
    }
   ],
   "source": [
    "n = X.shape[0]\n",
    "df = pd.DataFrame({'X': X, 'Y': Y})\n",
    "df['Xr'] = df['X'].rank()\n",
    "df['Yr'] = df['Y'].rank()\n",
    "df"
   ]
  },
  {
   "cell_type": "code",
   "execution_count": 31,
   "id": "240b2668",
   "metadata": {},
   "outputs": [
    {
     "data": {
      "text/plain": [
       "0.9702380952380952"
      ]
     },
     "execution_count": 31,
     "metadata": {},
     "output_type": "execute_result"
    }
   ],
   "source": [
    "1 - 6 * sum((df['Xr']-df['Yr'])**2)/(n**3-n)"
   ]
  },
  {
   "cell_type": "code",
   "execution_count": 32,
   "id": "466e63d3",
   "metadata": {},
   "outputs": [
    {
     "data": {
      "text/plain": [
       "array([[1.        , 0.97007727],\n",
       "       [0.97007727, 1.        ]])"
      ]
     },
     "execution_count": 32,
     "metadata": {},
     "output_type": "execute_result"
    }
   ],
   "source": [
    "np.corrcoef(df['Xr'], df['Yr'])"
   ]
  },
  {
   "cell_type": "code",
   "execution_count": 33,
   "id": "06795d84",
   "metadata": {},
   "outputs": [
    {
     "data": {
      "text/plain": [
       "SpearmanrResult(correlation=0.9700772721497398, pvalue=6.548558831120599e-05)"
      ]
     },
     "execution_count": 33,
     "metadata": {},
     "output_type": "execute_result"
    }
   ],
   "source": [
    "stats.spearmanr(X, Y)"
   ]
  },
  {
   "cell_type": "markdown",
   "id": "42d398ce",
   "metadata": {},
   "source": [
    "***\n",
    "**Коэффициент корреляции безразмерен и принимает значения из промежутка: $-1\\leq r_{xy} \\leq 1$.**\n",
    "\n",
    "Чем ближе $r_{xy}$ *по модулю* к $1$, тем теснее линейная взаимосвязь между величинами $X$ и $Y$.\n",
    "\n",
    "Чем ближе $r_{xy}$ *по модулю* к $0$ – тем такая зависимость выражена меньше.\n",
    "\n",
    "Крайним значениям $r_{xy}=-1$ и $r_{xy}=1$ соответствует строгая функциональная зависимость $y = a + bx$\n",
    "\n",
    "Для оценки тесноты связи можно использовать шкалу Чеддока:\n",
    "<img src=\"./img/st_10_image2.png\" width=\"\"/>\n",
    "\n",
    "***\n",
    "Если $r<0$, то корреляционная связь **обратная**, а если $r>0$, то **прямая**."
   ]
  },
  {
   "cell_type": "markdown",
   "id": "7847fbfe",
   "metadata": {},
   "source": [
    "***\n",
    "### <font color = MediumBlue size = 4> <b>Коэффициент детерминации</b> </font>\n",
    "\n",
    "**Коэффициент детерминации** – это частный аналог [эмпирического коэффициента детерминации](https://github.com/TanXmas/ProbabilityTheory_and_Statistics/blob/main/St_08_Grouping%20data.%20Correlation%20analysis.ipynb) – квадрат коэффициента корреляции: \\\n",
    "$R^2 = r^2$\n",
    "\n",
    "Коэффициент детерминации показывает долю вариации признака-результата $Y$, которая обусловлена воздействием признака-фактора $X$."
   ]
  },
  {
   "cell_type": "code",
   "execution_count": 34,
   "id": "618a4335",
   "metadata": {},
   "outputs": [
    {
     "data": {
      "text/plain": [
       "0.5174025426948514"
      ]
     },
     "execution_count": 34,
     "metadata": {},
     "output_type": "execute_result"
    }
   ],
   "source": [
    "R = r**2\n",
    "R"
   ]
  },
  {
   "cell_type": "markdown",
   "id": "07b34972",
   "metadata": {},
   "source": [
    "В рамках построенной модели успеваемость на 51,74% зависит от количества прогулов. Оставшаяся часть вариации успеваемости (48,26%) обусловлена другими причинами."
   ]
  },
  {
   "cell_type": "markdown",
   "id": "8bbb0876",
   "metadata": {},
   "source": [
    "***\n",
    "### <font color = MediumBlue size = 4> <b>Коэффициент средней эластичности</b> </font>\n",
    "\n",
    "**Эластичность** $Э$ – это количество процентов, на которое изменяется *признак-результат* при увеличении *признака-фактора* на $1\\%$.\n",
    "\n",
    "Если $|Э|<1$, то зависимый показатель **неэластичен** к воздействию признака-фактора.\\\n",
    "Если же $|Э|>1$ – то **эластичен**.\n",
    "\n",
    "Функция эластичности имеет вид: \\\n",
    "$Э(x) = y'(x) \\cdot \\cfrac{x}{y(x)}$, где \\\n",
    "$y(x)$ – функция регрессии, \\\n",
    "$y'(x)$ – производная функции регрессии.\n",
    "\n",
    "В подавляющем большинстве случаев эластичность зависит от значения $x$ так, для линейной регрессии: \\\n",
    "$Э(x) = (a + bx)' \\cdot \\cfrac{x}{a+bx} = \\cfrac{bx}{a+bx}$ – и  мы можем вычислить эластичность в любой точке $x$.\n",
    "\n",
    "Но чаще рассчитывают **средний коэффициент эластичности**, по формуле: \\\n",
    "$\\overline{Э} = b \\cdot \\cfrac{\\overline{x}}{\\overline{y}}$"
   ]
  },
  {
   "cell_type": "code",
   "execution_count": 35,
   "id": "15db02f7",
   "metadata": {},
   "outputs": [
    {
     "data": {
      "text/plain": [
       "-0.9320706668788796"
      ]
     },
     "execution_count": 35,
     "metadata": {},
     "output_type": "execute_result"
    }
   ],
   "source": [
    "el = b * Mx / My\n",
    "el"
   ]
  },
  {
   "cell_type": "markdown",
   "id": "916145a2",
   "metadata": {},
   "source": [
    "При увеличении количества прогулов на 1% успеваемость уменьшается в среднем на 0,93%."
   ]
  },
  {
   "cell_type": "markdown",
   "id": "2a1d4a6a",
   "metadata": {},
   "source": [
    "***\n",
    "### <font color = MediumBlue size = 4> <b>Бета-коэффициент $\\beta$</b> </font>\n",
    "\n",
    "**Бета-коэффициент** – это количество средних квадратических отклонений, на которое меняется признак-результат $Y$ при увеличении признака-фактора $X$ на одно среднее квадратическое отклонение.\n",
    "\n",
    "$\\beta = b \\cdot \\cfrac{\\sigma_x}{\\sigma_y}$\n",
    "\n",
    "Если какая-то причина сильно влияет на следствие, то $|\\beta|>1$, часто в разы больше. \\\n",
    "Если влияние умеренное, то $|\\beta|<1$. \\\n",
    "Близкие к нулю значения говорят о практической невосприимчивости к фактору."
   ]
  },
  {
   "cell_type": "code",
   "execution_count": 36,
   "id": "966573fb",
   "metadata": {},
   "outputs": [
    {
     "data": {
      "text/plain": [
       "-0.7193069877978744"
      ]
     },
     "execution_count": 36,
     "metadata": {},
     "output_type": "execute_result"
    }
   ],
   "source": [
    "beta = b * SDx / SDy\n",
    "beta"
   ]
  },
  {
   "cell_type": "markdown",
   "id": "d7b1f8e0",
   "metadata": {},
   "source": [
    "При увеличении количества прогулов на одно стандартное отклонение успеваемость уменьшается примерно на 0,72 своего стандартного отклонения."
   ]
  },
  {
   "cell_type": "markdown",
   "id": "c0cec9eb",
   "metadata": {},
   "source": [
    "***\n",
    "## <font color = DarkGreen size = 5> <b>Проверка значимости линейной корреляционной модели</b> </font>\n",
    "\n",
    "***\n",
    "### <font color = MediumBlue size = 4> <b>Значимость выборочного коэффициента корреляции</b> </font>\n",
    "\n",
    "#### <font color = SteelBlue size = 3> <b>Выборочный линейный коэффициент парной корреляции Пирсона</b> </font>\n",
    "\n",
    "Пусть двумерная генеральная совокупность $(X,Y)$ распределена нормально. Из этой совокупности извлечена выборка объема $n$ и по ней найден выборочный коэффициент корреляции $r_e$, который оказался отличным от нуля. Так как выборка отобрана случайно, \n",
    "то еще нельзя заключить, что коэффициент корреляции генеральной совокупности $r$ также отличен от нуля. В конечном счете нас \n",
    "интересует именно этот коэффициент, поэтому возникает необходимость при заданном уровне значимости $\\alpha$ проверить нулевую \n",
    "гипотезу $H_0: r=0$ o равенстве нулю генерального коэффициента корреляции при конкурирующей гипотезе $H_1: r \\not= 0$ (двусторонняя критическая область).\n",
    "\n",
    "Если нулевая гипотеза отвергается, то это означает, что выборочный коэффициент корреляции значимо отличается от нуля, а $X$ и $Y$ коррелированы, т.е. связаны линейной зависимостью. \\\n",
    "Если нулевая гипотеза будет принята, то выборочный коэффициент корреляции незначим, а $X$ и $Y$ не коррелированы, т.е. не  \n",
    "связаны линейной зависимостью.\n",
    "\n",
    "В качестве критерия проверки нулевой гипотезы примем случайную величину: \\\n",
    "$T = r_e \\sqrt{\\cfrac{n-2}{1-r_e^2}}$\n",
    "\n",
    "Величина $T$ при справедливости нулевой гипотезы имеет распределение Стьюдента c $k = n-2$ степенями свободы.\n",
    "\n",
    "Если $|T_н|<t_к$ — нет оснований отвергнуть нулевую гипотезу.\\\n",
    "Если $|T_н|>t_к$ — нулевую гипотезу отвергают."
   ]
  },
  {
   "cell_type": "code",
   "execution_count": 37,
   "id": "a39cbeca",
   "metadata": {},
   "outputs": [],
   "source": [
    "df = pd.DataFrame({'X': [12,   9,   8, 14, 15, 11, 10, 15],\n",
    "                   'Y': [42, 107, 100, 60, 78, 79, 90 ,54]})"
   ]
  },
  {
   "cell_type": "code",
   "execution_count": 38,
   "id": "b5277681",
   "metadata": {},
   "outputs": [
    {
     "name": "stdout",
     "output_type": "stream",
     "text": [
      "Tn = -2.536281125794929\n",
      "Tk = 2.4469118487916806\n",
      "H0: r = 0 is False\n"
     ]
    }
   ],
   "source": [
    "alpha = 0.05\n",
    "n = df.shape[0]\n",
    "\n",
    "Tn = r * np.sqrt((n-2)/(1-r**2))\n",
    "print(f'{Tn = }')\n",
    "\n",
    "Tk = stats.t.ppf(1-alpha/2,n-2)\n",
    "print(f'{Tk = }')\n",
    "\n",
    "print(f'H0: r = 0 is {abs(Tn)<Tk}')"
   ]
  },
  {
   "cell_type": "markdown",
   "id": "5e8da482",
   "metadata": {},
   "source": [
    "Таким образом, на уровне значимости $\\alpha=0.05$ гипотезу $H_0: r=0$ **отвергаем** в пользу гипотезы $H_1: r \\not= 0$. Выборочное значение $r_e = -0.72$ оказалось **статически значимым** и вряд ли объяснимо случайными факторами.\n",
    "\n",
    "При этом с вероятностью $0,05$ мы совершили **ошибку первого рода**, то есть отвергли правильную гипотезу."
   ]
  },
  {
   "cell_type": "markdown",
   "id": "722150ac",
   "metadata": {},
   "source": [
    "#### <font color = SteelBlue size = 3> <b>Выборочный коэффициент ранговой корреляции Спирмена</b></font>\n",
    "\n",
    "Для того чтобы при уровне значимости $\\alpha$ проверить нулевую гипотезу $H_0: r = 0$ о равенстве нулю генерального коэффициента ранговой корреляции $r$ Спирмена при конкурирующей гипотезе $H_1: r \\not= 0$ надо вычислить критическую точку:\\\n",
    "$T = t(\\alpha,k) \\sqrt{\\cfrac{1-r_e^2}{n-2}}$, где \\\n",
    "$n$ — объем выборки, \n",
    "$r_e$ — выборочный коэффициент ранговой корреляции Спирмена, \n",
    "$t(\\alpha,k)$ — критическая точка двусторонней критической области распределения Стьюдента, по уровню значимости $\\alpha$ и числу степеней свободы $k=n-2$.\n",
    "\n",
    "Если $|r_e| < T_к$ — нет оснований отвергнуть нулевую гипотезу. Ранговая корреляционная связь между качественными  \n",
    "признаками незначима. \\\n",
    "Если $|r_e| > T_к$ — нулевую гипотезу отвергают. Между качественными признаками существует значимая ранговая корреляционная \n",
    "связь."
   ]
  },
  {
   "cell_type": "markdown",
   "id": "8d215fe1",
   "metadata": {},
   "source": [
    "***\n",
    "### <font color = MediumBlue size = 4> <b>Доверительный интервал для генерального линейного коэффициента корреляции</b></font>\n",
    "\n",
    "Очевидно, что генеральный коэффициент $r$ может быть как меньше, так и больше выборочного результата $r_e$. И задача состоит в том, чтобы найти интервал $(r_e-\\delta,r_e+\\delta)$, который с заранее заданной доверительной вероятностью (надёжностью) $\\gamma$ накроет истинное значение генерального коэффициента $r$: \\\n",
    "$r_e-\\delta < r < r_e+\\delta$\n",
    "\n",
    "#### <font color = SteelBlue size = 3> <b>Малая выборка $(n<30)$</b></font>\n",
    "\n",
    "Используется распределение Стьюдента с количеством степеней свободы $k=n-2$. Точность оценки в нём рассчитывается по формуле: \\\n",
    "$\\delta = t_{\\gamma} \\cdot \\cfrac{1-r_e^2}{\\sqrt{n}}$"
   ]
  },
  {
   "cell_type": "code",
   "execution_count": 39,
   "id": "135ee9c2",
   "metadata": {},
   "outputs": [
    {
     "name": "stdout",
     "output_type": "stream",
     "text": [
      "-1.14 < r < -0.30\n",
      "r = -0.7193069877978744\n"
     ]
    }
   ],
   "source": [
    "gamma = 0.95\n",
    "alpha = 1-gamma\n",
    "k = n-2\n",
    "\n",
    "t = stats.t.ppf(1-alpha/2,k)\n",
    "delta = t * (1-r**2)/np.sqrt(n)\n",
    "print(f'{r-delta:.2f} < r < {r+delta:.2f}')\n",
    "print(f'{r = }')"
   ]
  },
  {
   "cell_type": "markdown",
   "id": "6af6ea21",
   "metadata": {},
   "source": [
    "Поскольку коэффициент корреляции не может превосходить по модулю единицу, то левое значение корректируем: $-1 < r < -0.30$.\\\n",
    "С вероятностью $\\gamma=0.95$ данный интервал накрывает генеральный коэффициент корреляции $r$."
   ]
  },
  {
   "cell_type": "markdown",
   "id": "caba5245",
   "metadata": {},
   "source": [
    "#### <font color = SteelBlue size = 3> <b>Выборка достаточно велика $(n>30)$ и коэффициент корреляции близок по модулю к единице</b></font>\n",
    "\n",
    "Целесообразно использовать преобразование Фишера.\n",
    "\n",
    "1. Преобразуем выборочный коэффициент корреляции по формуле:\n",
    "$z = \\cfrac{1}{2} \\ln \\left(\\cfrac{1+r}{1-r}\\right)$<br><br>\n",
    "\n",
    "2. Вычислить стандартную ошибку коэффициента $z$: \n",
    "$se_z = \\cfrac{1}{\\sqrt{n-3}}$<br><br>\n",
    "\n",
    "3. Для уровня доверительной вероятности $\\gamma$ из соотношения $2\\Phi(z_{\\gamma})=\\gamma$ найти коэффициент доверия $z_{\\gamma}$.<br><br>\n",
    "\n",
    "4. Вычислим нижнюю $z_1$ и верхнюю $z_2$ границы доверительного интервала:\n",
    "$z \\pm z_{\\gamma} \\cdot se_z$<br><br>\n",
    "\n",
    "5. Сделать обратное преобразование Фишера для границ доверительного интервала: $\\cfrac{e^{2z_1}-1}{e^{2z_1}+1} < r < \\cfrac{e^{2z_2}-1}{e^{2z_2}+1}$"
   ]
  },
  {
   "cell_type": "markdown",
   "id": "4eb9589d",
   "metadata": {},
   "source": [
    "***\n",
    "### <font color = MediumBlue size = 4><b>Значимость коэффициентов выборочного уравнения линейной регрессии</b></font>\n",
    "\n",
    "Можно ли доверять значениям $a$ и $b$ уровнения $y = \\beta_0 + \\beta_1 x$ или они далеки от соответствующих коэффициентов генерального уравнения $y = A + Bx$?\n",
    "\n",
    "В качестве нулевой гипотезы рассматриваем случай $H_0: \\beta_i=0$ о равенстве нулю коэффициента генерального уравнения.\\\n",
    "В качестве альтернативной гипотеза рассмотрим $H_1: \\beta_i \\not= 0$.\n",
    "\n",
    "Проверка статистической значимости параметров регрессионного уравнения выполняется по t-критерию Стьюдента, который рассчитывается по формуле: \\\n",
    "$T = \\cfrac{\\beta_i}{S_{\\beta}}$, где \\\n",
    "$\\beta_i$ — выборочное значение коэффициента, а $S_{\\beta}$ — его **стандартная ошибка**.\n",
    "\n",
    "Случайная величина $T$ имеет распределение Стьюдента с количеством степеней свободы $k=n-m-1$, где $m$ – количество оцениваемых параметров."
   ]
  },
  {
   "cell_type": "markdown",
   "id": "b0f8617d",
   "metadata": {},
   "source": [
    "#### <font color = SteelBlue size = 3> <b>Значимость коэффициента $b$</b></font>\n",
    "\n",
    "В качестве нулевой гипотезы рассматриваем случай $H_0: B=0$ о равенстве нулю коэффициента генерального уравнения $y=A+Bx$ \\\n",
    "(т.е. линейной корреляционной зависимости не существует).\\\n",
    "В качестве альтернативной гипотеза рассмотрим $H_1: B \\not= 0$.\n",
    "\n",
    "Для проверки гипотезы $H_0$ на уровне $\\alpha$ используем статиснический критерий:\\\n",
    "$t_b = \\cfrac{b}{S_b}$, где \\\n",
    "$b$ — выборочное значение коэффициента \\\n",
    "$S_b$ — cтандартная ошибка параметра $b$: \\\n",
    "$S_b = \\cfrac{se}{\\sigma_x \\sqrt{n}}$, где \n",
    "$\\sigma_x$ — среднее квадратическое отклонение $x$, \n",
    "$se$ — стандартная ошибка регрессии: $se = \\sqrt{\\cfrac{\\sum{(y-\\hat{y_x})^2}}{n-m-1}}$"
   ]
  },
  {
   "cell_type": "code",
   "execution_count": 40,
   "id": "da30a79c",
   "metadata": {},
   "outputs": [],
   "source": [
    "df = pd.DataFrame({'X': [12,   9,   8, 14, 15, 11, 10, 15],\n",
    "                   'Y': [42, 107, 100, 60, 78, 79, 90 ,54]})"
   ]
  },
  {
   "cell_type": "code",
   "execution_count": 41,
   "id": "ebc96a19",
   "metadata": {},
   "outputs": [],
   "source": [
    "X = df.X.values\n",
    "Y = df.Y.values"
   ]
  },
  {
   "cell_type": "code",
   "execution_count": 42,
   "id": "d97e08be",
   "metadata": {},
   "outputs": [
    {
     "name": "stdout",
     "output_type": "stream",
     "text": [
      "Tk = 2.4469118487916806\n",
      "Tn = -2.536281125794928\n",
      "H0: B = 0 is False\n",
      "b = -6.048543689320389\n"
     ]
    }
   ],
   "source": [
    "m = 1\n",
    "k = n-m-1\n",
    "\n",
    "Tk = stats.t.ppf(1-alpha/2,k)\n",
    "print(f'{Tk = }')\n",
    "\n",
    "se = np.sqrt(np.sum((Y - y_pred)**2) / (n-m-1))\n",
    "SDx = np.std(X)\n",
    "Sb = se / (SDx * np.sqrt(n))\n",
    "Tn = b / Sb\n",
    "print(f'{Tn = }')\n",
    "\n",
    "print(f'H0: B = 0 is {abs(Tn)<Tk}')\n",
    "print(f'{b = }')"
   ]
  },
  {
   "cell_type": "markdown",
   "id": "c7d4ed90",
   "metadata": {},
   "source": [
    "На уровне значимости $\\alpha=0.05$ гипотезу $H_0: B=0$ отвергаем в пользу гипотезы $H_1: B \\not= 0$. Выборочное значение $b=-6.0485$ оказалось статически значимым и вряд ли объяснимо случайными факторами, малой выборкой, например."
   ]
  },
  {
   "cell_type": "markdown",
   "id": "25f412db",
   "metadata": {},
   "source": [
    "#### <font color = SteelBlue size = 3> <b>Значимость коэффициента $a$ (интерсепта)</b></font>\n",
    "\n",
    "В качестве нулевой гипотезы рассматриваем случай $H_0: A=0$ о равенстве нулю коэффициента генерального уравнения $y=A+Bx$.\\\n",
    "В качестве альтернативной гипотеза рассмотрим $H_1: A \\not= 0$.\n",
    "\n",
    "Для проверки гипотезы $H_0$ на уровне $\\alpha$ используем статиснический критерий:\\\n",
    "$t_a = \\cfrac{a}{S_a}$, где \\\n",
    "$a$ — значение интерсепта \\\n",
    "$S_a$ — cтандартная ошибка параметра $a$: \\\n",
    "$S_a = se \\cdot \\cfrac{\\sqrt{\\sum{x_i^2}}}{\\sigma_x n} = S_b \\cdot \\sqrt{\\cfrac{\\sum{x_i^2}}{n}}$, где \n",
    "$\\sigma_x$ — среднее квадратическое отклонение $x$, \n",
    "$se$ — стандартная ошибка регрессии: $se = \\sqrt{\\cfrac{\\sum{(y-\\hat{y_x})^2}}{n-m-1}}$"
   ]
  },
  {
   "cell_type": "code",
   "execution_count": 43,
   "id": "c2c77de5",
   "metadata": {},
   "outputs": [
    {
     "name": "stdout",
     "output_type": "stream",
     "text": [
      "Tk = 2.4469118487916806\n",
      "Tn = 5.138963100958458\n",
      "H0: A = 0 is False\n",
      "a = 147.3203883495146\n"
     ]
    }
   ],
   "source": [
    "Tk = stats.t.ppf(1-alpha/2,k)\n",
    "print(f'{Tk = }')\n",
    "\n",
    "#Sa = se * np.sqrt(np.sum(X**2)) / (SDx * n)\n",
    "Sa = Sb * np.sqrt(np.sum(X**2) / n)\n",
    "Tn = a / Sa\n",
    "print(f'{Tn = }')\n",
    "\n",
    "print(f'H0: A = 0 is {abs(Tn)<Tk}')\n",
    "print(f'{a = }')"
   ]
  },
  {
   "cell_type": "markdown",
   "id": "6f817855",
   "metadata": {},
   "source": [
    "На уровне значимости $\\alpha=0.05$ гипотезу $H_0: A=0$ отвергаем в пользу гипотезы $H_1: A \\not= 0$. То есть, выборочное значение $a = 147.32$ статически значимо отличается от нуля."
   ]
  },
  {
   "cell_type": "markdown",
   "id": "51bbfa99",
   "metadata": {},
   "source": [
    "***\n",
    "### <font color = MediumBlue size = 4><b>Доверительные интервалы для генеральных коэффициентов $A$ и $B$</b></font>\n",
    "\n",
    "$a - t_{\\gamma} S_a < A < a + t_{\\gamma} S_a$\n",
    "\n",
    "$b - t_{\\gamma} S_b < B < b + t_{\\gamma} S_b$"
   ]
  },
  {
   "cell_type": "code",
   "execution_count": 44,
   "id": "b3338206",
   "metadata": {},
   "outputs": [],
   "source": [
    "t = stats.t.ppf(1-alpha/2,k)"
   ]
  },
  {
   "cell_type": "code",
   "execution_count": 45,
   "id": "bd65ef5a",
   "metadata": {},
   "outputs": [
    {
     "name": "stdout",
     "output_type": "stream",
     "text": [
      "77.17 < A < 217.47\n"
     ]
    }
   ],
   "source": [
    "print(f'{a-t*Sa:.2f} < A < {a+t*Sa:.2f}')"
   ]
  },
  {
   "cell_type": "markdown",
   "id": "772ff2e6",
   "metadata": {},
   "source": [
    "С доверительной вероятностью $\\gamma = 1-\\alpha = 1-0.05 = 0.95$ данный интервал накроет истинное значение генерального коэффициента $A$."
   ]
  },
  {
   "cell_type": "code",
   "execution_count": 46,
   "id": "da73524d",
   "metadata": {},
   "outputs": [
    {
     "name": "stdout",
     "output_type": "stream",
     "text": [
      "-11.88 < B < -0.21\n"
     ]
    }
   ],
   "source": [
    "print(f'{b-t*Sb:.2f} < B < {b+t*Sb:.2f}')"
   ]
  },
  {
   "cell_type": "markdown",
   "id": "acbb0942",
   "metadata": {},
   "source": [
    "С доверительной вероятностью $\\gamma = 0.95$ данный интервал накроет истинное значение генерального коэффициента $B$."
   ]
  },
  {
   "cell_type": "markdown",
   "id": "cda12bc1",
   "metadata": {},
   "source": [
    "***\n",
    "### <font color = MediumBlue size = 4><b>Оценка значимости математической модели</b></font>\n",
    "\n",
    "#### <font color = SteelBlue size = 3> <b>Выборочный коэффициент детерминации</b></font>\n",
    "\n",
    "На самом деле поставленный вопрос эквивалентен вопросу о проверке значимости **выборочного коэффициента детерминации** $R^2$. Поскольку $R^2 = r^2$, то проверка должна быть эквивалентна проверке значимости коэффициента корреляции.\n",
    "\n",
    "$H_0: R^2 = 0$ – генеральный коэффициент детерминации равен нулю. \\\n",
    "$H_1: R^2 > 0$\n",
    "\n",
    "Для проверки гипотезы используем статистический критерий: \\\n",
    "$F = \\cfrac{R_e^2}{1-R_e^2} \\cdot \\cfrac{n-m-1}{m}$, где \\\n",
    "$R_e^2$ – значение выборочного коэффициента детерминации, \\\n",
    "$m$ – количество факторных переменных.\n",
    "\n",
    "Эта случайная величина имеет распределение Фишера (F-распределение) с количеством степеней свободы $k_1 = m$, $k_2 = n-m-1$."
   ]
  },
  {
   "cell_type": "code",
   "execution_count": 47,
   "id": "92223471",
   "metadata": {},
   "outputs": [
    {
     "name": "stdout",
     "output_type": "stream",
     "text": [
      "Fk = 5.987377607273699\n",
      "Fn = 6.432721949063591\n",
      "H0: R = 0 is False\n",
      "R = 0.5174025426948514\n"
     ]
    }
   ],
   "source": [
    "alpha = 0.05\n",
    "m = 1\n",
    "k1 = m\n",
    "k2 = n-m-1\n",
    "\n",
    "# правосторонняя критическая область\n",
    "Fk = stats.f.ppf(1-alpha, k1, k2)\n",
    "print(f'{Fk = }')\n",
    "\n",
    "Fn = R/(1-R) * (n-m-1)/m\n",
    "print(f'{Fn = }')\n",
    "\n",
    "print(f'H0: R = 0 is {Fn<Fk}')\n",
    "print (f'{R = }')"
   ]
  },
  {
   "cell_type": "markdown",
   "id": "de6f9a45",
   "metadata": {},
   "source": [
    "На уровне значимости $\\alpha=0.05$ гипотезу $H_0: R^2 = 0$ отвергаем в пользу конкурирующей гипотезы $H_1: R^2 > 0$. Выборочное значение $R = 0.5174$ статистически значимо отлично от нуля, а значит, статистически значимо и выборочное уравнение $y = 147.32 - 6.0485x$"
   ]
  },
  {
   "cell_type": "markdown",
   "id": "42ada095",
   "metadata": {},
   "source": [
    "Однако «статистически значимо» – это ещё не значит, что «отлично» или хотя бы «хорошо». \\\n",
    "Вполне может оказаться, что зависимость близкА и к какой-нибудь нелинейной – если эмпирические точки располагаются примерно по параболе, гиперболе, экспоненте или вдоль какой-нибудь другой кривой. В этом случае мы получим низкое значение линейного коэффициента детерминации и его статическую незначимость, а значит, и незначимость всей линейной модели. То есть, линейная модель будет неудовлетворительно описывать ситуацию."
   ]
  },
  {
   "cell_type": "markdown",
   "id": "2106c3f2",
   "metadata": {},
   "source": [
    "***\n",
    "### <font color = MediumBlue size = 4><b>Точечный прогноз и доверительный интервал прогноза</b></font>\n",
    "\n",
    "Сделаем точечный прогноз $y_{pr}$, вычисленный по выборочному уравнению $y = a + bx$ при $x_{pr}$."
   ]
  },
  {
   "cell_type": "code",
   "execution_count": 48,
   "id": "ae1862a8",
   "metadata": {},
   "outputs": [],
   "source": [
    "def ypred(x):\n",
    "    return round(a + b*x,2)"
   ]
  },
  {
   "cell_type": "code",
   "execution_count": 49,
   "id": "e97fccac",
   "metadata": {},
   "outputs": [
    {
     "data": {
      "text/plain": [
       "50.54"
      ]
     },
     "execution_count": 49,
     "metadata": {},
     "output_type": "execute_result"
    }
   ],
   "source": [
    "x_pr = 16\n",
    "y_pr = ypred(x_pr)\n",
    "y_pr"
   ]
  },
  {
   "cell_type": "markdown",
   "id": "4c92b6ca",
   "metadata": {},
   "source": [
    "При этом существует генеральное уравнение регрессии $y=A+Bx$ и, следовательно, генеральное прогнозируемое значение $\\hat{y_{pr}}$ при $x_{pr}$.\n",
    "\n",
    "Доверительный интервал, который с заранее заданной доверительной вероятностью $\\gamma=0.95$ накроет истинное значение $\\hat{y_{pr}}$: \\\n",
    "$y_{pr} - \\varepsilon < \\hat{y_{pr}} < y_{pr} + \\varepsilon$, при \\\n",
    "$\\varepsilon = t_{\\gamma} \\cdot s_{pr}$, где \\\n",
    "$t_{\\gamma}$ – коэффициент доверия, \\\n",
    "$s_{pr}$ – стандартная ошибка точечного прогноза.\n",
    "\n",
    "$s_{pr} = se \\cdot \\sqrt{1 + \\cfrac{1}{n} + \\cfrac{(x_{pr}-\\bar{x})^2}{\\sum{(x_i-\\bar{x})^2}}}$"
   ]
  },
  {
   "cell_type": "code",
   "execution_count": 50,
   "id": "6b66d1a0",
   "metadata": {},
   "outputs": [
    {
     "name": "stdout",
     "output_type": "stream",
     "text": [
      "t = 2.4469118487916806\n",
      "Spr = 20.79027472877232\n",
      "-0.33 < y < 101.41\n"
     ]
    }
   ],
   "source": [
    "t = stats.t.ppf(1-alpha/2,k)\n",
    "print(f'{t = }')\n",
    "\n",
    "Spr = se * np.sqrt(1 + 1/n + (x_pr - Mx)**2/np.sum((X-Mx)**2))\n",
    "print(f'{Spr = }')\n",
    "\n",
    "print(f'{y_pr-t*Spr:.2f} < y < {y_pr+t*Spr:.2f}')"
   ]
  },
  {
   "cell_type": "markdown",
   "id": "c55fe29a",
   "metadata": {},
   "source": [
    "Левое значение округлим до нуля: $0 < \\hat{y_{pr}} < 101.41$ – данный интервал с вероятностью $\\gamma=0.95$ накрывает истинное генеральное значение $\\hat{y_{pr}}$ прогноза при $x_{pr}=16$."
   ]
  },
  {
   "cell_type": "markdown",
   "id": "3cd781a5",
   "metadata": {},
   "source": [
    "***\n",
    "## <font color = DarkGreen size = 5> <b>Математический смысл однофакторной регрессии</b> </font>\n",
    "\n",
    "***\n",
    "### <font color = MediumBlue size = 4><b>Оценка значимости математической модели</b></font>\n",
    "\n",
    "#### <font color = SteelBlue size = 3> <b>Индекс детерминации</b></font>\n",
    "\n",
    "В рамках построенной модели вся вариация делится на две части:\n",
    "* **факторная** дисперсия – это та часть, которая объяснИма уравнением регрессии: $\\sigma_{факт}^2 = \\cfrac{\\sum{(y(x_i)-\\bar{y})^2}}{n}$\n",
    "* **остаточная** дисперсия – часть, которая регрессией не объясняется: $\\sigma_{ост}^2 = \\cfrac{\\sum{(y_i-y(x_i))^2}}{n}$\n",
    "* **общая** дисперсия – раскладывается на дисперсию, объяснённую уравнением регрессии, и дисперсию остаточную: $\\sigma_{общ}^2 = \\sigma_{факт}^2 + \\sigma_{ост}^2$\n",
    "\n",
    "> По сути, это частный случай общей, межгрупповой и внутригрупповой дисперсии.\n",
    "\n",
    "Очевидно, что чем больше значение $\\sigma_{факт}^2$, тем меньше $\\sigma_{ост}^2$ и тем ближе эмпирические точки расположены к линии регрессии, и тем выше качество построенной модели. И мерилом такого качества является **индекс детерминации**: \\\n",
    "$R_I^2 = \\cfrac{\\sigma_{факт}^2}{\\sigma_{общ}^2} = \\cfrac{\\sum{(y(x_i)-\\bar{y})^2}}{\\sum{(y_i-\\bar{y})^2}}$\n",
    "\n",
    "Индекс детерминации изменяется в пределах $0 \\leq R_I^2 \\leq 1$ и показывает *долю* вариации признака-результата, которая обусловлена признаком-фактором.\n",
    "\n",
    "В предельном случае $R_I^2=1$ все эмпирические точки расположены на линии регрессии, и речь идёт о строгой функциональной зависимости, в этом случае признак-фактор модели полностью объясняет всю вариацию признака результата: $\\sigma_{общ}^2 = \\sigma_{факт}^2$.\n",
    "\n",
    "Противоположный случай $R_I^2=0$ – факторная дисперсия равна нулю и общая дисперсия полностью объяснИма неучтёнными в модели причинами: $\\sigma_{общ}^2 = \\sigma_{ост}^2$. При этом линия регрессии параллельна оси $X$ и отражает тот факт, что при изменении значений $x$ среднеожидаемое значение $y$ остаётся постоянным. Иными словами, фактор, положенный в основу модели, не оказывает никакого влияния на результат."
   ]
  },
  {
   "cell_type": "code",
   "execution_count": 51,
   "id": "082803e1",
   "metadata": {},
   "outputs": [],
   "source": [
    "df = pd.DataFrame({'X': [12,   9,   8, 14, 15, 11, 10, 15],\n",
    "                   'Y': [42, 107, 100, 60, 78, 79, 90 ,54]})"
   ]
  },
  {
   "cell_type": "code",
   "execution_count": 54,
   "id": "09129176",
   "metadata": {},
   "outputs": [
    {
     "data": {
      "image/png": "[encoded data removed]",
      "text/plain": [
       "<Figure size 800x600 with 1 Axes>"
      ]
     },
     "metadata": {},
     "output_type": "display_data"
    }
   ],
   "source": [
    "plt.figure(figsize=(8,6))\n",
    "\n",
    "sns.scatterplot(data=df, x='X', y='Y', color='black', s=50)\n",
    "sns.lineplot(x=df.X, y=y_pred, color ='b')\n",
    "sns.scatterplot(x=df.X, y=y_pred, color ='b')\n",
    "plt.text(13.5, 33, f'y = {b:.4f}x + {a:.2f}')\n",
    "\n",
    "plt.axhline(y=My, color='firebrick')\n",
    "plt.text(7.2, My-2, f'{My = }')\n",
    "\n",
    "for x, y1, y2 in zip(df.X, df.Y, y_pred):\n",
    "    ymin = 1 - (110 - min(y1,y2))/80\n",
    "    ymax = 1 - (110 - max(y1,y2))/80\n",
    "    plt.axvline(x=x+0.01, ymin=ymin, ymax=ymax, color='r', lw=2)\n",
    "    \n",
    "    ymin = 1 - (110 - min(My,y2))/80\n",
    "    ymax = 1 - (110 - max(My,y2))/80\n",
    "    plt.axvline(x=x-0.01, ymin=ymin, ymax=ymax, color='g', lw=2)\n",
    "    \n",
    "plt.xlim([7,16])\n",
    "plt.xticks(ticks=np.arange(7, 16))\n",
    "plt.ylim([30,110])\n",
    "plt.yticks(ticks=np.arange(30, 110, 10))\n",
    "plt.xlabel('прогулы')\n",
    "plt.ylabel('успеваемость')\n",
    "plt.grid(linewidth=0.4);"
   ]
  },
  {
   "cell_type": "markdown",
   "id": "fe9a38b3",
   "metadata": {},
   "source": [
    "На графике:\n",
    "* зеленые отрезки $y(x_i) - \\bar{y}$ – это часть вариации, объяснённая уравнением регрессии\n",
    "* красные отрезки $\\epsilon_i = y_i - y(x_i)$ – это  остаточная часть вариации, которая уравнением НЕ объяснена"
   ]
  },
  {
   "cell_type": "code",
   "execution_count": 56,
   "id": "5be8e42c",
   "metadata": {},
   "outputs": [
    {
     "data": {
      "text/plain": [
       "0.5174025426948514"
      ]
     },
     "execution_count": 56,
     "metadata": {},
     "output_type": "execute_result"
    }
   ],
   "source": [
    "Ri2 = sum((y_pred - My)**2)/sum((df.Y-My)**2)\n",
    "Ri2"
   ]
  },
  {
   "cell_type": "markdown",
   "id": "e1c0ec17",
   "metadata": {},
   "source": [
    "В рамках построенной модели успеваемость на 51,74% зависит от количества прогулов. Оставшаяся часть вариации успеваемости (48,26%) обусловлена другими причинами."
   ]
  },
  {
   "cell_type": "markdown",
   "id": "5d58ac60",
   "metadata": {},
   "source": [
    "#### <font color = SteelBlue size = 3> <b>Индекс корреляции</b></font>\n",
    "\n",
    "Для качественной оценки тесноты связи используют **индекс корреляции**:\\\n",
    "$R_I = \\sqrt{R_I^2}$ – квадратный корень из индекса детерминации.\n",
    "\n",
    "Индекс корреляции тоже изменяется в пределах $0 \\leq R_I \\leq 1$ и для оценки качества модели используют шкалу Чеддока:\n",
    "\n",
    "| Диапазон значений $R_I$ | Корреляционная зависимость $Y$ от X |\n",
    "| --- | :--- |\n",
    "| 0 - 0.1   | практически отсутствует |\n",
    "| 0.1 - 0.3 | слабая |\n",
    "| 0.3 - 0.5 | умеренная |\n",
    "| 0.5 - 0.7 | заметная |\n",
    "| 0.7 - 0.9 | сильная |\n",
    "| 0.9 - 0.99 | очень сильная |\n",
    "| 0.99 - 1 | практически функциональная |"
   ]
  },
  {
   "cell_type": "code",
   "execution_count": 57,
   "id": "becfb9d0",
   "metadata": {},
   "outputs": [
    {
     "data": {
      "text/plain": [
       "0.7193069877978744"
      ]
     },
     "execution_count": 57,
     "metadata": {},
     "output_type": "execute_result"
    }
   ],
   "source": [
    "Ri = np.sqrt(Ri2)\n",
    "Ri"
   ]
  },
  {
   "cell_type": "markdown",
   "id": "e39093b6",
   "metadata": {},
   "source": [
    "Существует сильная корреляционная зависимость $Y$ – суммарной успеваемости от $X$ – количества прогулов.\n",
    "Результат совпал по модулю с линейным коэффициентом корреляции $r=-0.72$, который мы получили в ходе решения."
   ]
  },
  {
   "cell_type": "markdown",
   "id": "add6c3b7",
   "metadata": {},
   "source": [
    "Индекс корреляции не отражает направление зависимости (прямая или обратная). Но зато он годится для оценки качества как линейной, так и нелинейной регрессии – рАвно, как и индекс детерминации, вычисленный по рассмотренной выше методике.\n",
    "\n",
    "Индекс детерминации и индекс корреляции – это частный случай [эмпирического коэффициента детерминации и эмпирического корреляционного отношения](https://github.com/TanXmas/ProbabilityTheory_and_Statistics/blob/main/St_08_Grouping%20data.%20Correlation%20analysis.ipynb) соответственно."
   ]
  },
  {
   "cell_type": "markdown",
   "id": "4148e483",
   "metadata": {},
   "source": [
    "***\n",
    "### <font color = MediumBlue size = 4><b>Оценка значимости регрессионной модели</b></font>\n",
    "\n",
    "#### <font color = SteelBlue size = 3> <b>Выборочный индекс детерминации</b></font>\n",
    "\n",
    "Проверка значимости выборочного уравнения регрессии эквивалентна проверке значимости выборочного индекса детерминации.\n",
    "\n",
    "На уровне значимости $\\alpha=0.05$ проверим нулевую гипотезу о том, что генеральный индекс детерминации равен нулю $H_0: R^2=0$. \\\n",
    "Против конкурирующей гипотезы о том, что такое влияние есть $H_1: R^2>0$.\n",
    "\n",
    "Для проверки гипотезы используем статистический критерий: \\\n",
    "$F = \\cfrac{Q_R}{Q_e} \\cdot \\cfrac{n-m-1}{m}$, где \\\n",
    "$Q_R = \\sum{(y(x_i)-\\bar{y})^2}$ – выборочная факторная сумма квадратов, \\\n",
    "$Q_e = \\sum(y_i - y(x_i))^2$ – выборочная остаточная сумма квадратов, \\\n",
    "$m$ – количество факторных (причинных) переменных.\n",
    "\n",
    "Эта случайная величина имеет распределение Фишера (F-распределение) с количеством степеней свободы $k_1 = m$, $k_2 = n-m-1$.\n",
    "\n",
    "Если $F_н > F_к$, то гипотезу $H_0$ на уровне значимости $\\alpha$ отвергаем.\\\n",
    "Если $F_н < F_к$, то отвергать гипотезу $H_0$ оснований нет."
   ]
  },
  {
   "cell_type": "code",
   "execution_count": 58,
   "id": "38ab2561",
   "metadata": {},
   "outputs": [
    {
     "name": "stdout",
     "output_type": "stream",
     "text": [
      "Fk = 5.987377607273699\n",
      "Fn = 6.432721949063589\n",
      "H0: R = 0 is False\n",
      "R = 0.5174025426948514\n"
     ]
    }
   ],
   "source": [
    "alpha = 0.05\n",
    "m = 1\n",
    "k1 = m\n",
    "k2 = n-m-1\n",
    "\n",
    "# правосторонняя критическая область\n",
    "Fk = stats.f.ppf(1-alpha, k1, k2)\n",
    "print(f'{Fk = }')\n",
    "\n",
    "Fn = sum((y_pred-My)**2)/sum((df.Y-y_pred)**2) * (n-m-1)/m\n",
    "print(f'{Fn = }')\n",
    "\n",
    "print(f'H0: R = 0 is {Fn<Fk}')\n",
    "print (f'{R = }')"
   ]
  },
  {
   "cell_type": "markdown",
   "id": "f1c90c8e",
   "metadata": {},
   "source": [
    "Таким образом, на уровне значимости $\\alpha=0.05$ гипотезу $H_0: R^2=0$ отвергаем в пользу конкурирующей гипотезы $H_1: R^2>0$.\n",
    "\n",
    "**Вывод**: выборочный индекс детерминации $R^2 = 0.5174$ статистически значимо отличается от нуля, следовательно, статистически значимо и выборочное уравнение $y = 147.32 - 6.0485x$."
   ]
  },
  {
   "cell_type": "markdown",
   "id": "44f30e25",
   "metadata": {},
   "source": [
    "#### <font color = SteelBlue size = 3> <b>Средняя ошибка аппроксимации</b></font>\n",
    "\n",
    "**Средняя ошибка аппроксимации** показывает, на сколько процентов в среднем эмпирические значения $y_i$ отличаются от соответствующих значений $y(x_i)$, вычисленных по уравнению регрессии.\n",
    "\n",
    "$\\bar{A} = \\cfrac{1}{n} \\sum{\\left|\\cfrac{y_i - y(x_i)}{y_i}\\right|} \\cdot 100\\%$\n",
    "\n",
    "Чем меньше средняя ошибка аппроксимации $\\bar{A}$, тем лучше. \\\n",
    "Хорошим результатом считаются значения ниже 8-10%. "
   ]
  },
  {
   "cell_type": "code",
   "execution_count": 59,
   "id": "f95355e3",
   "metadata": {},
   "outputs": [
    {
     "data": {
      "text/plain": [
       "16.82922864389863"
      ]
     },
     "execution_count": 59,
     "metadata": {},
     "output_type": "execute_result"
    }
   ],
   "source": [
    "A = sum(abs((df.Y-y_pred)/df.Y)) / n * 100\n",
    "A"
   ]
  },
  {
   "cell_type": "markdown",
   "id": "e91c7dda",
   "metadata": {},
   "source": [
    "Эмпирические $y_i$ и соответствующие регрессионные значения $y(x_i)$ различаются в среднем на 16,83%. \\\n",
    "**Вывод**: качество модели удовлетворительно."
   ]
  }
 ],
 "metadata": {
  "kernelspec": {
   "display_name": "Python 3 (ipykernel)",
   "language": "python",
   "name": "python3"
  },
  "language_info": {
   "codemirror_mode": {
    "name": "ipython",
    "version": 3
   },
   "file_extension": ".py",
   "mimetype": "text/x-python",
   "name": "python",
   "nbconvert_exporter": "python",
   "pygments_lexer": "ipython3",
   "version": "3.9.13"
  }
 },
 "nbformat": 4,
 "nbformat_minor": 5
}
