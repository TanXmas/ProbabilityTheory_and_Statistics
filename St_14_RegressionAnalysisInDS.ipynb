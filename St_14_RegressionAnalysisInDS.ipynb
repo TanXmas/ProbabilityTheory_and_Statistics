{
 "cells": [
  {
   "cell_type": "markdown",
   "id": "d85bc7a5",
   "metadata": {},
   "source": [
    "# <font color = Crimson size = 6> <b>Регрессионный анализ в науке о данных<br> </b> </font>"
   ]
  },
  {
   "cell_type": "code",
   "execution_count": 1,
   "id": "dcc80fbb",
   "metadata": {},
   "outputs": [],
   "source": [
    "import numpy as np\n",
    "import pandas as pd\n",
    "\n",
    "import matplotlib.pyplot as plt\n",
    "import seaborn as sns\n",
    "\n",
    "from sklearn.linear_model import LinearRegression\n",
    "\n",
    "import statsmodels.api as sm\n",
    "import statsmodels.formula.api as smf\n",
    "from statsmodels.stats.outliers_influence import OLSInfluence\n",
    "from statsmodels.gam.api import GLMGam, BSplines\n",
    "\n",
    "import warnings\n",
    "warnings.filterwarnings('ignore')"
   ]
  },
  {
   "cell_type": "markdown",
   "id": "1c1b2ea9",
   "metadata": {},
   "source": [
    "***\n",
    "## <font color = DarkGreen size = 5> <b>Предсказание с использованием регрессии</b> </font>\n",
    "\n",
    "Первоочередное предназначение регрессии в науке о данных заключается в предсказании. Это полезно учитывать потому, что регрессия, будучи проверенным временем и признанным статистическим методом, сопровождается багажом, который более соответствует своей традиционной роли объяснительного моделирования, чем предсказанию.\n",
    "\n",
    "***\n",
    "### <font color = MediumBlue size = 4> <b>Экстраполяция</b> </font>\n",
    "\n",
    "**Экстраполяция (extrapolation)**\n",
    "— расширение модели за пределы диапазона данных, использованных для ее подгонки.\n",
    "\n",
    "Регрессионные модели не следует использовать для экстраполирования за пределы диапазона данных (исключая использование регрессии для прогнозирования временных рядов). Модель допустима только для тех предсказателей, для которых в данных имеется достаточно значений.\n",
    "\n",
    "***\n",
    "### <font color = MediumBlue size = 4> <b>Доверительный и предсказательный интервалы</b> </font>\n",
    "\n",
    "**Предсказательный интервал (prediction interval)** \\\n",
    "— интервал неопределенности вокруг отдельного предсказанного значения.\n",
    "\n",
    "Большая часть статистик предусматривает понимание и измерение вариабельности (неопределенности). t-Статистики и p-значения, о которых сообщается на выходе из регрессии, решают это формальным образом, что иногда полезно для отбора переменной. Более полезными метриками являются доверительные интервалы, которые суть интервалы неопределенности, помещаемые вокруг регрессионных коэффициентов и предсказаний. Простой путь к пониманию этих метрик лежит через бутстрап. Доверительные интервалы, наиболее часто встречающиеся на выходе из вычислительных систем, относятся к регрессионным параметрам (коэффициентам).\n",
    "\n",
    "Например, алгоритм бутстрапа, который генерирует доверительные интервалы для параметров (коэффициентов) регрессии с использованием набора данных с $p$ предсказателями и $n$ записями (строками):\n",
    "1. Рассматривать каждую строку (включая переменную исхода) как отдельный \"пакет\" и поместить все $n$ пакетов в коробку.\n",
    "2. Вынуть пакет наугад, записать его значения и вернуть его в коробку.\n",
    "3. Повторить $n$ раз шаг 2 - теперь у вас есть одна бутстраповская повторно отобранная выборка.\n",
    "4. Выполнить подгонку регрессии к бутстраповской выборке и записать оценочные коэффициенты.\n",
    "5. Повторить шаги 2–4, скажем, 1000 раз.\n",
    "6. Теперь у вас есть 1000 бутстраповских значений для каждого коэффициента; найти соответствующие процентили для каждого из них (например, 5-й и 95-й для 90%-ного доверительного интервала).\n",
    "\n",
    "Больший интерес для исследователей данных представляют интервалы вокруг предсказанных значений $\\hat{y_i}$. Неопределенность\n",
    "вокруг $\\hat{y_i}$ вытекает из двух источников:\n",
    "* неопределенность в том, каковы релевантные предсказательные переменные и их коэффициенты;\n",
    "* дополнительная ошибка, присущая отдельным точкам данных.\n",
    "\n",
    "Вы можете думать об ошибке отдельной точки данных следующим образом: даже если бы мы знали определенно, каким было уравнение регрессии (например, если бы мы имели огромное число записей для подгонки), *фактические* значения исхода для заданного множества значений предсказателей будут варьироваться. Мы можем смоделировать эту отдельную ошибку остатками от подогнанных значений. Алгоритм бутстрапа для моделирования как ошибки регрессионной модели, так и ошибки отдельной точки данных будет выглядеть следующим образом:\n",
    "1. Взять бутстраповскую выборку из данных.\n",
    "2. Выполнить подгонку регрессии и предсказать новое значение.\n",
    "3. Взять наугад один-единственный остаток из первоначальной подгонки регрессии, прибавить его к предсказанному значению и записать результат.\n",
    "4. Повторить шаги 1–3, скажем, 1000 раз.\n",
    "5. Найти 2.5-й и 97.5-й процентили результатов.\n",
    "\n",
    "> Предсказательный интервал касается неопределенности вокруг одного единственного значения, тогда как доверительный интервал связан со средним значением или другой статистикой, рассчитанными из многочисленных значений. Таким образом, для того же значения предсказательный интервал, как правило, будет намного шире доверительного интервала. Мы моделируем ошибку отдельного значения в бутстраповской модели путем отбора отдельного остатка с тем, чтобы его прикрепить к предсказанному значению. Который из двух интервалов использовать? Все зависит от контекста и предназначения анализа, но в общем случае исследователи данных интересуются специфическими отдельными предсказаниями, поэтому предсказательный интервал будет более подходящим. Выбор доверительного интервала тогда, когда необходимо использовать предсказательный интервал, значительно недооценивает неопределенность в конкретном предсказанном значении.\n"
   ]
  },
  {
   "cell_type": "markdown",
   "id": "4ed06dd2",
   "metadata": {},
   "source": [
    "***\n",
    "## <font color = DarkGreen size = 5> <b>Факторные переменные в регрессии</b> </font>\n",
    "\n",
    "**Факторные (категориальные) переменные**, принимают предельное число дискретных значений. Двоичная переменная, именуемая также **индикаторной** переменной, является особым случаем факторной переменной. Регрессия требует на входе числовые данные, поэтому факторные переменные нужно перекодировать, чтобы их можно было использовать в модели.\n",
    "\n",
    "Кодирование категориальных факторов:\n",
    "1. **Фиктивные переменные (dummy variables)**. Двоичные переменные, принимащие значения 0 и 1 и выводимые путем перекодирования факторных данных, для использования в регрессии и других моделях. <br><br>\n",
    "\n",
    "2. **Опорное кодирование (Reference coding)**. Наиболее часто встречающийся тип кодирования, используемый в статистике, в котором один уровень фактора выбирается в качестве опорного, а другие факторы сопоставляются с этим уровнем. <br><br>\n",
    "\n",
    "3. **Кодировщик с одним активным состоянием (one hot encoder)**. Тип кодирования, общепринятый в сообществе машинного обучения, при котором сохраняются все уровни факторов. Не подходит для множественной линейной регрессии. <br><br>\n",
    "\n",
    "4. **Девиационное кодирование (deviation coding) / суммовые контрасты**. Тип кодирования, при котором каждый уровень сравнивается не с опорным уровнем, а с совокупным средним. <br><br>\n",
    "\n",
    "5. **Полиномиальное кодирование**. Для упорядоченных факторов."
   ]
  },
  {
   "cell_type": "markdown",
   "id": "d8f7f898",
   "metadata": {},
   "source": [
    "***\n",
    "### <font color = MediumBlue size = 4> <b>Фиктивные переменные</b> </font>\n",
    "\n",
    "Это наиболее часто встречающийся подход, который состоит в конвертировании переменной во множество двоичных фиктивных переменных.\n",
    "\n",
    "##### <font color = SlateBlue size = 3> Пример </font>\n",
    "\n",
    "В данных жилого фонда округа Кинг имеется факторная переменная, соответствующая типу собственности; ниже показано малое подмножество из шести записей."
   ]
  },
  {
   "cell_type": "code",
   "execution_count": 2,
   "id": "08995bae",
   "metadata": {},
   "outputs": [
    {
     "data": {
      "text/html": [
       "<div>\n",
       "<style scoped>\n",
       "    .dataframe tbody tr th:only-of-type {\n",
       "        vertical-align: middle;\n",
       "    }\n",
       "\n",
       "    .dataframe tbody tr th {\n",
       "        vertical-align: top;\n",
       "    }\n",
       "\n",
       "    .dataframe thead th {\n",
       "        text-align: right;\n",
       "    }\n",
       "</style>\n",
       "<table border=\"1\" class=\"dataframe\">\n",
       "  <thead>\n",
       "    <tr style=\"text-align: right;\">\n",
       "      <th></th>\n",
       "      <th>ID</th>\n",
       "      <th>DocumentDate</th>\n",
       "      <th>SalePrice</th>\n",
       "      <th>PropertyID</th>\n",
       "      <th>PropertyType</th>\n",
       "      <th>ym</th>\n",
       "      <th>zhvi_px</th>\n",
       "      <th>zhvi_idx</th>\n",
       "      <th>AdjSalePrice</th>\n",
       "      <th>NbrLivingUnits</th>\n",
       "      <th>...</th>\n",
       "      <th>Bathrooms</th>\n",
       "      <th>Bedrooms</th>\n",
       "      <th>BldgGrade</th>\n",
       "      <th>YrBuilt</th>\n",
       "      <th>YrRenovated</th>\n",
       "      <th>TrafficNoise</th>\n",
       "      <th>LandVal</th>\n",
       "      <th>ImpsVal</th>\n",
       "      <th>ZipCode</th>\n",
       "      <th>NewConstruction</th>\n",
       "    </tr>\n",
       "  </thead>\n",
       "  <tbody>\n",
       "    <tr>\n",
       "      <th>0</th>\n",
       "      <td>1</td>\n",
       "      <td>2014-09-16</td>\n",
       "      <td>280000</td>\n",
       "      <td>1000102</td>\n",
       "      <td>Multiplex</td>\n",
       "      <td>2014-09-01</td>\n",
       "      <td>405100</td>\n",
       "      <td>0.930836</td>\n",
       "      <td>300805.0</td>\n",
       "      <td>2</td>\n",
       "      <td>...</td>\n",
       "      <td>3.00</td>\n",
       "      <td>6</td>\n",
       "      <td>7</td>\n",
       "      <td>1991</td>\n",
       "      <td>0</td>\n",
       "      <td>0</td>\n",
       "      <td>70000</td>\n",
       "      <td>229000</td>\n",
       "      <td>98002</td>\n",
       "      <td>False</td>\n",
       "    </tr>\n",
       "    <tr>\n",
       "      <th>1</th>\n",
       "      <td>2</td>\n",
       "      <td>2006-06-16</td>\n",
       "      <td>1000000</td>\n",
       "      <td>1200013</td>\n",
       "      <td>Single Family</td>\n",
       "      <td>2006-06-01</td>\n",
       "      <td>404400</td>\n",
       "      <td>0.929228</td>\n",
       "      <td>1076162.0</td>\n",
       "      <td>1</td>\n",
       "      <td>...</td>\n",
       "      <td>3.75</td>\n",
       "      <td>4</td>\n",
       "      <td>10</td>\n",
       "      <td>2005</td>\n",
       "      <td>0</td>\n",
       "      <td>0</td>\n",
       "      <td>203000</td>\n",
       "      <td>590000</td>\n",
       "      <td>98166</td>\n",
       "      <td>True</td>\n",
       "    </tr>\n",
       "    <tr>\n",
       "      <th>2</th>\n",
       "      <td>3</td>\n",
       "      <td>2007-01-29</td>\n",
       "      <td>745000</td>\n",
       "      <td>1200019</td>\n",
       "      <td>Single Family</td>\n",
       "      <td>2007-01-01</td>\n",
       "      <td>425600</td>\n",
       "      <td>0.977941</td>\n",
       "      <td>761805.0</td>\n",
       "      <td>1</td>\n",
       "      <td>...</td>\n",
       "      <td>1.75</td>\n",
       "      <td>4</td>\n",
       "      <td>8</td>\n",
       "      <td>1947</td>\n",
       "      <td>0</td>\n",
       "      <td>0</td>\n",
       "      <td>183000</td>\n",
       "      <td>275000</td>\n",
       "      <td>98166</td>\n",
       "      <td>False</td>\n",
       "    </tr>\n",
       "    <tr>\n",
       "      <th>3</th>\n",
       "      <td>4</td>\n",
       "      <td>2008-02-25</td>\n",
       "      <td>425000</td>\n",
       "      <td>2800016</td>\n",
       "      <td>Single Family</td>\n",
       "      <td>2008-02-01</td>\n",
       "      <td>418400</td>\n",
       "      <td>0.961397</td>\n",
       "      <td>442065.0</td>\n",
       "      <td>1</td>\n",
       "      <td>...</td>\n",
       "      <td>3.75</td>\n",
       "      <td>5</td>\n",
       "      <td>7</td>\n",
       "      <td>1966</td>\n",
       "      <td>0</td>\n",
       "      <td>0</td>\n",
       "      <td>104000</td>\n",
       "      <td>229000</td>\n",
       "      <td>98168</td>\n",
       "      <td>False</td>\n",
       "    </tr>\n",
       "    <tr>\n",
       "      <th>4</th>\n",
       "      <td>5</td>\n",
       "      <td>2013-03-29</td>\n",
       "      <td>240000</td>\n",
       "      <td>2800024</td>\n",
       "      <td>Single Family</td>\n",
       "      <td>2013-03-01</td>\n",
       "      <td>351600</td>\n",
       "      <td>0.807904</td>\n",
       "      <td>297065.0</td>\n",
       "      <td>1</td>\n",
       "      <td>...</td>\n",
       "      <td>1.75</td>\n",
       "      <td>4</td>\n",
       "      <td>7</td>\n",
       "      <td>1948</td>\n",
       "      <td>0</td>\n",
       "      <td>0</td>\n",
       "      <td>104000</td>\n",
       "      <td>205000</td>\n",
       "      <td>98168</td>\n",
       "      <td>False</td>\n",
       "    </tr>\n",
       "  </tbody>\n",
       "</table>\n",
       "<p>5 rows × 23 columns</p>\n",
       "</div>"
      ],
      "text/plain": [
       "   ID DocumentDate  SalePrice  PropertyID   PropertyType          ym  zhvi_px  \\\n",
       "0   1   2014-09-16     280000     1000102      Multiplex  2014-09-01   405100   \n",
       "1   2   2006-06-16    1000000     1200013  Single Family  2006-06-01   404400   \n",
       "2   3   2007-01-29     745000     1200019  Single Family  2007-01-01   425600   \n",
       "3   4   2008-02-25     425000     2800016  Single Family  2008-02-01   418400   \n",
       "4   5   2013-03-29     240000     2800024  Single Family  2013-03-01   351600   \n",
       "\n",
       "   zhvi_idx  AdjSalePrice  NbrLivingUnits  ...  Bathrooms  Bedrooms  \\\n",
       "0  0.930836      300805.0               2  ...       3.00         6   \n",
       "1  0.929228     1076162.0               1  ...       3.75         4   \n",
       "2  0.977941      761805.0               1  ...       1.75         4   \n",
       "3  0.961397      442065.0               1  ...       3.75         5   \n",
       "4  0.807904      297065.0               1  ...       1.75         4   \n",
       "\n",
       "   BldgGrade  YrBuilt  YrRenovated  TrafficNoise  LandVal  ImpsVal  ZipCode  \\\n",
       "0          7     1991            0             0    70000   229000    98002   \n",
       "1         10     2005            0             0   203000   590000    98166   \n",
       "2          8     1947            0             0   183000   275000    98166   \n",
       "3          7     1966            0             0   104000   229000    98168   \n",
       "4          7     1948            0             0   104000   205000    98168   \n",
       "\n",
       "   NewConstruction  \n",
       "0            False  \n",
       "1             True  \n",
       "2            False  \n",
       "3            False  \n",
       "4            False  \n",
       "\n",
       "[5 rows x 23 columns]"
      ]
     },
     "execution_count": 2,
     "metadata": {},
     "output_type": "execute_result"
    }
   ],
   "source": [
    "df = pd.read_csv('./data/house_sales.csv', sep='\\t')\n",
    "df.head()"
   ]
  },
  {
   "cell_type": "code",
   "execution_count": 3,
   "id": "c18b4b7b",
   "metadata": {},
   "outputs": [],
   "source": [
    "df['DocumentDate']= pd.to_datetime(df['DocumentDate'], format='%Y-%m-%d')\n",
    "df['ym']= pd.to_datetime(df['ym'], format='%Y-%m-%d')\n",
    "df['Weight'] = df['DocumentDate'].dt.year - 2005"
   ]
  },
  {
   "cell_type": "markdown",
   "id": "09cd0903",
   "metadata": {},
   "source": [
    "Имеются три возможных значения: Multiplex (мультиплекс), Single Family (односемейный) и Townhouse (таунхаус). Для того чтобы воспользоваться указанной факторной переменной, мы должны конвертировать ее во множество двоичных переменных. Это делается путем создания двоичной переменной для каждого возможного значения факторной переменной."
   ]
  },
  {
   "cell_type": "code",
   "execution_count": 4,
   "id": "7b029108",
   "metadata": {},
   "outputs": [],
   "source": [
    "predictors = ['SqFtTotLiving', 'SqFtLot', 'Bathrooms', 'Bedrooms', 'BldgGrade', 'YrBuilt', 'PropertyType']\n",
    "outcome = 'AdjSalePrice'"
   ]
  },
  {
   "cell_type": "markdown",
   "id": "0af295a9",
   "metadata": {},
   "source": [
    "В Python мы можем конвертировать категориальные переменные в фиктивные с помощью метода **get_dummies** пакета **pandas**.\\\n",
    "По умолчанию возвращает одну кодировку категориальной переменной с одним активным состоянием."
   ]
  },
  {
   "cell_type": "code",
   "execution_count": 5,
   "id": "4b1610b0",
   "metadata": {},
   "outputs": [
    {
     "data": {
      "text/html": [
       "<div>\n",
       "<style scoped>\n",
       "    .dataframe tbody tr th:only-of-type {\n",
       "        vertical-align: middle;\n",
       "    }\n",
       "\n",
       "    .dataframe tbody tr th {\n",
       "        vertical-align: top;\n",
       "    }\n",
       "\n",
       "    .dataframe thead th {\n",
       "        text-align: right;\n",
       "    }\n",
       "</style>\n",
       "<table border=\"1\" class=\"dataframe\">\n",
       "  <thead>\n",
       "    <tr style=\"text-align: right;\">\n",
       "      <th></th>\n",
       "      <th>Multiplex</th>\n",
       "      <th>Single Family</th>\n",
       "      <th>Townhouse</th>\n",
       "    </tr>\n",
       "  </thead>\n",
       "  <tbody>\n",
       "    <tr>\n",
       "      <th>0</th>\n",
       "      <td>1</td>\n",
       "      <td>0</td>\n",
       "      <td>0</td>\n",
       "    </tr>\n",
       "    <tr>\n",
       "      <th>1</th>\n",
       "      <td>0</td>\n",
       "      <td>1</td>\n",
       "      <td>0</td>\n",
       "    </tr>\n",
       "    <tr>\n",
       "      <th>2</th>\n",
       "      <td>0</td>\n",
       "      <td>1</td>\n",
       "      <td>0</td>\n",
       "    </tr>\n",
       "    <tr>\n",
       "      <th>3</th>\n",
       "      <td>0</td>\n",
       "      <td>1</td>\n",
       "      <td>0</td>\n",
       "    </tr>\n",
       "    <tr>\n",
       "      <th>4</th>\n",
       "      <td>0</td>\n",
       "      <td>1</td>\n",
       "      <td>0</td>\n",
       "    </tr>\n",
       "    <tr>\n",
       "      <th>5</th>\n",
       "      <td>0</td>\n",
       "      <td>0</td>\n",
       "      <td>1</td>\n",
       "    </tr>\n",
       "    <tr>\n",
       "      <th>6</th>\n",
       "      <td>0</td>\n",
       "      <td>1</td>\n",
       "      <td>0</td>\n",
       "    </tr>\n",
       "    <tr>\n",
       "      <th>7</th>\n",
       "      <td>0</td>\n",
       "      <td>1</td>\n",
       "      <td>0</td>\n",
       "    </tr>\n",
       "    <tr>\n",
       "      <th>8</th>\n",
       "      <td>0</td>\n",
       "      <td>1</td>\n",
       "      <td>0</td>\n",
       "    </tr>\n",
       "    <tr>\n",
       "      <th>9</th>\n",
       "      <td>1</td>\n",
       "      <td>0</td>\n",
       "      <td>0</td>\n",
       "    </tr>\n",
       "  </tbody>\n",
       "</table>\n",
       "</div>"
      ],
      "text/plain": [
       "   Multiplex  Single Family  Townhouse\n",
       "0          1              0          0\n",
       "1          0              1          0\n",
       "2          0              1          0\n",
       "3          0              1          0\n",
       "4          0              1          0\n",
       "5          0              0          1\n",
       "6          0              1          0\n",
       "7          0              1          0\n",
       "8          0              1          0\n",
       "9          1              0          0"
      ]
     },
     "execution_count": 5,
     "metadata": {},
     "output_type": "execute_result"
    }
   ],
   "source": [
    "pd.get_dummies(df['PropertyType']).head(10)"
   ]
  },
  {
   "cell_type": "markdown",
   "id": "c4711792",
   "metadata": {},
   "source": [
    "Именованный аргумент **drop_first** будет возвращать $p-1$ столбцов. Используйте его во избежание проблемы мультиколлинеарности."
   ]
  },
  {
   "cell_type": "code",
   "execution_count": 6,
   "id": "4c0cae3f",
   "metadata": {},
   "outputs": [
    {
     "data": {
      "text/html": [
       "<div>\n",
       "<style scoped>\n",
       "    .dataframe tbody tr th:only-of-type {\n",
       "        vertical-align: middle;\n",
       "    }\n",
       "\n",
       "    .dataframe tbody tr th {\n",
       "        vertical-align: top;\n",
       "    }\n",
       "\n",
       "    .dataframe thead th {\n",
       "        text-align: right;\n",
       "    }\n",
       "</style>\n",
       "<table border=\"1\" class=\"dataframe\">\n",
       "  <thead>\n",
       "    <tr style=\"text-align: right;\">\n",
       "      <th></th>\n",
       "      <th>Single Family</th>\n",
       "      <th>Townhouse</th>\n",
       "    </tr>\n",
       "  </thead>\n",
       "  <tbody>\n",
       "    <tr>\n",
       "      <th>0</th>\n",
       "      <td>0</td>\n",
       "      <td>0</td>\n",
       "    </tr>\n",
       "    <tr>\n",
       "      <th>1</th>\n",
       "      <td>1</td>\n",
       "      <td>0</td>\n",
       "    </tr>\n",
       "    <tr>\n",
       "      <th>2</th>\n",
       "      <td>1</td>\n",
       "      <td>0</td>\n",
       "    </tr>\n",
       "    <tr>\n",
       "      <th>3</th>\n",
       "      <td>1</td>\n",
       "      <td>0</td>\n",
       "    </tr>\n",
       "    <tr>\n",
       "      <th>4</th>\n",
       "      <td>1</td>\n",
       "      <td>0</td>\n",
       "    </tr>\n",
       "    <tr>\n",
       "      <th>5</th>\n",
       "      <td>0</td>\n",
       "      <td>1</td>\n",
       "    </tr>\n",
       "    <tr>\n",
       "      <th>6</th>\n",
       "      <td>1</td>\n",
       "      <td>0</td>\n",
       "    </tr>\n",
       "    <tr>\n",
       "      <th>7</th>\n",
       "      <td>1</td>\n",
       "      <td>0</td>\n",
       "    </tr>\n",
       "    <tr>\n",
       "      <th>8</th>\n",
       "      <td>1</td>\n",
       "      <td>0</td>\n",
       "    </tr>\n",
       "    <tr>\n",
       "      <th>9</th>\n",
       "      <td>0</td>\n",
       "      <td>0</td>\n",
       "    </tr>\n",
       "  </tbody>\n",
       "</table>\n",
       "</div>"
      ],
      "text/plain": [
       "   Single Family  Townhouse\n",
       "0              0          0\n",
       "1              1          0\n",
       "2              1          0\n",
       "3              1          0\n",
       "4              1          0\n",
       "5              0          1\n",
       "6              1          0\n",
       "7              1          0\n",
       "8              1          0\n",
       "9              0          0"
      ]
     },
     "execution_count": 6,
     "metadata": {},
     "output_type": "execute_result"
    }
   ],
   "source": [
    "pd.get_dummies(df['PropertyType'], drop_first=True).head(10)"
   ]
  },
  {
   "cell_type": "markdown",
   "id": "205e1828",
   "metadata": {},
   "source": [
    "В некоторых автоматически обучающихся алгоритмах, таких как ближайшие соседи и древесные модели, кодирование с одним активным состоянием является стандартным способом представления факторных переменных.\n",
    "\n",
    "В регрессионной формулировке факторная переменная с $p$ четко различимыми уровнями обычно представляется матрицей только с $p-1$ столбцами. Это обусловлено тем, что регрессионная модель в типичной ситуации включает член пересечения. Говоря о ересечении, после того как вы определили значения для $p-1$ двоичных столбцов, значение $p$-го становится известным и может считаться избыточным. Добавление $p$-го столбца вызовет ошибку мультиколлинеарности.\n",
    "\n",
    "Метод **get_dummies** принимает необязательный именованный аргумент **drop_first**, чтобы исключить первый фактор в качестве опоры:"
   ]
  },
  {
   "cell_type": "code",
   "execution_count": 7,
   "id": "c0bacbd5",
   "metadata": {},
   "outputs": [
    {
     "name": "stdout",
     "output_type": "stream",
     "text": [
      "Intercept: 6266416.926\n",
      "Coefficients:\n",
      " SqFtTotLiving: 200.973\n",
      " SqFtLot: 0.076\n",
      " Bathrooms: 43019.102\n",
      " Bedrooms: -51554.557\n",
      " BldgGrade: 136336.550\n",
      " YrBuilt: -3609.917\n",
      " PropertyType_Single Family: 23950.215\n",
      " PropertyType_Townhouse: 88048.216\n"
     ]
    }
   ],
   "source": [
    "X = pd.get_dummies(df[predictors], drop_first=True, dtype=int)\n",
    "Y = df[outcome]\n",
    "\n",
    "house_lm = LinearRegression()\n",
    "house_lm.fit(X, Y)\n",
    "y = house_lm.predict(X)\n",
    "\n",
    "print(f'Intercept: {house_lm.intercept_:.3f}')\n",
    "print('Coefficients:')\n",
    "for name, coef in zip(X.columns, house_lm.coef_):\n",
    "    print(f' {name}: {coef:.3f}')"
   ]
  },
  {
   "cell_type": "markdown",
   "id": "4dba9a0b",
   "metadata": {},
   "source": [
    "Результат регрессии показывает два коэффициента, соответствующих типу собственности Property Type: PropertyType_SingleFamily и PropertyType_Townhouse. Коэффициент Multiplex отсутствует, поскольку он неявно определяется, когда PropertyType_SingleFamily = 0 и PropertyType_Townhouse = 0. Эти коэффициенты интерпретируются как относительные для Multiplex, и поэтому стоимость дома\n",
    "с типом собственности Single Family меньше почти на 85 000, и стоимость дома с типом собственности Townhouse меньше более чем на 150 000."
   ]
  },
  {
   "cell_type": "code",
   "execution_count": 8,
   "id": "cf85d96a",
   "metadata": {},
   "outputs": [
    {
     "name": "stdout",
     "output_type": "stream",
     "text": [
      "                            OLS Regression Results                            \n",
      "==============================================================================\n",
      "Dep. Variable:           AdjSalePrice   R-squared:                       0.595\n",
      "Model:                            OLS   Adj. R-squared:                  0.594\n",
      "Method:                 Least Squares   F-statistic:                     4156.\n",
      "Date:                Sat, 21 Oct 2023   Prob (F-statistic):               0.00\n",
      "Time:                        18:32:30   Log-Likelihood:            -3.1375e+05\n",
      "No. Observations:               22687   AIC:                         6.275e+05\n",
      "Df Residuals:                   22678   BIC:                         6.276e+05\n",
      "Df Model:                           8                                         \n",
      "Covariance Type:            nonrobust                                         \n",
      "==============================================================================================\n",
      "                                 coef    std err          t      P>|t|      [0.025      0.975]\n",
      "----------------------------------------------------------------------------------------------\n",
      "SqFtTotLiving                200.9728      3.905     51.459      0.000     193.318     208.628\n",
      "SqFtLot                        0.0762      0.058      1.323      0.186      -0.037       0.189\n",
      "Bathrooms                   4.302e+04   3742.935     11.493      0.000    3.57e+04    5.04e+04\n",
      "Bedrooms                   -5.155e+04   2386.771    -21.600      0.000   -5.62e+04   -4.69e+04\n",
      "BldgGrade                   1.363e+05   2363.305     57.689      0.000    1.32e+05    1.41e+05\n",
      "YrBuilt                    -3609.9167     66.273    -54.470      0.000   -3739.816   -3480.017\n",
      "PropertyType_Single Family  2.395e+04   1.58e+04      1.518      0.129   -6983.335    5.49e+04\n",
      "PropertyType_Townhouse      8.805e+04   1.75e+04      5.037      0.000    5.38e+04    1.22e+05\n",
      "const                       6.266e+06   1.25e+05     50.120      0.000    6.02e+06    6.51e+06\n",
      "==============================================================================\n",
      "Omnibus:                    31029.000   Durbin-Watson:                   1.392\n",
      "Prob(Omnibus):                  0.000   Jarque-Bera (JB):         26361105.026\n",
      "Skew:                           7.437   Prob(JB):                         0.00\n",
      "Kurtosis:                     169.329   Cond. No.                     2.40e+06\n",
      "==============================================================================\n",
      "\n",
      "Notes:\n",
      "[1] Standard Errors assume that the covariance matrix of the errors is correctly specified.\n",
      "[2] The condition number is large, 2.4e+06. This might indicate that there are\n",
      "strong multicollinearity or other numerical problems.\n"
     ]
    }
   ],
   "source": [
    "house_ols = sm.OLS(df[outcome], X.assign(const=1))\n",
    "results = house_ols.fit()\n",
    "print(results.summary())"
   ]
  },
  {
   "cell_type": "markdown",
   "id": "ae045f7e",
   "metadata": {},
   "source": [
    "***\n",
    "### <font color = MediumBlue size = 4> <b>Факторные переменные с многочисленными уровнями</b> </font>\n",
    "\n",
    "Некоторые факторные переменные могут производить огромное число двоичных фиктивных переменных — почтовые индексы — это образец факторной переменной, а в США имеется 43 тыс. почтовых индексов. В таких случаях полезно разведать данные, а также связи между предсказательными переменными и исходом, чтобы определить наличие полезной информации в категориях. Если она имеется, то далее вы должны принять решение о том, имеет ли смысл оставить все факторы, или о том, следует ли уровни консолидировать. В округе Кинг имеется 82 почтовых индекса с продажей домов."
   ]
  },
  {
   "cell_type": "code",
   "execution_count": 9,
   "id": "b67a518e",
   "metadata": {},
   "outputs": [
    {
     "data": {
      "text/html": [
       "<div>\n",
       "<style scoped>\n",
       "    .dataframe tbody tr th:only-of-type {\n",
       "        vertical-align: middle;\n",
       "    }\n",
       "\n",
       "    .dataframe tbody tr th {\n",
       "        vertical-align: top;\n",
       "    }\n",
       "\n",
       "    .dataframe thead th {\n",
       "        text-align: right;\n",
       "    }\n",
       "</style>\n",
       "<table border=\"1\" class=\"dataframe\">\n",
       "  <thead>\n",
       "    <tr style=\"text-align: right;\">\n",
       "      <th></th>\n",
       "      <th>ZipCode</th>\n",
       "    </tr>\n",
       "  </thead>\n",
       "  <tbody>\n",
       "    <tr>\n",
       "      <th>98038</th>\n",
       "      <td>788</td>\n",
       "    </tr>\n",
       "    <tr>\n",
       "      <th>98103</th>\n",
       "      <td>671</td>\n",
       "    </tr>\n",
       "    <tr>\n",
       "      <th>98042</th>\n",
       "      <td>641</td>\n",
       "    </tr>\n",
       "    <tr>\n",
       "      <th>98115</th>\n",
       "      <td>620</td>\n",
       "    </tr>\n",
       "    <tr>\n",
       "      <th>98117</th>\n",
       "      <td>619</td>\n",
       "    </tr>\n",
       "    <tr>\n",
       "      <th>...</th>\n",
       "      <td>...</td>\n",
       "    </tr>\n",
       "    <tr>\n",
       "      <th>98288</th>\n",
       "      <td>4</td>\n",
       "    </tr>\n",
       "    <tr>\n",
       "      <th>98224</th>\n",
       "      <td>3</td>\n",
       "    </tr>\n",
       "    <tr>\n",
       "      <th>98068</th>\n",
       "      <td>1</td>\n",
       "    </tr>\n",
       "    <tr>\n",
       "      <th>98113</th>\n",
       "      <td>1</td>\n",
       "    </tr>\n",
       "    <tr>\n",
       "      <th>98043</th>\n",
       "      <td>1</td>\n",
       "    </tr>\n",
       "  </tbody>\n",
       "</table>\n",
       "<p>80 rows × 1 columns</p>\n",
       "</div>"
      ],
      "text/plain": [
       "       ZipCode\n",
       "98038      788\n",
       "98103      671\n",
       "98042      641\n",
       "98115      620\n",
       "98117      619\n",
       "...        ...\n",
       "98288        4\n",
       "98224        3\n",
       "98068        1\n",
       "98113        1\n",
       "98043        1\n",
       "\n",
       "[80 rows x 1 columns]"
      ]
     },
     "execution_count": 9,
     "metadata": {},
     "output_type": "execute_result"
    }
   ],
   "source": [
    "pd.DataFrame(df['ZipCode'].value_counts())"
   ]
  },
  {
   "cell_type": "markdown",
   "id": "81a42a29",
   "metadata": {},
   "source": [
    "Переменная ZipCode имеет важно значение, поскольку она является эрзацем для эффекта местоположения, влияющего на стоимость дома. Включение в состав всех уровней требует 81 коэффициента, что соответствует 81 степени свободы. Исходная модель house_lm имеет всего 5 степеней свободы. Более того, несколько почтовых индексов имеют всего одну продажу. В некоторых задачах вы можете консолидировать почтовый индекс при помощи первых двух-трех цифр, что соответствует субметропольному географическому району. Для округа Кинг почти все продажи происходят в индексах 980xx или 981xx, так что это не помогает.\n",
    "\n",
    "Альтернативный подход состоит в группировании почтовых индексов в соответствии с еще одной переменной, такой как продажная цена. Еще лучше формировать группы с почтовыми индексами, используя остатки из первоначальной модели."
   ]
  },
  {
   "cell_type": "code",
   "execution_count": 10,
   "id": "9867d6f9",
   "metadata": {},
   "outputs": [
    {
     "data": {
      "text/html": [
       "<div>\n",
       "<style scoped>\n",
       "    .dataframe tbody tr th:only-of-type {\n",
       "        vertical-align: middle;\n",
       "    }\n",
       "\n",
       "    .dataframe tbody tr th {\n",
       "        vertical-align: top;\n",
       "    }\n",
       "\n",
       "    .dataframe thead th {\n",
       "        text-align: right;\n",
       "    }\n",
       "</style>\n",
       "<table border=\"1\" class=\"dataframe\">\n",
       "  <thead>\n",
       "    <tr style=\"text-align: right;\">\n",
       "      <th></th>\n",
       "      <th>ZipCode</th>\n",
       "      <th>count</th>\n",
       "      <th>median_residual</th>\n",
       "      <th>cum_count</th>\n",
       "      <th>ZipGroup</th>\n",
       "    </tr>\n",
       "  </thead>\n",
       "  <tbody>\n",
       "    <tr>\n",
       "      <th>36</th>\n",
       "      <td>98057</td>\n",
       "      <td>4</td>\n",
       "      <td>-459972.014219</td>\n",
       "      <td>4</td>\n",
       "      <td>0</td>\n",
       "    </tr>\n",
       "    <tr>\n",
       "      <th>27</th>\n",
       "      <td>98043</td>\n",
       "      <td>1</td>\n",
       "      <td>-181435.072075</td>\n",
       "      <td>5</td>\n",
       "      <td>0</td>\n",
       "    </tr>\n",
       "    <tr>\n",
       "      <th>46</th>\n",
       "      <td>98092</td>\n",
       "      <td>289</td>\n",
       "      <td>-139867.610195</td>\n",
       "      <td>294</td>\n",
       "      <td>0</td>\n",
       "    </tr>\n",
       "    <tr>\n",
       "      <th>31</th>\n",
       "      <td>98051</td>\n",
       "      <td>32</td>\n",
       "      <td>-109478.163991</td>\n",
       "      <td>326</td>\n",
       "      <td>0</td>\n",
       "    </tr>\n",
       "    <tr>\n",
       "      <th>79</th>\n",
       "      <td>98354</td>\n",
       "      <td>9</td>\n",
       "      <td>-91097.684128</td>\n",
       "      <td>335</td>\n",
       "      <td>0</td>\n",
       "    </tr>\n",
       "    <tr>\n",
       "      <th>...</th>\n",
       "      <td>...</td>\n",
       "      <td>...</td>\n",
       "      <td>...</td>\n",
       "      <td>...</td>\n",
       "      <td>...</td>\n",
       "    </tr>\n",
       "    <tr>\n",
       "      <th>54</th>\n",
       "      <td>98112</td>\n",
       "      <td>357</td>\n",
       "      <td>119936.173458</td>\n",
       "      <td>22100</td>\n",
       "      <td>4</td>\n",
       "    </tr>\n",
       "    <tr>\n",
       "      <th>77</th>\n",
       "      <td>98224</td>\n",
       "      <td>3</td>\n",
       "      <td>133430.440264</td>\n",
       "      <td>22103</td>\n",
       "      <td>4</td>\n",
       "    </tr>\n",
       "    <tr>\n",
       "      <th>25</th>\n",
       "      <td>98040</td>\n",
       "      <td>244</td>\n",
       "      <td>210063.130817</td>\n",
       "      <td>22347</td>\n",
       "      <td>4</td>\n",
       "    </tr>\n",
       "    <tr>\n",
       "      <th>3</th>\n",
       "      <td>98004</td>\n",
       "      <td>293</td>\n",
       "      <td>356561.107943</td>\n",
       "      <td>22640</td>\n",
       "      <td>4</td>\n",
       "    </tr>\n",
       "    <tr>\n",
       "      <th>24</th>\n",
       "      <td>98039</td>\n",
       "      <td>47</td>\n",
       "      <td>683836.625914</td>\n",
       "      <td>22687</td>\n",
       "      <td>4</td>\n",
       "    </tr>\n",
       "  </tbody>\n",
       "</table>\n",
       "<p>80 rows × 5 columns</p>\n",
       "</div>"
      ],
      "text/plain": [
       "    ZipCode  count  median_residual  cum_count  ZipGroup\n",
       "36    98057      4   -459972.014219          4         0\n",
       "27    98043      1   -181435.072075          5         0\n",
       "46    98092    289   -139867.610195        294         0\n",
       "31    98051     32   -109478.163991        326         0\n",
       "79    98354      9    -91097.684128        335         0\n",
       "..      ...    ...              ...        ...       ...\n",
       "54    98112    357    119936.173458      22100         4\n",
       "77    98224      3    133430.440264      22103         4\n",
       "25    98040    244    210063.130817      22347         4\n",
       "3     98004    293    356561.107943      22640         4\n",
       "24    98039     47    683836.625914      22687         4\n",
       "\n",
       "[80 rows x 5 columns]"
      ]
     },
     "execution_count": 10,
     "metadata": {},
     "output_type": "execute_result"
    }
   ],
   "source": [
    "zip_groups = pd.DataFrame([\n",
    "    *pd.DataFrame({\n",
    "        'ZipCode': df['ZipCode'],\n",
    "        'residual' : Y - y,\n",
    "    })\n",
    "    .groupby(['ZipCode'])\n",
    "    .apply(lambda x: {\n",
    "        'ZipCode': x.iloc[0,0],\n",
    "        'count': len(x),\n",
    "        'median_residual': x['residual'].median()\n",
    "    })\n",
    "]).sort_values('median_residual')\n",
    "\n",
    "zip_groups['cum_count'] = np.cumsum(zip_groups['count'])\n",
    "zip_groups['ZipGroup'] = pd.qcut(zip_groups['cum_count'], 5, labels=False, retbins=False)\n",
    "\n",
    "#zip_groups.ZipGroup.value_counts().sort_index()\n",
    "zip_groups"
   ]
  },
  {
   "cell_type": "code",
   "execution_count": 11,
   "id": "c09eeb0e",
   "metadata": {},
   "outputs": [],
   "source": [
    "to_join = zip_groups[['ZipCode', 'ZipGroup']].set_index('ZipCode')\n",
    "df = df.join(to_join, on='ZipCode')\n",
    "df['ZipGroup'] = df['ZipGroup'].astype('category')"
   ]
  },
  {
   "cell_type": "markdown",
   "id": "736bc443",
   "metadata": {},
   "source": [
    "***\n",
    "### <font color = MediumBlue size = 4> <b>Упорядоченные факторные переменные</b> </font>\n",
    "\n",
    "Некоторые факторные переменные отражают уровни фактора; они называются **упорядоченными факторными переменными** или **упорядоченными категориальными переменными**. \n",
    "\n",
    "Нередко упорядоченные факторные переменные могут быть конвертированы в числовые значения и использоваться как есть. Например, переменная BldgGrade — это упорядоченная факторная переменная. Хотя категории качества имеют конкретный смысл, числовое значение упорядочено снизу вверх, соответствуя домам более высокого качества. В регрессионной модели house_lm категория BldgGrade трактовалась как числовая переменная.\n",
    "\n",
    "Рассмотрение упорядоченных факторов в качестве числовой переменной сохраняет информацию, содержащуюся в упорядочении, которая будет потеряна, если его конвертировать в фактор."
   ]
  },
  {
   "cell_type": "markdown",
   "id": "ffeb8633",
   "metadata": {},
   "source": [
    "***\n",
    "## <font color = DarkGreen size = 5> <b>Интерпретирование уравнения регрессии</b> </font>\n",
    "\n",
    "В науке о данных самое важное применение регрессии состоит в предсказании зависимой переменной (исхода). В некоторых случаях, однако, получение более глубокого представления непосредственно из самого уравнения, чтобы понять природу связи между предсказателями и исходом, является ценностью.\n",
    "\n",
    "***\n",
    "### <font color = MediumBlue size = 4> <b>Коррелированные предсказатели</b> </font>\n",
    "\n",
    "**Коррелированные переменные (correlated variables)** — когда предсказательные переменные высоко коррелированы, сложно интерпретировать отдельные коэффициенты.\n",
    "\n",
    "В множественной регрессии предсказательные переменные часто коррелируют друг с другом.\n",
    "\n",
    "Например, в нашей модели коэффициент для спален Bedrooms является отрицательным! Из этого вытекает, что добавление спальни в дом уменьшит его стоимость. Как это может быть? Это вызвано тем, что предсказательные переменные коррелированы: в более крупных домах наблюдается тенденция к большему количеству спален, и именно размер дома управляет его стоимостью, а не число спален. Рассмотрим два дома одного и того же размера: разумно ожидать, что дом с бóльшим числом спален, но меньших по площади будет считаться менее желательным.\n",
    "\n",
    "Наличие коррелированных предсказателей усложняет интерпретирование знака и значения регрессионных коэффициентов (и может раздуть стандартную ошибку оценочных значений). Переменные для спален, размера дома и числа ванных комнат — все они являются коррелированными.\n",
    "\n",
    "Выполним подгонку еще одной регрессии после удаления переменных SqFtTotLiving (жилая площадь) и Bathrooms (ванные комнаты) из уравнения."
   ]
  },
  {
   "cell_type": "code",
   "execution_count": 12,
   "id": "7caa2e98",
   "metadata": {},
   "outputs": [
    {
     "name": "stdout",
     "output_type": "stream",
     "text": [
      "Intercept: 4913973.344\n",
      "Coefficients:\n",
      " Bedrooms: 27150.537\n",
      " BldgGrade: 248997.794\n",
      " YrBuilt: -3211.745\n",
      " PropertyType_Single Family: -19898.495\n",
      " PropertyType_Townhouse: -47355.437\n"
     ]
    }
   ],
   "source": [
    "predictors = ['Bedrooms', 'BldgGrade', 'YrBuilt', 'PropertyType']\n",
    "\n",
    "X = pd.get_dummies(df[predictors], drop_first=True, dtype=int)\n",
    "Y = df[outcome]\n",
    "\n",
    "house_lm = LinearRegression()\n",
    "house_lm.fit(X, Y)\n",
    "y = house_lm.predict(X)\n",
    "\n",
    "print(f'Intercept: {house_lm.intercept_:.3f}')\n",
    "print('Coefficients:')\n",
    "for name, coef in zip(X.columns, house_lm.coef_):\n",
    "    print(f' {name}: {coef:.3f}')"
   ]
  },
  {
   "cell_type": "code",
   "execution_count": 13,
   "id": "0f0e878f",
   "metadata": {},
   "outputs": [
    {
     "name": "stdout",
     "output_type": "stream",
     "text": [
      "                            OLS Regression Results                            \n",
      "==============================================================================\n",
      "Dep. Variable:           AdjSalePrice   R-squared:                       0.516\n",
      "Model:                            OLS   Adj. R-squared:                  0.516\n",
      "Method:                 Least Squares   F-statistic:                     4836.\n",
      "Date:                Sat, 21 Oct 2023   Prob (F-statistic):               0.00\n",
      "Time:                        18:32:30   Log-Likelihood:            -3.1576e+05\n",
      "No. Observations:               22687   AIC:                         6.315e+05\n",
      "Df Residuals:                   22681   BIC:                         6.316e+05\n",
      "Df Model:                           5                                         \n",
      "Covariance Type:            nonrobust                                         \n",
      "==============================================================================================\n",
      "                                 coef    std err          t      P>|t|      [0.025      0.975]\n",
      "----------------------------------------------------------------------------------------------\n",
      "Bedrooms                    2.715e+04   2228.534     12.183      0.000    2.28e+04    3.15e+04\n",
      "BldgGrade                    2.49e+05   1785.425    139.461      0.000    2.45e+05    2.52e+05\n",
      "YrBuilt                    -3211.7449     69.197    -46.414      0.000   -3347.376   -3076.114\n",
      "PropertyType_Single Family  -1.99e+04   1.71e+04     -1.161      0.246   -5.35e+04    1.37e+04\n",
      "PropertyType_Townhouse     -4.736e+04    1.9e+04     -2.497      0.013   -8.45e+04   -1.02e+04\n",
      "const                       4.914e+06    1.3e+05     37.764      0.000    4.66e+06    5.17e+06\n",
      "==============================================================================\n",
      "Omnibus:                    31054.093   Durbin-Watson:                   1.319\n",
      "Prob(Omnibus):                  0.000   Jarque-Bera (JB):         23187763.917\n",
      "Skew:                           7.504   Prob(JB):                         0.00\n",
      "Kurtosis:                     158.899   Cond. No.                     1.44e+05\n",
      "==============================================================================\n",
      "\n",
      "Notes:\n",
      "[1] Standard Errors assume that the covariance matrix of the errors is correctly specified.\n",
      "[2] The condition number is large, 1.44e+05. This might indicate that there are\n",
      "strong multicollinearity or other numerical problems.\n"
     ]
    }
   ],
   "source": [
    "house_ols = sm.OLS(df[outcome], X.assign(const=1))\n",
    "results = house_ols.fit()\n",
    "print(results.summary())"
   ]
  },
  {
   "cell_type": "markdown",
   "id": "ca6e2910",
   "metadata": {},
   "source": [
    "Теперь коэффициент для спален является положительным — в соответствии с тем, что мы ожидали бы (хотя теперь, когда эти переменные были исключены, он на самом деле действует как эрзац для размера дома)."
   ]
  },
  {
   "cell_type": "markdown",
   "id": "90c5d5ad",
   "metadata": {},
   "source": [
    "***\n",
    "### <font color = MediumBlue size = 4> <b>Мультиколлинеарность</b> </font>\n",
    "\n",
    "**Мультиколлинеарность (multicollinearity) / коллинеарность / солинейность** — когда предсказательные переменные имеют идеальную или почти идеальную корреляцию, регрессия может быть нестабильной либо ее невозможно вычислить.\n",
    "\n",
    "Предельный случай коррелированных переменных производит **мультиколлинеарность** — условие, в котором существует избыток среди предсказательных переменных. Идеальная мультиколлинеарность случается, когда одна предсказательная переменная может быть выражена как линейная комбинация других. Мультиколлинеарность происходит, когда:\n",
    "* переменная включается в состав модели многократно по ошибке;\n",
    "* из факторной переменной создаются $p$ фиктивных переменных вместо $p-1$;\n",
    "* две переменные почти идеально коррелированы друг с другом.\n",
    "\n",
    "Вопрос мультиколлинеарности в регрессии должен быть решен — переменные необходимо исключать до тех пор, пока мультиколлинеарность не исчезнет. Регрессия не имеет хорошо определенного решения в присутствии идеальной мультиколлинеарности. В случае неидеальной мультиколлинеарности вычислительная система может получить решение, но результаты могут быть нестабильными."
   ]
  },
  {
   "cell_type": "markdown",
   "id": "99fafd73",
   "metadata": {},
   "source": [
    "***\n",
    "### <font color = MediumBlue size = 4> <b>Искажающие переменные</b> </font>\n",
    "\n",
    "**Искажающие переменные (confounding variables) / спутывающие переменные** — важный предсказатель, который, если его опустить, приводит к мнимым связям в уравнении регрессии.\n",
    "\n",
    "С коррелированными переменными проблема состоит во включении переменных в состав: включение разных переменных, которые имеют похожую предсказательную связь с откликом. С искажающими переменными проблемой является исключение переменных из состава: важная переменная не включена в уравнение регрессии. Наивная интерпретация коэффициентов уравнения может привести к несостоятельным заключениям.\n",
    "\n",
    "Возьмем, например, уравнение регрессии для округа Кинг:"
   ]
  },
  {
   "cell_type": "code",
   "execution_count": 14,
   "id": "4b254cc4",
   "metadata": {},
   "outputs": [
    {
     "name": "stdout",
     "output_type": "stream",
     "text": [
      "                            OLS Regression Results                            \n",
      "==============================================================================\n",
      "Dep. Variable:           AdjSalePrice   R-squared:                       0.595\n",
      "Model:                            OLS   Adj. R-squared:                  0.594\n",
      "Method:                 Least Squares   F-statistic:                     4156.\n",
      "Date:                Sat, 21 Oct 2023   Prob (F-statistic):               0.00\n",
      "Time:                        18:32:30   Log-Likelihood:            -3.1375e+05\n",
      "No. Observations:               22687   AIC:                         6.275e+05\n",
      "Df Residuals:                   22678   BIC:                         6.276e+05\n",
      "Df Model:                           8                                         \n",
      "Covariance Type:            nonrobust                                         \n",
      "==============================================================================================\n",
      "                                 coef    std err          t      P>|t|      [0.025      0.975]\n",
      "----------------------------------------------------------------------------------------------\n",
      "SqFtTotLiving                200.9728      3.905     51.459      0.000     193.318     208.628\n",
      "SqFtLot                        0.0762      0.058      1.323      0.186      -0.037       0.189\n",
      "Bathrooms                   4.302e+04   3742.935     11.493      0.000    3.57e+04    5.04e+04\n",
      "Bedrooms                   -5.155e+04   2386.771    -21.600      0.000   -5.62e+04   -4.69e+04\n",
      "BldgGrade                   1.363e+05   2363.305     57.689      0.000    1.32e+05    1.41e+05\n",
      "YrBuilt                    -3609.9167     66.273    -54.470      0.000   -3739.816   -3480.017\n",
      "PropertyType_Single Family  2.395e+04   1.58e+04      1.518      0.129   -6983.335    5.49e+04\n",
      "PropertyType_Townhouse      8.805e+04   1.75e+04      5.037      0.000    5.38e+04    1.22e+05\n",
      "const                       6.266e+06   1.25e+05     50.120      0.000    6.02e+06    6.51e+06\n",
      "==============================================================================\n",
      "Omnibus:                    31029.000   Durbin-Watson:                   1.392\n",
      "Prob(Omnibus):                  0.000   Jarque-Bera (JB):         26361105.026\n",
      "Skew:                           7.437   Prob(JB):                         0.00\n",
      "Kurtosis:                     169.329   Cond. No.                     2.40e+06\n",
      "==============================================================================\n",
      "\n",
      "Notes:\n",
      "[1] Standard Errors assume that the covariance matrix of the errors is correctly specified.\n",
      "[2] The condition number is large, 2.4e+06. This might indicate that there are\n",
      "strong multicollinearity or other numerical problems.\n"
     ]
    }
   ],
   "source": [
    "predictors = ['SqFtTotLiving', 'SqFtLot', 'Bathrooms', 'Bedrooms', 'BldgGrade', 'YrBuilt', 'PropertyType']\n",
    "X = pd.get_dummies(df[predictors], drop_first=True, dtype=int)\n",
    "\n",
    "house_ols = sm.OLS(df[outcome], X.assign(const=1))\n",
    "results = house_ols.fit()\n",
    "print(results.summary())"
   ]
  },
  {
   "cell_type": "markdown",
   "id": "c97be9dd",
   "metadata": {},
   "source": [
    "Регрессионные коэффициенты SqFtLot (площадь земельного участка) и Bedrooms (спальни) — являются отрицательными. Исходная регрессионная модель не содержит переменную, которая представляла бы местоположение — очень важный предсказатель цены на недвижимость. Для того чтобы смоделировать местоположение, включите переменную ZipGroup (группа почтовых индексов), которая отнесет почтовый индекс в одну из пяти групп от наименее дорогого (0) до самого дорогого (4)."
   ]
  },
  {
   "cell_type": "code",
   "execution_count": 15,
   "id": "21bfa05b",
   "metadata": {},
   "outputs": [
    {
     "name": "stdout",
     "output_type": "stream",
     "text": [
      "Intercept: 4079099.044\n",
      "Coefficients:\n",
      " SqFtTotLiving: 195.487\n",
      " SqFtLot: 0.257\n",
      " Bathrooms: 29490.803\n",
      " Bedrooms: -40899.857\n",
      " BldgGrade: 115207.338\n",
      " YrBuilt: -2472.865\n",
      " PropertyType_Single Family: 36001.579\n",
      " PropertyType_Townhouse: 32373.862\n",
      " ZipGroup_1: 29756.679\n",
      " ZipGroup_2: 88119.615\n",
      " ZipGroup_3: 127556.840\n",
      " ZipGroup_4: 295603.594\n"
     ]
    }
   ],
   "source": [
    "predictors = ['SqFtTotLiving', 'SqFtLot', 'Bathrooms', 'Bedrooms', 'BldgGrade', 'YrBuilt', 'PropertyType', 'ZipGroup']\n",
    "\n",
    "X = pd.get_dummies(df[predictors], drop_first=True, dtype=int)\n",
    "Y = df[outcome]\n",
    "\n",
    "house_lm = LinearRegression()\n",
    "house_lm.fit(X, Y)\n",
    "y = house_lm.predict(X)\n",
    "\n",
    "print(f'Intercept: {house_lm.intercept_:.3f}')\n",
    "print('Coefficients:')\n",
    "for name, coef in zip(X.columns, house_lm.coef_):\n",
    "    print(f' {name}: {coef:.3f}')"
   ]
  },
  {
   "cell_type": "code",
   "execution_count": 16,
   "id": "e3873d8a",
   "metadata": {},
   "outputs": [
    {
     "name": "stdout",
     "output_type": "stream",
     "text": [
      "                            OLS Regression Results                            \n",
      "==============================================================================\n",
      "Dep. Variable:           AdjSalePrice   R-squared:                       0.646\n",
      "Model:                            OLS   Adj. R-squared:                  0.646\n",
      "Method:                 Least Squares   F-statistic:                     3452.\n",
      "Date:                Sat, 21 Oct 2023   Prob (F-statistic):               0.00\n",
      "Time:                        18:32:30   Log-Likelihood:            -3.1220e+05\n",
      "No. Observations:               22687   AIC:                         6.244e+05\n",
      "Df Residuals:                   22674   BIC:                         6.245e+05\n",
      "Df Model:                          12                                         \n",
      "Covariance Type:            nonrobust                                         \n",
      "==============================================================================================\n",
      "                                 coef    std err          t      P>|t|      [0.025      0.975]\n",
      "----------------------------------------------------------------------------------------------\n",
      "SqFtTotLiving                195.4866      3.652     53.525      0.000     188.328     202.645\n",
      "SqFtLot                        0.2572      0.054      4.767      0.000       0.151       0.363\n",
      "Bathrooms                   2.949e+04   3505.418      8.413      0.000    2.26e+04    3.64e+04\n",
      "Bedrooms                    -4.09e+04   2238.117    -18.274      0.000   -4.53e+04   -3.65e+04\n",
      "BldgGrade                   1.152e+05   2243.626     51.349      0.000    1.11e+05     1.2e+05\n",
      "YrBuilt                    -2472.8648     65.608    -37.692      0.000   -2601.460   -2344.269\n",
      "PropertyType_Single Family    3.6e+04   1.47e+04      2.442      0.015    7101.191    6.49e+04\n",
      "PropertyType_Townhouse      3.237e+04   1.64e+04      1.977      0.048     280.394    6.45e+04\n",
      "ZipGroup_1                  2.976e+04   5047.335      5.896      0.000    1.99e+04    3.96e+04\n",
      "ZipGroup_2                  8.812e+04   5301.170     16.623      0.000    7.77e+04    9.85e+04\n",
      "ZipGroup_3                  1.276e+05   5152.932     24.754      0.000    1.17e+05    1.38e+05\n",
      "ZipGroup_4                  2.956e+05   5780.466     51.138      0.000    2.84e+05    3.07e+05\n",
      "const                       4.079e+06   1.25e+05     32.761      0.000    3.84e+06    4.32e+06\n",
      "==============================================================================\n",
      "Omnibus:                    33369.836   Durbin-Watson:                   1.489\n",
      "Prob(Omnibus):                  0.000   Jarque-Bera (JB):         41101644.821\n",
      "Skew:                           8.500   Prob(JB):                         0.00\n",
      "Kurtosis:                     210.825   Cond. No.                     2.56e+06\n",
      "==============================================================================\n",
      "\n",
      "Notes:\n",
      "[1] Standard Errors assume that the covariance matrix of the errors is correctly specified.\n",
      "[2] The condition number is large, 2.56e+06. This might indicate that there are\n",
      "strong multicollinearity or other numerical problems.\n"
     ]
    }
   ],
   "source": [
    "house_ols = sm.OLS(df[outcome], X.assign(const=1))\n",
    "results = house_ols.fit()\n",
    "print(results.summary())"
   ]
  },
  {
   "cell_type": "markdown",
   "id": "cec27e47",
   "metadata": {},
   "source": [
    "Переменная ZipGroup, несомненно, является очень важной: дом в самой дорогой группе почтовых индексов оценивается как имеющий более высокую продажную цену почти на 296 000. Коэффициент SqFtLot теперь является положительными, и добавление ванной увеличивает продажную цену на 30 000.\n",
    "\n",
    "Коэффициент для Bedrooms по-прежнему является отрицательным. Хотя этот феномен противоречит логике, он хорошо известен в торговле недвижимостью. Наличие у домов одинаковой общей жилой площади и большего количества и, следовательно, меньших по размеру спален ассоциируется с менее ценными домами."
   ]
  },
  {
   "cell_type": "markdown",
   "id": "1c3c5cde",
   "metadata": {},
   "source": [
    "***\n",
    "### <font color = MediumBlue size = 4> <b>Взаимодействия и главные эффекты</b> </font>\n",
    "\n",
    "**Главные эффекты (main effects)** — связь между предсказательной переменной и переменной исхода, которая не зависит от других переменных.\n",
    "\n",
    "**Взаимодействия (interactions)** — взаимозависимая связь между двумя или несколькими предсказателями и исходом (откликом).\n",
    "\n",
    "Специалисты-статистики предпочитают проводить различие между **главными эффектами** (независимыми переменными), и **взаимодействиями** между главными эффектами. Главные эффекты — это то, что подразумевается под предсказательными переменными в уравнении регрессии. Неявное допущение, когда в модели используются только главные эффекты, состоит в том, что связь между предсказательной переменной и откликом не зависит от других предсказательных переменных. Зачастую это не так.\n",
    "\n",
    "Например, модель, подогнанная к данным жилого фонда округа Кинг включает несколько переменных в качестве главных эффектов, в том числе ZipCode. Местоположение в торговле недвижимостью — краеугольный камень, и естественно допустить, что связь между, скажем, размером дома и продажной ценой зависит от местоположения. Большой дом, построенный в районе с низкой арендной платой, не будет сохранять одинаковую стоимость, что и большой дом, построенный в дорогом районе.\n",
    "\n",
    "В Python мы должны использовать пакет **statsmodels** для тренировки линейных регрессионных моделей взаимодействиями."
   ]
  },
  {
   "cell_type": "code",
   "execution_count": 17,
   "id": "821e9835",
   "metadata": {},
   "outputs": [
    {
     "name": "stdout",
     "output_type": "stream",
     "text": [
      "                            OLS Regression Results                            \n",
      "==============================================================================\n",
      "Dep. Variable:           AdjSalePrice   R-squared:                       0.672\n",
      "Model:                            OLS   Adj. R-squared:                  0.671\n",
      "Method:                 Least Squares   F-statistic:                     3091.\n",
      "Date:                Sat, 21 Oct 2023   Prob (F-statistic):               0.00\n",
      "Time:                        18:32:30   Log-Likelihood:            -3.1136e+05\n",
      "No. Observations:               22687   AIC:                         6.228e+05\n",
      "Df Residuals:                   22671   BIC:                         6.229e+05\n",
      "Df Model:                          15                                         \n",
      "Covariance Type:            nonrobust                                         \n",
      "=================================================================================================\n",
      "                                    coef    std err          t      P>|t|      [0.025      0.975]\n",
      "-------------------------------------------------------------------------------------------------\n",
      "Intercept                     -4.553e+05   2.14e+04    -21.272      0.000   -4.97e+05   -4.13e+05\n",
      "ZipGroup[T.1]                   2.74e+04   1.28e+04      2.139      0.032    2293.018    5.25e+04\n",
      "ZipGroup[T.2]                  5.423e+04   1.31e+04      4.129      0.000    2.85e+04       8e+04\n",
      "ZipGroup[T.3]                  1.747e+05   1.29e+04     13.540      0.000    1.49e+05       2e+05\n",
      "ZipGroup[T.4]                 -1.681e+05   1.35e+04    -12.433      0.000   -1.95e+05   -1.42e+05\n",
      "PropertyType[T.Single Family] -3.789e+04   1.41e+04     -2.684      0.007   -6.56e+04   -1.02e+04\n",
      "PropertyType[T.Townhouse]     -1.083e+05   1.54e+04     -7.040      0.000   -1.39e+05   -7.82e+04\n",
      "SqFtTotLiving                   137.4351      5.255     26.154      0.000     127.135     147.735\n",
      "SqFtTotLiving:ZipGroup[T.1]       1.9184      5.593      0.343      0.732      -9.044      12.881\n",
      "SqFtTotLiving:ZipGroup[T.2]      25.7871      5.719      4.509      0.000      14.578      36.996\n",
      "SqFtTotLiving:ZipGroup[T.3]      -9.8130      5.797     -1.693      0.091     -21.176       1.550\n",
      "SqFtTotLiving:ZipGroup[T.4]     218.5563      5.402     40.458      0.000     207.968     229.145\n",
      "SqFtLot                           0.3040      0.052      5.842      0.000       0.202       0.406\n",
      "Bathrooms                     -6188.7568   3234.116     -1.914      0.056   -1.25e+04     150.333\n",
      "Bedrooms                      -3.185e+04   2161.955    -14.730      0.000   -3.61e+04   -2.76e+04\n",
      "BldgGrade                      9.986e+04   2104.265     47.454      0.000    9.57e+04    1.04e+05\n",
      "==============================================================================\n",
      "Omnibus:                    29211.544   Durbin-Watson:                   1.481\n",
      "Prob(Omnibus):                  0.000   Jarque-Bera (JB):         25150220.554\n",
      "Skew:                           6.564   Prob(JB):                         0.00\n",
      "Kurtosis:                     165.584   Cond. No.                     6.01e+05\n",
      "==============================================================================\n",
      "\n",
      "Notes:\n",
      "[1] Standard Errors assume that the covariance matrix of the errors is correctly specified.\n",
      "[2] The condition number is large, 6.01e+05. This might indicate that there are\n",
      "strong multicollinearity or other numerical problems.\n"
     ]
    }
   ],
   "source": [
    "model = smf.ols(formula='AdjSalePrice ~ SqFtTotLiving * ZipGroup + SqFtLot + Bathrooms + Bedrooms + BldgGrade + PropertyType',\n",
    "                data=df)\n",
    "results = model.fit()\n",
    "print(results.summary())"
   ]
  },
  {
   "cell_type": "markdown",
   "id": "9c5c3226",
   "metadata": {},
   "source": [
    "Пакет statsmodels берет на себя категориальные переменные (например, ZipGroup[T.1], PropertyType[T.Single Family]) и термины взаимодействия (например, SqFtTotLiving:ZipGroup[T.1]). \n",
    "\n",
    "Местоположение и размер дома, похоже, имеют сильное взаимодействие. Для дома в самой низкой группе ZipGroup наклон прямой такой же, что и наклон для главного эффекта SqFtTotLiving, который составляет 137 за кв. фут (это обусловлено использованием опорного кодирования для факторных переменных). Для дома в самой высокой группе ZipGroup наклон прямой равен сумме главного эффекта плюс\n",
    "SqFtTotLiving:ZipGroup[T.4], или 137 + 219 = 356 за кв. фут. Другими словами, прибавление квадратного фута в группе наиболее дорогих почтовых индексов повышает предсказанную продажную цену почти в 2.6 раза по сравнению с повышением в группе наименее дорогих почтовых индексов."
   ]
  },
  {
   "cell_type": "markdown",
   "id": "3a1bc06e",
   "metadata": {},
   "source": [
    "#### <font color = SteelBlue size = 3> <b>Отбор модели с помощью членов взаимодействия</b></font>\n",
    "\n",
    "В задачах с участием многочисленных переменных бывает трудно принять решение о том, какие члены уравнения, характеризующие взаимодействия между переменными, должны быть включены в модель. Чаще всего принимается несколько разных подходов.\n",
    "* В некоторых задачах априорные знания и интуиция могут направлять выбор того, какие члены взаимодействия следует включать в модель.\n",
    "* Пошаговый отбор может использоваться для отсеивания различных моделей.\n",
    "* Штрафная регрессия способна автоматически выполнять подгонку к крупному набору возможных членов взаимодействия.\n",
    "* По-видимому, наиболее часто встречающимся подходом является использование древесных моделей, а также их потомков, случайного леса и градиентно-бустированных деревьев. Указанный класс моделей автоматически выполняет поиск оптимальных членов взаимодействия.\n"
   ]
  },
  {
   "cell_type": "markdown",
   "id": "d669bb53",
   "metadata": {},
   "source": [
    "***\n",
    "## <font color = DarkGreen size = 5> <b>Диагностика регрессии</b> </font>\n",
    "\n",
    "В объяснительном моделировании (т.е. в контексте исследования) разнообразные шаги в дополнение к метрикам предпринимаются для того, чтобы определить, насколько хорошо модель подогнана к данным; большинство основывается на анализе остатков. Эти шаги непосредственно не решают вопрос предсказательной точности, но они способны обеспечить полезное углубленное понимание предсказательной обстановки.\n",
    "\n",
    "***\n",
    "### <font color = MediumBlue size = 4> <b>Выбросы</b> </font>\n",
    "\n",
    "**Выбросы (outliers)** \\\n",
    "Записи (или значения исхода), которые находятся вдали от остальной части данных (или предсказанного исхода).\n",
    "\n",
    "Предельное значение (выброс) — такое значение, которое находится вдали от большинства других наблюдений. Как и в случае с оценками центрального положения и вариабельности, где выбросы необходимо улаживать во избежание проблем, выбросы могут вызывать проблемы с регрессионными моделями. В регрессии выброс — это запись, чье фактическое значение y находится вдали от предсказанного значения. Выбросы можно обнаружить путем обследования стандартизированного остатка, т.е. остатка, деленного на стандартную ошибку остатков.\n",
    "\n",
    "**Стандартизированные остатки (standardized residuals)** \\\n",
    "Остатки, деленные на стандартную ошибку остатков.\n",
    "\n",
    "Не существует статистической теории, которая отделяет выбросы от невыбросов. Вместо этого существуют (произвольные) эмпирические правила в отношении того, насколько далеко от основной части данных должно находиться наблюдение, чтобы его можно было назвать выбросом. Например, в коробчатой диаграмме выбросами являются те точки данных, которые находятся слишком высоко или слишком низко от границ коробки, где \"слишком\" означает величину, превышающую \"число 1,5, умноженное на межквартильный размах\". В регрессии метрика стандартизированного остатка типично используется для определения того, не относится ли запись к классу выбросов. Стандартизированные остатки можно интерпретировать как \"число стандартных ошибок от регрессионной прямой\".\n",
    "\n",
    "Выполним подгонку регрессии к данным продаж домов в округе Кинг для всех продаж в почтовом индексе 98105:"
   ]
  },
  {
   "cell_type": "code",
   "execution_count": 18,
   "id": "cedd1918",
   "metadata": {},
   "outputs": [
    {
     "name": "stdout",
     "output_type": "stream",
     "text": [
      "                            OLS Regression Results                            \n",
      "==============================================================================\n",
      "Dep. Variable:           AdjSalePrice   R-squared:                       0.795\n",
      "Model:                            OLS   Adj. R-squared:                  0.792\n",
      "Method:                 Least Squares   F-statistic:                     238.7\n",
      "Date:                Sat, 21 Oct 2023   Prob (F-statistic):          1.69e-103\n",
      "Time:                        18:32:30   Log-Likelihood:                -4226.0\n",
      "No. Observations:                 313   AIC:                             8464.\n",
      "Df Residuals:                     307   BIC:                             8486.\n",
      "Df Model:                           5                                         \n",
      "Covariance Type:            nonrobust                                         \n",
      "=================================================================================\n",
      "                    coef    std err          t      P>|t|      [0.025      0.975]\n",
      "---------------------------------------------------------------------------------\n",
      "SqFtTotLiving   209.6023     24.408      8.587      0.000     161.574     257.631\n",
      "SqFtLot          38.9333      5.330      7.305      0.000      28.445      49.421\n",
      "Bathrooms      2282.2641      2e+04      0.114      0.909    -3.7e+04    4.16e+04\n",
      "Bedrooms      -2.632e+04   1.29e+04     -2.043      0.042   -5.17e+04    -973.867\n",
      "BldgGrade        1.3e+05   1.52e+04      8.533      0.000       1e+05     1.6e+05\n",
      "const         -7.725e+05   9.83e+04     -7.861      0.000   -9.66e+05   -5.79e+05\n",
      "==============================================================================\n",
      "Omnibus:                       82.127   Durbin-Watson:                   1.508\n",
      "Prob(Omnibus):                  0.000   Jarque-Bera (JB):              586.561\n",
      "Skew:                           0.859   Prob(JB):                    4.26e-128\n",
      "Kurtosis:                       9.483   Cond. No.                     5.63e+04\n",
      "==============================================================================\n",
      "\n",
      "Notes:\n",
      "[1] Standard Errors assume that the covariance matrix of the errors is correctly specified.\n",
      "[2] The condition number is large, 5.63e+04. This might indicate that there are\n",
      "strong multicollinearity or other numerical problems.\n"
     ]
    }
   ],
   "source": [
    "df_98105 = df[df['ZipCode'] == 98105]\n",
    "\n",
    "predictors = ['SqFtTotLiving', 'SqFtLot', 'Bathrooms', 'Bedrooms', 'BldgGrade']\n",
    "outcome = 'AdjSalePrice'\n",
    "\n",
    "house_outlier = sm.OLS(df_98105[outcome], df_98105[predictors].assign(const=1))\n",
    "result_98105 = house_outlier.fit()\n",
    "print(result_98105.summary())"
   ]
  },
  {
   "cell_type": "markdown",
   "id": "99cba2b5",
   "metadata": {},
   "source": [
    "В Python используйте класс OLSInfluence из пакета statsmodels, чтобы проанализировать остатки:"
   ]
  },
  {
   "cell_type": "code",
   "execution_count": 19,
   "id": "29c1e9a0",
   "metadata": {},
   "outputs": [
    {
     "name": "stdout",
     "output_type": "stream",
     "text": [
      "20428 -4.3267318040785705\n"
     ]
    }
   ],
   "source": [
    "influence = OLSInfluence(result_98105)\n",
    "sresiduals = influence.resid_studentized_internal\n",
    "\n",
    "print(sresiduals.idxmin(), sresiduals.min())"
   ]
  },
  {
   "cell_type": "code",
   "execution_count": 20,
   "id": "628d409d",
   "metadata": {},
   "outputs": [
    {
     "name": "stdout",
     "output_type": "stream",
     "text": [
      "-757753.6192115841\n"
     ]
    }
   ],
   "source": [
    "print(result_98105.resid.loc[sresiduals.idxmin()])"
   ]
  },
  {
   "cell_type": "markdown",
   "id": "5dfabc5b",
   "metadata": {},
   "source": [
    "Самая большая завышенная оценка из модели составляет более четырех стандартных ошибок над регрессионной прямой, что соответствует завышенной оценке в 757 753 дол.\n",
    "\n",
    "Исходная запись данных, которая соответствует этому выбросу:"
   ]
  },
  {
   "cell_type": "code",
   "execution_count": 21,
   "id": "8b2b7251",
   "metadata": {},
   "outputs": [
    {
     "name": "stdout",
     "output_type": "stream",
     "text": [
      "AdjSalePrice 119748.0\n",
      "SqFtTotLiving    2900\n",
      "SqFtLot          7276\n",
      "Bathrooms         3.0\n",
      "Bedrooms            6\n",
      "BldgGrade           7\n",
      "Name: 20428, dtype: object\n"
     ]
    }
   ],
   "source": [
    "outlier = df_98105.loc[sresiduals.idxmin(), :]\n",
    "print('AdjSalePrice', outlier[outcome])\n",
    "print(outlier[predictors])"
   ]
  },
  {
   "cell_type": "markdown",
   "id": "34f73d2b",
   "metadata": {},
   "source": [
    "В данном случае, по всей видимости, что-то не так с записью: дом такого размера в типичной ситуации продается за намного бОльшую цену, чем 119 748 в этом почтовом индексе. Возможно продажа предусматривала всего лишь долю в собственности. В этом случае выброс соответствует продаже, которая является аномальной и не должна быть включена в регрессию. Кроме того, выбросы могут быть результатом других проблем, таких как ошибочный ввод данных из-за \"толстого пальца\" или несовпадения единиц измерения (например, сообщение о продаже в тысячах долларов вместо просто долларов).\n",
    "\n",
    "Для задач с привлечением больших данных выбросы обычно не представляют проблему в подгонке регрессии, используемой в предсказании новых данных. Однако выбросы занимают центральное место в обнаружении аномалий, где отыскание выбросов является смыслом всего дела. Кроме того, выброс может соответствовать случаю мошенничества или нечаянного действия. В любом случае обнаружение выбросов бывает критической потребностью бизнеса.\n",
    "\n",
    "> Хотя выбросы могут вызывать проблемы для малых наборов данных, первоочередной интерес к выбросам заключается в выявлении проблем с данными или в локализации аномалий."
   ]
  },
  {
   "cell_type": "markdown",
   "id": "1f3374ff",
   "metadata": {},
   "source": [
    "***\n",
    "### <font color = MediumBlue size = 4> <b>Влиятельные значения</b> </font>\n",
    "\n",
    "**Влиятельное значение (influential value)** \\\n",
    "Значение (или запись), присутствие или отсутствие которого играет важную роль в уравнении регрессии.\n",
    "\n",
    "Значение, отсутствие которого значимо изменит уравнение регрессии, называется **влиятельным наблюдением**. В регрессии такое значение не обязательно должно ассоциироваться с крупным остатком."
   ]
  },
  {
   "cell_type": "code",
   "execution_count": 22,
   "id": "d6257858",
   "metadata": {},
   "outputs": [
    {
     "data": {
      "image/png": "[encoded data removed]",
      "text/plain": [
       "<Figure size 400x400 with 1 Axes>"
      ]
     },
     "metadata": {},
     "output_type": "display_data"
    }
   ],
   "source": [
    "from scipy.stats import linregress\n",
    "\n",
    "np.random.seed(5)\n",
    "x = np.random.normal(size=25)\n",
    "y = -x / 5 + np.random.normal(size=25)\n",
    "x[0] = 8\n",
    "y[0] = 8\n",
    "\n",
    "def abline(slope, intercept, ax):\n",
    "    \"\"\"Calculate coordinates of a line based on slope and intercept\"\"\"\n",
    "    x_vals = np.array(ax.get_xlim())\n",
    "    return (x_vals, intercept + slope * x_vals)\n",
    "\n",
    "fig, ax = plt.subplots(figsize=(4, 4))\n",
    "ax.scatter(x, y)\n",
    "slope, intercept, _, _, _ = linregress(x, y)\n",
    "ax.plot(*abline(slope, intercept, ax))\n",
    "slope, intercept, _, _, _ = linregress(x[1:], y[1:])\n",
    "ax.plot(*abline(slope, intercept, ax), '--')\n",
    "ax.set_xlim(-2.5, 8.5)\n",
    "ax.set_ylim(-2.5, 8.5)\n",
    "\n",
    "plt.tight_layout()\n",
    "plt.show()"
   ]
  },
  {
   "cell_type": "markdown",
   "id": "eb7d652a",
   "metadata": {},
   "source": [
    "Пунктирная прямая соответствует регрессии со всеми данными, тогда как сплошная прямая — регрессии с точкой далеко в правом верхнем углу. Безусловно, это значение данных имеет огромное влияние на регрессию, хотя она не связана с крупным выбросом (из полной регрессии). Считается, что это значение данных имеет в регрессии сильное плечо (или рычаг).\n",
    "\n",
    "**Плечо (leverage) / рычаг / hat-значение** \\\n",
    "Степень влиятельности, которую отдельная запись имеет на уравнение регрессии.\n",
    "\n",
    "В дополнение к стандартизированным остаткам специалисты-статистики разработали несколько метрик для определения влиятельности отдельной записи на регрессию. Часто встречающейся мерой плеча является hat-значение; значения выше $\\cfrac{2(p+1)}{n}$ говорят о данных с высоким плечом.\n",
    "\n",
    "Еще одна метрика — **расстояние Кука**, которое определяет влияние как комбинацию плеча и размера остатка. Эмпирическое правило состоит в том, что наблюдение имеет высокое влияние, если расстояние Кука превышает $\\cfrac{4}{n-p-1}$.\n",
    "\n",
    "**График влиятельности**, или **пузырьковый график**, объединяет стандартизированные остатки, hat-значение и расстояние Кука в одном графике."
   ]
  },
  {
   "cell_type": "code",
   "execution_count": 23,
   "id": "b8b3bbdc",
   "metadata": {},
   "outputs": [
    {
     "data": {
      "image/png": "[encoded data removed]",
      "text/plain": [
       "<Figure size 500x500 with 1 Axes>"
      ]
     },
     "metadata": {},
     "output_type": "display_data"
    }
   ],
   "source": [
    "influence = OLSInfluence(result_98105)\n",
    "\n",
    "fig, ax = plt.subplots(figsize=(5, 5))\n",
    "\n",
    "ax.axhline(-2.5, linestyle='--', color='C1')\n",
    "ax.axhline(2.5, linestyle='--', color='C1')\n",
    "ax.scatter(influence.hat_matrix_diag,\n",
    "           influence.resid_studentized_internal,\n",
    "           s=1000 * np.sqrt(influence.cooks_distance[0]),\n",
    "           alpha=0.5)\n",
    "\n",
    "ax.set_xlabel('hat values')\n",
    "ax.set_ylabel('studentized residuals')\n",
    "\n",
    "plt.tight_layout();"
   ]
  },
  {
   "cell_type": "markdown",
   "id": "a54684a1",
   "metadata": {},
   "source": [
    "Судя по всему, имеется несколько точек данных, которые оказывают крупное влияние в регрессии.\n",
    "\n",
    "Расстояние Кука может быть вычислено при помощи функции cooks.distance, и вы можете использовать hatvalues для вычисления диагностики. hat-значения откладываются на оси x, остатки — на оси y, и размер точек связан со значением расстояния Кука.\n",
    "\n",
    "Сравним регрессии с полным набором данных и с дальними очень влиятельными точками данных (расстояние Кука больше $0.08$)."
   ]
  },
  {
   "cell_type": "code",
   "execution_count": 24,
   "id": "60a36e73",
   "metadata": {},
   "outputs": [
    {
     "data": {
      "text/html": [
       "<div>\n",
       "<style scoped>\n",
       "    .dataframe tbody tr th:only-of-type {\n",
       "        vertical-align: middle;\n",
       "    }\n",
       "\n",
       "    .dataframe tbody tr th {\n",
       "        vertical-align: top;\n",
       "    }\n",
       "\n",
       "    .dataframe thead th {\n",
       "        text-align: right;\n",
       "    }\n",
       "</style>\n",
       "<table border=\"1\" class=\"dataframe\">\n",
       "  <thead>\n",
       "    <tr style=\"text-align: right;\">\n",
       "      <th></th>\n",
       "      <th>Original</th>\n",
       "      <th>Influential removed</th>\n",
       "    </tr>\n",
       "  </thead>\n",
       "  <tbody>\n",
       "    <tr>\n",
       "      <th>SqFtTotLiving</th>\n",
       "      <td>209.602346</td>\n",
       "      <td>230.052569</td>\n",
       "    </tr>\n",
       "    <tr>\n",
       "      <th>SqFtLot</th>\n",
       "      <td>38.933315</td>\n",
       "      <td>33.141600</td>\n",
       "    </tr>\n",
       "    <tr>\n",
       "      <th>Bathrooms</th>\n",
       "      <td>2282.264145</td>\n",
       "      <td>-16131.879785</td>\n",
       "    </tr>\n",
       "    <tr>\n",
       "      <th>Bedrooms</th>\n",
       "      <td>-26320.268796</td>\n",
       "      <td>-22887.865318</td>\n",
       "    </tr>\n",
       "    <tr>\n",
       "      <th>BldgGrade</th>\n",
       "      <td>130000.099737</td>\n",
       "      <td>114870.559737</td>\n",
       "    </tr>\n",
       "    <tr>\n",
       "      <th>const</th>\n",
       "      <td>-772549.862447</td>\n",
       "      <td>-647137.096716</td>\n",
       "    </tr>\n",
       "  </tbody>\n",
       "</table>\n",
       "</div>"
      ],
      "text/plain": [
       "                    Original  Influential removed\n",
       "SqFtTotLiving     209.602346           230.052569\n",
       "SqFtLot            38.933315            33.141600\n",
       "Bathrooms        2282.264145        -16131.879785\n",
       "Bedrooms       -26320.268796        -22887.865318\n",
       "BldgGrade      130000.099737        114870.559737\n",
       "const         -772549.862447       -647137.096716"
      ]
     },
     "execution_count": 24,
     "metadata": {},
     "output_type": "execute_result"
    }
   ],
   "source": [
    "mask = [dist < .08 for dist in influence.cooks_distance[0]]\n",
    "df_infl = df_98105.loc[mask]\n",
    "\n",
    "ols_infl = sm.OLS(df_infl[outcome], df_infl[predictors].assign(const=1))\n",
    "result_infl = ols_infl.fit()\n",
    "\n",
    "pd.DataFrame({\n",
    "    'Original': result_98105.params,\n",
    "    'Influential removed': result_infl.params,\n",
    "})"
   ]
  },
  {
   "cell_type": "markdown",
   "id": "28df1050",
   "metadata": {},
   "source": [
    "Коэффициент для Bathrooms становится отрицательным, что противоречит логике. Местоположение не было принято во внимание, и почтовый индекс 98105 содержит районы несопоставимых типов домов.\n",
    "\n",
    "Для целей подгонки регрессии, которая надежно предсказывает будущие данные, выявление влиятельных наблюдений полезно только в меньших по размеру наборах данных. Для регрессий с привлечением большого числа записей существует малая вероятность того, что какое-либо наблюдение будет нести достаточный вес, чтобы вызывать предельное влияние на подогнанное уравнение (хотя регрессия может все же иметь большие выбросы). Для целей обнаружения аномалий тем не менее выявление влиятельных наблюдений бывает очень полезным.\n",
    "\n",
    "> Отдельные записи (включая регрессионные выбросы) могут оказывать большое влияние на уравнение регрессии с малыми данными, но этот эффект размывается в больших данных."
   ]
  },
  {
   "cell_type": "markdown",
   "id": "b7e0f40c",
   "metadata": {},
   "source": [
    "***\n",
    "### <font color = MediumBlue size = 4> <b>Гетероскедастичность, ненормальность и коррелированные ошибки</b> </font>\n",
    "\n",
    "**Ненормальные остатки (non-normal residuals)** \\\n",
    "Ненормально распределенные остатки могут аннулировать некоторые технические условия регрессии; вместе с тем они обычно не являются предметом озабоченности в науке о данных.\n",
    "\n",
    "В статистике значительное внимание уделяется распределению остатков. Оказывается, что обычные наименьшие квадраты являются несмещенными, и в некоторых случаях \"оптимальным\" оценщиком, в условиях широкого диапазона допущений о природе распределения. Это означает, что в большинстве задач исследователям данных не приходится слишком беспокоиться о распределении остатков. \n",
    "\n",
    "Распределение остатков является релевантным главным образом для подтверждения достоверности формального статистического вывода (проверок гипотез и p-value), что имеет минимальное значение для исследователей данных, озабоченных главным образом предсказательной точностью. Нормально распределенные ошибки — это признак того, что модель завершена; ошибки, которые не являются нормально распределенными, указывают на то, что модель, возможно, что-то упускает. Для того чтобы формальный статистический вывод был достоверным, принимается допущение о том, что остатки нормально распределены, имеют одинаковую дисперсию и являются независимыми. Одной из областей, где это может представлять интерес для исследователей данных, является стандартный расчет доверительных интервалов для предсказанных значений, которые основаны на допущениях об остатках.\n",
    "\n",
    "**Гетероскедастичность (heteroskedasticity)** \\\n",
    "Ситуация, когда некоторые диапазоны исхода показывают остатки с более высокой дисперсией (что может говорить о предсказателе, который в уравнении отсутствует).\n",
    "\n",
    "**Гетероскедастичность** — это отсутствие постоянной остаточной дисперсии по всему диапазону предсказанных значений. Другими словами, для некоторых частей диапазона ошибки больше, чем для других. Визуализация данных является удобным способом анализа остатков."
   ]
  },
  {
   "cell_type": "code",
   "execution_count": 25,
   "id": "8e7b19fa",
   "metadata": {},
   "outputs": [
    {
     "data": {
      "image/png": "[encoded data removed]",
      "text/plain": [
       "<Figure size 500x500 with 1 Axes>"
      ]
     },
     "metadata": {},
     "output_type": "display_data"
    }
   ],
   "source": [
    "fig, ax = plt.subplots(figsize=(5, 5))\n",
    "\n",
    "sns.regplot(x=result_98105.fittedvalues,\n",
    "            y=np.abs(result_98105.resid), \n",
    "            scatter_kws={'alpha': 0.25},\n",
    "            line_kws={'color': 'C1'},\n",
    "            lowess=True, ax=ax)\n",
    "\n",
    "ax.set_xlabel('predicted')\n",
    "ax.set_ylabel('abs(residual)')\n",
    "\n",
    "plt.tight_layout();"
   ]
  },
  {
   "cell_type": "markdown",
   "id": "b4d55953",
   "metadata": {},
   "source": [
    "Совершенно очевидно, что дисперсия остатков имеет тренд на увеличение для домов с более высокой стоимостью, но является также крупной для домов с более низкой стоимостью. Приведенный выше график говорит о том, что регрессия lm_98105 имеет гетероскедастичные ошибки.\n",
    "\n",
    "Гетероскедастичность говорит о том, что ошибки предсказания отличаются для разных диапазонов предсказанного значения и могут свидетельствовать о незаконченной модели. Например, гетероскедастичность в lm_98105 может говорить о том, что регрессия что-то не учла в высокодиапазонных и низкодиапазонных домах.\n",
    "\n",
    "Построим гистограмму стандартизированных остатков для регрессии lm_98105."
   ]
  },
  {
   "cell_type": "code",
   "execution_count": 26,
   "id": "e3ef5e19",
   "metadata": {},
   "outputs": [
    {
     "data": {
      "image/png": "[encoded data removed]",
      "text/plain": [
       "<Figure size 400x400 with 1 Axes>"
      ]
     },
     "metadata": {},
     "output_type": "display_data"
    }
   ],
   "source": [
    "fig, ax = plt.subplots(figsize=(4, 4))\n",
    "\n",
    "pd.Series(influence.resid_studentized_internal).hist(ax=ax)\n",
    "\n",
    "ax.set_xlabel('std. residual')\n",
    "ax.set_ylabel('Frequency')\n",
    "\n",
    "\n",
    "plt.tight_layout();"
   ]
  },
  {
   "cell_type": "markdown",
   "id": "2b2b948c",
   "metadata": {},
   "source": [
    "Ее распределение однозначно имеет более длинные хвосты, чем у нормального распределения, и демонстрирует умеренную асимметричность в сторону более крупных остатков.\n",
    "\n",
    "Специалисты-статистики могут также проверить допущение о том, что ошибки являются независимыми. Это особенно верно в отношении данных, которые собираются в течение долгого времени. Статистика Дарбина—Уотсона (Durbin—Watson) может использоваться для обнаружения того, существует ли значительная автокорреляция в регрессии с участием данных временного ряда. Если ошибки регрессионной модели коррелируют, то эта информация может быть полезна при составлении краткосрочных прогнозов и должна быть встроена в модель. Если целью являются долгосрочные прогнозы или объяснительные модели, то избыточные автокоррелированные данные на микроуровне могут отвлекать внимание. В этом случае сглаживание, или в первую очередь менее гранулярный сбор данных, может быть в порядке вещей.\n",
    "\n",
    "В большинстве случаев в науке о данных первоочередным объектом интереса является предсказательная точность, и поэтому какой-то анализ гетероскедастичности не помешает. Вы можете обнаружить, что в данных имеется некий сигнал, который ваша модель не уловила. Однако удовлетворение допущений о природе распределения просто ради подтверждения достоверности формального статистического вывода (p-value, F-статистики и т. д.) не представляет для исследователя данных какую-то особую важность.\n",
    "\n",
    "> Если регрессионная модель используется для формального статистического вывода (p-value и т.п.), то должны быть проверены некоторые допущения о природе распределении остатков. В общем случае, однако, распределение остатков не имеет критическую важность в науке о данных."
   ]
  },
  {
   "cell_type": "markdown",
   "id": "34bca099",
   "metadata": {},
   "source": [
    "***\n",
    "### <font color = MediumBlue size = 4> <b>Графики частных остатков и нелинейность</b> </font>\n",
    "\n",
    "**Графики частных остатков (partial residual plots)** \\\n",
    "Диагностический график для выявления связи между переменной исхода и одиночным предсказателем.\n",
    "\n",
    "**Графики частных остатков** — это способ визуализации того, насколько хорошо вычисленная подгонка объясняет связь между предсказателем и исходом. Главная идея графика частных остатков состоит в изолировании связи между предсказательной переменной и откликом, принимая в расчет все другие предсказательные переменные. Частный остаток можно рассматривать, как \"синтетическое результирующее\" значение, объединяющее предсказание на основе отдельного предсказателя с фактическим остатком от полного уравнения регрессии. Частный остаток для предсказателя $X_i$ — это обычный остаток плюс член регрессии, связанный с $X_i$."
   ]
  },
  {
   "cell_type": "code",
   "execution_count": 27,
   "id": "014a8cfd",
   "metadata": {},
   "outputs": [
    {
     "data": {
      "image/png": "[encoded data removed]",
      "text/plain": [
       "<Figure size 500x500 with 1 Axes>"
      ]
     },
     "metadata": {},
     "output_type": "display_data"
    }
   ],
   "source": [
    "fig, ax = plt.subplots(figsize=(5, 5))\n",
    "\n",
    "fig = sm.graphics.plot_ccpr(result_98105, 'SqFtTotLiving', ax=ax)\n",
    "\n",
    "plt.tight_layout();"
   ]
  },
  {
   "cell_type": "markdown",
   "id": "96ca4d0e",
   "metadata": {},
   "source": [
    "Частный остаток — это оценка вклада, который SqFtTotLiving вносит в продажную цену. Легко видно, что связь между SqFtTotLiving и продажной ценой нелинейна. Регрессионная прямая недооценивает продажную цену для домов площадью менее 1000 кв. футов и переоценивает цену для домов с площадью между 2000 и 3000 кв. футов. Выше 4000 кв. футов имеется слишком мало точек данных, чтобы сделать выводы для этих домов.\n",
    "\n",
    "Эта нелинейность имеет смысл в данном случае: добавление 500 футов в малый дом оказывает гораздо большее влияние, чем добавление 500 футов в крупный дом. Это свидетельствует о том, что вместо простого линейного члена для SqFtTotLiving следует рассмотреть нелинейный член.\n",
    "\n",
    "> График частных остатков может использоваться для качественной диагностики подгонки для каждого члена регрессии, возможно приводя к спецификации альтернативной модели."
   ]
  },
  {
   "cell_type": "markdown",
   "id": "964a8c41",
   "metadata": {},
   "source": [
    "***\n",
    "## <font color = DarkGreen size = 5> <b>Многочленная и сплайновая регрессия</b> </font>\n",
    "\n",
    "Связь между откликом и предсказательной переменной не обязательно является линейной. Отклик на дозу препарата часто не является линейным: удвоение дозы обычно не приводит к удвоенному отклику. Спрос на продукт не является линейной функцией числа долларов, потраченных на маркетинг, поскольку в какой-то момент спрос, вероятно, будет насыщен. Существует несколько способов, которыми регрессия может быть расширена для получения этих нелинейных эффектов.\n",
    "\n",
    "***\n",
    "### <font color = MediumBlue size = 4> <b>Полиномиальная регрессия</b> </font>\n",
    "\n",
    "**Полиномиальная регрессия (polynomial regression) / многочленная регрессия / параболическая регрессия**\n",
    "Добавляет в регрессию полиномиальные члены (квадраты, кубы и т. д.).\n",
    "\n",
    "Многочленная регрессия предусматривает включение в состав уравнения регрессии полиномиальных членов. Например, квадратичная регрессия между откликом $Y$ и предсказателем $X$ примет следующую форму:\n",
    "$$Y = b_0 + b_1 X + b_2 X^2 + e$$\n",
    "\n",
    "В пакете **statsmodels** мы добавляем квадратный термин в определение модели с помощью (SqFtTotLiving**2):"
   ]
  },
  {
   "cell_type": "code",
   "execution_count": 28,
   "id": "aafaa0db",
   "metadata": {},
   "outputs": [
    {
     "name": "stdout",
     "output_type": "stream",
     "text": [
      "                            OLS Regression Results                            \n",
      "==============================================================================\n",
      "Dep. Variable:           AdjSalePrice   R-squared:                       0.806\n",
      "Model:                            OLS   Adj. R-squared:                  0.802\n",
      "Method:                 Least Squares   F-statistic:                     211.6\n",
      "Date:                Sat, 21 Oct 2023   Prob (F-statistic):          9.95e-106\n",
      "Time:                        18:32:31   Log-Likelihood:                -4217.9\n",
      "No. Observations:                 313   AIC:                             8450.\n",
      "Df Residuals:                     306   BIC:                             8476.\n",
      "Df Model:                           6                                         \n",
      "Covariance Type:            nonrobust                                         \n",
      "==============================================================================================\n",
      "                                 coef    std err          t      P>|t|      [0.025      0.975]\n",
      "----------------------------------------------------------------------------------------------\n",
      "Intercept                  -6.159e+05   1.03e+05     -5.953      0.000   -8.19e+05   -4.12e+05\n",
      "SqFtTotLiving                  7.4521     55.418      0.134      0.893    -101.597     116.501\n",
      "np.power(SqFtTotLiving, 2)     0.0388      0.010      4.040      0.000       0.020       0.058\n",
      "SqFtLot                       32.5594      5.436      5.990      0.000      21.863      43.256\n",
      "Bathrooms                  -1435.1231   1.95e+04     -0.074      0.941   -3.99e+04     3.7e+04\n",
      "Bedrooms                   -9191.9441   1.33e+04     -0.693      0.489   -3.53e+04    1.69e+04\n",
      "BldgGrade                   1.357e+05   1.49e+04      9.087      0.000    1.06e+05    1.65e+05\n",
      "==============================================================================\n",
      "Omnibus:                       75.161   Durbin-Watson:                   1.625\n",
      "Prob(Omnibus):                  0.000   Jarque-Bera (JB):              637.978\n",
      "Skew:                           0.699   Prob(JB):                    2.92e-139\n",
      "Kurtosis:                       9.853   Cond. No.                     7.37e+07\n",
      "==============================================================================\n",
      "\n",
      "Notes:\n",
      "[1] Standard Errors assume that the covariance matrix of the errors is correctly specified.\n",
      "[2] The condition number is large, 7.37e+07. This might indicate that there are\n",
      "strong multicollinearity or other numerical problems.\n"
     ]
    }
   ],
   "source": [
    "model_poly = smf.ols(formula='AdjSalePrice ~ SqFtTotLiving + np.power(SqFtTotLiving, 2) + SqFtLot + Bathrooms + Bedrooms + BldgGrade',\n",
    "                     data=df_98105)\n",
    "result_poly = model_poly.fit()\n",
    "print(result_poly.summary())"
   ]
  },
  {
   "cell_type": "markdown",
   "id": "554dc1fa",
   "metadata": {},
   "source": [
    "Теперь с переменной SqFtTotLiving связаны два коэффициента: один для линейного члена, другой для квадратичного члена.\n",
    "\n",
    "График частных остатков говорит о некоторой кривизне в уравнении регрессии, связанном с переменной SqFtTotLiving. Подогнанная линия более точно соответствует сглаженной кривой."
   ]
  },
  {
   "cell_type": "code",
   "execution_count": 29,
   "id": "bb652f3f",
   "metadata": {},
   "outputs": [],
   "source": [
    "def partialResidualPlot(model, df, outcome, feature, ax):\n",
    "    y_pred = model.predict(df)\n",
    "    copy_df = df.copy()\n",
    "    for c in copy_df.columns:\n",
    "        if c == feature:\n",
    "            continue\n",
    "        copy_df[c] = 0.0\n",
    "    feature_prediction = model.predict(copy_df)\n",
    "    results = pd.DataFrame({\n",
    "        'feature': df[feature],\n",
    "        'residual': df[outcome] - y_pred,\n",
    "        'ypartial': feature_prediction - model.params[0],\n",
    "    })\n",
    "    results = results.sort_values(by=['feature'])\n",
    "    smoothed = sm.nonparametric.lowess(results.ypartial, results.feature, frac=1/3)\n",
    "    \n",
    "    ax.scatter(results.feature, results.ypartial + results.residual)\n",
    "    ax.plot(smoothed[:, 0], smoothed[:, 1], color='gray')\n",
    "    ax.plot(results.feature, results.ypartial, color='black')\n",
    "    ax.set_xlabel(feature)\n",
    "    ax.set_ylabel(f'Residual + {feature} contribution')\n",
    "    return ax"
   ]
  },
  {
   "cell_type": "code",
   "execution_count": 30,
   "id": "ff8d6a3b",
   "metadata": {},
   "outputs": [
    {
     "data": {
      "image/png": "[encoded data removed]",
      "text/plain": [
       "<Figure size 500x500 with 1 Axes>"
      ]
     },
     "metadata": {},
     "output_type": "display_data"
    }
   ],
   "source": [
    "fig, ax = plt.subplots(figsize=(5, 5))\n",
    "partialResidualPlot(result_poly, df_98105, 'AdjSalePrice', 'SqFtTotLiving', ax)\n",
    "plt.tight_layout();"
   ]
  },
  {
   "cell_type": "code",
   "execution_count": 31,
   "id": "68926de0",
   "metadata": {},
   "outputs": [
    {
     "name": "stdout",
     "output_type": "stream",
     "text": [
      "0.03879128168237263\n"
     ]
    }
   ],
   "source": [
    "print(result_poly.params[2])"
   ]
  },
  {
   "cell_type": "markdown",
   "id": "550478ed",
   "metadata": {},
   "source": [
    "***\n",
    "### <font color = MediumBlue size = 4> <b>Сплайновая регрессия</b> </font>\n",
    "\n",
    "**Сплайновая регрессия (spline regression)**\n",
    "Подгонка гладкой кривой серией полиномиальных сегментов.\n",
    "\n",
    "**Узлы (knots)**\n",
    "Значения, которые отделяют сплайновые сегменты.\n",
    "\n",
    "Многочленная регрессия захватывает только некоторый объем кривизны в нелинейной связи. Добавление членов более высоких степеней, таких как кубический квадратный полином, часто приводит к нежелательной \"волнистости\" в уравнении регрессии. Альтернативный, и часто превосходящий, подход к моделированию нелинейных связей состоит в использовании сплайнов. Сплайны предоставляют способ гладко интерполировать между фиксированными точками.\n",
    "\n",
    "В техническом определении сплайн — это серия кусочно-непрерывных многочленов. Полиномиальные части гладко соединялись в серии фиксированных точек в предсказательной переменной, которые назывались узлами. Формулировка сплайнов намного сложнее, чем многочленная регрессия; подробности подгонки сплайнов обычно берут на себя статистические вычислительные системы.\n",
    "\n",
    "Формульный интерфейс пакета statsmodels поддерживает использование сплайнов. Необходимо определить два параметра: степень многочлена и местоположение узлов. В данном случае предсказатель SqFtTotLiving включается в модель с использованием кубического сплайна (degree=3). Указываем B-сплайн, используя df, степени свободы. Это создаст df – степень = 6 – 3 = 3 внутренних узлов с позициями, на границах; в дополнение к этому, узлы также были помещены в нижний квартиль, медианный квартиль и верхний квартиль.\n",
    "\n"
   ]
  },
  {
   "cell_type": "code",
   "execution_count": 32,
   "id": "8fbfaf01",
   "metadata": {},
   "outputs": [
    {
     "name": "stdout",
     "output_type": "stream",
     "text": [
      "                            OLS Regression Results                            \n",
      "==============================================================================\n",
      "Dep. Variable:           AdjSalePrice   R-squared:                       0.814\n",
      "Model:                            OLS   Adj. R-squared:                  0.807\n",
      "Method:                 Least Squares   F-statistic:                     131.8\n",
      "Date:                Sat, 21 Oct 2023   Prob (F-statistic):          7.10e-104\n",
      "Time:                        18:32:31   Log-Likelihood:                -4211.4\n",
      "No. Observations:                 313   AIC:                             8445.\n",
      "Df Residuals:                     302   BIC:                             8486.\n",
      "Df Model:                          10                                         \n",
      "Covariance Type:            nonrobust                                         \n",
      "========================================================================================================\n",
      "                                           coef    std err          t      P>|t|      [0.025      0.975]\n",
      "--------------------------------------------------------------------------------------------------------\n",
      "Intercept                            -4.142e+05   1.43e+05     -2.899      0.004   -6.95e+05   -1.33e+05\n",
      "bs(SqFtTotLiving, df=6, degree=3)[0] -1.995e+05   1.86e+05     -1.076      0.283   -5.65e+05    1.66e+05\n",
      "bs(SqFtTotLiving, df=6, degree=3)[1] -1.206e+05   1.23e+05     -0.983      0.326   -3.62e+05    1.21e+05\n",
      "bs(SqFtTotLiving, df=6, degree=3)[2] -7.164e+04   1.36e+05     -0.525      0.600    -3.4e+05    1.97e+05\n",
      "bs(SqFtTotLiving, df=6, degree=3)[3]  1.957e+05   1.62e+05      1.212      0.227   -1.22e+05    5.14e+05\n",
      "bs(SqFtTotLiving, df=6, degree=3)[4]  8.452e+05   2.18e+05      3.878      0.000    4.16e+05    1.27e+06\n",
      "bs(SqFtTotLiving, df=6, degree=3)[5]  6.955e+05   2.14e+05      3.255      0.001    2.75e+05    1.12e+06\n",
      "SqFtLot                                 33.3258      5.454      6.110      0.000      22.592      44.059\n",
      "Bathrooms                            -4778.2080   1.94e+04     -0.246      0.806    -4.3e+04    3.34e+04\n",
      "Bedrooms                             -5778.7045   1.32e+04     -0.437      0.663   -3.18e+04    2.03e+04\n",
      "BldgGrade                             1.345e+05   1.52e+04      8.842      0.000    1.05e+05    1.64e+05\n",
      "==============================================================================\n",
      "Omnibus:                       58.816   Durbin-Watson:                   1.633\n",
      "Prob(Omnibus):                  0.000   Jarque-Bera (JB):              622.021\n",
      "Skew:                           0.330   Prob(JB):                    8.51e-136\n",
      "Kurtosis:                       9.874   Cond. No.                     1.97e+05\n",
      "==============================================================================\n",
      "\n",
      "Notes:\n",
      "[1] Standard Errors assume that the covariance matrix of the errors is correctly specified.\n",
      "[2] The condition number is large, 1.97e+05. This might indicate that there are\n",
      "strong multicollinearity or other numerical problems.\n"
     ]
    }
   ],
   "source": [
    "formula = ('AdjSalePrice ~ bs(SqFtTotLiving, df=6, degree=3) + SqFtLot + Bathrooms + Bedrooms + BldgGrade')\n",
    "model_spline = smf.ols(formula=formula, data=df_98105)\n",
    "result_spline = model_spline.fit()\n",
    "print(result_spline.summary())"
   ]
  },
  {
   "cell_type": "markdown",
   "id": "3f9c7d40",
   "metadata": {},
   "source": [
    "В отличие от линейного члена, для которого коэффициент имеет прямой смысл, коэффициенты для сплайнового члена не интерпретируемы. Вместо этого полезнее использовать визуальное изображение для выявления природы сплайновой подгонки (график частных остатков из регрессии)."
   ]
  },
  {
   "cell_type": "code",
   "execution_count": 33,
   "id": "ab0cc612",
   "metadata": {},
   "outputs": [
    {
     "data": {
      "image/png": "[encoded data removed]",
      "text/plain": [
       "<Figure size 500x500 with 1 Axes>"
      ]
     },
     "metadata": {},
     "output_type": "display_data"
    }
   ],
   "source": [
    "fig, ax = plt.subplots(figsize=(5, 5))\n",
    "partialResidualPlot(result_spline, df_98105, 'AdjSalePrice', 'SqFtTotLiving', ax)\n",
    "plt.tight_layout();"
   ]
  },
  {
   "cell_type": "markdown",
   "id": "0269e4f0",
   "metadata": {},
   "source": [
    "В отличие от многочленной модели, сплайновая модель намного ближе подходит к сглаженной кривой, демонстрируя более высокую гибкость сплайнов. В данном случае линия подогнана к данным намного точнее. Означает ли это, что сплайновая регрессия является более оптимальной моделью? Не обязательно. С экономической точки зрения нет никакого смысла в том, чтобы очень небольшие дома (менее 1000 кв. футов) имели более высокую стоимость, чем дома немного более крупного размера. Это, возможно, артефакт искажающей переменной."
   ]
  },
  {
   "cell_type": "markdown",
   "id": "9780d776",
   "metadata": {},
   "source": [
    "***\n",
    "### <font color = MediumBlue size = 4> <b>Обобщенные аддитивные модели</b> </font>\n",
    "\n",
    "**Обобщенные аддитивные модели (generalized additive models)** \\\n",
    "Сплайновые модели с автоматизированным отбором узлов.\n",
    "\n",
    "Предположим, что вы заподозрили нелинейную связь между откликом и предсказательной переменной в силу априорного знания либо вследствие обследования диагностических показателей регрессии. Полиномиальные члены могут быть недостаточно гибкими для улавливания связи, а сплайновые члены требуют указывать узлы. **Обобщенные аддитивные модели (generalized additive models, GAM)** — это гибкий прием моделирования, предназначенный для автоматической подгонки сплайновой регрессии."
   ]
  },
  {
   "cell_type": "code",
   "execution_count": 34,
   "id": "fe8ad155",
   "metadata": {},
   "outputs": [
    {
     "name": "stdout",
     "output_type": "stream",
     "text": [
      "                 Generalized Linear Model Regression Results                  \n",
      "==============================================================================\n",
      "Dep. Variable:           AdjSalePrice   No. Observations:                  313\n",
      "Model:                         GLMGam   Df Residuals:                   295.00\n",
      "Model Family:                Gaussian   Df Model:                        17.00\n",
      "Link Function:               identity   Scale:                      2.7471e+10\n",
      "Method:                         PIRLS   Log-Likelihood:                -4196.6\n",
      "Date:                Sat, 21 Oct 2023   Deviance:                   8.1039e+12\n",
      "Time:                        18:32:31   Pearson chi2:                 8.10e+12\n",
      "No. Iterations:                     3   Pseudo R-squ. (CS):             0.9901\n",
      "Covariance Type:            nonrobust                                         \n",
      "====================================================================================\n",
      "                       coef    std err          z      P>|z|      [0.025      0.975]\n",
      "------------------------------------------------------------------------------------\n",
      "Intercept        -3.481e+05   1.18e+05     -2.962      0.003   -5.79e+05   -1.18e+05\n",
      "SqFtTotLiving      192.1472     50.663      3.793      0.000      92.849     291.446\n",
      "SqFtLot              6.9002      7.654      0.902      0.367      -8.101      21.902\n",
      "Bathrooms        -7836.2808   2.12e+04     -0.370      0.712   -4.94e+04    3.37e+04\n",
      "Bedrooms         -8297.4370   1.26e+04     -0.660      0.509   -3.29e+04    1.63e+04\n",
      "BldgGrade         1.014e+05    1.4e+04      7.249      0.000     7.4e+04    1.29e+05\n",
      "SqFtTotLiving_s0  1.465e+05   2.34e+05      0.626      0.531   -3.12e+05    6.05e+05\n",
      "SqFtTotLiving_s1 -6.174e+04   1.33e+05     -0.464      0.642   -3.22e+05    1.99e+05\n",
      "SqFtTotLiving_s2 -3.186e+04   1.26e+05     -0.253      0.800   -2.78e+05    2.15e+05\n",
      "SqFtTotLiving_s3 -5.403e+04   1.01e+05     -0.535      0.593   -2.52e+05    1.44e+05\n",
      "SqFtTotLiving_s4 -1.182e+05   1.01e+05     -1.167      0.243   -3.17e+05    8.03e+04\n",
      "SqFtTotLiving_s5 -1.295e+05   8.23e+04     -1.574      0.115   -2.91e+05    3.17e+04\n",
      "SqFtTotLiving_s6 -3.014e+04   1.27e+05     -0.237      0.813    -2.8e+05     2.2e+05\n",
      "SqFtTotLiving_s7  1.262e+05    1.8e+05      0.702      0.483   -2.26e+05    4.79e+05\n",
      "SqFtTotLiving_s8  5.325e+04   1.38e+05      0.386      0.700   -2.17e+05    3.24e+05\n",
      "SqFtLot_s0        5.775e+05   1.58e+05      3.651      0.000    2.68e+05    8.88e+05\n",
      "SqFtLot_s1       -2.771e+05   7.86e+04     -3.526      0.000   -4.31e+05   -1.23e+05\n",
      "Bathrooms_s0      3.723e+04   1.06e+05      0.351      0.726   -1.71e+05    2.45e+05\n",
      "Bathrooms_s1      5.303e+04   5.94e+04      0.892      0.372   -6.35e+04     1.7e+05\n",
      "Bedrooms_s0       2.298e+05   1.31e+05      1.751      0.080   -2.74e+04    4.87e+05\n",
      "Bedrooms_s1      -7.241e+04   6.81e+04     -1.063      0.288   -2.06e+05    6.11e+04\n",
      "BldgGrade_s0     -7.953e+05   2.03e+05     -3.917      0.000   -1.19e+06   -3.97e+05\n",
      "BldgGrade_s1      6.608e+05   1.14e+05      5.818      0.000    4.38e+05    8.83e+05\n",
      "====================================================================================\n"
     ]
    }
   ],
   "source": [
    "predictors = ['SqFtTotLiving', 'SqFtLot', 'Bathrooms', 'Bedrooms', 'BldgGrade']\n",
    "outcome = 'AdjSalePrice'\n",
    "\n",
    "x_spline = df_98105[predictors]\n",
    "bs = BSplines(x_spline, df=[10] + [3] * 4, degree=[3] + [2] * 4)\n",
    "# penalization weight\n",
    "alpha = np.array([0] * 5)\n",
    "\n",
    "formula = ('AdjSalePrice ~ SqFtTotLiving + SqFtLot + Bathrooms + Bedrooms + BldgGrade')\n",
    "\n",
    "gam_sm = GLMGam.from_formula(formula, data=df_98105, smoother=bs, alpha=alpha)\n",
    "res_sm = gam_sm.fit()\n",
    "print(res_sm.summary())"
   ]
  },
  {
   "cell_type": "code",
   "execution_count": 35,
   "id": "b9921662",
   "metadata": {},
   "outputs": [
    {
     "data": {
      "image/png": "[encoded data removed]",
      "text/plain": [
       "<Figure size 640x480 with 1 Axes>"
      ]
     },
     "metadata": {},
     "output_type": "display_data"
    }
   ],
   "source": [
    "res_sm.plot_partial(0, cpr=True);"
   ]
  },
  {
   "cell_type": "code",
   "execution_count": null,
   "id": "b632b8b9",
   "metadata": {},
   "outputs": [],
   "source": []
  },
  {
   "cell_type": "code",
   "execution_count": null,
   "id": "c54e32a4",
   "metadata": {},
   "outputs": [],
   "source": []
  }
 ],
 "metadata": {
  "kernelspec": {
   "display_name": "Python 3 (ipykernel)",
   "language": "python",
   "name": "python3"
  },
  "language_info": {
   "codemirror_mode": {
    "name": "ipython",
    "version": 3
   },
   "file_extension": ".py",
   "mimetype": "text/x-python",
   "name": "python",
   "nbconvert_exporter": "python",
   "pygments_lexer": "ipython3",
   "version": "3.9.13"
  }
 },
 "nbformat": 4,
 "nbformat_minor": 5
}
